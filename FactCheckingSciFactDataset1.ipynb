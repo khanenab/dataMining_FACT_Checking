{
  "nbformat": 4,
  "nbformat_minor": 0,
  "metadata": {
    "colab": {
      "provenance": [],
      "collapsed_sections": [
        "ZEfR27ZY3I_1",
        "-lITPAbYfD2h"
      ]
    },
    "kernelspec": {
      "name": "python3",
      "display_name": "Python 3"
    },
    "language_info": {
      "name": "python"
    },
    "accelerator": "GPU",
    "gpuClass": "standard"
  },
  "cells": [
    {
      "cell_type": "markdown",
      "source": [
        "##Essential Information Enhanced Fact-Checking on SciFact dataset.\n",
        "\n",
        "In this assignment we are going to perform the Essential Information Enhanced Fact-Checking task over the SciFact dataset, using various binary classification transformer models and Evaluate the insertion of the \\<hl\\> tags on this binary classification task. The SciFact dataset consists of 1.4K expert-written claims classified as Supported or contradicted. Our dataset consists of the following columns:\n",
        "\n",
        "**claim:** The fact that we have to verify.\n",
        "\n",
        "**evidence:** The list of evidences that either support or contradict the associated claim and also contain the label that represents if the evidence supports or contradicts the claim. One claim can have more than one evidence linked with it.\n",
        "\n",
        "**id:** A number associated to each claim."
      ],
      "metadata": {
        "id": "ZEfR27ZY3I_1"
      }
    },
    {
      "cell_type": "markdown",
      "source": [
        "# Install Dependencies\n"
      ],
      "metadata": {
        "id": "A3pPIDPV-mSD"
      }
    },
    {
      "cell_type": "code",
      "source": [
        "!pip install transformers"
      ],
      "metadata": {
        "colab": {
          "base_uri": "https://localhost:8080/"
        },
        "id": "Cr2CzHYY0SmW",
        "outputId": "8aae3951-007b-4887-b18a-65a33d453baf"
      },
      "execution_count": null,
      "outputs": [
        {
          "output_type": "stream",
          "name": "stdout",
          "text": [
            "Looking in indexes: https://pypi.org/simple, https://us-python.pkg.dev/colab-wheels/public/simple/\n",
            "Requirement already satisfied: transformers in /usr/local/lib/python3.8/dist-packages (4.26.1)\n",
            "Requirement already satisfied: packaging>=20.0 in /usr/local/lib/python3.8/dist-packages (from transformers) (23.0)\n",
            "Requirement already satisfied: tqdm>=4.27 in /usr/local/lib/python3.8/dist-packages (from transformers) (4.64.1)\n",
            "Requirement already satisfied: tokenizers!=0.11.3,<0.14,>=0.11.1 in /usr/local/lib/python3.8/dist-packages (from transformers) (0.13.2)\n",
            "Requirement already satisfied: pyyaml>=5.1 in /usr/local/lib/python3.8/dist-packages (from transformers) (6.0)\n",
            "Requirement already satisfied: requests in /usr/local/lib/python3.8/dist-packages (from transformers) (2.25.1)\n",
            "Requirement already satisfied: filelock in /usr/local/lib/python3.8/dist-packages (from transformers) (3.9.0)\n",
            "Requirement already satisfied: numpy>=1.17 in /usr/local/lib/python3.8/dist-packages (from transformers) (1.21.6)\n",
            "Requirement already satisfied: regex!=2019.12.17 in /usr/local/lib/python3.8/dist-packages (from transformers) (2022.6.2)\n",
            "Requirement already satisfied: huggingface-hub<1.0,>=0.11.0 in /usr/local/lib/python3.8/dist-packages (from transformers) (0.12.0)\n",
            "Requirement already satisfied: typing-extensions>=3.7.4.3 in /usr/local/lib/python3.8/dist-packages (from huggingface-hub<1.0,>=0.11.0->transformers) (4.4.0)\n",
            "Requirement already satisfied: chardet<5,>=3.0.2 in /usr/local/lib/python3.8/dist-packages (from requests->transformers) (4.0.0)\n",
            "Requirement already satisfied: urllib3<1.27,>=1.21.1 in /usr/local/lib/python3.8/dist-packages (from requests->transformers) (1.24.3)\n",
            "Requirement already satisfied: certifi>=2017.4.17 in /usr/local/lib/python3.8/dist-packages (from requests->transformers) (2022.12.7)\n",
            "Requirement already satisfied: idna<3,>=2.5 in /usr/local/lib/python3.8/dist-packages (from requests->transformers) (2.10)\n"
          ]
        }
      ]
    },
    {
      "cell_type": "code",
      "execution_count": null,
      "metadata": {
        "id": "DIcXll743F_2"
      },
      "outputs": [],
      "source": [
        "from torch.utils.data import Dataset, DataLoader\n",
        "from google.colab import drive\n",
        "import os\n",
        "import requests\n",
        "import torch\n",
        "import zipfile\n",
        "import pandas as pd\n",
        "import numpy as np\n",
        "import json\n",
        "import random\n",
        "from tqdm import tqdm\n",
        "from typing import List\n",
        "from sklearn.model_selection import train_test_split\n",
        "from torch.utils.data import Dataset, DataLoader\n",
        "from sklearn.metrics import f1_score, precision_score, recall_score, accuracy_score\n",
        "import warnings\n",
        "warnings.filterwarnings('ignore')\n",
        "from transformers import AutoConfig, AutoTokenizer, AutoModelForSequenceClassification, get_cosine_schedule_with_warmup"
      ]
    },
    {
      "cell_type": "markdown",
      "source": [
        "# Data preparation"
      ],
      "metadata": {
        "id": "QNObx-hH-vC9"
      }
    },
    {
      "cell_type": "markdown",
      "source": [
        "Data preparation\n",
        "\n",
        "In this section we are going to simply download the SciFact dataset and store it in a local folder. I have already downloaded the dataset from their site https://leaderboard.allenai.org/scifact/submissions/get-started and stored it in the drive. I am loading the train, validation and test dataset and evidence dataset that contains the evidences that are associated with each claim."
      ],
      "metadata": {
        "id": "3dFUf6EC3L94"
      }
    },
    {
      "cell_type": "code",
      "source": [
        "#@title Load data from drive\n",
        "\n",
        "drive.mount('/content/drive')"
      ],
      "metadata": {
        "colab": {
          "base_uri": "https://localhost:8080/"
        },
        "id": "qGI8ba3w3O1w",
        "outputId": "bebdff11-07f3-4f45-8bca-b4b5fc30c078"
      },
      "execution_count": null,
      "outputs": [
        {
          "output_type": "stream",
          "name": "stdout",
          "text": [
            "Drive already mounted at /content/drive; to attempt to forcibly remount, call drive.mount(\"/content/drive\", force_remount=True).\n"
          ]
        }
      ]
    },
    {
      "cell_type": "code",
      "source": [
        "scifactDataTrain = pd.read_json('/content/drive/MyDrive/Datasets/sciFact/data/claims_train.jsonl', lines=True)\n",
        "scifactDataVal = pd.read_json('/content/drive/MyDrive/Datasets/sciFact/data/claims_dev.jsonl', lines=True)\n",
        "scifactDataTest = pd.read_json('/content/drive/MyDrive/Datasets/sciFact/data/claims_test.jsonl', lines=True)\n",
        "sciFactEvidence = pd.read_json('/content/drive/MyDrive/Datasets/sciFact/data/corpus.jsonl', lines=True)"
      ],
      "metadata": {
        "id": "mPA1spOaWt8k"
      },
      "execution_count": null,
      "outputs": []
    },
    {
      "cell_type": "code",
      "source": [
        "print(\"The size of Train set is \" + str(scifactDataTrain.shape[0]))\n",
        "print(\"The size of Validation set is \" + str(scifactDataVal.shape[0]))\n",
        "print(\"The size of Test set is \" + str(scifactDataTest.shape[0]))\n",
        "random_state=42\n",
        "random.seed(random_state)\n",
        "np.random.seed(random_state)"
      ],
      "metadata": {
        "colab": {
          "base_uri": "https://localhost:8080/"
        },
        "id": "vhQlsJOfZZ5v",
        "outputId": "8c88b28e-fdfc-4b17-d16b-44be74824126"
      },
      "execution_count": null,
      "outputs": [
        {
          "output_type": "stream",
          "name": "stdout",
          "text": [
            "The size of Train set is 809\n",
            "The size of Validation set is 300\n",
            "The size of Test set is 300\n"
          ]
        }
      ]
    },
    {
      "cell_type": "code",
      "source": [
        "scifactDataTrain.head()"
      ],
      "metadata": {
        "colab": {
          "base_uri": "https://localhost:8080/",
          "height": 206
        },
        "id": "y4eBqN8hWhzr",
        "outputId": "16e68bfc-7148-4ad4-c178-09adcd5e07f6"
      },
      "execution_count": null,
      "outputs": [
        {
          "output_type": "execute_result",
          "data": {
            "text/plain": [
              "   id                                              claim  \\\n",
              "0   0  0-dimensional biomaterials lack inductive prop...   \n",
              "1   2  1 in 5 million in UK have abnormal PrP positiv...   \n",
              "2   4  1-1% of colorectal cancer patients are diagnos...   \n",
              "3   6  10% of sudden infant death syndrome (SIDS) dea...   \n",
              "4   9  32% of liver transplantation programs required...   \n",
              "\n",
              "                                            evidence cited_doc_ids  \n",
              "0                                                 {}    [31715818]  \n",
              "1  {'13734012': [{'sentences': [4], 'label': 'CON...    [13734012]  \n",
              "2                                                 {}    [22942787]  \n",
              "3                                                 {}     [2613775]  \n",
              "4  {'44265107': [{'sentences': [15], 'label': 'SU...    [44265107]  "
            ],
            "text/html": [
              "\n",
              "  <div id=\"df-444ed6bd-7922-4c43-a8c5-878659517f52\">\n",
              "    <div class=\"colab-df-container\">\n",
              "      <div>\n",
              "<style scoped>\n",
              "    .dataframe tbody tr th:only-of-type {\n",
              "        vertical-align: middle;\n",
              "    }\n",
              "\n",
              "    .dataframe tbody tr th {\n",
              "        vertical-align: top;\n",
              "    }\n",
              "\n",
              "    .dataframe thead th {\n",
              "        text-align: right;\n",
              "    }\n",
              "</style>\n",
              "<table border=\"1\" class=\"dataframe\">\n",
              "  <thead>\n",
              "    <tr style=\"text-align: right;\">\n",
              "      <th></th>\n",
              "      <th>id</th>\n",
              "      <th>claim</th>\n",
              "      <th>evidence</th>\n",
              "      <th>cited_doc_ids</th>\n",
              "    </tr>\n",
              "  </thead>\n",
              "  <tbody>\n",
              "    <tr>\n",
              "      <th>0</th>\n",
              "      <td>0</td>\n",
              "      <td>0-dimensional biomaterials lack inductive prop...</td>\n",
              "      <td>{}</td>\n",
              "      <td>[31715818]</td>\n",
              "    </tr>\n",
              "    <tr>\n",
              "      <th>1</th>\n",
              "      <td>2</td>\n",
              "      <td>1 in 5 million in UK have abnormal PrP positiv...</td>\n",
              "      <td>{'13734012': [{'sentences': [4], 'label': 'CON...</td>\n",
              "      <td>[13734012]</td>\n",
              "    </tr>\n",
              "    <tr>\n",
              "      <th>2</th>\n",
              "      <td>4</td>\n",
              "      <td>1-1% of colorectal cancer patients are diagnos...</td>\n",
              "      <td>{}</td>\n",
              "      <td>[22942787]</td>\n",
              "    </tr>\n",
              "    <tr>\n",
              "      <th>3</th>\n",
              "      <td>6</td>\n",
              "      <td>10% of sudden infant death syndrome (SIDS) dea...</td>\n",
              "      <td>{}</td>\n",
              "      <td>[2613775]</td>\n",
              "    </tr>\n",
              "    <tr>\n",
              "      <th>4</th>\n",
              "      <td>9</td>\n",
              "      <td>32% of liver transplantation programs required...</td>\n",
              "      <td>{'44265107': [{'sentences': [15], 'label': 'SU...</td>\n",
              "      <td>[44265107]</td>\n",
              "    </tr>\n",
              "  </tbody>\n",
              "</table>\n",
              "</div>\n",
              "      <button class=\"colab-df-convert\" onclick=\"convertToInteractive('df-444ed6bd-7922-4c43-a8c5-878659517f52')\"\n",
              "              title=\"Convert this dataframe to an interactive table.\"\n",
              "              style=\"display:none;\">\n",
              "        \n",
              "  <svg xmlns=\"http://www.w3.org/2000/svg\" height=\"24px\"viewBox=\"0 0 24 24\"\n",
              "       width=\"24px\">\n",
              "    <path d=\"M0 0h24v24H0V0z\" fill=\"none\"/>\n",
              "    <path d=\"M18.56 5.44l.94 2.06.94-2.06 2.06-.94-2.06-.94-.94-2.06-.94 2.06-2.06.94zm-11 1L8.5 8.5l.94-2.06 2.06-.94-2.06-.94L8.5 2.5l-.94 2.06-2.06.94zm10 10l.94 2.06.94-2.06 2.06-.94-2.06-.94-.94-2.06-.94 2.06-2.06.94z\"/><path d=\"M17.41 7.96l-1.37-1.37c-.4-.4-.92-.59-1.43-.59-.52 0-1.04.2-1.43.59L10.3 9.45l-7.72 7.72c-.78.78-.78 2.05 0 2.83L4 21.41c.39.39.9.59 1.41.59.51 0 1.02-.2 1.41-.59l7.78-7.78 2.81-2.81c.8-.78.8-2.07 0-2.86zM5.41 20L4 18.59l7.72-7.72 1.47 1.35L5.41 20z\"/>\n",
              "  </svg>\n",
              "      </button>\n",
              "      \n",
              "  <style>\n",
              "    .colab-df-container {\n",
              "      display:flex;\n",
              "      flex-wrap:wrap;\n",
              "      gap: 12px;\n",
              "    }\n",
              "\n",
              "    .colab-df-convert {\n",
              "      background-color: #E8F0FE;\n",
              "      border: none;\n",
              "      border-radius: 50%;\n",
              "      cursor: pointer;\n",
              "      display: none;\n",
              "      fill: #1967D2;\n",
              "      height: 32px;\n",
              "      padding: 0 0 0 0;\n",
              "      width: 32px;\n",
              "    }\n",
              "\n",
              "    .colab-df-convert:hover {\n",
              "      background-color: #E2EBFA;\n",
              "      box-shadow: 0px 1px 2px rgba(60, 64, 67, 0.3), 0px 1px 3px 1px rgba(60, 64, 67, 0.15);\n",
              "      fill: #174EA6;\n",
              "    }\n",
              "\n",
              "    [theme=dark] .colab-df-convert {\n",
              "      background-color: #3B4455;\n",
              "      fill: #D2E3FC;\n",
              "    }\n",
              "\n",
              "    [theme=dark] .colab-df-convert:hover {\n",
              "      background-color: #434B5C;\n",
              "      box-shadow: 0px 1px 3px 1px rgba(0, 0, 0, 0.15);\n",
              "      filter: drop-shadow(0px 1px 2px rgba(0, 0, 0, 0.3));\n",
              "      fill: #FFFFFF;\n",
              "    }\n",
              "  </style>\n",
              "\n",
              "      <script>\n",
              "        const buttonEl =\n",
              "          document.querySelector('#df-444ed6bd-7922-4c43-a8c5-878659517f52 button.colab-df-convert');\n",
              "        buttonEl.style.display =\n",
              "          google.colab.kernel.accessAllowed ? 'block' : 'none';\n",
              "\n",
              "        async function convertToInteractive(key) {\n",
              "          const element = document.querySelector('#df-444ed6bd-7922-4c43-a8c5-878659517f52');\n",
              "          const dataTable =\n",
              "            await google.colab.kernel.invokeFunction('convertToInteractive',\n",
              "                                                     [key], {});\n",
              "          if (!dataTable) return;\n",
              "\n",
              "          const docLinkHtml = 'Like what you see? Visit the ' +\n",
              "            '<a target=\"_blank\" href=https://colab.research.google.com/notebooks/data_table.ipynb>data table notebook</a>'\n",
              "            + ' to learn more about interactive tables.';\n",
              "          element.innerHTML = '';\n",
              "          dataTable['output_type'] = 'display_data';\n",
              "          await google.colab.output.renderOutput(dataTable, element);\n",
              "          const docLink = document.createElement('div');\n",
              "          docLink.innerHTML = docLinkHtml;\n",
              "          element.appendChild(docLink);\n",
              "        }\n",
              "      </script>\n",
              "    </div>\n",
              "  </div>\n",
              "  "
            ]
          },
          "metadata": {},
          "execution_count": 94
        }
      ]
    },
    {
      "cell_type": "code",
      "source": [
        "sciFactEvidence.head()"
      ],
      "metadata": {
        "colab": {
          "base_uri": "https://localhost:8080/",
          "height": 206
        },
        "id": "T8UOAjyReo-4",
        "outputId": "518dd513-9f76-46d3-c1f1-0df5ac1bde63"
      },
      "execution_count": null,
      "outputs": [
        {
          "output_type": "execute_result",
          "data": {
            "text/plain": [
              "   doc_id                                              title  \\\n",
              "0    4983  Microstructural development of human newborn c...   \n",
              "1    5836  Induction of myelodysplasia by myeloid-derived...   \n",
              "2    7912  BC1 RNA, the transcript from a master gene for...   \n",
              "3   18670  The DNA Methylome of Human Peripheral Blood Mo...   \n",
              "4   19238  The human myelin basic protein gene is include...   \n",
              "\n",
              "                                            abstract  structured  \n",
              "0  [Alterations of the architecture of cerebral w...       False  \n",
              "1  [Myelodysplastic syndromes (MDS) are age-depen...       False  \n",
              "2  [ID elements are short interspersed elements (...       False  \n",
              "3  [DNA methylation plays an important role in bi...       False  \n",
              "4  [Two human Golli (for gene expressed in the ol...       False  "
            ],
            "text/html": [
              "\n",
              "  <div id=\"df-7783e225-983e-41a9-84f2-7a744cce0df6\">\n",
              "    <div class=\"colab-df-container\">\n",
              "      <div>\n",
              "<style scoped>\n",
              "    .dataframe tbody tr th:only-of-type {\n",
              "        vertical-align: middle;\n",
              "    }\n",
              "\n",
              "    .dataframe tbody tr th {\n",
              "        vertical-align: top;\n",
              "    }\n",
              "\n",
              "    .dataframe thead th {\n",
              "        text-align: right;\n",
              "    }\n",
              "</style>\n",
              "<table border=\"1\" class=\"dataframe\">\n",
              "  <thead>\n",
              "    <tr style=\"text-align: right;\">\n",
              "      <th></th>\n",
              "      <th>doc_id</th>\n",
              "      <th>title</th>\n",
              "      <th>abstract</th>\n",
              "      <th>structured</th>\n",
              "    </tr>\n",
              "  </thead>\n",
              "  <tbody>\n",
              "    <tr>\n",
              "      <th>0</th>\n",
              "      <td>4983</td>\n",
              "      <td>Microstructural development of human newborn c...</td>\n",
              "      <td>[Alterations of the architecture of cerebral w...</td>\n",
              "      <td>False</td>\n",
              "    </tr>\n",
              "    <tr>\n",
              "      <th>1</th>\n",
              "      <td>5836</td>\n",
              "      <td>Induction of myelodysplasia by myeloid-derived...</td>\n",
              "      <td>[Myelodysplastic syndromes (MDS) are age-depen...</td>\n",
              "      <td>False</td>\n",
              "    </tr>\n",
              "    <tr>\n",
              "      <th>2</th>\n",
              "      <td>7912</td>\n",
              "      <td>BC1 RNA, the transcript from a master gene for...</td>\n",
              "      <td>[ID elements are short interspersed elements (...</td>\n",
              "      <td>False</td>\n",
              "    </tr>\n",
              "    <tr>\n",
              "      <th>3</th>\n",
              "      <td>18670</td>\n",
              "      <td>The DNA Methylome of Human Peripheral Blood Mo...</td>\n",
              "      <td>[DNA methylation plays an important role in bi...</td>\n",
              "      <td>False</td>\n",
              "    </tr>\n",
              "    <tr>\n",
              "      <th>4</th>\n",
              "      <td>19238</td>\n",
              "      <td>The human myelin basic protein gene is include...</td>\n",
              "      <td>[Two human Golli (for gene expressed in the ol...</td>\n",
              "      <td>False</td>\n",
              "    </tr>\n",
              "  </tbody>\n",
              "</table>\n",
              "</div>\n",
              "      <button class=\"colab-df-convert\" onclick=\"convertToInteractive('df-7783e225-983e-41a9-84f2-7a744cce0df6')\"\n",
              "              title=\"Convert this dataframe to an interactive table.\"\n",
              "              style=\"display:none;\">\n",
              "        \n",
              "  <svg xmlns=\"http://www.w3.org/2000/svg\" height=\"24px\"viewBox=\"0 0 24 24\"\n",
              "       width=\"24px\">\n",
              "    <path d=\"M0 0h24v24H0V0z\" fill=\"none\"/>\n",
              "    <path d=\"M18.56 5.44l.94 2.06.94-2.06 2.06-.94-2.06-.94-.94-2.06-.94 2.06-2.06.94zm-11 1L8.5 8.5l.94-2.06 2.06-.94-2.06-.94L8.5 2.5l-.94 2.06-2.06.94zm10 10l.94 2.06.94-2.06 2.06-.94-2.06-.94-.94-2.06-.94 2.06-2.06.94z\"/><path d=\"M17.41 7.96l-1.37-1.37c-.4-.4-.92-.59-1.43-.59-.52 0-1.04.2-1.43.59L10.3 9.45l-7.72 7.72c-.78.78-.78 2.05 0 2.83L4 21.41c.39.39.9.59 1.41.59.51 0 1.02-.2 1.41-.59l7.78-7.78 2.81-2.81c.8-.78.8-2.07 0-2.86zM5.41 20L4 18.59l7.72-7.72 1.47 1.35L5.41 20z\"/>\n",
              "  </svg>\n",
              "      </button>\n",
              "      \n",
              "  <style>\n",
              "    .colab-df-container {\n",
              "      display:flex;\n",
              "      flex-wrap:wrap;\n",
              "      gap: 12px;\n",
              "    }\n",
              "\n",
              "    .colab-df-convert {\n",
              "      background-color: #E8F0FE;\n",
              "      border: none;\n",
              "      border-radius: 50%;\n",
              "      cursor: pointer;\n",
              "      display: none;\n",
              "      fill: #1967D2;\n",
              "      height: 32px;\n",
              "      padding: 0 0 0 0;\n",
              "      width: 32px;\n",
              "    }\n",
              "\n",
              "    .colab-df-convert:hover {\n",
              "      background-color: #E2EBFA;\n",
              "      box-shadow: 0px 1px 2px rgba(60, 64, 67, 0.3), 0px 1px 3px 1px rgba(60, 64, 67, 0.15);\n",
              "      fill: #174EA6;\n",
              "    }\n",
              "\n",
              "    [theme=dark] .colab-df-convert {\n",
              "      background-color: #3B4455;\n",
              "      fill: #D2E3FC;\n",
              "    }\n",
              "\n",
              "    [theme=dark] .colab-df-convert:hover {\n",
              "      background-color: #434B5C;\n",
              "      box-shadow: 0px 1px 3px 1px rgba(0, 0, 0, 0.15);\n",
              "      filter: drop-shadow(0px 1px 2px rgba(0, 0, 0, 0.3));\n",
              "      fill: #FFFFFF;\n",
              "    }\n",
              "  </style>\n",
              "\n",
              "      <script>\n",
              "        const buttonEl =\n",
              "          document.querySelector('#df-7783e225-983e-41a9-84f2-7a744cce0df6 button.colab-df-convert');\n",
              "        buttonEl.style.display =\n",
              "          google.colab.kernel.accessAllowed ? 'block' : 'none';\n",
              "\n",
              "        async function convertToInteractive(key) {\n",
              "          const element = document.querySelector('#df-7783e225-983e-41a9-84f2-7a744cce0df6');\n",
              "          const dataTable =\n",
              "            await google.colab.kernel.invokeFunction('convertToInteractive',\n",
              "                                                     [key], {});\n",
              "          if (!dataTable) return;\n",
              "\n",
              "          const docLinkHtml = 'Like what you see? Visit the ' +\n",
              "            '<a target=\"_blank\" href=https://colab.research.google.com/notebooks/data_table.ipynb>data table notebook</a>'\n",
              "            + ' to learn more about interactive tables.';\n",
              "          element.innerHTML = '';\n",
              "          dataTable['output_type'] = 'display_data';\n",
              "          await google.colab.output.renderOutput(dataTable, element);\n",
              "          const docLink = document.createElement('div');\n",
              "          docLink.innerHTML = docLinkHtml;\n",
              "          element.appendChild(docLink);\n",
              "        }\n",
              "      </script>\n",
              "    </div>\n",
              "  </div>\n",
              "  "
            ]
          },
          "metadata": {},
          "execution_count": 95
        }
      ]
    },
    {
      "cell_type": "markdown",
      "source": [
        "I am removing the rows the do not contain the evidence for their claim.It is because we need evidences to train the model and empty evidence rows are of no use to us. "
      ],
      "metadata": {
        "id": "VgoJrdEn9V5H"
      }
    },
    {
      "cell_type": "code",
      "source": [
        "# Count the number of rows where evidence is empty\n",
        "empty_evidence_rows = (scifactDataTrain['evidence'].values == {}).sum()\n",
        "print(\"The number of empty evidence rows in our train set are \" + str(empty_evidence_rows))"
      ],
      "metadata": {
        "colab": {
          "base_uri": "https://localhost:8080/"
        },
        "id": "4009pTrPeHhe",
        "outputId": "ee466cac-b525-4058-f0c3-9848e43fc198"
      },
      "execution_count": null,
      "outputs": [
        {
          "output_type": "stream",
          "name": "stdout",
          "text": [
            "The number of empty evidence rows in our train set are 304\n"
          ]
        }
      ]
    },
    {
      "cell_type": "markdown",
      "source": [
        "Drop rows with no evidence for train, validation and test set."
      ],
      "metadata": {
        "id": "xYIqWNU3-Cfy"
      }
    },
    {
      "cell_type": "code",
      "source": [
        "scifactDataTrain['evidence'] = scifactDataTrain['evidence'].mask(scifactDataTrain['evidence'] == {})\n",
        "scifactDataTrain.dropna(subset=['evidence'], how='all', inplace=True)\n",
        "scifactDataTrain.reset_index(drop=True, inplace=True)\n",
        "scifactDataVal['evidence'] = scifactDataVal['evidence'].mask(scifactDataVal['evidence'] == {})\n",
        "scifactDataVal.dropna(subset=['evidence'], how='all', inplace=True)\n",
        "scifactDataVal.reset_index(drop=True, inplace=True)"
      ],
      "metadata": {
        "id": "EBD-gX-6cLSE"
      },
      "execution_count": null,
      "outputs": []
    },
    {
      "cell_type": "code",
      "source": [
        "print(\"The size of train dataset after dropping the empty evidences are \" + str(scifactDataTrain.shape[0]))\n",
        "print(\"The size of val dataset after dropping the empty evidences are \" + str(scifactDataVal.shape[0]))"
      ],
      "metadata": {
        "colab": {
          "base_uri": "https://localhost:8080/"
        },
        "id": "aZA6NmXpZ6XX",
        "outputId": "531a0469-e0f6-428d-8939-949cd35ff027"
      },
      "execution_count": null,
      "outputs": [
        {
          "output_type": "stream",
          "name": "stdout",
          "text": [
            "The size of train dataset after dropping the empty evidences are 505\n",
            "The size of val dataset after dropping the empty evidences are 188\n"
          ]
        }
      ]
    },
    {
      "cell_type": "markdown",
      "source": [
        "We can see from the above rows that the evidence column of train data only contains the ids of the evidences associated with them and the sentence number that support/contradict the evidence, and it doesn't contains the actual evidence text. I am below creating a new column in our dataset that contains the actual evidence text associated to each claim.\n",
        "\n",
        "Also, I am creating an additional column called label_evidence that contains the labels of support/contradict that are associated with the claim."
      ],
      "metadata": {
        "id": "Q3euXOx6-NhI"
      }
    },
    {
      "cell_type": "code",
      "source": [
        "#@title Code to add evidence and label columns\n",
        "#Adding additional column to my model the evidence text associated to each claim.\n",
        "def addEvidenceText(row: pd.Series) -> str:\n",
        "    evidence_id = list(row['evidence'].keys())[0]\n",
        "    abstract = sciFactEvidence.loc[sciFactEvidence['doc_id'] == int(evidence_id)]\n",
        "    return abstract['abstract'].values[0]\n",
        "\n",
        "def addLabelEvidence(row: pd.Series) -> str:\n",
        "   label_evidence = row['evidence']\n",
        "   for doc_id, evidence_sets in label_evidence.items():\n",
        "      return evidence_sets[0]['label']\n",
        "      \n",
        "#Adding function to convert list of evidence into string\n",
        "def list_to_string(lst):\n",
        "    listToStr = \" \".join(lst)\n",
        "    return str(listToStr)\n",
        "\n",
        "#Adding function to put rationale in the <hl> tags\n",
        "def setTagInEvidence(row: pd.Series) -> str:\n",
        " # id =list(row['evidence'].keys())[0]\n",
        "  label_evidence = list(row['evidence'].values())[0]\n",
        "  evidence = row['evidence_text']\n",
        "  for evidenceList in label_evidence:\n",
        "      rationaleSentenceList = evidenceList['sentences']\n",
        "      for value in rationaleSentenceList:\n",
        "          evidence[value] = tag_start + evidence[value] + tag_end\n",
        "  return evidence"
      ],
      "metadata": {
        "id": "WqoLdT5kfF3K"
      },
      "execution_count": null,
      "outputs": []
    },
    {
      "cell_type": "markdown",
      "source": [
        "I am splitting my train dataset into train and test because I don't have evidences given in the test dataset so I am keeping some of the train data for the test."
      ],
      "metadata": {
        "id": "cqPKDomFj36m"
      }
    },
    {
      "cell_type": "code",
      "source": [
        "#Splitting the train into train and val.\n",
        "train_set, test_set = train_test_split(scifactDataTrain,test_size=0.2,random_state=random_state,shuffle=True)\n",
        "print(\"The size of train dataset is \" + str(train_set.shape[0]))\n",
        "print(\"The size of test dataset is \" + str(test_set.shape[0]))\n",
        "print(\"The size of vaidation dataset is \" + str(scifactDataVal.shape[0]))"
      ],
      "metadata": {
        "colab": {
          "base_uri": "https://localhost:8080/"
        },
        "id": "jQhztK1jjCZM",
        "outputId": "280f8861-f2d2-47eb-c357-6940947b7f69"
      },
      "execution_count": null,
      "outputs": [
        {
          "output_type": "stream",
          "name": "stdout",
          "text": [
            "The size of train dataset is 404\n",
            "The size of test dataset is 101\n",
            "The size of vaidation dataset is 188\n"
          ]
        }
      ]
    },
    {
      "cell_type": "markdown",
      "source": [
        "Apply function to add the evidence column in both the train and the validation data."
      ],
      "metadata": {
        "id": "Stln7cQ--7lb"
      }
    },
    {
      "cell_type": "code",
      "source": [
        "train_set['evidence_text'] = train_set.apply(addEvidenceText, axis=1)\n",
        "scifactDataVal['evidence_text'] = scifactDataVal.apply(addEvidenceText, axis=1)\n",
        "test_set['evidence_text'] = test_set.apply(addEvidenceText, axis=1)"
      ],
      "metadata": {
        "id": "jVbSuQy8hbpv"
      },
      "execution_count": null,
      "outputs": []
    },
    {
      "cell_type": "markdown",
      "source": [
        "Apply function to create new column with label evidence."
      ],
      "metadata": {
        "id": "0QGTlO2eABPt"
      }
    },
    {
      "cell_type": "code",
      "source": [
        "#Apply function to create new column with label evidence\n",
        "train_set['label_evidence'] = train_set.apply(addLabelEvidence, axis=1)\n",
        "scifactDataVal['label_evidence'] = scifactDataVal.apply(addLabelEvidence, axis=1)\n",
        "test_set['label_evidence'] = test_set.apply(addLabelEvidence, axis=1)\n",
        " "
      ],
      "metadata": {
        "id": "zpnLfqAAtW2I"
      },
      "execution_count": null,
      "outputs": []
    },
    {
      "cell_type": "code",
      "source": [
        "train_set.head()"
      ],
      "metadata": {
        "id": "sdo0-kzX535m",
        "outputId": "507620f0-11ac-4dbd-8d9b-81a8da0d3438",
        "colab": {
          "base_uri": "https://localhost:8080/",
          "height": 337
        }
      },
      "execution_count": null,
      "outputs": [
        {
          "output_type": "execute_result",
          "data": {
            "text/plain": [
              "       id                                              claim  \\\n",
              "75    222  Ca2+ cycling is a UCP1-independent thermogenic...   \n",
              "442  1231  The minor G allele of FOXO3 is related to less...   \n",
              "15     55  AMP-activated protein kinase (AMPK) activation...   \n",
              "325   928  Patients with microcytosis and higher erythroc...   \n",
              "388  1084  Side effects associated with antidepressants i...   \n",
              "\n",
              "                                              evidence cited_doc_ids  \\\n",
              "75   {'19205437': [{'sentences': [1], 'label': 'SUP...    [19205437]   \n",
              "442  {'13905670': [{'sentences': [3], 'label': 'SUP...    [13905670]   \n",
              "15   {'49556906': [{'sentences': [5], 'label': 'SUP...    [49556906]   \n",
              "325  {'18174210': [{'sentences': [2], 'label': 'CON...    [18174210]   \n",
              "388  {'5691302': [{'sentences': [10], 'label': 'SUP...     [5691302]   \n",
              "\n",
              "                                         evidence_text label_evidence  \n",
              "75   [Uncoupling protein 1 (UCP1) plays a central r...        SUPPORT  \n",
              "442  [The clinical course and eventual outcome, or ...        SUPPORT  \n",
              "15   [Fibrosis is a pathological result of a dysfun...        SUPPORT  \n",
              "325  [BACKGROUND The heritable haemoglobinopathy al...     CONTRADICT  \n",
              "388  [OBJECTIVES To investigate the association bet...        SUPPORT  "
            ],
            "text/html": [
              "\n",
              "  <div id=\"df-4590fd79-7770-44dc-939d-65eb1fe7ea75\">\n",
              "    <div class=\"colab-df-container\">\n",
              "      <div>\n",
              "<style scoped>\n",
              "    .dataframe tbody tr th:only-of-type {\n",
              "        vertical-align: middle;\n",
              "    }\n",
              "\n",
              "    .dataframe tbody tr th {\n",
              "        vertical-align: top;\n",
              "    }\n",
              "\n",
              "    .dataframe thead th {\n",
              "        text-align: right;\n",
              "    }\n",
              "</style>\n",
              "<table border=\"1\" class=\"dataframe\">\n",
              "  <thead>\n",
              "    <tr style=\"text-align: right;\">\n",
              "      <th></th>\n",
              "      <th>id</th>\n",
              "      <th>claim</th>\n",
              "      <th>evidence</th>\n",
              "      <th>cited_doc_ids</th>\n",
              "      <th>evidence_text</th>\n",
              "      <th>label_evidence</th>\n",
              "    </tr>\n",
              "  </thead>\n",
              "  <tbody>\n",
              "    <tr>\n",
              "      <th>75</th>\n",
              "      <td>222</td>\n",
              "      <td>Ca2+ cycling is a UCP1-independent thermogenic...</td>\n",
              "      <td>{'19205437': [{'sentences': [1], 'label': 'SUP...</td>\n",
              "      <td>[19205437]</td>\n",
              "      <td>[Uncoupling protein 1 (UCP1) plays a central r...</td>\n",
              "      <td>SUPPORT</td>\n",
              "    </tr>\n",
              "    <tr>\n",
              "      <th>442</th>\n",
              "      <td>1231</td>\n",
              "      <td>The minor G allele of FOXO3 is related to less...</td>\n",
              "      <td>{'13905670': [{'sentences': [3], 'label': 'SUP...</td>\n",
              "      <td>[13905670]</td>\n",
              "      <td>[The clinical course and eventual outcome, or ...</td>\n",
              "      <td>SUPPORT</td>\n",
              "    </tr>\n",
              "    <tr>\n",
              "      <th>15</th>\n",
              "      <td>55</td>\n",
              "      <td>AMP-activated protein kinase (AMPK) activation...</td>\n",
              "      <td>{'49556906': [{'sentences': [5], 'label': 'SUP...</td>\n",
              "      <td>[49556906]</td>\n",
              "      <td>[Fibrosis is a pathological result of a dysfun...</td>\n",
              "      <td>SUPPORT</td>\n",
              "    </tr>\n",
              "    <tr>\n",
              "      <th>325</th>\n",
              "      <td>928</td>\n",
              "      <td>Patients with microcytosis and higher erythroc...</td>\n",
              "      <td>{'18174210': [{'sentences': [2], 'label': 'CON...</td>\n",
              "      <td>[18174210]</td>\n",
              "      <td>[BACKGROUND The heritable haemoglobinopathy al...</td>\n",
              "      <td>CONTRADICT</td>\n",
              "    </tr>\n",
              "    <tr>\n",
              "      <th>388</th>\n",
              "      <td>1084</td>\n",
              "      <td>Side effects associated with antidepressants i...</td>\n",
              "      <td>{'5691302': [{'sentences': [10], 'label': 'SUP...</td>\n",
              "      <td>[5691302]</td>\n",
              "      <td>[OBJECTIVES To investigate the association bet...</td>\n",
              "      <td>SUPPORT</td>\n",
              "    </tr>\n",
              "  </tbody>\n",
              "</table>\n",
              "</div>\n",
              "      <button class=\"colab-df-convert\" onclick=\"convertToInteractive('df-4590fd79-7770-44dc-939d-65eb1fe7ea75')\"\n",
              "              title=\"Convert this dataframe to an interactive table.\"\n",
              "              style=\"display:none;\">\n",
              "        \n",
              "  <svg xmlns=\"http://www.w3.org/2000/svg\" height=\"24px\"viewBox=\"0 0 24 24\"\n",
              "       width=\"24px\">\n",
              "    <path d=\"M0 0h24v24H0V0z\" fill=\"none\"/>\n",
              "    <path d=\"M18.56 5.44l.94 2.06.94-2.06 2.06-.94-2.06-.94-.94-2.06-.94 2.06-2.06.94zm-11 1L8.5 8.5l.94-2.06 2.06-.94-2.06-.94L8.5 2.5l-.94 2.06-2.06.94zm10 10l.94 2.06.94-2.06 2.06-.94-2.06-.94-.94-2.06-.94 2.06-2.06.94z\"/><path d=\"M17.41 7.96l-1.37-1.37c-.4-.4-.92-.59-1.43-.59-.52 0-1.04.2-1.43.59L10.3 9.45l-7.72 7.72c-.78.78-.78 2.05 0 2.83L4 21.41c.39.39.9.59 1.41.59.51 0 1.02-.2 1.41-.59l7.78-7.78 2.81-2.81c.8-.78.8-2.07 0-2.86zM5.41 20L4 18.59l7.72-7.72 1.47 1.35L5.41 20z\"/>\n",
              "  </svg>\n",
              "      </button>\n",
              "      \n",
              "  <style>\n",
              "    .colab-df-container {\n",
              "      display:flex;\n",
              "      flex-wrap:wrap;\n",
              "      gap: 12px;\n",
              "    }\n",
              "\n",
              "    .colab-df-convert {\n",
              "      background-color: #E8F0FE;\n",
              "      border: none;\n",
              "      border-radius: 50%;\n",
              "      cursor: pointer;\n",
              "      display: none;\n",
              "      fill: #1967D2;\n",
              "      height: 32px;\n",
              "      padding: 0 0 0 0;\n",
              "      width: 32px;\n",
              "    }\n",
              "\n",
              "    .colab-df-convert:hover {\n",
              "      background-color: #E2EBFA;\n",
              "      box-shadow: 0px 1px 2px rgba(60, 64, 67, 0.3), 0px 1px 3px 1px rgba(60, 64, 67, 0.15);\n",
              "      fill: #174EA6;\n",
              "    }\n",
              "\n",
              "    [theme=dark] .colab-df-convert {\n",
              "      background-color: #3B4455;\n",
              "      fill: #D2E3FC;\n",
              "    }\n",
              "\n",
              "    [theme=dark] .colab-df-convert:hover {\n",
              "      background-color: #434B5C;\n",
              "      box-shadow: 0px 1px 3px 1px rgba(0, 0, 0, 0.15);\n",
              "      filter: drop-shadow(0px 1px 2px rgba(0, 0, 0, 0.3));\n",
              "      fill: #FFFFFF;\n",
              "    }\n",
              "  </style>\n",
              "\n",
              "      <script>\n",
              "        const buttonEl =\n",
              "          document.querySelector('#df-4590fd79-7770-44dc-939d-65eb1fe7ea75 button.colab-df-convert');\n",
              "        buttonEl.style.display =\n",
              "          google.colab.kernel.accessAllowed ? 'block' : 'none';\n",
              "\n",
              "        async function convertToInteractive(key) {\n",
              "          const element = document.querySelector('#df-4590fd79-7770-44dc-939d-65eb1fe7ea75');\n",
              "          const dataTable =\n",
              "            await google.colab.kernel.invokeFunction('convertToInteractive',\n",
              "                                                     [key], {});\n",
              "          if (!dataTable) return;\n",
              "\n",
              "          const docLinkHtml = 'Like what you see? Visit the ' +\n",
              "            '<a target=\"_blank\" href=https://colab.research.google.com/notebooks/data_table.ipynb>data table notebook</a>'\n",
              "            + ' to learn more about interactive tables.';\n",
              "          element.innerHTML = '';\n",
              "          dataTable['output_type'] = 'display_data';\n",
              "          await google.colab.output.renderOutput(dataTable, element);\n",
              "          const docLink = document.createElement('div');\n",
              "          docLink.innerHTML = docLinkHtml;\n",
              "          element.appendChild(docLink);\n",
              "        }\n",
              "      </script>\n",
              "    </div>\n",
              "  </div>\n",
              "  "
            ]
          },
          "metadata": {},
          "execution_count": 103
        }
      ]
    },
    {
      "cell_type": "markdown",
      "source": [
        "We can see above that the new columns of evidence_text and label_evidence are created and they contain the relevant information associated with each calim."
      ],
      "metadata": {
        "id": "NaLqDwUoAF2P"
      }
    },
    {
      "cell_type": "markdown",
      "source": [
        "Removing some of the data from the validation datset and adding it to the train dataset so we will have more data to train."
      ],
      "metadata": {
        "id": "Krlnbzze2FFz"
      }
    },
    {
      "cell_type": "code",
      "source": [
        "#RUN THIS CELL ONLY ONCE\n",
        "#Adding 80 more rows from val data set to the train set.\n",
        "rows_to_remove = range(0,81)\n",
        "\n",
        "# Append the rows to train dataset\n",
        "train_set = train_set.append(scifactDataVal.loc[rows_to_remove])\n",
        "\n",
        "# Remove the appended rows from scifactDataVal/val dataset\n",
        "scifactDataVal = scifactDataVal.drop(rows_to_remove)"
      ],
      "metadata": {
        "id": "WiGNyqZOujuZ"
      },
      "execution_count": null,
      "outputs": []
    },
    {
      "cell_type": "code",
      "source": [
        "print(\"The size of train dataset is \" + str(train_set.shape[0]))\n",
        "print(\"The size of test dataset is \" + str(test_set.shape[0]))\n",
        "print(\"The size of val dataset is \" + str(scifactDataVal.shape[0]))"
      ],
      "metadata": {
        "colab": {
          "base_uri": "https://localhost:8080/"
        },
        "id": "Lh4FN9QGiVrJ",
        "outputId": "e39ca649-b58c-4acf-c980-4a06f4608f5d"
      },
      "execution_count": null,
      "outputs": [
        {
          "output_type": "stream",
          "name": "stdout",
          "text": [
            "The size of train dataset is 485\n",
            "The size of test dataset is 101\n",
            "The size of val dataset is 107\n"
          ]
        }
      ]
    },
    {
      "cell_type": "code",
      "source": [
        "train_set = train_set.reset_index(drop=True)\n",
        "test_set = test_set.reset_index(drop=True)\n",
        "scifactDataVal = scifactDataVal.reset_index(drop=True)"
      ],
      "metadata": {
        "id": "AV2oZVHak99j"
      },
      "execution_count": null,
      "outputs": []
    },
    {
      "cell_type": "code",
      "source": [
        "train_set.head()"
      ],
      "metadata": {
        "colab": {
          "base_uri": "https://localhost:8080/",
          "height": 337
        },
        "id": "gH0gYwfjkyz4",
        "outputId": "6a8b8a00-7e43-4214-c060-55eeb4bde4d4"
      },
      "execution_count": null,
      "outputs": [
        {
          "output_type": "execute_result",
          "data": {
            "text/plain": [
              "     id                                              claim  \\\n",
              "0   222  Ca2+ cycling is a UCP1-independent thermogenic...   \n",
              "1  1231  The minor G allele of FOXO3 is related to less...   \n",
              "2    55  AMP-activated protein kinase (AMPK) activation...   \n",
              "3   928  Patients with microcytosis and higher erythroc...   \n",
              "4  1084  Side effects associated with antidepressants i...   \n",
              "\n",
              "                                            evidence cited_doc_ids  \\\n",
              "0  {'19205437': [{'sentences': [1], 'label': 'SUP...    [19205437]   \n",
              "1  {'13905670': [{'sentences': [3], 'label': 'SUP...    [13905670]   \n",
              "2  {'49556906': [{'sentences': [5], 'label': 'SUP...    [49556906]   \n",
              "3  {'18174210': [{'sentences': [2], 'label': 'CON...    [18174210]   \n",
              "4  {'5691302': [{'sentences': [10], 'label': 'SUP...     [5691302]   \n",
              "\n",
              "                                       evidence_text label_evidence  \n",
              "0  [Uncoupling protein 1 (UCP1) plays a central r...        SUPPORT  \n",
              "1  [The clinical course and eventual outcome, or ...        SUPPORT  \n",
              "2  [Fibrosis is a pathological result of a dysfun...        SUPPORT  \n",
              "3  [BACKGROUND The heritable haemoglobinopathy al...     CONTRADICT  \n",
              "4  [OBJECTIVES To investigate the association bet...        SUPPORT  "
            ],
            "text/html": [
              "\n",
              "  <div id=\"df-45b2fbc8-5245-469d-91ec-04912ea2a023\">\n",
              "    <div class=\"colab-df-container\">\n",
              "      <div>\n",
              "<style scoped>\n",
              "    .dataframe tbody tr th:only-of-type {\n",
              "        vertical-align: middle;\n",
              "    }\n",
              "\n",
              "    .dataframe tbody tr th {\n",
              "        vertical-align: top;\n",
              "    }\n",
              "\n",
              "    .dataframe thead th {\n",
              "        text-align: right;\n",
              "    }\n",
              "</style>\n",
              "<table border=\"1\" class=\"dataframe\">\n",
              "  <thead>\n",
              "    <tr style=\"text-align: right;\">\n",
              "      <th></th>\n",
              "      <th>id</th>\n",
              "      <th>claim</th>\n",
              "      <th>evidence</th>\n",
              "      <th>cited_doc_ids</th>\n",
              "      <th>evidence_text</th>\n",
              "      <th>label_evidence</th>\n",
              "    </tr>\n",
              "  </thead>\n",
              "  <tbody>\n",
              "    <tr>\n",
              "      <th>0</th>\n",
              "      <td>222</td>\n",
              "      <td>Ca2+ cycling is a UCP1-independent thermogenic...</td>\n",
              "      <td>{'19205437': [{'sentences': [1], 'label': 'SUP...</td>\n",
              "      <td>[19205437]</td>\n",
              "      <td>[Uncoupling protein 1 (UCP1) plays a central r...</td>\n",
              "      <td>SUPPORT</td>\n",
              "    </tr>\n",
              "    <tr>\n",
              "      <th>1</th>\n",
              "      <td>1231</td>\n",
              "      <td>The minor G allele of FOXO3 is related to less...</td>\n",
              "      <td>{'13905670': [{'sentences': [3], 'label': 'SUP...</td>\n",
              "      <td>[13905670]</td>\n",
              "      <td>[The clinical course and eventual outcome, or ...</td>\n",
              "      <td>SUPPORT</td>\n",
              "    </tr>\n",
              "    <tr>\n",
              "      <th>2</th>\n",
              "      <td>55</td>\n",
              "      <td>AMP-activated protein kinase (AMPK) activation...</td>\n",
              "      <td>{'49556906': [{'sentences': [5], 'label': 'SUP...</td>\n",
              "      <td>[49556906]</td>\n",
              "      <td>[Fibrosis is a pathological result of a dysfun...</td>\n",
              "      <td>SUPPORT</td>\n",
              "    </tr>\n",
              "    <tr>\n",
              "      <th>3</th>\n",
              "      <td>928</td>\n",
              "      <td>Patients with microcytosis and higher erythroc...</td>\n",
              "      <td>{'18174210': [{'sentences': [2], 'label': 'CON...</td>\n",
              "      <td>[18174210]</td>\n",
              "      <td>[BACKGROUND The heritable haemoglobinopathy al...</td>\n",
              "      <td>CONTRADICT</td>\n",
              "    </tr>\n",
              "    <tr>\n",
              "      <th>4</th>\n",
              "      <td>1084</td>\n",
              "      <td>Side effects associated with antidepressants i...</td>\n",
              "      <td>{'5691302': [{'sentences': [10], 'label': 'SUP...</td>\n",
              "      <td>[5691302]</td>\n",
              "      <td>[OBJECTIVES To investigate the association bet...</td>\n",
              "      <td>SUPPORT</td>\n",
              "    </tr>\n",
              "  </tbody>\n",
              "</table>\n",
              "</div>\n",
              "      <button class=\"colab-df-convert\" onclick=\"convertToInteractive('df-45b2fbc8-5245-469d-91ec-04912ea2a023')\"\n",
              "              title=\"Convert this dataframe to an interactive table.\"\n",
              "              style=\"display:none;\">\n",
              "        \n",
              "  <svg xmlns=\"http://www.w3.org/2000/svg\" height=\"24px\"viewBox=\"0 0 24 24\"\n",
              "       width=\"24px\">\n",
              "    <path d=\"M0 0h24v24H0V0z\" fill=\"none\"/>\n",
              "    <path d=\"M18.56 5.44l.94 2.06.94-2.06 2.06-.94-2.06-.94-.94-2.06-.94 2.06-2.06.94zm-11 1L8.5 8.5l.94-2.06 2.06-.94-2.06-.94L8.5 2.5l-.94 2.06-2.06.94zm10 10l.94 2.06.94-2.06 2.06-.94-2.06-.94-.94-2.06-.94 2.06-2.06.94z\"/><path d=\"M17.41 7.96l-1.37-1.37c-.4-.4-.92-.59-1.43-.59-.52 0-1.04.2-1.43.59L10.3 9.45l-7.72 7.72c-.78.78-.78 2.05 0 2.83L4 21.41c.39.39.9.59 1.41.59.51 0 1.02-.2 1.41-.59l7.78-7.78 2.81-2.81c.8-.78.8-2.07 0-2.86zM5.41 20L4 18.59l7.72-7.72 1.47 1.35L5.41 20z\"/>\n",
              "  </svg>\n",
              "      </button>\n",
              "      \n",
              "  <style>\n",
              "    .colab-df-container {\n",
              "      display:flex;\n",
              "      flex-wrap:wrap;\n",
              "      gap: 12px;\n",
              "    }\n",
              "\n",
              "    .colab-df-convert {\n",
              "      background-color: #E8F0FE;\n",
              "      border: none;\n",
              "      border-radius: 50%;\n",
              "      cursor: pointer;\n",
              "      display: none;\n",
              "      fill: #1967D2;\n",
              "      height: 32px;\n",
              "      padding: 0 0 0 0;\n",
              "      width: 32px;\n",
              "    }\n",
              "\n",
              "    .colab-df-convert:hover {\n",
              "      background-color: #E2EBFA;\n",
              "      box-shadow: 0px 1px 2px rgba(60, 64, 67, 0.3), 0px 1px 3px 1px rgba(60, 64, 67, 0.15);\n",
              "      fill: #174EA6;\n",
              "    }\n",
              "\n",
              "    [theme=dark] .colab-df-convert {\n",
              "      background-color: #3B4455;\n",
              "      fill: #D2E3FC;\n",
              "    }\n",
              "\n",
              "    [theme=dark] .colab-df-convert:hover {\n",
              "      background-color: #434B5C;\n",
              "      box-shadow: 0px 1px 3px 1px rgba(0, 0, 0, 0.15);\n",
              "      filter: drop-shadow(0px 1px 2px rgba(0, 0, 0, 0.3));\n",
              "      fill: #FFFFFF;\n",
              "    }\n",
              "  </style>\n",
              "\n",
              "      <script>\n",
              "        const buttonEl =\n",
              "          document.querySelector('#df-45b2fbc8-5245-469d-91ec-04912ea2a023 button.colab-df-convert');\n",
              "        buttonEl.style.display =\n",
              "          google.colab.kernel.accessAllowed ? 'block' : 'none';\n",
              "\n",
              "        async function convertToInteractive(key) {\n",
              "          const element = document.querySelector('#df-45b2fbc8-5245-469d-91ec-04912ea2a023');\n",
              "          const dataTable =\n",
              "            await google.colab.kernel.invokeFunction('convertToInteractive',\n",
              "                                                     [key], {});\n",
              "          if (!dataTable) return;\n",
              "\n",
              "          const docLinkHtml = 'Like what you see? Visit the ' +\n",
              "            '<a target=\"_blank\" href=https://colab.research.google.com/notebooks/data_table.ipynb>data table notebook</a>'\n",
              "            + ' to learn more about interactive tables.';\n",
              "          element.innerHTML = '';\n",
              "          dataTable['output_type'] = 'display_data';\n",
              "          await google.colab.output.renderOutput(dataTable, element);\n",
              "          const docLink = document.createElement('div');\n",
              "          docLink.innerHTML = docLinkHtml;\n",
              "          element.appendChild(docLink);\n",
              "        }\n",
              "      </script>\n",
              "    </div>\n",
              "  </div>\n",
              "  "
            ]
          },
          "metadata": {},
          "execution_count": 107
        }
      ]
    },
    {
      "cell_type": "markdown",
      "source": [
        "WRITING CODE TO PUT THE <hl> TAGS IN THE RATIONALE."
      ],
      "metadata": {
        "id": "UzS0hxriH29O"
      }
    },
    {
      "cell_type": "markdown",
      "source": [
        "Below is the code that further pre-processes our dataset. Since, I am asked to put the tags in the evidence text sentences that actually supports/contradicts the claim. Below is the code to add the tags in the evidence column only in the train set."
      ],
      "metadata": {
        "id": "741-UgD9ATJc"
      }
    },
    {
      "cell_type": "code",
      "source": [
        "set_tags_in_evidence = False #set this to true if you want to put h tags in the evidence set at the start and end of rationale.\n",
        "tag_start = '<hl>'\n",
        "tag_end = '<\\hl>'\n",
        "\n",
        "if(set_tags_in_evidence == True):\n",
        "    train_set['evidence_text'] = train_set.apply(setTagInEvidence, axis=1)\n",
        "    "
      ],
      "metadata": {
        "id": "3cY1ijex-Prl"
      },
      "execution_count": null,
      "outputs": []
    },
    {
      "cell_type": "markdown",
      "source": [
        "COVERTING THE EVIDENCE TEXT FROM LIST TO STRING BECAUSE THE MODEL ENCODE TAKES THE  STRINGS AS INPUT"
      ],
      "metadata": {
        "id": "ccpblFFc-QcK"
      }
    },
    {
      "cell_type": "code",
      "source": [
        "train_set[\"evidence_text\"] = train_set[\"evidence_text\"].apply(list_to_string)\n",
        "scifactDataVal[\"evidence_text\"] = scifactDataVal[\"evidence_text\"].apply(list_to_string)\n",
        "test_set[\"evidence_text\"] = test_set[\"evidence_text\"].apply(list_to_string)"
      ],
      "metadata": {
        "id": "lkBfnrPzp6in"
      },
      "execution_count": null,
      "outputs": []
    },
    {
      "cell_type": "code",
      "source": [
        "#checking the unique values of the label_evidence column\n",
        "train_set[\"label_evidence\"].unique()"
      ],
      "metadata": {
        "colab": {
          "base_uri": "https://localhost:8080/"
        },
        "id": "ovAylLl3pOcR",
        "outputId": "2b064347-1ba3-4575-b6dc-1198a7eecfda"
      },
      "execution_count": null,
      "outputs": [
        {
          "output_type": "execute_result",
          "data": {
            "text/plain": [
              "array(['SUPPORT', 'CONTRADICT'], dtype=object)"
            ]
          },
          "metadata": {},
          "execution_count": 111
        }
      ]
    },
    {
      "cell_type": "markdown",
      "source": [
        "# Model Definition and Training"
      ],
      "metadata": {
        "id": "vix4RDyPCnPH"
      }
    },
    {
      "cell_type": "markdown",
      "source": [
        "Initialising the arguments for the model and loading the model. I am using 4 base models to train the data which are:\n",
        "\n",
        "\n",
        "*   RoBERTa.\n",
        "*   BERT.\n",
        "*   BART.\n",
        "*   SciBERT.\n",
        "\n",
        "Each model is run two times. One for the usual SciFact dataset and other for the SciFact dataset with \\<h\\> tags in the evidence sentences that support/contradict the claim.\n",
        "\n",
        "We do this because we want to see the difference that the insertion of \\<h\\> tags do on our classification task and we want to compare the models.\n",
        "\n",
        "I am considering the following metrics:\n",
        "   * Accuracy \n",
        "   * Precision \n",
        "   * Recall \n",
        "   * F1-Score\n",
        "   * Macro-F1\n",
        "\n"
      ],
      "metadata": {
        "id": "RpzyJ4rb0kLf"
      }
    },
    {
      "cell_type": "code",
      "source": [
        "args = {\n",
        "    #'model_name' : 'roberta-large',\n",
        "    #'model_name' : 'bert-base-uncased',\n",
        "    'model_name' : 'facebook/bart-base',\n",
        "    #'model_name' : 'allenai/scibert_scivocab_uncased',\n",
        "    'lr_base' : 1e-5,\n",
        "    'lr-linear' : 1e-4,\n",
        "    'batch_size' : 4,\n",
        "    'epochs' : 10,\n",
        "    'batch_size_accumulated' : 256, #The batch size for each gradient update.\n",
        "}"
      ],
      "metadata": {
        "id": "UwCPEEai0tDn"
      },
      "execution_count": null,
      "outputs": []
    },
    {
      "cell_type": "markdown",
      "source": [
        "In the cell below, I am initialising the tokenizer and the model. When the set_tags_in_evidence variable is set to True, it means there are \\<h\\> tags in our dataset and the model is asked learn these additional tags/tokens."
      ],
      "metadata": {
        "id": "BwS8ILVbCRFg"
      }
    },
    {
      "cell_type": "code",
      "source": [
        "device = torch.device('cuda' if torch.cuda.is_available() else 'cpu')\n",
        "print(f'Using device \"{device}\"')\n",
        "tokenizer = AutoTokenizer.from_pretrained(args['model_name'])\n",
        "if(set_tags_in_evidence == True):\n",
        "  special_tokens_dict = ['<hl>', '<\\hl>','<\\\\hl>']\n",
        "  num_added_toks = tokenizer.add_tokens(special_tokens_dict)\n",
        "config = AutoConfig.from_pretrained(args['model_name'], num_labels=2)\n",
        "model = AutoModelForSequenceClassification.from_pretrained(args['model_name'], config=config).to(device)\n",
        "if(set_tags_in_evidence == True):\n",
        "  model.resize_token_embeddings(len(tokenizer))\n",
        "\n",
        "\n",
        "if(args['model_name'] == 'roberta-large'):\n",
        "# If you are using non-roberta based models, change this to point to the right base\n",
        "  params= [{'params': model.roberta.parameters(), 'lr': args['lr_base']},\n",
        "  {'params': model.classifier.parameters(), 'lr': args['lr-linear']}]\n",
        "else:\n",
        "  params = [{'params': model.parameters(), 'lr': args['lr_base']},]\n",
        "\n",
        "optimizer = torch.optim.Adam(\n",
        "    params\n",
        ")\n",
        "scheduler = get_cosine_schedule_with_warmup(optimizer, 0, 20)"
      ],
      "metadata": {
        "colab": {
          "base_uri": "https://localhost:8080/"
        },
        "id": "JX5RQCKgx0ba",
        "outputId": "25535171-ef5e-4783-d86c-3751bccb2fa6"
      },
      "execution_count": null,
      "outputs": [
        {
          "output_type": "stream",
          "name": "stdout",
          "text": [
            "Using device \"cuda\"\n"
          ]
        },
        {
          "output_type": "stream",
          "name": "stderr",
          "text": [
            "Some weights of BartForSequenceClassification were not initialized from the model checkpoint at facebook/bart-base and are newly initialized: ['classification_head.dense.bias', 'classification_head.out_proj.bias', 'classification_head.out_proj.weight', 'classification_head.dense.weight']\n",
            "You should probably TRAIN this model on a down-stream task to be able to use it for predictions and inference.\n"
          ]
        }
      ]
    },
    {
      "cell_type": "code",
      "source": [
        "#Tokenize and prepare for the model a list of sequences or a list of pairs of sequences.\n",
        "# Returns input_ids -- List of token ids to be fed to a model, token_type_ids and attention_mask.\n",
        "def encode(claims: List[str], evidence_text: List[str]):\n",
        "    encoded_dict = tokenizer.batch_encode_plus(\n",
        "        list(zip(evidence_text, claims)),\n",
        "        max_length = 512,\n",
        "        padding=True,\n",
        "        return_tensors='pt',\n",
        "        add_special_tokens = True,\n",
        "        truncation_strategy='only_first',     \n",
        "        )\n",
        "    encoded_dict = {key: tensor.to(device) for key, tensor in encoded_dict.items()}\n",
        "    return encoded_dict"
      ],
      "metadata": {
        "id": "ZIw90UCe3aLS"
      },
      "execution_count": null,
      "outputs": []
    },
    {
      "cell_type": "markdown",
      "source": [
        "Writing function to evaluate the model on the basis of the following scores.\n",
        "* Accuracy \n",
        "* Precision \n",
        "* Recall \n",
        "* F1-Score \n",
        "* F1-Score \n",
        "* Macro-F1\n"
      ],
      "metadata": {
        "id": "nc9iOn5LVc4y"
      }
    },
    {
      "cell_type": "code",
      "source": [
        "def evaluate(model, dataset):\n",
        "    targets = []\n",
        "    outputs = []\n",
        "    with torch.no_grad():\n",
        "        for batch in DataLoader(dataset, batch_size=args['batch_size']):\n",
        "            encoded_dict = encode(batch['claim'], batch['evidence_text'])\n",
        "            logits = model(**encoded_dict)[0]\n",
        "            targets.extend(batch['label_evidence'].float().tolist())\n",
        "            outputs.extend(logits.argmax(dim=1).tolist())\n",
        "    return {\n",
        "        'macro_f1': f1_score(targets, outputs, zero_division=0, average='macro'),\n",
        "        'f1': f1_score(targets, outputs),\n",
        "        'precision': precision_score(targets, outputs),\n",
        "        'recall': recall_score(targets, outputs),\n",
        "        'accuracy' : accuracy_score(targets, outputs)\n",
        "    }"
      ],
      "metadata": {
        "id": "cjGdIduHVbo5"
      },
      "execution_count": null,
      "outputs": []
    },
    {
      "cell_type": "markdown",
      "source": [
        "Creating a custom DataLoader class to load the data."
      ],
      "metadata": {
        "id": "3e2nzUks1t0M"
      }
    },
    {
      "cell_type": "code",
      "source": [
        "class CustomDataset(Dataset):\n",
        "    def __init__(self, dataframe):\n",
        "        self.dataframe = dataframe\n",
        "        self.samples = []\n",
        "        label_encodings = {'CONTRADICT': 0, 'SUPPORT': 1}\n",
        "        for index, row in self.dataframe.iterrows():\n",
        "          self.samples.append({\n",
        "                          'claim': row['claim'],\n",
        "                          'evidence_text' : row[\"evidence_text\"],\n",
        "                          'label_evidence': label_encodings[row['label_evidence']]\n",
        "                      })\n",
        "\n",
        "    def __len__(self):\n",
        "         return len(self.samples)\n",
        "\n",
        "    def __getitem__(self, idx):\n",
        "        return self.samples[idx]\n",
        "          "
      ],
      "metadata": {
        "id": "VCm22aD8flMD"
      },
      "execution_count": null,
      "outputs": []
    },
    {
      "cell_type": "markdown",
      "source": [
        "TRAIN AND EVALUATE THE MODEL"
      ],
      "metadata": {
        "id": "BPBUF1BrT0ug"
      }
    },
    {
      "cell_type": "code",
      "source": [
        "train_dataset = CustomDataset(train_set)\n",
        "Val_dataset = CustomDataset(scifactDataVal)\n",
        "test_dataset = CustomDataset(test_set)"
      ],
      "metadata": {
        "id": "nw9XBucBirFS"
      },
      "execution_count": null,
      "outputs": []
    },
    {
      "cell_type": "code",
      "source": [
        "torch.cuda.empty_cache()\n",
        "for e in range(args['epochs']):\n",
        "      model.train()\n",
        "      t = tqdm(DataLoader(train_dataset, batch_size=args['batch_size'], shuffle=False))\n",
        "      for i, batch in enumerate(t):\n",
        "        encoded_dict = encode(batch['claim'], batch['evidence_text'])\n",
        "        output = model(**encoded_dict, labels=batch['label_evidence'].long().to(device))\n",
        "        loss = output.loss\n",
        "        logits = output.logits\n",
        "        loss.backward()\n",
        "        if (i + 1) % (args['batch_size_accumulated'] // args['batch_size']) == 0:\n",
        "            optimizer.step()\n",
        "            optimizer.zero_grad()\n",
        "            t.set_description(f'Epoch {e}, iter {i}, loss: {round(loss.item(), 4)}')\n",
        "      scheduler.step()\n",
        "# Eval\n",
        "train_score = evaluate(model, train_dataset)\n",
        "print('Train score:')\n",
        "print(train_score)\n",
        "dev_score = evaluate(model, Val_dataset)\n",
        "print('Dev score:')\n",
        "print(dev_score)\n",
        "test_score = evaluate(model, test_dataset)\n",
        "print('Test score:')\n",
        "print(test_score)\n",
        "\n",
        "# Save the model\n",
        "save_path = os.path.join(\"/content/drive/MyDrive/MOdels\", f'withHtagsBART')\n",
        "os.makedirs(save_path)\n",
        "tokenizer.save_pretrained(save_path)\n",
        "model.save_pretrained(save_path)"
      ],
      "metadata": {
        "colab": {
          "base_uri": "https://localhost:8080/"
        },
        "id": "w9buvJSUT2Hr",
        "outputId": "f69d0040-1a7f-40a0-ad9d-9e265116eaee"
      },
      "execution_count": null,
      "outputs": [
        {
          "output_type": "stream",
          "name": "stderr",
          "text": [
            "Epoch 0, iter 63, loss: 0.7096: 100%|██████████| 122/122 [00:50<00:00,  2.42it/s]\n",
            "Epoch 1, iter 63, loss: 0.7847: 100%|██████████| 122/122 [00:50<00:00,  2.44it/s]\n",
            "Epoch 2, iter 63, loss: 0.8299: 100%|██████████| 122/122 [00:50<00:00,  2.41it/s]\n",
            "Epoch 3, iter 63, loss: 0.8891: 100%|██████████| 122/122 [00:50<00:00,  2.44it/s]\n",
            "Epoch 4, iter 63, loss: 0.9215: 100%|██████████| 122/122 [00:50<00:00,  2.43it/s]\n",
            "Epoch 5, iter 63, loss: 0.9159: 100%|██████████| 122/122 [00:50<00:00,  2.42it/s]\n",
            "Epoch 6, iter 63, loss: 0.9302: 100%|██████████| 122/122 [00:50<00:00,  2.43it/s]\n",
            "Epoch 7, iter 63, loss: 0.8969: 100%|██████████| 122/122 [00:50<00:00,  2.44it/s]\n",
            "Epoch 8, iter 63, loss: 0.7307: 100%|██████████| 122/122 [00:50<00:00,  2.44it/s]\n",
            "Epoch 9, iter 63, loss: 0.7666: 100%|██████████| 122/122 [00:50<00:00,  2.43it/s]\n"
          ]
        },
        {
          "output_type": "stream",
          "name": "stdout",
          "text": [
            "Train score:\n",
            "{'macro_f1': 0.5732466306120697, 'f1': 0.7677053824362606, 'precision': 0.7020725388601037, 'recall': 0.846875, 'accuracy': 0.6618556701030928}\n",
            "Dev score:\n",
            "{'macro_f1': 0.5070181077895638, 'f1': 0.718954248366013, 'precision': 0.6395348837209303, 'recall': 0.8208955223880597, 'accuracy': 0.5981308411214953}\n",
            "Test score:\n",
            "{'macro_f1': 0.5799902152641879, 'f1': 0.767123287671233, 'precision': 0.7272727272727273, 'recall': 0.8115942028985508, 'accuracy': 0.6633663366336634}\n"
          ]
        }
      ]
    },
    {
      "cell_type": "markdown",
      "source": [
        "# Problem Statement"
      ],
      "metadata": {
        "id": "WyDiXJcD8ItU"
      }
    },
    {
      "cell_type": "markdown",
      "source": [
        "Our Problem is the classification problem. We are given the claim and the evidence and we have to check if the given evidence supports or contradicts our claim. The output of the model is either SUPPORTS or REFUTES. That means our evidence will either support the claim or it will contradict the claim. Below is the given example of our dataset."
      ],
      "metadata": {
        "id": "HZNXPuM98N9T"
      }
    },
    {
      "cell_type": "code",
      "source": [
        "train_set.iloc[10]"
      ],
      "metadata": {
        "id": "2-4gRjzVVAVB"
      },
      "execution_count": null,
      "outputs": []
    },
    {
      "cell_type": "code",
      "source": [
        "train_set.iloc[10].claim"
      ],
      "metadata": {
        "id": "0FJ1zicW8M59",
        "outputId": "b93e2841-8fd3-4938-8365-7d70b817b189",
        "colab": {
          "base_uri": "https://localhost:8080/",
          "height": 36
        }
      },
      "execution_count": null,
      "outputs": [
        {
          "output_type": "execute_result",
          "data": {
            "text/plain": [
              "'TNFAIP3 is a glioblastoma tumor suppressor.'"
            ],
            "application/vnd.google.colaboratory.intrinsic+json": {
              "type": "string"
            }
          },
          "metadata": {},
          "execution_count": 124
        }
      ]
    },
    {
      "cell_type": "markdown",
      "source": [
        "The above cell shows one of the claims that we have to verify."
      ],
      "metadata": {
        "id": "Hv10dK31UE_p"
      }
    },
    {
      "cell_type": "code",
      "source": [
        "train_set.iloc[10].evidence_text"
      ],
      "metadata": {
        "id": "dyNsGrgq8sF4",
        "outputId": "51fa4822-13b9-4d8f-e99f-2dfce2acb529",
        "colab": {
          "base_uri": "https://localhost:8080/",
          "height": 145
        }
      },
      "execution_count": null,
      "outputs": [
        {
          "output_type": "execute_result",
          "data": {
            "text/plain": [
              "'Glioblastomas are deadly cancers that display a functional cellular hierarchy maintained by self-renewing glioblastoma stem cells (GSCs). GSCs are regulated by molecular pathways distinct from the bulk tumor that may be useful therapeutic targets. We determined that A20 (TNFAIP3), a regulator of cell survival and the NF-kappaB pathway, is overexpressed in GSCs relative to non-stem glioblastoma cells at both the mRNA and protein levels. To determine the functional significance of A20 in GSCs, we targeted A20 expression with lentiviral-mediated delivery of short hairpin RNA (shRNA). Inhibiting A20 expression decreased GSC growth and survival through mechanisms associated with decreased cell-cycle progression and decreased phosphorylation of p65/RelA. Elevated levels of A20 in GSCs contributed to apoptotic resistance: GSCs were less susceptible to TNFalpha-induced cell death than matched non-stem glioma cells, but A20 knockdown sensitized GSCs to TNFalpha-mediated apoptosis. The decreased survival of GSCs upon A20 knockdown contributed to the reduced ability of these cells to self-renew in primary and secondary neurosphere formation assays. The tumorigenic potential of GSCs was decreased with A20 targeting, resulting in increased survival of mice bearing human glioma xenografts. In silico analysis of a glioma patient genomic database indicates that A20 overexpression and amplification is inversely correlated with survival. Together these data indicate that A20 contributes to glioma maintenance through effects on the glioma stem cell subpopulation. Although inactivating mutations in A20 in lymphoma suggest A20 can act as a tumor suppressor, similar point mutations have not been identified through glioma genomic sequencing: in fact, our data suggest A20 may function as a tumor enhancer in glioma through promotion of GSC survival. A20 anticancer therapies should therefore be viewed with caution as effects will likely differ depending on the tumor type.'"
            ],
            "application/vnd.google.colaboratory.intrinsic+json": {
              "type": "string"
            }
          },
          "metadata": {},
          "execution_count": 125
        }
      ]
    },
    {
      "cell_type": "markdown",
      "source": [
        "The above cell contains the evidence of the claim and this evidence will either contradict or support the above mentioned claim."
      ],
      "metadata": {
        "id": "zmyGRshCUKIU"
      }
    },
    {
      "cell_type": "code",
      "source": [
        "train_set.iloc[10].evidence"
      ],
      "metadata": {
        "id": "Zuiqrq758uo5",
        "outputId": "08ff4ba2-ee4a-4b76-8e07-58dd29ecd46a",
        "colab": {
          "base_uri": "https://localhost:8080/"
        }
      },
      "execution_count": null,
      "outputs": [
        {
          "output_type": "execute_result",
          "data": {
            "text/plain": [
              "{'33370': [{'sentences': [4], 'label': 'CONTRADICT'},\n",
              "  {'sentences': [9], 'label': 'CONTRADICT'}]}"
            ]
          },
          "metadata": {},
          "execution_count": 126
        }
      ]
    },
    {
      "cell_type": "markdown",
      "source": [
        "The above column of evidence contains the sentence numbers of evidence_text that actually contradicts the claim. These sentences are tagged by \\<hl\\> tags for the models which contains tags."
      ],
      "metadata": {
        "id": "E4mnkGF3klLM"
      }
    },
    {
      "cell_type": "markdown",
      "source": [
        "train_set.iloc[10].label"
      ],
      "metadata": {
        "id": "VF0xIeNXlEF5"
      }
    },
    {
      "cell_type": "markdown",
      "source": [
        "The label column in our dataset tells us if the claim is supported or refuted/contradicted by the evidence. We see above that the label column tells that the evidence CONTRADICT the claim."
      ],
      "metadata": {
        "id": "pXdp9IRVUaMg"
      }
    },
    {
      "cell_type": "markdown",
      "source": [
        "The above four cells define our problem statement and the dataset.\n",
        "\n",
        "Our task is to create the classification model for the above problem and then add the \\<hl\\> tags to the sentences that actually supports/contradicts the claim (in the evidence) and finally see the difference between the models. We want to check if our model has actually learned something when we add the \\<hl\\> tags while training or not. Below are the results of all the models for their respective test and validation set."
      ],
      "metadata": {
        "id": "RSHbG2Zd8x29"
      }
    },
    {
      "cell_type": "markdown",
      "source": [
        "# Results"
      ],
      "metadata": {
        "id": "wP1V_Mk_A5_T"
      }
    },
    {
      "cell_type": "markdown",
      "source": [
        "In total, I have trained 8 models on our dataset. 4 models for the train dataset that do not contain the \\<hl\\> tags and 4 models for the train dataset that contains the \\<hl\\> tags.\n",
        "\n",
        "Following are the results of all the models of their respective test set scores and validation set scores. \n",
        "\n",
        "There are 3 columns for each dataset score. \n",
        "  \n",
        "1. **The first column contains the results of test/validation score when the model  was trained without \\<hl\\> tags.**\n",
        "\n",
        "2. **The second column shows the results when the model was trained with \\<hl\\> tags but no tags were present in the test set and the validation set during model evaluation.**\n",
        "\n",
        "\n",
        "3. **The third column shows the scores of a model that was trained with the \\<hl\\> tags and  these tags were also present in the validation and test sets during model evaluation.**\n",
        "\n"
      ],
      "metadata": {
        "id": "tVqmFd5zEpHs"
      }
    },
    {
      "cell_type": "markdown",
      "source": [
        "![fact1.jpg](data:image/jpeg;base64,/9j/4AAQSkZJRgABAQEAYABgAAD/4RDaRXhpZgAATU0AKgAAAAgABAE7AAIAAAAFAAAISodpAAQAAAABAAAIUJydAAEAAAAKAAAQyOocAAcAAAgMAAAAPgAAAAAc6gAAAAgAAAAAAAAAAAAAAAAAAAAAAAAAAAAAAAAAAAAAAAAAAAAAAAAAAAAAAAAAAAAAAAAAAAAAAAAAAAAAAAAAAAAAAAAAAAAAAAAAAAAAAAAAAAAAAAAAAAAAAAAAAAAAAAAAAAAAAAAAAAAAAAAAAAAAAAAAAAAAAAAAAAAAAAAAAAAAAAAAAAAAAAAAAAAAAAAAAAAAAAAAAAAAAAAAAAAAAAAAAAAAAAAAAAAAAAAAAAAAAAAAAAAAAAAAAAAAAAAAAAAAAAAAAAAAAAAAAAAAAAAAAAAAAAAAAAAAAAAAAAAAAAAAAAAAAAAAAAAAAAAAAAAAAAAAAAAAAAAAAAAAAAAAAAAAAAAAAAAAAAAAAAAAAAAAAAAAAAAAAAAAAAAAAAAAAAAAAAAAAAAAAAAAAAAAAAAAAAAAAAAAAAAAAAAAAAAAAAAAAAAAAAAAAAAAAAAAAAAAAAAAAAAAAAAAAAAAAAAAAAAAAAAAAAAAAAAAAAAAAAAAAAAAAAAAAAAAAAAAAAAAAAAAAAAAAAAAAAAAAAAAAAAAAAAAAAAAAAAAAAAAAAAAAAAAAAAAAAAAAAAAAAAAAAAAAAAAAAAAAAAAAAAAAAAAAAAAAAAAAAAAAAAAAAAAAAAAAAAAAAAAAAAAAAAAAAAAAAAAAAAAAAAAAAAAAAAAAAAAAAAAAAAAAAAAAAAAAAAAAAAAAAAAAAAAAAAAAAAAAAAAAAAAAAAAAAAAAAAAAAAAAAAAAAAAAAAAAAAAAAAAAAAAAAAAAAAAAAAAAAAAAAAAAAAAAAAAAAAAAAAAAAAAAAAAAAAAAAAAAAAAAAAAAAAAAAAAAAAAAAAAAAAAAAAAAAAAAAAAAAAAAAAAAAAAAAAAAAAAAAAAAAAAAAAAAAAAAAAAAAAAAAAAAAAAAAAAAAAAAAAAAAAAAAAAAAAAAAAAAAAAAAAAAAAAAAAAAAAAAAAAAAAAAAAAAAAAAAAAAAAAAAAAAAAAAAAAAAAAAAAAAAAAAAAAAAAAAAAAAAAAAAAAAAAAAAAAAAAAAAAAAAAAAAAAAAAAAAAAAAAAAAAAAAAAAAAAAAAAAAAAAAAAAAAAAAAAAAAAAAAAAAAAAAAAAAAAAAAAAAAAAAAAAAAAAAAAAAAAAAAAAAAAAAAAAAAAAAAAAAAAAAAAAAAAAAAAAAAAAAAAAAAAAAAAAAAAAAAAAAAAAAAAAAAAAAAAAAAAAAAAAAAAAAAAAAAAAAAAAAAAAAAAAAAAAAAAAAAAAAAAAAAAAAAAAAAAAAAAAAAAAAAAAAAAAAAAAAAAAAAAAAAAAAAAAAAAAAAAAAAAAAAAAAAAAAAAAAAAAAAAAAAAAAAAAAAAAAAAAAAAAAAAAAAAAAAAAAAAAAAAAAAAAAAAAAAAAAAAAAAAAAAAAAAAAAAAAAAAAAAAAAAAAAAAAAAAAAAAAAAAAAAAAAAAAAAAAAAAAAAAAAAAAAAAAAAAAAAAAAAAAAAAAAAAAAAAAAAAAAAAAAAAAAAAAAAAAAAAAAAAAAAAAAAAAAAAAAAAAAAAAAAAAAAAAAAAAAAAAAAAAAAAAAAAAAAAAAAAAAAAAAAAAAAAAAAAAAAAAAAAAAAAAAAAAAAAAAAAAAAAAAAAAAAAAAAAAAAAAAAAAAAAAAAAAAAAAAAAAAAAAAAAAAAAAAAAAAAAAAAAAAAAAAAAAAAAAAAAAAAAAAAAAAAAAAAAAAAAAAAAAAAAAAAAAAAAAAAAAAAAAAAAAAAAAAAAAAAAAAAAAAAAAAAAAAAAAAAAAAAAAAAAAAAAAAAAAAAAAAAAAAAAAAAAAAAAAAAAAAAAAAAAAAAAAAAAAAAAAAAAAAAAAAAAAAAAAAAAAAAAAAAAAAAAAAAAAAAAAAAAAAAAAAAAAAAAAAAAAAAAAAAAAAAAAAAAAAAAAAAAAAAAAAAAAAAAAAAAAAAAAAAAAAAAAAAAAAAAAAAAAAAAAAAAAAAAAAAAAAAAAAAAAAAAAAAAAAAAAAAAAAAAAAAAAAAAAAAAAAAAAAAAAAAAAAAAAAAAAAAAAAAAAAAAAAAAAAAAAAAAAAAAAAAAAAAAAAAAAAAAAAAAAAAAAAAAAAAAAAAAAAAAAAAAAAAAAAAAAAAAAAAAAAAAAAAAAAAAAAAAAAAAAAAAAAAAAAAAAAAAAAAAAAAAAAAAAAAAAAAAAAAAAAAAAAAAAAAAAAAAAAAAAAAAAAAAAAAAAAAAAAAAAAAAAAAAAAAAAAAAAAAAAAAAAAAAAAAAAAAAAAAAAAAAAAAAAAAAAAAAAAAAAAAAAAAAAAAAAAAAAAAAAAAAAAAAAAAAAAAAAAAAAAAAAAAAAAAAAAAAAAAAAAAAAAAAAAAAAAAAAAAAAAAAAAAAAAAAAAAAAAAAAAAAAAAAAAAAAAAAAAAAAAAAAAAAAAAAAAAAAAAAAAAAAAAAAAAAAAAAAAAAAAAAAAAAAAAAAAAAAAAAAAAAAAAAAAAAAAAAAAAAAAAAAAAAAAAAAAAAAAAAAAAAAAAAAAAAAAAAAAAAAAAAAAAAAAAAAAAAAAAAAAAAAAAAAAAAAAAAAAAAAAAAAAAAAAAAAAAAAAAAAAAAAAAAAAAAAAAAAAAAAAAAAAAAAAAAAAAAAAAAAAAAAAAAAAAAAAAAAAAAAAAAAAAAAAAAAAAAAAAAAAAAAAAAAAAAAAAAAAAAAAAAAAAAAAAAAAAAAAAAAAAAAAAAAAAAAAAAAAAAAAAAAAAAAAAAAEVuYWIAAAAFkAMAAgAAABQAABCekAQAAgAAABQAABCykpEAAgAAAAM0MQAAkpIAAgAAAAM0MQAA6hwABwAACAwAAAiSAAAAABzqAAAACAAAAAAAAAAAAAAAAAAAAAAAAAAAAAAAAAAAAAAAAAAAAAAAAAAAAAAAAAAAAAAAAAAAAAAAAAAAAAAAAAAAAAAAAAAAAAAAAAAAAAAAAAAAAAAAAAAAAAAAAAAAAAAAAAAAAAAAAAAAAAAAAAAAAAAAAAAAAAAAAAAAAAAAAAAAAAAAAAAAAAAAAAAAAAAAAAAAAAAAAAAAAAAAAAAAAAAAAAAAAAAAAAAAAAAAAAAAAAAAAAAAAAAAAAAAAAAAAAAAAAAAAAAAAAAAAAAAAAAAAAAAAAAAAAAAAAAAAAAAAAAAAAAAAAAAAAAAAAAAAAAAAAAAAAAAAAAAAAAAAAAAAAAAAAAAAAAAAAAAAAAAAAAAAAAAAAAAAAAAAAAAAAAAAAAAAAAAAAAAAAAAAAAAAAAAAAAAAAAAAAAAAAAAAAAAAAAAAAAAAAAAAAAAAAAAAAAAAAAAAAAAAAAAAAAAAAAAAAAAAAAAAAAAAAAAAAAAAAAAAAAAAAAAAAAAAAAAAAAAAAAAAAAAAAAAAAAAAAAAAAAAAAAAAAAAAAAAAAAAAAAAAAAAAAAAAAAAAAAAAAAAAAAAAAAAAAAAAAAAAAAAAAAAAAAAAAAAAAAAAAAAAAAAAAAAAAAAAAAAAAAAAAAAAAAAAAAAAAAAAAAAAAAAAAAAAAAAAAAAAAAAAAAAAAAAAAAAAAAAAAAAAAAAAAAAAAAAAAAAAAAAAAAAAAAAAAAAAAAAAAAAAAAAAAAAAAAAAAAAAAAAAAAAAAAAAAAAAAAAAAAAAAAAAAAAAAAAAAAAAAAAAAAAAAAAAAAAAAAAAAAAAAAAAAAAAAAAAAAAAAAAAAAAAAAAAAAAAAAAAAAAAAAAAAAAAAAAAAAAAAAAAAAAAAAAAAAAAAAAAAAAAAAAAAAAAAAAAAAAAAAAAAAAAAAAAAAAAAAAAAAAAAAAAAAAAAAAAAAAAAAAAAAAAAAAAAAAAAAAAAAAAAAAAAAAAAAAAAAAAAAAAAAAAAAAAAAAAAAAAAAAAAAAAAAAAAAAAAAAAAAAAAAAAAAAAAAAAAAAAAAAAAAAAAAAAAAAAAAAAAAAAAAAAAAAAAAAAAAAAAAAAAAAAAAAAAAAAAAAAAAAAAAAAAAAAAAAAAAAAAAAAAAAAAAAAAAAAAAAAAAAAAAAAAAAAAAAAAAAAAAAAAAAAAAAAAAAAAAAAAAAAAAAAAAAAAAAAAAAAAAAAAAAAAAAAAAAAAAAAAAAAAAAAAAAAAAAAAAAAAAAAAAAAAAAAAAAAAAAAAAAAAAAAAAAAAAAAAAAAAAAAAAAAAAAAAAAAAAAAAAAAAAAAAAAAAAAAAAAAAAAAAAAAAAAAAAAAAAAAAAAAAAAAAAAAAAAAAAAAAAAAAAAAAAAAAAAAAAAAAAAAAAAAAAAAAAAAAAAAAAAAAAAAAAAAAAAAAAAAAAAAAAAAAAAAAAAAAAAAAAAAAAAAAAAAAAAAAAAAAAAAAAAAAAAAAAAAAAAAAAAAAAAAAAAAAAAAAAAAAAAAAAAAAAAAAAAAAAAAAAAAAAAAAAAAAAAAAAAAAAAAAAAAAAAAAAAAAAAAAAAAAAAAAAAAAAAAAAAAAAAAAAAAAAAAAAAAAAAAAAAAAAAAAAAAAAAAAAAAAAAAAAAAAAAAAAAAAAAAAAAAAAAAAAAAAAAAAAAAAAAAAAAAAAAAAAAAAAAAAAAAAAAAAAAAAAAAAAAAAAAAAAAAAAAAAAAAAAAAAAAAAAAAAAAAAAAAAAAAAAAAAAAAAAAAAAAAAAAAAAAAAAAAAAAAAAAAAAAAAAAAAAAAAAAAAAAAAAAAAAAAAAAAAAAAAAAAAAAAAAAAAAAAAAAAAAAAAAAAAAAAAAAAAAAAAAAAAAAAAAAAAAAAAAAAAAAAAAAAAAAAAAAAAAAAAAAAAAAAAAAAAAAAAAAAAAAAAAAAAAAAAAAAAAAAAAAAAAAAAAAAAAAAAAAAAAAAAAAAAAAAAAAAAAAAAAAAAAAAAAAAAAAAAAAAAAAAAAAAAAAAAAAAAAAAAAAAAAAAAAAAAAAAAAAAAAAAAAAAAAAAAAAAAAAAAAAAAAAAAAAAAAAAAAAAAAAAAAAAAAAAAAAAAAAAAAAAAAAAAAAAAAAAAAAAAAAAAAAAAAAAAAAAAAAAAAAAAAAAAAAAAAAAAAAAAAAAAAAAAAAAAAAAAAAAAAAAAAAAAAAAAAAAAAAAAAAAAAAAAAAAAAAAAAAAAAAAAAAAAAAAAAAAAAAAAAAAAAAAAAAAAAAAAAAAAAAAAAAAAAAAAAAAAAAAAAAAAAAAAAAAAAAAAAAAAAAAAAAAAAAAAAAAAAAAAAAAAAAAAAAAAAAAAAAAAAAAAAAAAAAAAAAAAAAAAAAAAAAAAAAAAAAAAAAAAAAAAAAAAAAAAAAAAAAAAAAAAAAAAAAAAAAAAAAAAAAAAAAAAAAAAAAAAAAAAAAAAAAAAAAAAAAAAAAAAAAAAAAAAAAAAAAAAAAAAAAAAAAAAAAAAAAAAAAAAAAAAAAAAAAAAAAAAAAAAAAAAAAAAAAAAAAAAAAAAAAAAAAAAAAAAAAAAAAAAAAAAAAAAAAAAAAAAAAAAAAAAAAAAAAAAAAAAAAAAAAAAAAAAAAAAAAAAAAAAAAAAAAAAAAAAAAAAAAAAAAAAAAAAAAAAAAAAAAAAAAAAAAAAAAAAAAAAAAAAAAAAAAAAAAAAAAAAAAAAAAAAAAAAAAAAAAAAAAAAAAAAAAMjAyMzowMjoxNCAxNTo1MjowMAAyMDIzOjAyOjE0IDE1OjUyOjAwAAAARQBuAGEAYgAAAP/hCxdodHRwOi8vbnMuYWRvYmUuY29tL3hhcC8xLjAvADw/eHBhY2tldCBiZWdpbj0n77u/JyBpZD0nVzVNME1wQ2VoaUh6cmVTek5UY3prYzlkJz8+DQo8eDp4bXBtZXRhIHhtbG5zOng9ImFkb2JlOm5zOm1ldGEvIj48cmRmOlJERiB4bWxuczpyZGY9Imh0dHA6Ly93d3cudzMub3JnLzE5OTkvMDIvMjItcmRmLXN5bnRheC1ucyMiPjxyZGY6RGVzY3JpcHRpb24gcmRmOmFib3V0PSJ1dWlkOmZhZjViZGQ1LWJhM2QtMTFkYS1hZDMxLWQzM2Q3NTE4MmYxYiIgeG1sbnM6ZGM9Imh0dHA6Ly9wdXJsLm9yZy9kYy9lbGVtZW50cy8xLjEvIi8+PHJkZjpEZXNjcmlwdGlvbiByZGY6YWJvdXQ9InV1aWQ6ZmFmNWJkZDUtYmEzZC0xMWRhLWFkMzEtZDMzZDc1MTgyZjFiIiB4bWxuczp4bXA9Imh0dHA6Ly9ucy5hZG9iZS5jb20veGFwLzEuMC8iPjx4bXA6Q3JlYXRlRGF0ZT4yMDIzLTAyLTE0VDE1OjUyOjAwLjQxMDwveG1wOkNyZWF0ZURhdGU+PC9yZGY6RGVzY3JpcHRpb24+PHJkZjpEZXNjcmlwdGlvbiByZGY6YWJvdXQ9InV1aWQ6ZmFmNWJkZDUtYmEzZC0xMWRhLWFkMzEtZDMzZDc1MTgyZjFiIiB4bWxuczpkYz0iaHR0cDovL3B1cmwub3JnL2RjL2VsZW1lbnRzLzEuMS8iPjxkYzpjcmVhdG9yPjxyZGY6U2VxIHhtbG5zOnJkZj0iaHR0cDovL3d3dy53My5vcmcvMTk5OS8wMi8yMi1yZGYtc3ludGF4LW5zIyI+PHJkZjpsaT5FbmFiPC9yZGY6bGk+PC9yZGY6U2VxPg0KCQkJPC9kYzpjcmVhdG9yPjwvcmRmOkRlc2NyaXB0aW9uPjwvcmRmOlJERj48L3g6eG1wbWV0YT4NCiAgICAgICAgICAgICAgICAgICAgICAgICAgICAgICAgICAgICAgICAgICAgICAgICAgICAgICAgICAgICAgICAgICAgICAgICAgICAgICAgICAgICAgICAgICAgICAgICAgICAKICAgICAgICAgICAgICAgICAgICAgICAgICAgICAgICAgICAgICAgICAgICAgICAgICAgICAgICAgICAgICAgICAgICAgICAgICAgICAgICAgICAgICAgICAgICAgICAgICAgIAogICAgICAgICAgICAgICAgICAgICAgICAgICAgICAgICAgICAgICAgICAgICAgICAgICAgICAgICAgICAgICAgICAgICAgICAgICAgICAgICAgICAgICAgICAgICAgICAgICAgCiAgICAgICAgICAgICAgICAgICAgICAgICAgICAgICAgICAgICAgICAgICAgICAgICAgICAgICAgICAgICAgICAgICAgICAgICAgICAgICAgICAgICAgICAgICAgICAgICAgICAKICAgICAgICAgICAgICAgICAgICAgICAgICAgICAgICAgICAgICAgICAgICAgICAgICAgICAgICAgICAgICAgICAgICAgICAgICAgICAgICAgICAgICAgICAgICAgICAgICAgIAogICAgICAgICAgICAgICAgICAgICAgICAgICAgICAgICAgICAgICAgICAgICAgICAgICAgICAgICAgICAgICAgICAgICAgICAgICAgICAgICAgICAgICAgICAgICAgICAgICAgCiAgICAgICAgICAgICAgICAgICAgICAgICAgICAgICAgICAgICAgICAgICAgICAgICAgICAgICAgICAgICAgICAgICAgICAgICAgICAgICAgICAgICAgICAgICAgICAgICAgICAKICAgICAgICAgICAgICAgICAgICAgICAgICAgICAgICAgICAgICAgICAgICAgICAgICAgICAgICAgICAgICAgICAgICAgICAgICAgICAgICAgICAgICAgICAgICAgICAgICAgIAogICAgICAgICAgICAgICAgICAgICAgICAgICAgICAgICAgICAgICAgICAgICAgICAgICAgICAgICAgICAgICAgICAgICAgICAgICAgICAgICAgICAgICAgICAgICAgICAgICAgCiAgICAgICAgICAgICAgICAgICAgICAgICAgICAgICAgICAgICAgICAgICAgICAgICAgICAgICAgICAgICAgICAgICAgICAgICAgICAgICAgICAgICAgICAgICAgICAgICAgICAKICAgICAgICAgICAgICAgICAgICAgICAgICAgICAgICAgICAgICAgICAgICAgICAgICAgICAgICAgICAgICAgICAgICAgICAgICAgICAgICAgICAgICAgICAgICAgICAgICAgIAogICAgICAgICAgICAgICAgICAgICAgICAgICAgICAgICAgICAgICAgICAgICAgICAgICAgICAgICAgICAgICAgICAgICAgICAgICAgICAgICAgICAgICAgICAgICAgICAgICAgCiAgICAgICAgICAgICAgICAgICAgICAgICAgICAgICAgICAgICAgICAgICAgICAgICAgICAgICAgICAgICAgICAgICAgICAgICAgICAgICAgICAgICAgICAgICAgICAgICAgICAKICAgICAgICAgICAgICAgICAgICAgICAgICAgICAgICAgICAgICAgICAgICAgICAgICAgICAgICAgICAgICAgICAgICAgICAgICAgICAgICAgICAgICAgICAgICAgICAgICAgIAogICAgICAgICAgICAgICAgICAgICAgICAgICAgICAgICAgICAgICAgICAgICAgICAgICAgICAgICAgICAgICAgICAgICAgICAgICAgICAgICAgICAgICAgICAgICAgICAgICAgCiAgICAgICAgICAgICAgICAgICAgICAgICAgICAgICAgICAgICAgICAgICAgICAgICAgICAgICAgICAgICAgICAgICAgICAgICAgICAgICAgICAgICAgICAgICAgICAgICAgICAKICAgICAgICAgICAgICAgICAgICAgICAgICAgICAgICAgICAgICAgICAgICAgICAgICAgICAgICAgICAgICAgICAgICAgICAgICAgICAgICAgICAgICAgICAgICAgICAgICAgIAogICAgICAgICAgICAgICAgICAgICAgICAgICAgICAgICAgICAgICAgICAgICAgICAgICAgICAgICAgICAgICAgICAgICAgICAgICAgICAgICAgICAgICAgICAgICAgICAgICAgCiAgICAgICAgICAgICAgICAgICAgICAgICAgICAgICAgICAgICAgICAgICAgICAgICAgICAgICAgICAgICAgICAgICAgICAgICAgICAgICAgICAgICAgICAgICAgICAgICAgICAKICAgICAgICAgICAgICAgICAgICAgICAgICAgICAgICAgICAgICAgICAgICAgICAgICAgICAgICAgICAgICAgICAgICAgICAgICAgICAgICAgICAgICAgICAgICAgICAgICAgIAogICAgICAgICAgICAgICAgICAgICAgICAgICAgPD94cGFja2V0IGVuZD0ndyc/Pv/bAEMABwUFBgUEBwYFBggHBwgKEQsKCQkKFQ8QDBEYFRoZGBUYFxseJyEbHSUdFxgiLiIlKCkrLCsaIC8zLyoyJyorKv/bAEMBBwgICgkKFAsLFCocGBwqKioqKioqKioqKioqKioqKioqKioqKioqKioqKioqKioqKioqKioqKioqKioqKioqKv/AABEIAhsC4AMBIgACEQEDEQH/xAAfAAABBQEBAQEBAQAAAAAAAAAAAQIDBAUGBwgJCgv/xAC1EAACAQMDAgQDBQUEBAAAAX0BAgMABBEFEiExQQYTUWEHInEUMoGRoQgjQrHBFVLR8CQzYnKCCQoWFxgZGiUmJygpKjQ1Njc4OTpDREVGR0hJSlNUVVZXWFlaY2RlZmdoaWpzdHV2d3h5eoOEhYaHiImKkpOUlZaXmJmaoqOkpaanqKmqsrO0tba3uLm6wsPExcbHyMnK0tPU1dbX2Nna4eLj5OXm5+jp6vHy8/T19vf4+fr/xAAfAQADAQEBAQEBAQEBAAAAAAAAAQIDBAUGBwgJCgv/xAC1EQACAQIEBAMEBwUEBAABAncAAQIDEQQFITEGEkFRB2FxEyIygQgUQpGhscEJIzNS8BVictEKFiQ04SXxFxgZGiYnKCkqNTY3ODk6Q0RFRkdISUpTVFVWV1hZWmNkZWZnaGlqc3R1dnd4eXqCg4SFhoeIiYqSk5SVlpeYmZqio6Slpqeoqaqys7S1tre4ubrCw8TFxsfIycrS09TV1tfY2dri4+Tl5ufo6ery8/T19vf4+fr/2gAMAwEAAhEDEQA/APoq1+6/++f5Cp64IeHND8QfFHWv7e0bT9T8jSNP8r7bapN5e6a8zt3A4zgZx6Ctn/hXHgj/AKE3w/8A+CuD/wCJoA6Siub/AOFceCP+hN8P/wDgrg/+Jo/4Vx4I/wChN8P/APgrg/8AiaAOkorm/wDhXHgj/oTfD/8A4K4P/iaP+FceCP8AoTfD/wD4K4P/AImgDpKK5v8A4Vx4I/6E3w//AOCuD/4mj/hXHgj/AKE3w/8A+CuD/wCJoA6Siub/AOFceCP+hN8P/wDgrg/+Jo/4Vx4I/wChN8P/APgrg/8AiaAOkorzu88A+D1+JOjWq+E9DFvJpN/I8Q02HYzLNZhWI24JAdgD23H1NdB/wrjwR/0Jvh//AMFcH/xNAHSUVzf/AArjwR/0Jvh//wAFcH/xNH/CuPBH/Qm+H/8AwVwf/E0AdJRXN/8ACuPBH/Qm+H//AAVwf/E0f8K48Ef9Cb4f/wDBXB/8TQB0lFc3/wAK48Ef9Cb4f/8ABXB/8TR/wrjwR/0Jvh//AMFcH/xNAHSUVzf/AArjwR/0Jvh//wAFcH/xNH/CuPBH/Qm+H/8AwVwf/E0AdJRXN/8ACuPBH/Qm+H//AAVwf/E0f8K48Ef9Cb4f/wDBXB/8TQB0lFc3/wAK48Ef9Cb4f/8ABXB/8TR/wrjwR/0Jvh//AMFcH/xNAHSUVzf/AArjwR/0Jvh//wAFcH/xNH/CuPBH/Qm+H/8AwVwf/E0AdJRXN/8ACuPBH/Qm+H//AAVwf/E0f8K48Ef9Cb4f/wDBXB/8TQB0lFc3/wAK48Ef9Cb4f/8ABXB/8TR/wrjwR/0Jvh//AMFcH/xNAHSUVzf/AArjwR/0Jvh//wAFcH/xNH/CuPBH/Qm+H/8AwVwf/E0AdJRXN/8ACuPBH/Qm+H//AAVwf/E0f8K48Ef9Cb4f/wDBXB/8TQB0lFc3/wAK48Ef9Cb4f/8ABXB/8TR/wrjwR/0Jvh//AMFcH/xNAHSUVzf/AArjwR/0Jvh//wAFcH/xNH/CuPBH/Qm+H/8AwVwf/E0AdJRXN/8ACuPBH/Qm+H//AAVwf/E0f8K48Ef9Cb4f/wDBXB/8TQB0lFc3/wAK48Ef9Cb4f/8ABXB/8TR/wrjwR/0Jvh//AMFcH/xNAHSUVzf/AArjwR/0Jvh//wAFcH/xNH/CuPBH/Qm+H/8AwVwf/E0AdJRXN/8ACuPBH/Qm+H//AAVwf/E0f8K48Ef9Cb4f/wDBXB/8TQB0lFc3/wAK48Ef9Cb4f/8ABXB/8TR/wrjwR/0Jvh//AMFcH/xNAHSUVzf/AArjwR/0Jvh//wAFcH/xNef/ABy8FeFdI+DGu32leGtHsbuL7P5dxbWEUciZuIwcMqgjIJH0NAHslFc3/wAK48Ef9Cb4f/8ABXB/8TR/wrjwR/0Jvh//AMFcH/xNAHSUVzf/AArjwR/0Jvh//wAFcH/xNH/CuPBH/Qm+H/8AwVwf/E0AdJRXN/8ACuPBH/Qm+H//AAVwf/E0f8K48Ef9Cb4f/wDBXB/8TQB0lFc3/wAK48Ef9Cb4f/8ABXB/8TR/wrjwR/0Jvh//AMFcH/xNAHSUVzf/AArjwR/0Jvh//wAFcH/xNH/CuPBH/Qm+H/8AwVwf/E0AdJRXN/8ACuPBH/Qm+H//AAVwf/E0f8K48Ef9Cb4f/wDBXB/8TQB0lFc3/wAK48Ef9Cb4f/8ABXB/8TR/wrjwR/0Jvh//AMFcH/xNAHSUVzf/AArjwR/0Jvh//wAFcH/xNH/CuPBH/Qm+H/8AwVwf/E0AdJRXN/8ACuPBH/Qm+H//AAVwf/E0f8K48Ef9Cb4f/wDBXB/8TQB0lFc3/wAK48Ef9Cb4f/8ABXB/8TR/wrjwR/0Jvh//AMFcH/xNAHSUVzf/AArjwR/0Jvh//wAFcH/xNH/CuPBH/Qm+H/8AwVwf/E0AdJRXN/8ACuPBH/Qm+H//AAVwf/E0f8K48Ef9Cb4f/wDBXB/8TQB0lFc3/wAK48Ef9Cb4f/8ABXB/8TR/wrjwR/0Jvh//AMFcH/xNAHSUVzf/AArjwR/0Jvh//wAFcH/xNH/CuPBH/Qm+H/8AwVwf/E0AdJRXN/8ACuPBH/Qm+H//AAVwf/E0f8K48Ef9Cb4f/wDBXB/8TQB0lFc3/wAK48Ef9Cb4f/8ABXB/8TR/wrjwR/0Jvh//AMFcH/xNAHSUVzf/AArjwR/0Jvh//wAFcH/xNH/CuPBH/Qm+H/8AwVwf/E0AdJRXN/8ACuPBH/Qm+H//AAVwf/E0f8K48Ef9Cb4f/wDBXB/8TQB0lFc3/wAK48Ef9Cb4f/8ABXB/8TR/wrjwR/0Jvh//AMFcH/xNAHSUVzf/AArjwR/0Jvh//wAFcH/xNH/CuPBH/Qm+H/8AwVwf/E0AdJRXN/8ACuPBH/Qm+H//AAVwf/E1R8OaLpWg/EnX7XQ9Ms9Nt30nTpGis7dYUZjNegsQoAzgAZ9hQBPo/wDyVHxB/wBgjTv/AEde11dcpo//ACVHxB/2CNO/9HXtdXQAUUUUAFFFFABRRRQAUUUUAc3ff8lT0L/sC6l/6Psa6Subvv8Akqehf9gXUv8A0fY10lABRRRQAUUUUAFFFFABRRRQAVS1q4ltNB1C5t22Sw20kiNgHDBSQcH3q7VbUbT+0NLurPf5f2iF4t+M7dykZx360AeTeHfGWsSnwhO3iHWLyXVZY0v4dW0lLW02tGSfKm8iLc24DaFd8+h6i94e8RX+r6pfrqPiXxPFJFq81tFBYaGstqI1kwoMwtHA46kycdyK2bHwDq40zRNI1nXrG60vR5IZY47XTHgllaIfJukadxjOCcKM47VZ0fwp4j8Py3kel6/pf2K6vpbwx3GkSPIvmNuK71uVH0O2gDj9Q8Z3I1jxlFdePzpF5pl2YtL0sCzzMPJRlGx4jLJl2I+VsnoOa3fE134kS18MXsWu6ho82rXVta3dlFBbMkJdCX2+ZCzBsjuSPar158M7XUbHxLb3l8zHW79b+CaOLa9jKsaKjKcnJBTOeOuK09Q8L3erafoMeo6osl1pV3FdS3CW20XLIpB+Xcdmc56nFAFSe71Q+MdO8M22r3GyLTZbq8vWSEzyEsEj48vYDks3CgfKOCCawvD2tahYX/i2/wDE3izUrjTPDl8YBG9tagSR+Sj5by4AxbLnG0jPAxXRXVhc23xUsNUjt3ltbzTZLOWVVJELq4dM4GACC4yccgDvUMnw9trrT/FtjfXryQeJrkzv5cYVrf8AdomASSGwUzkjHOMUAJN8TNKstJ1G81axv9Nm0+OKWWyuvJEpSU4jYFZDGAxBGS4xg7sVW1n4jXFl4bs9TsfDWpPJc6jFZeROYUIDkYdWEmyQMD8pVyuTyRg1Fp3wx+waHqdms+iQT3yRx5sfDtvDAVTnbJExcyhjndlxwfl2HmobP4ULYeHbmxs9RtrW5m1SLU4/s9kyWkEkZBCpbmUkKccgOOvGMAUAdV4tv9WsfBOp3ugWjTapFas9vAUDtvx02g4Yj0B5IrkvBvj/AE2bwnf69P4sn1u0gMYe3ubKOK8tZSApiZYwobc3C/L1z8xHTu7+1vbrSJLe11A2N6yALdxQqwR/XY+QRntnOO+ea4u5+Fiaz/btx4i1C3uL/WIYYXksrHyIlELbkLRs7l2LH5iWwVAGBjNAD9f+Jz6XozT2nh6/bUItRt7G4sLl4Vkg85htckSFGBB4w3XqVwSOi8WX+rWPgjUr7QLN5dUjtWe3tygkYPjptBwxHoDyRXND4Wp/wjdzYR3OlWV3Le297HLp2ix2sEbQurIDEr7nBIOd0hPPGK7S+tb660d7e31H7FfNGAt3DArBX9Qj7hjPYnOO+eaAOG8F+PNNn8Jan4gufF0+s2NoqtNFdWSRXdm+MNGyxKobLfd+Trn5m7bx8cwW+l3N3quiaxpjwvGkdvcwIz3LSYCLG0bsjEk4xuBB+9gc1lv8MxqT6/da/qUUuoa1bxW7z6dZ/ZkiERLI+1nkLPuOSS2MBRgY5vXfhHV9Z0eW21/xBFcXKTQz2clrp4hjtpIjuVijO7OSfvZcAjgBetAC3XxE07T9MvrnU9O1KzubCSFLiwkSNp1ErBY2Gx2RlJP8LHoR14o1H4h2emTSQ3OkamZra3F1fxoIWNjCWKiSTEmCDtY4Te2AeKpX/wAOptYttSm1bV4n1XUZLbzbm3sjHEkcD70RYzIx5+bJLnk/hSeK/hha+JPEcmsxvpy3FxbpbTnUNKjvtiqxIaHedsb4YjJDg8ZXigDT07Xbp/iJf6PPMJrKbT4b+xYKBtBJR1yByMhWBOT8x9q6iuQ03Srhvihe35tnhsNP0uGwtnMewSsWLvt4AIACDjjORxiuvoAKKKKACiiigAooooAKKKKACvNv2g/+SE+If+3b/wBKYq9Jrzb9oP8A5IT4h/7dv/SmKgD0miiigAooooAKKKKACiiigAooooA8Su/G+txaTr2or4j1pL6x1OaG2tv7IQ6dsSUKqy3H2fCrjhmMoI65FbuoeJr+b4g6np0/iDXrGzt7O1lgj0PSFvVLOrFizC2mIHAxkitBvh9ri6RrGi2/iOxj0vV7meaYHSWa4RZmy6rJ5+3OOASh+hq8ng3WNL8SXep+G9asLWK6tbe2Nvfaa9wVEKlVIZZ4+ue4oAxNb8SGz8c2ulan47m8PacdIS4Wa4FnBJcSmQglvPhIBx1UBcegqrf694nk+Cd94lXW7yyv9NjuXgnjt7fbfxo5EUrq8TYDKA3ybQc/SuvfwaNQ1ybUdeuLe+F1pP8AZt1bJalI5csWZgC7EA5xtycetUl8AXTfC2/8F3WutcxzQyW1teSW+XghJ+RWG/5yo4zlcgCgBmo6hqmi6f4f06PXLq8v9b1COIXV3FBujjCGSQARxqv3UYAkE/N16Vgz+OdatfBut2El60niW11v+yLeVYEDZlcGJ9mNpxG2emPlNdP4t0efzfC2oW0Ut02i6jG0iRIWYxvG0LNtGTxvDfQVFefDtLv4nW/ixtTdbaJVd9MEPySzojIkxfd1CuRjHYGgCSL4i6ZF4xtfCt5Bew31wzRQzTrEgnZVJLCMP5oU7Ww5jCEjg9M4PhPxnqN9NpH9satLme91VHQWkWySOCVgm5xgptUDoDu71b074XT6f4gsr0a5HJaWOqz6nHD9hxLI8yuGEku/58B8KQowBg54xY0r4ZR6fJp/n6n9ojtJtQkdPs+3zRdMWK53HG3OM859qAILb4gT634u8NLpttfWek6lFdS5uIIyLyNEBSRCpYgckgHax/u4qzbfFTTb241SzttL1Aahp9k96LOZoUklRexUSFom5B2yhGwenaotP+G15bTaQl34hM9po9tcWdpHHaeXJ5UiBFLyF2y6gfeAAP8AdHWovDnwuuNFmthd61b3Nra6TLpUUFvpwt/3bkHeT5jZfIYk4AORgLg5AG6L4+m1HUdCu9WkuNJgu9DuNQnsXt4niIRo/wB75quzDAY4XHIPOCMVt2fj+yuCBd6ZqenebaSXtp9rjj/0uFBlimx22nBB2vtbnpwcZVl8MWH9nJrGrR3kFlo8+j+XBaGEyRSFMMSZGwwCfQk5wOlWoPAd7K0B1rW47z7DYS2Nh5Nj5PlrIgQvJl23vtAHy7B145GAC54f8fWHiHUrSzisNQsmvrEX9m92karcRfKCQFdmBUsAQwHtkc1j/FHxZd+FZdIkmvr7SNDnkkS+1WxtEuGt2wPLDB0cBSScnaScACtPR/An9k6x4fvv7R87+xtIfTNnkbfO3GM787jt/wBX0569eK1Ne0zWb94jo2sW9nHseOe2vLAXUE6sOpAdHBH+/jBOVPUAGSPG0GmabpVuZJvFF/dWZuvN0iGNFlhQDdPh5AqjJA2hiSTwDg4SDx9/aHjTSNJ0rTJrvTdS006gmoo8YXYSADtLBsDPPBOSMDGTWLd/BqwOm6RDYTWDz6ZbS2wOq6Ul7AyyNvLCIsoVg3KkEgDIINdDb+Czp+vaLqOmXsEK6bYtYSwtZKBNESrfIIyixnK9lI56UAZvxR8UXnha10m4+03unaRLclNR1KxtUnktV2/IcOrAKW6naT2HJq5beMoLLRtGhS6k8WahqMLS27aXFFG1zGn3pcPIqLjKg/MOTwOw2tbsNYvPIbRNXhsWTcJYbqyFzDOpGPmUMjAjthwOuQa5fTfhgPD1tpMnhrUobPUtNW4QTTWfmQSLO++RfJV0KgMAVAb5QMc0AbFz43gja1hs9G1e+vLi2+1vZxQJHNbxZxukEroAc5G0Ek44BHNRf8LC0ye/0m00qzv9TfVrRry3NuiIBErKrF/MdNpG/JB54I64Bbc+EdVGowarpuvxpqv2L7FeXF3YCVbhN24MER49jAk45Ix1B603SPh9baLrWi3lpeyNBpOmTWAiljBabzHRzIWBAByp4C9+2KAJ9L8dafrWoQ2ltb31vFe+athfyogiuzH9/wAvDFhjkjeq5A4zT/AOuXWveFVl1Ji99a3E1ncuUC75IpChbA4GQAePWsfwz8MLLwprS39v/Zr29t5rQeXo8S3jbzn95cZLPgEgbQhPfNaXw30y707wkZNRjkhutQvLi+kikTY0fmyFlUr2IXaCKAOrooooAKKKKACiiigAooooAK5ux/5Knrv/AGBdN/8AR99XSVzdj/yVPXf+wLpv/o++oAxhql3pvxR1r7HoWoav5mkafu+xSW6+Via8xu86VOueMZ6HOOM7P/CUav8A9CJ4g/7/AOn/APyVUGj/APJUfEH/AGCNO/8AR17XV0Ac3/wlGr/9CJ4g/wC/+n//ACVR/wAJRq//AEIniD/v/p//AMlV0lFAHN/8JRq//QieIP8Av/p//wAlUf8ACUav/wBCJ4g/7/6f/wDJVdJRQBzf/CUav/0IniD/AL/6f/8AJVH/AAlGr/8AQieIP+/+n/8AyVXSUUAc3/wlGr/9CJ4g/wC/+n//ACVR/wAJRq//AEIniD/v/p//AMlV0lFAHnd54j1Q/EnRpT4L1xXXSb9RCZrHe4M1mSw/0nbgbQDkg/MMA846D/hKNX/6ETxB/wB/9P8A/kqi+/5KnoX/AGBdS/8AR9jW9cXtraPCl1cwwNcSCKFZJApkfGdq56ng8D0oAwf+Eo1f/oRPEH/f/T//AJKo/wCEo1f/AKETxB/3/wBP/wDkqtv+07H7RcwfbbfzrRA9xH5q7oVIyC4z8oIBOT6VWXxHob27TprOntCrRo0gukKhpMeWCc4y2Rgd8jFAGb/wlGr/APQieIP+/wDp/wD8lUf8JRq//QieIP8Av/p//wAlV0lFAHN/8JRq/wD0IniD/v8A6f8A/JVH/CUav/0IniD/AL/6f/8AJVdJRQBzf/CUav8A9CJ4g/7/AOn/APyVR/wlGr/9CJ4g/wC/+n//ACVXSVDbXtreGUWlzDOYZDFL5Ugby3HVWx0Iz0NAGD/wlGr/APQieIP+/wDp/wD8lUf8JRq//QieIP8Av/p//wAlVvW93bXfmfZbiKfypDFJ5bhtjjqpx0I9KmoA5LTfHF7q+lWmpaf4J8QTWl5Ck8Enm2C70dQynBuQRkEcEZqz/wAJRq//AEIniD/v/p//AMlUfDj/AJJZ4U/7Atn/AOiErW/tzSf7Pa//ALUs/sayGJrj7Qnlhw20qWzjO75cdc8UAZP/AAlGr/8AQieIP+/+n/8AyVR/wlGr/wDQieIP+/8Ap/8A8lVrXet6VYT+TfanZ20uFby5rhUbDNtU4J7sQo9TxVi7vbXT7cz39zDbQhgpkmkCLknAGTxkkgUAYP8AwlGr/wDQieIP+/8Ap/8A8lUf8JRq/wD0IniD/v8A6f8A/JVdJUF5fWmnwCa/uobWIusYknkCKWY4VcnuSQAO5NAGF/wlGr/9CJ4g/wC/+n//ACVR/wAJRq//AEIniD/v/p//AMlVu3d7a2EIlvrmG2jZ1jDzSBAWYhVXJ7kkADuTU9AHN/8ACUav/wBCJ4g/7/6f/wDJVH/CUav/ANCJ4g/7/wCn/wDyVXSUUAc3/wAJRq//AEIniD/v/p//AMlUf8JRq/8A0IniD/v/AKf/APJVdJRQBzf/AAlGr/8AQieIP+/+n/8AyVR/wlGr/wDQieIP+/8Ap/8A8lV0lFAHN/8ACUav/wBCJ4g/7/6f/wDJVH/CUav/ANCJ4g/7/wCn/wDyVW697apfR2T3MK3UqNJHAZAHdVIDMF6kAsMntketT0AclJ44vYtVg01/BPiAXdxDJPFH5th8yRsiuc/acDBlTgnJ3cdDiz/wlGr/APQieIP+/wDp/wD8lUX3/JU9C/7Aupf+j7Gt6S9tYbuG1muYY7icMYYWkAeTbydo6nHfHSgDB/4SjV/+hE8Qf9/9P/8Akqj/AISjV/8AoRPEH/f/AE//AOSq1m1vSkgvZ31OzWKwYreSG4QLbMACRIc/IcEHnHWp7S/tL9ZDY3UFyInMchhkD7GHVTjoeRxQBhf8JRq//QieIP8Av/p//wAlUf8ACUav/wBCJ4g/7/6f/wDJVb1te2t4ZRaXMM5hkMUvlSBvLcdVbHQjPQ1NQBzf/CUav/0IniD/AL/6f/8AJVH/AAlGr/8AQieIP+/+n/8AyVW7cX1paS28V3dQwSXMnlQJJIFMr4J2qD944BOB2BonvbW1mgiubmGGS5fy4EkkCmVsFtqg/eOATgdgaAML/hKNX/6ETxB/3/0//wCSqP8AhKNX/wChE8Qf9/8AT/8A5KrpKKAOb/4SjV/+hE8Qf9/9P/8AkqvP/jlr2o3vwY123ufCesafE/2fdc3Mtm0aYuIzyI52bnGOFPJ7DmvZK82/aD/5IT4h/wC3b/0pioA6X/hKNX/6ETxB/wB/9P8A/kqj/hKNX/6ETxB/3/0//wCSq6C4uYLO2kuLuaOCCJS8ksrBVRR1JJ4A96ibU7FJLWNr23V7wE2ymVcz4GfkGfm4547UAYn/AAlGr/8AQieIP+/+n/8AyVR/wlGr/wDQieIP+/8Ap/8A8lVrDXNJN0bYanZmcSNGYvtCbg6jcy4znIByR2HNWLO8ttQs4ruwuIrq2mUPFNC4dHU9ww4I+lAGD/wlGr/9CJ4g/wC/+n//ACVR/wAJRq//AEIniD/v/p//AMlV0lFAHN/8JRq//QieIP8Av/p//wAlUf8ACUav/wBCJ4g/7/6f/wDJVdJSMwRSzkKqjJJOABQBzn/CUav/ANCJ4g/7/wCn/wDyVR/wlGr/APQieIP+/wDp/wD8lVu219aXtjHe2d1DcWkieYlxFIGjdf7wYcEe9OtLu3v7OK6sbiK5tplDxTQuHSRT0IYcEe4oAwP+Eo1f/oRPEH/f/T//AJKo/wCEo1f/AKETxB/3/wBP/wDkqukooA5LTfHF7q+lWmpaf4J8QTWl5Ck8Enm2C70dQynBuQRkEcEZqz/wlGr/APQieIP+/wDp/wD8lUnw5OPhX4VJ4H9i2f8A6IStc63pQsYb06nZi0nkWKG4NwnlyOTtCq2cEk8ADvQBk/8ACUav/wBCJ4g/7/6f/wDJVH/CUav/ANCJ4g/7/wCn/wDyVWtNrelW96bO41OziugUBge4VXy5IQbSc/Ng49cHFWLq9tbFEe9uYbdZJFiRppAgZ2OAoz1J7DvQBg/8JRq//QieIP8Av/p//wAlUf8ACUav/wBCJ4g/7/6f/wDJVdJUNze2tkIzeXMNuJZBFH5sgXe56KM9SfSgDB/4SjV/+hE8Qf8Af/T/AP5Ko/4SjV/+hE8Qf9/9P/8Akqt64u7a08v7VcRQebIIo/McLvc9FGepPpU1AHN/8JRq/wD0IniD/v8A6f8A/JVH/CUav/0IniD/AL/6f/8AJVdJRQBzf/CUav8A9CJ4g/7/AOn/APyVR/wlGr/9CJ4g/wC/+n//ACVXSUUAc3/wlGr/APQieIP+/wDp/wD8lUf8JRq//QieIP8Av/p//wAlV0lFAHN/8JRq/wD0IniD/v8A6f8A/JVH/CUav/0IniD/AL/6f/8AJVb32u2+2/Y/tEX2ny/N8jeN+zON23rjPGamoA5v/hKNX/6ETxB/3/0//wCSqrWHji91O2eex8E+IJYkmlgZvNsFw8UjRuObns6MM9DjIyK62ub8B/8AIu3X/Ya1X/04XFAB/wAJRq//AEIniD/v/p//AMlUf8JRq/8A0IniD/v/AKf/APJVbY1OxLXQF7b5s/8Aj5Hmr+443fPz8vHPPaoZte0i3tYLm41Wyit7lC8Er3CKkqhdxZSTggLzkduaAMr/AISjV/8AoRPEH/f/AE//AOSqP+Eo1f8A6ETxB/3/ANP/APkqt6S9tYbFr2W5hS0WPzTO0gEYTGd27pjHOakjkSaJJYXWSN1DK6nIYHoQe4oA53/hKNX/AOhE8Qf9/wDT/wD5Ko/4SjV/+hE8Qf8Af/T/AP5KrpKhjvbWW8ltIrmF7mBVaWFZAXjDfdLL1AODjPWgDB/4SjV/+hE8Qf8Af/T/AP5Ko/4SjV/+hE8Qf9/9P/8Akqt6O7tpbqW1iuInuIApliVwXjDfdLDqM4OM9amoA5v/AISjV/8AoRPEH/f/AE//AOSqP+Eo1f8A6ETxB/3/ANP/APkqukooA5v/AISjV/8AoRPEH/f/AE//AOSqo+HL+51H4k6/LeaTeaU66TpyiG8eFnYedencPKkdcc45OeDx0z2Vc3Y/8lT13/sC6b/6PvqAINH/AOSo+IP+wRp3/o69rq65TR/+So+IP+wRp3/o69rq6ACiiigAooooAKKKKACiiigDm77/AJKnoX/YF1L/ANH2NYXxd1WHQNK0LW7mJ5U0/V4pfLjBLuSjgKAOpJIFbt9/yVPQv+wLqX/o+xrY1S00y7tAdat7Sa3gdZgbtFZI2U5D/NwCD0PagDwa20/VB49vfCM29dV8V2VpfavOrFhCm+UzgE9BtEcSgeufWtZZLnXY9Ft7BLa1bUvFczpItqi7be0DKrEKBvIEYALZ7dhivZ/7Ps/7QN/9kg+2GPyjc+UPMKZzt3YzjPOOlRQ6Npdsbc2+m2kRtt/kGOBV8rf97bgfLnvjrQB5npXizxDfw6bpS6yx/tLXb2xTV5IIhMsEG44VQnlmQlSASmMAnBqbTvGet3U+jaWl/wCe0+vXFsdQaKNTc2cCszORtC5JwhKgeoxXoNx4d0S70kaXdaPp8+nht4tJLVGiDZznYRjOSTnHeqWq2nhbztH0XV9N0+UyORptrLZCREZFySg2kJhe/FAHnOq63qfjHRbaCDXby2g1vxO1lZi1SIbrOMHfhihyp8tmyeucHI4r2NFKRqpYuVAG5sZb3OOPyqhN4d0W4sobOfR7CW1gl86KB7VCkb5J3qpGA2STkc81o0AeY2et+I28bRxeN59U0aBJWNlbWGnr9iuSGfaJLpWkYkoAdreT06dqw/BOoa1psXha4h1Xda+Ib+/vrm08lChgO+QPuIL7wSgBDBcYGO59S1bxNoelte2+rXkcf2WyN5dI8bMEgyVLHAI5ORjqfSp7bSNGMFpJa6ZZrHDbmG222yr5ULAZRRj5VIAyvA4HFAHkOkXt/Y+DdGvtA1TWl1nVrm4vo7Kx05b2G5jluNxaVWKKgAKgP5sZAJwTXrnh2fV7nw9ZzeJLWG01N483EMJyqNnthmA4xwGbHqetX7e2gs7aO3tIY4IIlCRxRKFVFHQADgD2qSgDm/hx/wAks8Kf9gWz/wDRCV4deF9T8I+IrORJF0vwnqF5ezMCwWW6e6ZolGD8wSMliD3ZfSvcfhx/ySzwp/2BbP8A9EJVjTofDWq2+r2On2NlLB9qeHUYfsgWOWbAL7wVAc4Iyec+tAHmtk13qOqaJrF5bxmbxZq6zmK5gSQwWFvGzwjDqdpyFfI5Bfg1mwQ6pq+laQZtUubufxH4qaeJ7xEkWOC2LlGARV6rEpxnAOOBzn2/+zrLzraX7Hb+ZaKUt38pcwqRghDj5RgAcVTsND8P2s5fS9L02GWCZ3LW9vGrRysBuPyjhiCMnqQRQBwlj4g8bTeE9Rl0N/7cmttZntFupreJp1t48gsI1aGORw4xjK/Qnisq5ubnXbHwppltq+qXmoXmuLNfSa1Y+RLbNDD5jL5AVQoHykAZGWzluc+v2lla6fbiCwtobaEMWEcMYRck5JwOMkkmqFpe6LrWrXQtxDc32jzG3lkaA7rd2RWKqxHdWXO0+xoA8wg1bUfEQ8O6fqN6+pI3iq4VLmWNEd4LUOQWCKqk71AyFFbPhTV/E0/ioW2jzalrfhjzcPfazYLbtEmwn9zLuV5xuwMmI/7/AK9/Bo+m2rQG1060hNtv8gxwKvlb+W24HGe+OtXKAPPvGrTXfxG8NWK6xe2VnaRT6peRQBNjLDgKXyhJ5bGPbIAIBHN2vxG1xNXF9BNqGoadPpd5qaR3drbQwPDHjymhWNmmUEkD96ckEkAdvWbrR9Nvb+2vr3TrS4u7TP2e4lgV5Ic9djEZXPfFZP8AwiujDTblvCdtpmj3c8bxpf2VjCxQk/NkYwwyOQeuOxoA4mz8V67Ya9okGoeKLS5hutGm1fUHuY4YYYCQoiQOFG2Lc/8AES3ynLHpWl8PdZ8SXniC50/xXd30d/DZJPPY3EFs8PzuwWSCeDGUIGNrgsOOeuZtD8J6T4Q1l5tYm0x7jU4DZwWem6R9lt1iUF5D5QaTr1ZiQvCjA76vh7UvBOn6Baaj4Wh0+y03VrhYYXsLLylnlJKgFVUHPBGSOKAOb8V+J9dW78Vz2OsNpMHhuCI29vHbxyG9lddw8zerMUJwgEZU5J56YpeJPFvipovFd7Yal/ZkGi6ZbNFbx28bubx1LlCXU/L8yqR19CvOfTbrQdHvtUg1K90qxuL+2/1F1NbI8sXf5XIyv4GmnStFuZLyI2NhM80qSXaGFGLyAAo0gxywAXBPOAMUAeY+ItU1iLxB4h1m0kWG/wBB8OWx8xEDgSO5klUKQf4U9M811fgPxHf+MbzU9dScjQC622mw+Wo83Z/rJ843YLHaBnGFzjmrOqWdr4u0nXNO8NX9tYXE0xstTu/sBdyQuGUElQWCkAMdwHoa3tF0i00DRLPStNj8u1s4liiX2A7+/egDIvv+Sp6F/wBgXUv/AEfY1y/xV1mTw74g8L6lZ27XN87XNpZwqCd88kYCA+i5wSewFdRff8lT0L/sC6l/6Psa2L+00yaW1udTt7SSS2lBtpbhFJikb5QUJ6Mc445oA8N8OaGYfF+p+BEaaS1t9Qh1nWrpyT5+2FG2k/8ATSYZwBjCtxWlpNxe69N4MH9rTWYv5rzXLuOyggiSWKN8xs4EfzH5kGT168kBh7EumWCXNzcJZW6z3ahbiURKGmAGAHOMsAOOart4b0N0s0fRtPZbBdtoDaoRbDGMR8fIMccYoA8q8CXmuWX/AAicltqm+38R6hfXlxaeShQwNvkD7iC+/JQAhguMDHc9r8Q9S8WafZwnwtaytbMkhvLqztEu7qDGNvlwvIgYn5ufnPA+Q10sGjaZavava6baQtZxGC2aOBVMEZxlEwPlU4HA44FJLrVhBr1to0s+NQuoXnih2Md0aFQzZAwMFl6nnPFAHl88r6z4p8L2+k65qEkNjY3+oXGo30A+1I27y8bHRVRgxYAFNoC429Kr6ZrF14mm8H3PiC9lAi0K91O5voVEciK2I0kAUcNtJPA6jgV67LptjPcSTz2VvJNLD5EkjxKWePrsJIyV56dKLfTbG0lWW1sreGRIRArxxKpWMdEBA4Udh0oA4fwFqviy91aWK9W+vvDyiTyNS1fT0sbpiGGwBFbMikZ+ZoounfNeg1jXvi7Q9PuLqC8v1jktJYIZl8tzteY4jXgckkjgZx3xWzQAV5t+0H/yQnxD/wBu3/pTFXpNebftB/8AJCfEP/bt/wClMVAHW+NoftHgLXYjj59PnHJ/2DXhl34knWPwn4/+xzyqLgaVo9schpE+yuudvQGScAZOflUV9GTQx3ELwzxrLFIpV0dQVYHqCD1FUYNK0Saws4bawsJLSycNaJHChjgZSQCgAwpByOOnNAHj2rJdeFdOvtNaSG6u9N8NT3l1IYULyXt1Jt3ByCy5IYYBwR1zji+viHX/AAJbapYJfR6jHovhu2uPs8sCxw28zMUGCo37MKSdzMeOor1a40XSruWeW60yznkuFRJnkt1YyqhygYkchSSQD0PSpP7OshLcy/Y7fzLpQlw/lLmZQMAMcfMACRg0Aebah4s1rwq+uwXOsSa2LTQ1vvOkgiQ29yxKpGCiKu1uoDZPHJIpur+L9Us2vrSXXJIzovhg3mpTQQxFvtTj5DyhCn5WIUcfN06V2t5YeFfCvhW9WfS9O0/RSpN1BDZKInDYU7o0X5s8Doat2nh3QrWykt7HRtPt7aeIRSRRWiIskfOEZQOV+Y8H1NAGN4Y0/WNB+F1vDbSPqmsrZmZBfSKvmTsN+1mUDjcep59T3rh7zxJrMXhrxTP4mvdZi1yPTplg0qfTltLRQwRd0TI0gl+ZgNxlYjceBXr1lZWunWcVpp9tDaW0K7Y4IIwiIPQKOAKp63daRFDbWmuiGSO+uEt4YZovMWWT7yjbg/3c5PAxQB5ReanrXhbRNe0KTU/tsOneFYX+z+Qkawzybo0WMgbsHaeHZjnuOlX7m48Q+H76x0vwHPqmpXltZRx3OlzaesmnxssSbc3DNH5RI5wrv1zs9fQdP/4R3xHb3V3ZW1nexSzGC4la2H714WK4bcPm2sDg8gY4raoAbGXMSGVQshUblU5APfBp1FFAHNfDsbvhT4WHrotoP/ICV4ZJeLqHgWLUrmOVNH8FXsYTqBLd/agXYDqwSP5RzyXbjgV7p8OP+SWeFP8AsC2f/ohKm0iDwvrWiXVrpNhYTaZ9qliuIBZhYmmV/nyhUBjuHJwckdaAPO9MW8XXNCudVKw3uv3F1rl6k0Ecj28McW2BAXDbCgZOVxzn1IOXolpq2q2fggNrdzcXOs6nPrcs92kbMkSRsEKgKBnDIQGyAe2Btr25tOsnvI7t7O3a5iiaFJjEpdIzjKBsZCnAyOnAqjpuheHrQq+kaVpkBtzJGrWtvGvlliPMUbRxkgbh3I5oA8+tPEnj26+HUV9pKtqUzX15FJeLZxS3K2yM6xSLD5kKO52jof8AgBqtNI+v6t4L0/T9e1Oedb261C6udUtRFcRtHHtZfKKKqbWk+UbSoOPvDr61aWdtYWsdrY28VtbxjCQwoERB6ADgVQsp9E129nvLSOC6ubF5LGSdoPnjPBeMMwyRnGccHHtQB5fpuq3/AInm8Ex67ftPIt5qF/8AaFRUd4IQ8cbsEAGcOp4AGccVueBNX8UXeuCCGTUtX8L4by9T1rTltJ8bFKbGDq0wJJ+ZoV/3j37210fTLE25stOtLc20Rgg8mBU8qMkHYuB8q5A4HHFXKAPOvFF1Kfitp7zazc2mlaJpc2p3kSKhjDZ2IWGwscr5mec8DGDnPMp8RPE2mTaldtNd31vDocmpmPU4LWBVZpAIWjWBmdIyC2RKxbC/WvXrjR9MutQjv7vTrSa8ijaOO4lgVpEQ9VDEZAOeRWLL4R0k+H54vBkOl6HJdRhVu7PToJI3TdkqyYAdG5BGR14IPNAHJjxJr+meJX01/FNnei30M3sr3yQwp9qlYLCpdVUBM52jqc8k8Vq/DnV9fvtR1Gz8T3WoLfWkMBuLC/t7YmGRwTuint8K8ZHQMu4Y60zSfDPh3wfc6hHrx0uWbVrZg9pZaV5FqlrCCWHkgyYXLsWLHDM2OpxW3oOp+D9O0fSX8Nx2VjYa5L/oK2Vp5K3DlC33VUYO1DncBjHNAHJa/wCL9dRvEupWmqfYl0LUIbG00yOGNxfO2w4k3KXy+/ChCvHPNVvEPi3xOf8AhKb7T9XNhb6Vf2ljZWy20TebOwTers6klCZAMDDZXgjofTJfD+jT61HrE2k2MmpxDbHevbIZkGCMCTG4cE9+5oTTNGn86NLKxk23QnlURIcTjBDsMff6HJ56UAeX+INV1Cx8S+MfEmnXi28mkDTbOZtquojD+ZOuGBxlZOvUcV2XgLXNR8Uwahr88rLpF3cFdJtzGqkQJ8vmk4yS7ZIyeBjiotX0mw8feGdR0/w5qFrZ2d5dvb6rMliTJOUISVVJK4f5du8h+nA4rrLGyt9N0+3srKMRW9vGsUSDoqgYAoAnrm/Af/Iu3X/Ya1X/ANOFxXSVzfgP/kXbr/sNar/6cLigDzjXkfV/iN4p8GwRyeTqRhvdSlQlQtqkGCm71dwq49N1c9oOoXmt/Dmy19oVMUdtZ+HdOhnt0lR3kdFuZNjggg/c5HRGr39LLS4tWmnS2tE1G6iAmkEaiaWNeBuPVlGcc8DNJHomlRWcFpFplmltbSCWCFbdQkTg5DKuMKcknIoA8X8YRXl9ceMmh1O7mge4s/DtnaSInkIZGjLgKFBwN3Y8gEEnAx6H4LvtTfxR4l0q91NtRtNMkgihZ4Y0MTtHvdBsA+UZXG7LerHrXQnw5obahLfto2nm8mkSSS5NqnmO6fcYtjJI7HtVy3srW0eZ7W2hga4kMszRxhTI+Mbmx1PA5PpQB514q1jxLB4pa21mbU9F8MeZiO+0WxW4aVdgP76XczwjdkcRD/f9MB9Q1201PxB4g0bU/JN94pttOt4BCjidF2ROHLAnAG8jbtIPc9B67p2sWOqyXiWE/nNZXBtp/kYbJAASuSBnqORkUiaJpUSxrHplmixTtcxhbdAEmYkmQccOSTluvJoA8tkumWPxdrcWratYXdxrjQae2k2f2qWVoYNgj8rawkXIc4OBx1GM133gq88S3uivJ4uso7W5EuIMRrG8sW0YZ41kkCNnPAc9O3Stu2tLTTrdks7eG1hLtKyxRhFLMSzMQO5JJJ7k1m6f4t0TVLixhsL4TSahBJcWqiNx5kaMFZuRwASBzjOeM0AbNFFFABXN2P8AyVPXf+wLpv8A6Pvq6Subsf8Akqeu/wDYF03/ANH31AEGj/8AJUfEH/YI07/0de11dcpo/wDyVHxB/wBgjTv/AEde11dABRRRQAUUUUAFFFFABRRRQBzd9/yVPQv+wLqX/o+xrnvi1FYXz+FdM1WeS3tbzWEEsgu3t0wilwpKsuWLKoXvnpg810N9/wAlT0L/ALAupf8Ao+xrpKAPEdI8U3ut/EfSn0S9uUWa/uhcW1zrTzSiGKNl8qS0CCKH5gpBJMncnk1FpHiK51C98LNH4j1GfV7/AFWaXXLSK5kZbeOFZG8jyQSI8EKNqgFxnO6vXLbWbTWtU1jRYRcpJp4SO4lU7BmRNwCMDkEDvxjjFY9r4c03w3rOn6lrXiHUtTu1X7Bp/wDackbFDIRlV8uNS7HaMs244B5HNAHG+A9YudU+Iihtdk1pZRc3QudO1WVoo4iwCQ3VlIMQOM8bdpypB71r+NPEVzpni/VJ4L6eK30XwzPdyQpIQjSyPiNmXoSPLOM+pr0qigDy/wAH2+qWPjvR9Pl1zUr4w+HFm1Nbu6eUSSuyiM7ScKRtfkAFu5J5rI+LHiuaPV9R07TLu5s7+wsozAH1l7INLK2EkihjQtcbTjdvIQdMda9lkkSGJ5ZnWONFLM7HAUDqSewqGxvrbU7CC9sZRNbXCCSKQAgOp6EZoA8Y8SLPqOoeKNwae4u7vStBLgYD8iSXHt+8YnFe3KoRAqjAUYApaKACiiigDmPh7IIvhP4XkfhU0S0Y/QQJXn+g6hqWuf8ACHWk+valGmoNqGsXTx3TBpLfcQkZbOQgEgAA6YBGCAR6H8OP+SWeFP8AsC2f/ohK6SgDifhrc3c/wxivdRvLq+WZriaCSSV3l8gyN5Y3k7mO3GGznpzXnXg20n1TTfCmmeHvEGoWR1Vr3VNVntr55ZE/g2EszBXHmKCCD8w3EEjNe8yOsUbSOcKoLE+gFZ/h/XLXxLoFprGnrKtrdp5kXmgBiuSAcAnrjP0oA8ei8SzXPxA0u00rU9QSRdZFi8d/rkjTrFDG28PZqgjCuEZg8jF2Jz6AXdH1PV9euvDdtLrl9bpqep6lqM5iuGDNaRsyJGDn5U+ZenTtg4NezVW1DULTStPmvtRuEt7aFd0kjnAUf57d6AOS+GN3dt8Pzfald3V3E11dS2zzM88gtxK3ljccu/ygY6k+9cJ4f1/V5tc1GXTNXk8Q3y2F5eQT6bqks0DcjyorizkGIJBkbQm0naRjrXuCsHUMvQjI4qtb6lZ3V9dWdtcJLcWe37Qi8+WWGQCemcDOOuMeooA8PsNZ1Q+EfEF++sm9t4dBZr1LbWrq7kF2eQ5cxolsw+bdEjDA6jAr0v4ez6Dp/h+w8M6Hfrdy2Onw3D7JXmTZJnDLIcggsrYUHgDoBiuvqre6lZ6cbcXtwkLXMywQq3WR26KB1J7+wBPQUAeZ+JNTmh1D4haywLzaTpsen2MbDAUyJvJHuzMoz/sisPSdCu9A+JXh/wAH20Mg0y3H9uwgEBAy2/lOmP8Arqd/1evYbXRLaz16/wBWheUT36RJMhYbP3YIDAYznBweewrRoA8b8N6vf6hrGgS2+s3974hnvZjr1gLtjFZ24DDY9vu2RYIQKQoZjzk5Nb3wgjs08L6rq8d00897qVzNch7x52iAdgiuGY7XCBc9+me1dtqOt2OmTJbzy7ruSGSaK1jwZJVjGWIHtwMnAyQM81NpeowavpNpqNmSbe7hWaMsMHawyM+/NAHkWg6hqWuf8IdaT69qUaag2oaxdPHdMGkt9xCRls5CASAADpgEYIBHbfCue8uvh9aXV/eT3n2iaaS3luJGkfyDK3lguxJb5cckkmuxooA5u+/5KnoX/YF1L/0fY1zXxA+wXPxK8IW2pS3MccC3N6qx3UkQmeNRsjRVYB5MtkAckAjoSK6W+/5KnoX/AGBdS/8AR9jXSUAeG+GPFuqar4sivNEubidZtMvb6S3m1l7x2IIEUUluEWKBwSPkjyQMgn1XQfEiz6t4Vlt/FOqXztp91qmt+XNLOnmLGBtMIJK7WkP7lQBwMrnBr1S21Gz8X2GsWNs99apb3ElhJcRSeS+9QMtG6nIxng8HI6VT07RdO8O+IILnU9cvdU1e+i+x2smoNGZPLXLlVWKNBjjJYgnpk9KAOM+FV/e33iaZLvXG1to7Qyy3+naxJdWU5eQlQ8EgP2eUAfdQgYzxwKb4813VV1rxVDYandWscdnYaZa+RMy+XcXEpBdQDwwUrgjmvXqKAOD8HJdxfEPxNarqt7fWFnDawst1cNNi5KFnYZOEyCuVUAewrj/E/iq71Dx/9l0S+ubS8h1m1sBHPrLxsighpGFkibXjZdw3ytk9scV7Le3ttp1jNeX88dvbQIZJZpWCqigZJJPQU+CeO5top4TujlQOhIIyCMjg8igDxiFW1fxZGyBpU1bxjJKx7CGzh2/lvTH1Jr2uiigArzb9oP8A5IT4h/7dv/SmKvSa82/aD/5IT4h/7dv/AEpioA6X4iXf2D4b6/dfvgYrGRgYJWjcHHBDKQRz1ORxmvItf1qz8N+FbLQ/D99cldM0IXMEi+IZbWK5kk4VoNgZ7gqwPylljUYGPT6BrMvdftbHxBpujyJM91qSytEUAKosYBYtk5A5A4B5oA8h8UeJdQs4/En9reIbu11vTNKtxpFpbXLRefI8fzz+WCBKC5wSwIXHGDzTtf1a8h8TWVj/AMJBc3bQRWdkdOttVnstRinJUtOkTDZdoQcksGGAcHg16Hq3gq0vLme61bX9WbS/tC3s2nT3EZtgyYYfMyeYqAqG2hwvHTGRXS2V5BqNjDeWcnm286CSJwCNykZB5oA5X4g3dzFb6Bp1jeT20+o6zbQmSGQo7IpMjjIxwVQgj0JrhpL7VNSzqlrr+pJcaj4vFpp8K3TiKOGJtsiiMEB1KxPkNkDkgAkk+1UUAcN8Tdfj0q00uwklmtzqN1sE/wDaX9nQgKpYpJcBWdN2MAINzHjIGa4bQNTvdRg8HT6xcSXItDqesIzzPMY4Y90cStIwDPgPjLcmvaLTUrO+uLqGzuEmks5fJnCHPlvgHaT0zgjjtVqgDk/hfaS2nwz0X7TGY557f7TKp6h5CXP/AKFXWUUUAFFFFAHJeCrtbD4L+Hrtzhbfw/bSk+y26n+lcNo15q+pp4XttV1rUoLePw/catqnl3jo8pkI2K0gO4AAtgggjAwRXoXw4/5JZ4U/7Atn/wCiErpKAOG8JXl6vwStb/WZry5uG0x7hmeR/P2lWZRvB3bguBuznvmuF8H6Td6jZ+FtB0XxJeW1i+jzahq1xpt+0jySysFwjkttIbf06EEjDc17beXUVjYz3dwdsMEbSOfRVGT/ACqDRdVi1zQ7LVLeKaGK8gSdI5wA6hhkBgCRnnsTQB43pPiy51P4gaXNpeo3UcLXt0buG71t5pVghjZTHJaBBFCdwUgkmTuTyaseH9Q1PWx4WhvNb1OOzn02+1m/eO8dGkjd8RoXzuVQGOMEFdowRXtNVdS1Oy0iya71O5jtoAypvc9WYgKoHUkkgADkk0Acp4C1G6h+Edjqms3d1MxtXufOljknmWMlmTI5dyFx6k153oOueIY9L1650nWH8Qapa6TJcR3umapJfWc7u5K77aQEwTKvIRCARkbegr3mqtpqVnfXF1DZ3CTSWcvkzhDny3wDtJ6ZwRx2oA8MuNQv7jwB4qnj15bjTZNPghWS11u6vlhuXbBlNw8aBBhgWjVioxyozz694TudFh09NC0O8+0jS7eFXxI8oCuuUIkbO4EcjBOBjpxW/VW61Kzsrm1t7q4SOa8kMdvGT80jAFiAPYAknoKAPJ/EV7PPp3xE1CZ9tzJcxaDZnvHGwRcD3Lysffiq2ladqOi/FBPC9jZl7DQLS61SwGfk/eoqJGB7P5v0Br1nTtDtNL1TVL61Mgk1SZJp1YjaHVAmRxnkKM5J6VpUAeN+E9cnv9Q0Kax1u/1a/ms55/EsP2qRo7X5eEMW7bbyB/lVVCsQG64Jrc+FDWOm/CRtYtrp52uBPfXRku3nKSElirbmO1gMBh1yOea7PV/Een6MlwLh2muILSS8NrCA0rRJ94gEgd8DJGa0ba4ju7WK4gO6OZBIh9QRkUAeO6NeavqaeF7bVda1KC3j8P3Grap5d46PKZCNitIDuAALYIIIwMEV3vwzlv7j4a6JcatPPPcz2wlL3LFpNrElQxPJIUgZPJrqaKACub8B/wDIu3X/AGGtV/8AThcV0lc34D/5F26/7DWq/wDpwuKAPMtW1bTdM8WeONXe8vYr83VrpKBNWMBt42CkyOzlhDEWY4fYcc7ACeWWXiHVU8LXj3WtyWWiXHiWOye9TVJbr7HahFD7bqUK4VnGA5xjdwRwa9p1XUoNH0i71K83eRaQtNJtGTtUZOPfis26sT4q0vTdQstU1bRX2i4ja1kRWIdfuyI6vG3B7g4PQ0AeVS67dNpXif7F4tksbN9XhsNLutVupxB5UUas6G5XLRb8sBKW3NxySRXf/DW+a58FvfStfCJriZkF5qBvlCKxGYp2AaSI4ypbJweuK1fC1lpGiwXOiaTdvdT2spmvXlffI0spLlnIAXceuABgY4AxW9QB4xoOoalrn/CHWk+valGmoNqGsXTx3TBpLfcQkZbOQgEgAA6YBGCAR13w61G7i+Fq6rqVzeaimbi5gLM00zQb2MahmJLnaBgk5PFdzVW61Kzsrm1t7q4SOa8kMdvGT80jAFiAPYAknoKAPCtL8Y3s1xqOqWepSy2K+Hbq+uI21t9QZ5HYCIMmxY4ZF+YFIuBnBzXX/D7S2tPGUNn5RWLQvDVnZgntJIS7j64Vfzr1CigAooooAK5ux/5Knrv/AGBdN/8AR99XSVzdj/yVPXf+wLpv/o++oAg0f/kqPiD/ALBGnf8Ao69rq65TR/8AkqPiD/sEad/6Ova6ugAooooAKKKKACiiigAooooA5u+/5KnoX/YF1L/0fY1l/EaGS4u/D6X1hd6h4f8AtjNqdva2jXO8CMmMSRIGZk34yADyFzxWpff8lT0L/sC6l/6Psa6SgDwi00q5h8NLC3hO4Wx1jW7i7KahplzdLbRoAsCSWkZVmBCgKHIRQB6CpvD/AIYnDeAxr/hye4W2S+u8S6cxFtKz5htyMN5KjJK7iFG0c9K9xooA8M8NWuqyeNrTXG8M3dhKLW+ur5LXSp47lpGxi3e7uHxcHnK42p8vy8DAd4U8NazZ2+uP4etJJb/+yZhaaxdaXNpV3JcSMWEc6uQk7Dj97jg9+a9xooA8BTwtqB8GeIjaabO3naRHaS20fh2W0E85YEysskrvcSpkkuEwc8MTwLvizw3DPc2FtouhXU8FpYR21vpV74flNrcB2BMsU8e02ko+bLPtbOMjoa9xooAzdJ1AXUl3ZiwvrUafItuJLpCFn+RTujYkl1Gcbj1INaVFFABRRRQBzXw5APwr8Kg9Dotn/wCiErhvDGg65EtzHqekTzWPhSW6fSrZgYjqE7O7I65/hVCqq395mI6Cu6+HH/JLPCn/AGBbP/0QldJQB4JommavbXGr6tp+hT2jDw7PmG10a5tXurmV87JGmYvcSKR98gfeJHFei6npT6T8HYtEii1JCunxWbPpUIlngyoUuI8gsF7hcsRnArtqKAPC7fw7rUPgLVYtJ0iO1ifUbZJprPSZ7X7faIFEkjWBZWB6hgm0uAcZ4p9z4Qd/Bq29zps9zpd94jguPs0OgPbpZwLjeY7XdJIiOU5yFPzsSADz7jRQBl+H9UtdV0+Q2FlPZQ2lxJaLFNCIseW23KqOi8cdOO1eOS+Gb86TqVzY6F9ge68SySavE+jyy+ZZgt5Y8tNjXEZIViqMR8xznmvc7e2gtIFgtYY4IlztjjQKoyc8Ae9SUAeI3fh65HgWx065XVYLWbVJL6KNPDDT2caKcrBLYrJJIsTcsoONp67TgVa0vwwsmq+AI9a8JJaw28d1cSCO0lnht5mI8uP5txhU5LhWIVSAOCK9kooA8x+LNlLqd5p8aWt3P9kjlnjgm0N9TsL1iu0RSLH80bg4Ic4wCcHrXOeJfDWsu2m2t5pRGmR6HHBZ2f8AZk2rm2uyTvCnzlETgFQssjYABG4YNe40UAeQX1hDonjG/wBY1/TJrmbSfDMaW2oyaezm4mwwc+aAyiT7qhd5Y7jjI69/4B0mfQvh7oWl3mfPtbGKOQHswUZH4dK1dQ0qz1T7OL+Lzlt5lnjQuwXev3SQDhsHkA5GQD1Aq3QAUUUUAc3ff8lT0L/sC6l/6Psa5/x/Cs3i3Sjr+jXuseHIrO4c21tYPeI118oTzI0Vj93dtJGASeRxXQX3/JU9C/7Aupf+j7GukoA8B/srVLfwTommXfhWa4D2t3qROo6Xc6h/pDsSsDQoyqsm1hh5Tx0AzmtjTfDtzp+ueGbrU9CutUvdH8LkQSyWjEz3XB2NKVPluoUhdxBG445r2aigDwfw9peoQanqGpx6NqWnwNoUiz/2TotxbXEk00gLbmncvcyx4J3cE5O0HNO07wxrtr4J8RQ+HrBY5ylrbrqMGl3GmyX8KtmYtaMy5kClhvUKXzgGvdqKAPC7zwxMfAOtRx6TLNp19qVmi2dv4dktI4UVlEs8VqXkl6ZBJVSSMgEc1ZvPDqXPxCt5NO0O5lt1uraBLG90WW3FhDEM+da3sRCxpjB8vPJyCuSRXtdFAFHStT/tW3mmFleWYinkh23kPls+xsb1HdDjIPcc1eoooAK82/aD/wCSE+If+3b/ANKYq9Jrzb9oP/khPiH/ALdv/SmKgDqPHo1U+AdYHh5Zm1A2zCIW/wDrffZ/tYzj3xXmMenRWWsaxq3hHwdqiWdloaWkUD2VxZefLK4810XasjMFVSxQbm2jk8Gvb6KAPAY/C16fB/jeK30NktLu3tLS2tbPQprNHx9+4S3cu7OoblvvEoOKk8UaLcXuoix0fwmbOO1aytdPn/sW5mdYS6s08UmVitSpY7l2lztJbpx71RQB43rOiz6p8URdjS72/Zr23ieDUtJmjNpHHyZ7bUI22qp4OzdycgjJIqKw8O69cfEPz9WjkXUl1mS4+2RaLIzC0GdifbWmWPymTC+WqlgScr1Ne00UAeEW/huJPAK2r6VqWk3d7rU11eNF4ae6h+WRmSCeAKGli2EAMoKZ7g16B8PpZdJ0PSdHufDtzps11FPdOLaKT7Jb/vPu/vGJiLbtyxduRxiu3ooAKKKKACiiigDl/h/Ctx8I/DMMnKyaHaI30MCiuB8M6Pr1r4Xe+1HQLq5PhO0msdG06TdDJdSDcrTqc5GU2qhAzjcR1FehfDj/AJJZ4U/7Atn/AOiErpKAPArHQdai0nxX/ZektbC50SGzgSy0S4shcTyMwd2SVmeRkB5djkgnOByfSfG+nGP4a/2LD/acSSRRWpuNMs/tbwAYG5oR80icYZVBJBPGM12lFAHh3/CPa0vgdUstHt7Gxl1wPfxW+lXIiu7VU2iQ6dvDqCwXdGuN2M4I6yt4VMmg+GbTVdGmvdMm8QPdPE2hsi2cG1tqLbhpWiidgOGIwD8wXpXtlIQGUhgCCMEHvQBnaHq0Ot6Ml5a2k9tEWeJYbiMI42MUPygnAyvHtXitv4YvYPC1g8Gim1gn1q6n1u3l0CWcEEuYFe3TY88S5UAqWUHB6A494t7eG1t47e1ijhhjUKkcahVQDoABwBUlAHiGoeHLu28EaHpt2upyLBNPfRQXHhtryzdWLbLWW2jkkeMAMNmT8o9CMDU0Lwyv/CZeC5NX8MfYFsNEcrGLZ7mOC5ZlIj84hvL2AMVDNxuwOlet0UAeTfFnTp9W1mDytNur97O0cQWN3or31hfNJxgSRHNvIuP9Y23AIwcZrJ8X+FtZ1DXZbK5tZktn022t9JZdLl1N7STpIYp/ORYJFbafMkIyAME4Ir2+igDxrXdPi0vxB411i/0mWTUP7IgsbC4axP8ApTshQskuNu9nkVSu7dhR2Feq+H7GTTPDWm2MzFpLa1jick5yVUA/yqW80u0v7m0nvIjK9nJ5sALsFV8Y3FQcEgE4yDjtVugAooooAK5vwH/yLt1/2GtV/wDThcV0lc34D/5F26/7DWq/+nC4oA8y8YaPNrF34is9T8Pare63f6pDb2F5HYSPFBYnZnbOF2omPM3qWBJJyCKfrOlalrPxBt3j8PyWE8OtW8X2waXcSzR20XzCRbwt5aRtggxxqfvHcckmvbqKAPDhpTWmia0R4OdZ9X8RSLfs2l3DrBbhy0bGOEK1zGdoJVSVzId3cGCLQr1/ANvYahZajp0c2t3F4kEHht7iyREchYZbIFnWN8b1xkA87s4r3iigDxG/0DWU8M+FI7nRYLTSI47iW+0waXc6nCk7HMX+iiQOFwWIUkiMkAgdrWl+GZrHxN4Wl1rR77UDpmizvDK2mKZPOZwyRFtzpE0aghQ0mMng17JRQB4v4GsZPDur32tHRtR1SG1sJZze/wBiT2Ooyu77vs8iMQt2+Bw+DgjqM17LFJ5sKSFGj3qG2OMMuex96fRQAUUUUAFc3Y/8lT13/sC6b/6Pvq6Subsf+Sp67/2BdN/9H31AGMNBtNb+KOtfbZtQi8nSNP2/YtSuLTOZrzO7yXXd04znHOOprZ/4QPSP+fzxB/4Ueof/AB+oNH/5Kj4g/wCwRp3/AKOvazfGHjifRfG1jocWuaBocEtjJdTXesoWBYOFREHnRDn5ieT0oA2f+ED0j/n88Qf+FHqH/wAfo/4QPSP+fzxB/wCFHqH/AMfrC8Q+Otb0G10aGx0+DXZdSuIIm1a3XyLJFlfClVMjtIcAnCt05JGQD2Wuan/Yvh+/1PyGuPsdu83kp1fapOB+VAGV/wAIHpH/AD+eIP8Awo9Q/wDj9H/CB6R/z+eIP/Cj1D/4/WT4D8YXviyKPUYda8PappjQb50s45be4sZOyOrO+4feGT5fTIBB42NO8e+GtUkmW01LCwwG5Ms8EkMbwg4MqSOoWRAf4kJHTnkUAN/4QPSP+fzxB/4Ueof/AB+j/hA9I/5/PEH/AIUeof8Ax+pLLxz4ev7e8nhvZI0soPtM32m1lgYQ4J8xVkUF04PzKCDVVPiV4Umt2mtdTkugsnlbbWznmdmCBztRELMFVgWIBC5wcHigCb/hA9I/5/PEH/hR6h/8fo/4QPSP+fzxB/4Ueof/AB+tzT9QtNV063v9OuI7m0uYxJDNGcq6kZBFWKAPO7zwVpa/EnRrcXWubJNJv3JOv3xcFZrMDD+duA+Y5AODwSDtGOg/4QPSP+fzxB/4Ueof/H6L7/kqehf9gXUv/R9jU3iLUtUhvLDTNANrHe3vmP595C0scaRrk5RWUkklR94YyTz0oAh/4QPSP+fzxB/4Ueof/H6P+ED0j/n88Qf+FHqH/wAfrQ0fUptc8L21/AI7a4uYNwDqXWOTGDkZUsAfcZ9q5yHXfFNs2vvcPp2sQ6XBtQWWny27SXGNxTmaTcFUjOBnJx2oA0/+ED0j/n88Qf8AhR6h/wDH6P8AhA9I/wCfzxB/4Ueof/H6qaHr2t6zpWoizu9Gv5YWVbbVYI3Szkz9/wCQO5YxkEEB8E8ZU5w/Q/FN/qHh2+vI4LfW5rW5a3gn0wiOG8wB8673YKoJKt8zfdOM9KALH/CB6R/z+eIP/Cj1D/4/R/wgekf8/niD/wAKPUP/AI/V7wrqtxrnhPTNUvI44ri7t0lkSIkqrEcgZ5xWtQBzf/CB6R/z+eIP/Cj1D/4/R/wgekf8/niD/wAKPUP/AI/XSUUAc3/wgekf8/niD/wo9Q/+P0f8IHpH/P54g/8ACj1D/wCP10lFAHnfgHwVpd18NvDVxLda4rzaTauwi1++jQEwqTtRZgqj0AAA6AV0H/CB6R/z+eIP/Cj1D/4/Tfh44j+FHhZ26LoloT/34SoPDXiXVNRv7MarHarBqtm17ZLBE6vAiso2SEsQ52up3AL3GO9AFn/hA9I/5/PEH/hR6h/8fo/4QPSP+fzxB/4Ueof/AB+qPjDxTqmi6iINONjDtt/OijvIndtSkyf9Gg2uuJMLnOHPzD5cCr2r+I9RsPEGiWEOlEW1/cCK4uppBhMxu2xFByWynJIAA9T0AD/hA9I/5/PEH/hR6h/8fo/4QPSP+fzxB/4Ueof/AB+lg8QajceOZtGfThaWa2bzQ3EzBnmdXC5CqeE54zyfQADNfR77xM/jCbTdQ1DSb6ztbcPcva6bLbskjfcQFp5ATgFjxwNvrQBP/wAIHpH/AD+eIP8Awo9Q/wDj9H/CB6R/z+eIP/Cj1D/4/XSUUAc3/wAIHpH/AD+eIP8Awo9Q/wDj9H/CB6R/z+eIP/Cj1D/4/XSUUAc3/wAIHpH/AD+eIP8Awo9Q/wDj9H/CB6R/z+eIP/Cj1D/4/XSUUAc3/wAIHpH/AD+eIP8Awo9Q/wDj9H/CB6R/z+eIP/Cj1D/4/XSUUAc3/wAIHpH/AD+eIP8Awo9Q/wDj9H/CB6R/z+eIP/Cj1D/4/XSUUAed3ngrS1+JOjW4utc2SaTfuSdfvi4KzWYGH87cB8xyAcHgkHaMdB/wgekf8/niD/wo9Q/+P0X3/JU9C/7Aupf+j7Go/E2uaxaaj9j0FbMPb2T39w13E8gkRTgRLtZdrN83zHdjH3TmgCT/AIQPSP8An88Qf+FHqH/x+j/hA9I/5/PEH/hR6h/8fq9qGsSxeEZdY060e6l+yi4hgAJLZXIGBz37c1k+HvEuo3+m6jMwtdeFqyi2u9HTy4rsnqi75GAKNwx3kfQgigCx/wAIHpH/AD+eIP8Awo9Q/wDj9H/CB6R/z+eIP/Cj1D/4/WTP431qH4bjXk0aOa/ImMscco8i2COwJZiQzD5cDaMseyjJGp4u1DXdN0v+0NHv9OgUKqLbXOnPcPPMxARVZZ4wMkgcg+tADv8AhA9I/wCfzxB/4Ueof/H6P+ED0j/n88Qf+FHqH/x+t2y+1Cwg/tEwtd+WvnGBSqb8c7QSTjPTJqegDm/+ED0j/n88Qf8AhR6h/wDH6P8AhA9I/wCfzxB/4Ueof/H66SigDm/+ED0j/n88Qf8AhR6h/wDH68/+OXhLTtM+DGu3dtc6w8sf2fatzrd5cRnNxGOY5JWU9e4ODz1FeyV5t+0H/wAkJ8Q/9u3/AKUxUAdL/wAIHpH/AD+eIP8Awo9Q/wDj9H/CB6R/z+eIP/Cj1D/4/Wj4j1WTRfD9zfW8QmnQKkMbdGkZgqg47ZYZqv4d1HUbmXUNP1traW90+ZUaa0haKOVWQOpCMzFTyQfmPTPfAAK3/CB6R/z+eIP/AAo9Q/8Aj9H/AAgekf8AP54g/wDCj1D/AOP1BeXvie38YWOn2+o6TPbXTvLJB/ZkqyQ2y9WMvnkFslVHycknjg1Bo/i261XxA6LqWiC2HmkaXuYXywoSonPznIJH3dgwGHzZGCAXv+ED0j/n88Qf+FHqH/x+j/hA9I/5/PEH/hR6h/8AH6paF4m1vUJYPtUNkf7VsHvtOjVHi8oKVAjlfLbsh0O5VGOflPBq7o2qawvia50XXZ9Pu5EtEu1msbd4RGGYrsZWkfJ4yGyM4PHFAB/wgekf8/niD/wo9Q/+P0f8IHpH/P54g/8ACj1D/wCP10lFAHN/8IHpH/P54g/8KPUP/j9H/CB6R/z+eIP/AAo9Q/8Aj9dJRQBzf/CB6R/z+eIP/Cj1D/4/R/wgekf8/niD/wAKPUP/AI/XSUUAed+AfBWl3Xw28NXEt1rivNpNq7CLX76NATCpO1FmCqPQAADoBXQf8IHpH/P54g/8KPUP/j9QeBbpLH4OeHLuUEpBoNrKwHcLbqT/ACp/hjXNYvL4WuvLZ77myS/t/ssTp5aMcGJ9zNuZcr8w25z90UASf8IHpH/P54g/8KPUP/j9H/CB6R/z+eIP/Cj1D/4/UHiq+8Tafd239iahpP8Apk6W9vZ3OmySSMx5cmRZ1AUKGb7nAHem61e+KbPxFp9pp+paPLHfTgLayaZL5iQqAZXMguMcDgHZ1ZR70AWf+ED0j/n88Qf+FHqH/wAfo/4QPSP+fzxB/wCFHqH/AMfqpF4m1V/ECuyWg0WTUX0xI/KfzxIqn97v3bdpZWXbtB6Hd2q9p3iC/vPGt9pNxpv2O0gtVmhkkcGSYl2UtgEhV44zyepA6UAM/wCED0j/AJ/PEH/hR6h/8fo/4QPSP+fzxB/4Ueof/H66SigDm/8AhA9I/wCfzxB/4Ueof/H6P+ED0j/n88Qf+FHqH/x+ukooA5v/AIQPSP8An88Qf+FHqH/x+j/hA9I/5/PEH/hR6h/8frpKKAOb/wCED0j/AJ/PEH/hR6h/8fo/4QPSP+fzxB/4Ueof/H66SigDm/8AhA9I/wCfzxB/4Ueof/H6P+ED0j/n88Qf+FHqH/x+ukooA5v/AIQPSP8An88Qf+FHqH/x+uf8F+CtLudBuXkutcBGrakgEev3yDC306jhZgM4AyepOSSSSa9Erm/Af/Iu3X/Ya1X/ANOFxQAf8IHpH/P54g/8KPUP/j9H/CB6R/z+eIP/AAo9Q/8Aj9VIvE2qv4gV2S0Giyai+mJH5T+eJFU/vd+7btLKy7doPQ7u1anim61PT9Jkv9O1KxsIrVGknN3YPdbgBwFCzR4P55yKAK3/AAgekf8AP54g/wDCj1D/AOP0f8IHpH/P54g/8KPUP/j9Z2p6l4wsPCNrqU19o9vfGJRLaHS5ZfNndsJGn+krtySq87ucnOKXV/Emvac0iItgz6Vp0d9qeYJCJ9xYGOH5/k4Rzlt/YY6mgDQ/4QPSP+fzxB/4Ueof/H6P+ED0j/n88Qf+FHqH/wAfo1jxJfWXiHRLG003dZ6hcCOa9lcBVBjdwqKDkt8nJIAA9T06SgDm/wDhA9I/5/PEH/hR6h/8fo/4QPSP+fzxB/4Ueof/AB+ukooA5v8A4QPSP+fzxB/4Ueof/H6P+ED0j/n88Qf+FHqH/wAfrpKKAOb/AOED0j/n88Qf+FHqH/x+qPhzSbbRviTr9vZyXkiNpOnOTeXs10+fOvRw8rMwHHQHHU45NdlXN2P/ACVPXf8AsC6b/wCj76gCDR/+So+IP+wRp3/o69qxpvhye2+IGteIrpoWW8tre1tgjEskce4tuBGBlmzxmsUa9aaJ8Uda+2w6hL52kaft+xabcXeMTXmd3ko23rxnGecdDWz/AMJ5pH/Pn4g/8JzUP/jFADvE3h+81zWPDs0MsKWmm3/2y5Ryd0mI2VAoxj7zA8kdKgl8F2elapqviPwnY2kXiTUFHmz3sszRzYIO0gMdgOMZUcdcHpUv/CeaR/z5+IP/AAnNQ/8AjFH/AAnmkf8APn4g/wDCc1D/AOMUAc1afDNptS13U2sdM8OXOq6a9g0OkTvLG7Nz5zkpGN3bAXnkljni5P4U8Sa14CvvDWrto9hbmwjtbRbQyT7nTHzyFlQBTgDYFOOfmPStn/hPNI/58/EH/hOah/8AGKP+E80j/nz8Qf8AhOah/wDGKAOb1fwHr3iW11WfVW06zvLzTk0uG2tbh5Io4S4aVjIY1YswyANuBjqc5E/ir4eXF5qukX2gLDt0+wk09bRtRuLBVRtpDCS3+Y4KgFCMMO4xzu/8J5pH/Pn4g/8ACc1D/wCMUf8ACeaR/wA+fiD/AMJzUP8A4xQBpeHtHi8P+HbLSrdI0jtYggEe/bnvjezNjOerE+9aVc3/AMJ5pH/Pn4g/8JzUP/jFH/CeaR/z5+IP/Cc1D/4xQAX3/JU9C/7Aupf+j7GpvEWm6pNeWGp6CtpLe2fmJ5N5M8UciSKAfnVWIIKqfunOCOOo5m88aaW3xJ0a4FrrmyPSb9CDoF8HJaazIwnk7iPlOSBgcAkbhnoP+E80j/nz8Qf+E5qH/wAYoA0NB02fRdIsdMJjmjt7fbJPvIZpO+FweDknO7jjg9ayW8KXU/gW80iaaEXt3LLcSSctGztKZArcAlTwp46VN/wnmkf8+fiD/wAJzUP/AIxR/wAJ5pH/AD5+IP8AwnNQ/wDjFAENlpniOGfU9YaPS7fU7qOGOOySeSS3Ijzy0uxW3MGxu2HaAOGxirXh7SNQtpdVv9XS0gvNTmDtb2cjSRRBUCD52VSzEDJO0dhzjJj/AOE80j/nz8Qf+E5qH/xij/hPNI/58/EH/hOah/8AGKAL3hbS59E8K6bpl20bzWtusTtESVJA7ZAOPwrWrm/+E80j/nz8Qf8AhOah/wDGKP8AhPNI/wCfPxB/4Tmof/GKAOkorm/+E80j/nz8Qf8AhOah/wDGKP8AhPNI/wCfPxB/4Tmof/GKAOkorm/+E80j/nz8Qf8AhOah/wDGKP8AhPNI/wCfPxB/4Tmof/GKAG/DxBJ8KPCyN0bRLQH/AL8JVfw94c1bTry1bUDZtFpNk9lYeTO5adSVO+QFQEOEUYG/uc9BWT4B8aaXa/Dbw1by2uuM8Ok2qMYtAvpEJEKg7XWEqw9CCQeoNdB/wnmkf8+fiD/wnNQ/+MUAUtd8O61eaje3Gnw6ZKNW09LG6F5M4+ygFstHiM+aPnPynZkqORnjUv8AQbif/hHlhnV10q6WWV5mO6RRC6ZHByxLA8471B/wnmkf8+fiD/wnNQ/+MUf8J5pH/Pn4g/8ACc1D/wCMUAXn0qdvGUWrBo/s6WD2xXJ3bjIrZxjGMD1o0LS5tOOoy3Zjae9vZLgtGcjZwqDoOQiqD755NUf+E80j/nz8Qf8AhOah/wDGKP8AhPNI/wCfPxB/4Tmof/GKAOkorm/+E80j/nz8Qf8AhOah/wDGKP8AhPNI/wCfPxB/4Tmof/GKAOkorm/+E80j/nz8Qf8AhOah/wDGKP8AhPNI/wCfPxB/4Tmof/GKAOkorm/+E80j/nz8Qf8AhOah/wDGKP8AhPNI/wCfPxB/4Tmof/GKAOkorm/+E80j/nz8Qf8AhOah/wDGKP8AhPNI/wCfPxB/4Tmof/GKAOkorm/+E80j/nz8Qf8AhOah/wDGKP8AhPNI/wCfPxB/4Tmof/GKAC+/5KnoX/YF1L/0fY0zxLomr3eoG70E2Ze5snsLgXcrx+WjHIkTarbmXLfKduc/eFYV5400tviTo1wLXXNkek36EHQL4OS01mRhPJ3EfKckDA4BI3DPQf8ACeaR/wA+fiD/AMJzUP8A4xQBJrGgT6h4Vm0G2aKOFbaOOGWRi29kI+V0x9w7QDgnIJ445XQNL1OLVr/VtZS0tbi8jii+yWUzTRqI92HLsiFmO7H3RgADJqL/AITzSP8Anz8Qf+E5qH/xij/hPNI/58/EH/hOah/8YoArt4WvT8Nr3w95tv8Aa7hJ1V9zeWC7swycZ6MM8Vq6ppM+oXujMGj+z2Nz9omVjyxEbKmOOcMwPbpVL/hPNI/58/EH/hOah/8AGKP+E80j/nz8Qf8AhOah/wDGKAOkorm/+E80j/nz8Qf+E5qH/wAYo/4TzSP+fPxB/wCE5qH/AMYoA6Siub/4TzSP+fPxB/4Tmof/ABij/hPNI/58/EH/AITmof8AxigDpK82/aD/AOSE+If+3b/0pirpf+E80j/nz8Qf+E5qH/xivP8A45eLdO1P4Ma7aW1trCSyfZ9rXOiXlvGMXEZ5kkiVR07kZPHU0Aeo+ItLk1nQbmygkWKZgrwu+dokVgy5xzjKjOO1U9D0/V7U6hqGpQ2Q1DULhGe3guXeKKNVVABIUBY4Bb7g5OP9qov+E80j/nz8Qf8AhOah/wDGKP8AhPNI/wCfPxB/4Tmof/GKAL9rpc0firUNVuGjZJreG3twp+ZVUszZ44yzep6CufsvBt5b3dnYtFYJpNhezX0VxE7C4laTzMoU24X/AFhy+87sfdGeNH/hPNI/58/EH/hOah/8Yo/4TzSP+fPxB/4Tmof/ABigDP0nw3r+neWzNp7SaVp8llpZ8+RhNuK4eYbRs4RBhd3c56Crng7TNa0xZxrlhp6T3GJLi+t9RkuZbmXplg0EYVQOgBIA4AqT/hPNI/58/EH/AITmof8Axij/AITzSP8Anz8Qf+E5qH/xigDpKK5v/hPNI/58/EH/AITmof8Axij/AITzSP8Anz8Qf+E5qH/xigDpKK5v/hPNI/58/EH/AITmof8Axij/AITzSP8Anz8Qf+E5qH/xigDpKK5v/hPNI/58/EH/AITmof8Axij/AITzSP8Anz8Qf+E5qH/xigCDwLapffBzw5aSkhJ9BtYmI7BrdQf50ugaLrllcPeaqtg9xa2C2FokFxIVmVTnzHLJ8hYhflAbGOrVi+AfGml2vw28NW8trrjPDpNqjGLQL6RCRCoO11hKsPQgkHqDXQf8J5pH/Pn4g/8ACc1D/wCMUAXp9LuLnxVYalIY/s9nayoqbiWErleRx02qRnPfpQulzN4wk1WYxmBLJba3UH5lJctITx0OE79jVH/hPNI/58/EH/hOah/8Yo/4TzSP+fPxB/4Tmof/ABigCrF4a1RPECIzWn9jRai+ppIJX88yMp/dFNu3aGYtu3eg2962E0qdfGUurFo/s72CWwXJ3bhIzZxjGMH1qj/wnmkf8+fiD/wnNQ/+MUf8J5pH/Pn4g/8ACc1D/wCMUAdJRXN/8J5pH/Pn4g/8JzUP/jFH/CeaR/z5+IP/AAnNQ/8AjFAHSUVzf/CeaR/z5+IP/Cc1D/4xR/wnmkf8+fiD/wAJzUP/AIxQB0lFc3/wnmkf8+fiD/wnNQ/+MUf8J5pH/Pn4g/8ACc1D/wCMUAdJRXN/8J5pH/Pn4g/8JzUP/jFH/CeaR/z5+IP/AAnNQ/8AjFAHSUVzf/CeaR/z5+IP/Cc1D/4xR/wnmkf8+fiD/wAJzUP/AIxQB0lc34D/AORduv8AsNar/wCnC4o/4TzSP+fPxB/4Tmof/GK5/wAF+NNLttBuUktdcJOrak4MegXzjDX07DlYSM4IyOoOQQCCKANaLw1qieIERmtP7Gi1F9TSQSv55kZT+6Kbdu0Mxbdu9Bt71q63pl5rWm29q4giH22KW4USFg0SSbsA7eSdq8YHUjPeqn/CeaR/z5+IP/Cc1D/4xR/wnmkf8+fiD/wnNQ/+MUAX9X0ubUtR0h1aMW1ndG4mVjyxCMEwMHOGYHt0rI8SeG9U1DULxtLa1FvqtmtletPK6NCisx3xhVIc4dhtJXsc9qsf8J5pH/Pn4g/8JzUP/jFH/CeaR/z5+IP/AAnNQ/8AjFAFvWNGmvrrQ3tmjWPTr0TyByclBE6YGBycsOuO9bNc3/wnmkf8+fiD/wAJzUP/AIxR/wAJ5pH/AD5+IP8AwnNQ/wDjFAHSUVzf/CeaR/z5+IP/AAnNQ/8AjFH/AAnmkf8APn4g/wDCc1D/AOMUAdJRXN/8J5pH/Pn4g/8ACc1D/wCMUf8ACeaR/wA+fiD/AMJzUP8A4xQB0lc3Y/8AJU9d/wCwLpv/AKPvqP8AhPNI/wCfPxB/4Tmof/GKo+HNXttZ+JOv3FnHeRouk6chF5ZTWr5869PCSqrEc9QMdRng0AT6P/yVHxB/2CNO/wDR17XV1ymj/wDJUfEH/YI07/0de1w3xMvoLX4paHrV9cGCy8NGJ5WLALmfzAc574jAHT71AHslFeJeELy50IeMfFN3cWsOs6pc20eLxXdVlZAwiWOJS8hVXUbF5JUjI6je0/4k6xd6a1sLe2k1O41v+ybG5lsprWKT92JGleCRjIuwBxsLAsVHIzQB6fRXA614k8ZaLPoukJaaNqWr6ndzxq8fmww+QkZYSMpLMhyVBAL8ZxyQBmn4geJYdNl1m5j0gafZanFpc9usUnm3Um9Y5JI3L4QBm+VCrEheWGeAD1CivLviD4zbUvBfijR4ND1uwmymnQ3V7aeTDdPNJ5Q8l8ksOc5xwCDWtovgxtP065Fv4f8AD3hO9+zrFHqei7Z59uRvyWt48EgdTuGeSOOQDu6K4T4OWktv8OoJ7i7ub2S8uZ7j7TdymSWVTIQhZj1O1V5ru6AObvv+Sp6F/wBgXUv/AEfY10lc3ff8lT0L/sC6l/6Psag8Vadaa54i0TSdYt47vTpUuZpLaaPfHK6qoXcDwcb2Iz3APUUAdXRXP+EC9/4D05buSSTzLXy2k3srsvKg7s7gcY5znvXIXPh2aw1TXtF0HTbXS/t1gklra2EpSO6WOTEjSNtXZK4YJnByOrnHAB6fRXA+F4HbUtc0bS9Ll8JWotrd47eAQb7aRzIGZVTfErEKDxu7EjJIqhaaRfaj8L7bTNPsItYH9sSieHULnaksSXTlvMcqxIO0Z+Vic9KAPTaK5/wc9omkz2VpotpojWNy8E9lZAeQsmAxKEKu4EMDnaDzyK6CgAooooAKKKKAOb+HH/JLPCn/AGBbP/0QldJXL/D9mT4SeGGT7y6HaEfXyFrC8FWsNjqWgXFoirNq+jyXOoyKmGuZQ0ZEjnu2XYZPODjpQB6LRXmfxX8TaXHaTaJda5aadJCkN1LFJdpFJP8AvRsRQSCV+Vmb2AHc07XIrS/1TWNdHlT3mnXFgumXIXcYUbYT5bDoH8xgcfeHByKAPSqK861Gxk0/xte+Idb8I6XfWgvLeK21KWVHu4E2oitHH5Z+USMSf3it1IB4zU061h/4Sq018wIiTazPbrqoA+1XGTIgt5B2hDKNp3NnavyL1AB6hRRRQAUUUUAFFFFABRRRQAUUUUAc3ff8lT0L/sC6l/6Psa6Subvv+Sp6F/2BdS/9H2NZPjLTrTWNfnh1WJJobHRZbq2EiZEU27Hmr6OoUYI5GTjrQB3VFYUviCLR/AsOtatKibLSOSRpXCAuyjqTwMsep6V51pWpWOp6b4gs4NdtNWN3rtmLyS2uFmV45fJDgbSf3ZO5B2wCOcGgD2KivMrnQ7i80680HRtDsdR0yz19f+JfdOIbWOEQrJtPyv8AKJG4VUb0wB0LqO01fTdG0W08N6dE0N5cpLoMgVbB2iUhtzBMbQWVlPlkk4yqnJUA9NorA8ENH/wiNpDHNLL9naSBjKuCjI7KU6nhSMDk8AVv0AFFFFABXm37Qf8AyQnxD/27f+lMVek15t+0H/yQnxD/ANu3/pTFQB6TRXP+OHdfB94kbtGJmihd0zkI8iq3T/ZY1X8JWVrpGra9pWl28drp9tcxNBbQx7I4S8SswVRwATzgd2J70AdRRXmGp+LNI1H4oaEn9v2K/Y9QmtFsvtiB93kuGd0zkEvhFz74+9U2iW0Ues6RqyIBqOp6pfW97cBCJJol83ajN1IXy0xnpjjGaAPSaK4Kz0G00P4hLaW2mw6bZajYzRq9jM3mXjgqzvcHCsHAJ2vlydzZYHAM/hvS7fw94+1CwtdNtdLtrqzWW3gsDmOYI5DSyDau2U71HQ5A+8egAO2ooooAKKKKACiiigDm/hx/ySzwp/2BbP8A9EJXSVx3hGaW2+B2hz25Imi8OW7xkD+IWykfrVbwbp1po2uW0GlxJFFe6LFdXWxNvnTbsea3q7AnJPJwM9KAO6orh/iFotstp/b8enW8lzaPHLNqLyH7TZxIwYm3BBGSMgqGQHPO7ocbU4IbjxNfa60CtDZ6rbxnVGAF1a4EQMMS94mLHcdy/eb5H6kA9RorzuOwfS/GlxreveEtLkW61VYrXVjKst5EGVY4yE8v5UyO0mRuJ29aZ4WtILbVtB1SGNV1DWDef2jOEw9xgkjee+wgKueg4GBQB6PRRRQAUUUUAFFFFABRRRQAUUUUAFc34D/5F26/7DWq/wDpwuK6Sub8B/8AIu3X/Ya1X/04XFAHSUV5xb2kI8QQa75a/wBrTeIpbJ7jZ+8NuFdRDu67AFVsdM89ea63xRoFrrullLnSbLV5YgTBa6jIRbs54yw2sMjsdpI7YzQBtUV5F9jHiHS9IsVtU1iax0mQSxanwsDiTy/PjPzbpVMbBOmR/wAtEzzd1KyfVf7P16Xwzp/ifR7PRY5En1aVFlzndIyIY3zJtVepQZ43HnAB6hRXmWrx2moX2qa/5QN5p82njTJXi+e3jfYxCd13+YwYDqODXptABRRRQAUUUUAFc3Y/8lT13/sC6b/6Pvq6Subsf+Sp67/2BdN/9H31AEGj/wDJUfEH/YI07/0de1e1LwX4f1hrltS08XBu54bibdK43SRf6s8NxjHQcHuDXPiDXJvijrX9g6jp9ljSNP8AN+22D3O/99eY27Zo9uOc5znI6Y52fsPjf/oYfD//AIIZ/wD5MoAmvPBWgX1rLBPZOBLefbmeK5ljkWf/AJ6LIrBlOBj5SOOKjHgPw6mj/wBmR2MkduLo3itHdzLKk5OTIsoferE5yQwzk+ppv2Hxv/0MPh//AMEM/wD8mUfYfG//AEMPh/8A8EM//wAmUAWdN8H6Fo89nNp1gIZLKOWOFvNdiBKwaQtknezFQSzZbrzyaQeDNBGuHVhZN9pM32jabiTyfNxjzfJ3eXvx/Ht3e9V/sPjf/oYfD/8A4IZ//kyj7D43/wChh8P/APghn/8AkygDX1PR7HWY7dNSg89Le4S5iG9l2yIcq3BGcHseKtSxJPC8UgykilWAJGQeOornvsPjf/oYfD//AIIZ/wD5Mo+w+N/+hh8P/wDghn/+TKANjSdKstD0i10vSoPs9naRCKGIMW2KOgySSfqTVyub+w+N/wDoYfD/AP4IZ/8A5Mo+w+N/+hh8P/8Aghn/APkygAvv+Sp6F/2BdS/9H2Naes6Dp+v2qQanHKyxvvjeC4kgkQ4IO142VhkEg4PIODXGXln4x/4WToytruhm4Ok35SQaLMEVfOs9wK/askklcHIxg8HII6D7D43/AOhh8P8A/ghn/wDkygDYXSrJLdLZYALZIDbLb7j5Xl4A27M7TwMZIzjjvWfaeDdEsre7hjtppVu4xFK1zdzTtsHRFaR2KKM5AUgA8iq/2Hxv/wBDD4f/APBDP/8AJlH2Hxv/ANDD4f8A/BDP/wDJlAGpo+h2GhW8kWnRyjzpPMlknnknllbAGWkkZmbgADJOAABUMnhjSZdKGnm2dIFmedDFPJHJHIzFmZJFYOpJZuVI4JHTiqP2Hxv/ANDD4f8A/BDP/wDJlH2Hxv8A9DD4f/8ABDP/APJlAGxpelWei2C2enRGOFWLHfI0juxOSzOxLMxPUkkmrlc39h8b/wDQw+H/APwQz/8AyZR9h8b/APQw+H//AAQz/wDyZQB0lFc39h8b/wDQw+H/APwQz/8AyZR9h8b/APQw+H//AAQz/wDyZQB0lFc39h8b/wDQw+H/APwQz/8AyZR9h8b/APQw+H//AAQz/wDyZQAfDj/klnhT/sC2f/ohKvad4Y0nSbi5nsLeSKS5UqxNxI2xSSSsYLERrkk4TaM81yPgGz8Yt8NvDTWeu6HFbnSbUxRy6LM7qvkrgMwulDEDqQBn0HSug+w+N/8AoYfD/wD4IZ//AJMoA2bzS7S/0s6feRtNbMqqytI2W2kEZbOScgc55qpe+GNJ1DWYNVu7Z3u4du0rPIqOVJKF4wwRypJKlgdp5GKo/YfG/wD0MPh//wAEM/8A8mUfYfG//Qw+H/8AwQz/APyZQBbm8J6PPrC6nLbymcSCXyxcyiBpB0kMIbyy44+Yrngc8CiHwlo0GtHVYrVxc+Y0qqbiQwpIww0iwlvLVzzlgobk88mqn2Hxv/0MPh//AMEM/wD8mUfYfG//AEMPh/8A8EM//wAmUAdJRXN/YfG//Qw+H/8AwQz/APyZR9h8b/8AQw+H/wDwQz//ACZQB0lFc39h8b/9DD4f/wDBDP8A/JlH2Hxv/wBDD4f/APBDP/8AJlAHSUVzf2Hxv/0MPh//AMEM/wD8mUfYfG//AEMPh/8A8EM//wAmUAdJRXN/YfG//Qw+H/8AwQz/APyZR9h8b/8AQw+H/wDwQz//ACZQB0lFc39h8b/9DD4f/wDBDP8A/JlH2Hxv/wBDD4f/APBDP/8AJlABff8AJU9C/wCwLqX/AKPsav614a0rxA0J1W3eUw5CmOeSLcpxuRtjDehwMo2VOBkVyF5Z+Mf+Fk6Mra7oZuDpN+UkGizBFXzrPcCv2rJJJXByMYPByCOg+w+N/wDoYfD/AP4IZ/8A5MoA30t0ScyrvDFAm3zG2ADOMLnAPPUDJ49BVKbw9pdxBqEMtruTUXElz+8YF3CqoYEHKkBVwVxgjPXms37D43/6GHw//wCCGf8A+TKPsPjf/oYfD/8A4IZ//kygCy3hDRm0iPTvInWKKQypKl5Mtwrnq/nh/M3HJBO7JBIORSSeDtEk0i200W00UFq5khkgu5Ypkc53N5ysJNzZO47stk5zVf7D43/6GHw//wCCGf8A+TKPsPjf/oYfD/8A4IZ//kygDcsLC20yxis7CFYbeIYRF7fj1JJ5JPJPNWK5v7D43/6GHw//AOCGf/5Mo+w+N/8AoYfD/wD4IZ//AJMoA6Siub+w+N/+hh8P/wDghn/+TKPsPjf/AKGHw/8A+CGf/wCTKAOkrzb9oP8A5IT4h/7dv/SmKul+w+N/+hh8P/8Aghn/APkyvP8A45WniqL4Ma6+q6zo9zaD7P5kVtpEsMjf6RHjDtcuBzg/dORxx1AB69eWdvqFjNZ3sSzW86GOSNujKRgiqWneHtO0rT2s7FbhI2l853e7leWR8g5aVmLt0A5J4GOnFZ32Hxv/ANDD4f8A/BDP/wDJlH2Hxv8A9DD4f/8ABDP/APJlAG3c6da3l1aXNxFvls5DJA24jYxUqTgHnhiOap2/hnSbXWZtUhtmF1Nu3bpnaNS2NxWMtsUtgZKgE981Q+w+N/8AoYfD/wD4IZ//AJMo+w+N/wDoYfD/AP4IZ/8A5MoAsWHg3QtNnmltrN3MsTQbLi5lnSONjkxxpIzLGh4+VABwBjgVPo/hrS9Cmll0+KfzZlCNJc3Utw4QdEVpGYqoyflGB7VQ+w+N/wDoYfD/AP4IZ/8A5Mo+w+N/+hh8P/8Aghn/APkygDpKK5v7D43/AOhh8P8A/ghn/wDkyj7D43/6GHw//wCCGf8A+TKAOkorm/sPjf8A6GHw/wD+CGf/AOTKPsPjf/oYfD//AIIZ/wD5MoA6Siub+w+N/wDoYfD/AP4IZ/8A5Mo+w+N/+hh8P/8Aghn/APkygBPh0A3wq8KhgCDotmCD3/cJV3TPCmkaNDdR6bBNCLpdjt9qlZlUZwiMWJjUZOFQgDPAFcn4Bs/GLfDbw01nruhxW50m1MUcuizO6r5K4DMLpQxA6kAZ9B0roPsPjf8A6GHw/wD+CGf/AOTKALd/4T0fUtQW9vLeV5Rt3qt1Kkc237vmRqwSXHbeGon8JaLc60dUmtXa5Z1kdRcSCGR1+67QhvLZxgYYqSMDngYqfYfG/wD0MPh//wAEM/8A8mUfYfG//Qw+H/8AwQz/APyZQBbTwno6ayuqLbSfaFkMqobmUwJIc5kEO7yw5yfmC55PPJp9h4Y0nTdXn1KztnS6n3bi08jom47m2IzFY9xGTtAyeTmqP2Hxv/0MPh//AMEM/wD8mUfYfG//AEMPh/8A8EM//wAmUAdJRXN/YfG//Qw+H/8AwQz/APyZR9h8b/8AQw+H/wDwQz//ACZQB0lFc39h8b/9DD4f/wDBDP8A/JlH2Hxv/wBDD4f/APBDP/8AJlAHSUVzf2Hxv/0MPh//AMEM/wD8mUfYfG//AEMPh/8A8EM//wAmUAdJRXN/YfG//Qw+H/8AwQz/APyZR9h8b/8AQw+H/wDwQz//ACZQB0lFc39h8b/9DD4f/wDBDP8A/JlH2Hxv/wBDD4f/APBDP/8AJlAHSVzfgP8A5F26/wCw1qv/AKcLij7D43/6GHw//wCCGf8A+TK5/wAF2fjFtBuTa67ocaf2tqQKyaLM5Lfbp9xyLocFskDHAIGTjJAOuXwxpKeIDrS2zi9JJz58nlhiu0uIt2wPtG3ft3Y4zil1Hw1puq28UV4LrMLM0c0N9NFMm77wEqOH2n+7nHAGOBVD7D43/wChh8P/APghn/8Akyj7D43/AOhh8P8A/ghn/wDkygCe78GaFeW1pA9m8MdnEYYRa3MtufLOMoxjZS6HAyrZB7il1HwboWqSRNdWbqscaxGK3uZYI5Y1+6kiRsqyKOyuCMEjGCar/YfG/wD0MPh//wAEM/8A8mUfYfG//Qw+H/8AwQz/APyZQBeu/C+kX2sQanc2rG5t9u3bPIkbbSSm+MMEfaSSu4HaeRitaub+w+N/+hh8P/8Aghn/APkyj7D43/6GHw//AOCGf/5MoA6Siub+w+N/+hh8P/8Aghn/APkyj7D43/6GHw//AOCGf/5MoA6Siub+w+N/+hh8P/8Aghn/APkyj7D43/6GHw//AOCGf/5MoA6Subsf+Sp67/2BdN/9H31H2Hxv/wBDD4f/APBDP/8AJlUfDkWqw/EnX11y8s7y4/snTislnaNboF869wCrSSEnOecjqOOMkAn0f/kqPiD/ALBGnf8Ao69q1rXi5dJ8QWmi22j6jq1/dW73Kx2XkgJGjKpLNLIgHLDABPequj/8lR8Qf9gjTv8A0de1kS+HtY1v4s6vqA1PU9Fs7TT4LO2mtYYf35Ys8mDNE4IHyjK96AOu8O+ILXxLpIv7OK4gAleGWC5QLJFIjFWVsEjII6gkHsa1K8sPw1sLvxzbaXLb3x0LTNLZnMkkirfXE825y8gxvbMYZgD3GRg4rC8P+GfEbeKIrudJLfXbO5u5prgaK6GZSrrHE960wSSIgoVRFO3aMhcE0Ae4VS0nUv7W05bv7Fd2W5mXybyLy5BtYjJXJwDjI9iK8u8P2lvZ+E7q+h8L60PFVvo8pvr+Sykie5uHB3Rk8G4bcMgqrqABgjisPW/ClwlnounRaReXs2naTBZppl/o0s9rcFtu6SK6iP8Aosi/MCzFTwO2DQB7a2pbdcTTfsV4d1uZzdiL9wuGxsL5++c5xjpV2vH/ABFo2sXGqeJ760sdSSBZNNsZBCrtLPZx/POIifmk++QduScMOTxVfUNDu5vDHiqDw3oV5p+h6zcWllZ2EVk8DYLKk8/k7Q0akE5JAyFLHjBIB7RRXB+DvDq6T8Q/E1zZ2U1lYeTa20e6NlW5dULPLk/6xvmAL85xjORXeUAc3ff8lT0L/sC6l/6Psava7r6aGluq2N3qN1cuyw2lmE8x9qlmPzsqgADuR2AyTiqN9/yVPQv+wLqX/o+xpvieV9M1vSdae0urq2tlnhmW0tXuJELqpVgiAsRlMEgHG4Z4yQAbVrqtpd6NHqsUuLOSHzxIwIwmM5I7YFZlh4pl1GymuIPDmsqVjE1vHLHChukJ4KEybVPfbIUbHas+20m6b4Ynw+8TRahcaXKoQxnYjMD8pb7oILAYz2PYVW8LNcw6lPLZprZs4rL/AEuLVEn5ugRgQiTtgNnyv3Zyu2gDQtvHML2uqTX2janp50x0jkjnMDmSR8bY0MUrgsdyjBIxuGauweK9POi3Opaj5mlLZyGK5hvSoeF+MKdjMrE5XG0nO4YzWCdIu4vhpZsbWWW+E8OpXcPllpHfzlmkG3gluoA68AVqeGYnuv7a1NrWaGHULzzbdLi3aGQqsSJuKOAyklTgEA4xxQBr6Lq1vruiWeqWSyLb3kSyxiVdrBSMjI7H2q9WD4Gt57TwHo1vdwyQTR2iK8cqlWU46EHkGt6gAooooAKKKKAOa+HJx8K/CpPA/sWz/wDRCVY0TxZaa7eGCC1u7dXjM1rNOqBLuINtMke1icZI4YKcEHGDVX4fJ5vwl8MRg4LaHaLn6wLWR4Uhuft+kLPYXVt/YOlSWl00to6BpSYwBGSP3gxGTlMjkc5OKAOk1fxKml362cGmahqc4i86ZbGNGMEWcb23MuckHCruY4OFNQal4ys9M1FrZ7K+mhh8r7XdxInl2nmHCbwzBzn/AGVbHfFc34psJhr99qS/28Df2MC6adLSddtyhkx5vljgfOvE37vrnoar63aak2rXn2yxvZ9ZkS3OmNa2rtZyMqqWM5UeWdsgY/vj8owUwaAOwu/FMdjrCWdzpeopbNMlv/aLRoLfzX+6nLbzkkDcEK5ON3XEsPinSrnxVJ4ftZ/PvoYWlmEfKxYKjazdm+cHb1AIJxkZwPFMrajrFja2lhq66vZ3cT28nkymyKblLyMwzCcLvA34kB+6BkE6s9pN/wALHsLmO3f7OumXCPKqHYHaWIgE9MnBP4GgDoqKKKACiiigAooooAKKKKACiiigDm77/kqehf8AYF1L/wBH2NWNf8U2+gTRQvZXl9I0TzyLaKjGCFcbpW3MvyjI4XLHsDiq99/yVPQv+wLqX/o+xqh4taew1qa7XT7u9S+0qSxiFravPibdlVfaDsVt33mwoxyRQB1F7qlpYaPLqdxIfssUXml0UsSuMjAHJJ7DvWUPFqRaPPfalo2qac8Toi2tzHH5krOQqBGR2jJJIH3hj+LbVPXNLuZ/AJ0S1WV761tbdv3cfDFGUkKzDYW+Q8Z9M8GsCaK9n0fUn0yHW59D+0Wshi1CGeS7wHzOYlnBl4AUgAZBB8vnFAHUxeLxPp8stvoeqzXsNz9ml01EiM0b4DfM3meUBtIO7zMHIAOeKWbxvo1p4UbX72WS2tlLoYZE/feYhIaIICdzgqRhc9M5xzWLpN0mm6Pqby6brh0S4uglu6W1wb0IYwGkcD/ST84IDEGTv90Ah2l6fcr8LNTtltLlVaK7/s+C4iP2gQtu8sOCNxcg/wAXznPzfNmgDtLa4W7tIbiMEJMiuobqARnmpaqaSjR6LZJIpR1t4wysMEHaOCKt0AFFFFABXm37Qf8AyQnxD/27f+lMVek15t+0H/yQnxD/ANu3/pTFQB32qalb6PpVxqF6WENuhdtoyx9AB3JPAHqar6Jraa1BOTZXVhc20vlT2l2E8yJsBhkozKQVIIIY9fXIqv4wtJ73wtdR2kJnljaOZYlGTJ5ciuVA7khSAKpeHLnzr3Wdaa0vLe1vrmJIFnspY5WCoqFjGy71G7PJA4GenNAF2PxOk2uSafb6XqM0EU3kSahHEpgSXGSh+bfx0LBNoPBYHNMh8VI+tQ2FzpOpWUdzI8Vrd3MaLHcOoJIChzIvCsRvRQccds8tZ6dfad4iFta/2wmpHVpLgsFm+wNZySF2zj9yWwSOf3gbH8NWrLWF8ReL1l1Oz1m1FlJLFp9o+kXKJuwVM7zNH5eSMhBuwAeSS2AAdFofiOTXZXaLRNRtrP5vKvbhoPLm2ttyoWVn5xkblHFbdee+DrJdP120tNBXxJHZ29s6aiutef5e/I2CPzfk3Z3cwfJj6rXoVABRRRQAUUUUAFFFFAHMfD2RIfhP4XllYKiaJaMzHsBAmTVvQPFNv4gkkSOyvLJhEs8Qu1QefC2dsqbWb5Tjo2GHcDNZfg61e++CWg2kRAefw9bxKT6tbKB/OoPDM8s+pJqE2nX1nFpukJZzCexkjZpQ2WWNSMyAbeCgIOeCaANzUPE6WWsf2fBpeo6g0aK91LZxKyWqscKWBYMxOCcIHOBkgZGWXnitLDVFtrnSdSS0M6W/9pNGggEjkBVwXEhBJA3BCuT161y/iCwvLfxDqs1oNaW+vzDLpL2KzCDzVQKRMU+QDIGRN8uD8vOatajrA1bxdHpmrWmr29hp9zGUWLR7qRL6cYKuZVjKLErEd+SMkgDkA6GPxOk2uSafb6XqM0EU3kSahHEpgSXGSh+bfx0LBNoPBYHNSWPijS9S8RXmi2ExnubKISTsgzGhLFdm7oWBHIHTvXH2enX2neIhbWv9sJqR1aS4LBZvsDWckhds4/clsEjn94Gx/DXTw2kqfEWe4W3dbY6XGglCEIW81yVz0zznHvQB0FFFFABRRRQAUUUUAFFFFABRRRQAVzfgP/kXbr/sNar/AOnC4rpK5vwH/wAi7df9hrVf/ThcUATR+LbSTxEdKW0vNnnG2F/tT7O04XeYs7t+7bnnbtyCM54q1rWuLowt0Sxu9Ru7pykFpZhPMfAyxy7KqgDqWYdh1IFcpDbXQ1+HRjYXQkh1yTUmuTauIDAQzAiXGwtlwu3O7g8YGat+LbaO71PS9VuE1b+zYI7i3uP7OiuFuAWKbSBEPO25TqnsT8pNAGpe+K2tLOG4i0DWbpGhM0wjgRDbKOu/zHXJGD8qbjxnGCCVvfF9tBJbrp+n6hqxmt1um+wxq3kwt0dg7KTnnCruc4OFNcveaxqkOg6foWrRa1ELuB2utQg0y4upUg3kJFmJGxMUxuY9OTyTUeu6V9m1K4u7KPXoYbrTbeLSV0uOdCk8fmBRKEAKj504m/d9cjINAHZX/irStP1vTtImmZr/AFF9sUCLlkG1m3OP4F+UgE9TwO9bNcxrdnezXPhZ3gMs8WoI928MZKr/AKPICxx0G4459RXT0AFFFFABRRRQAVzdj/yVPXf+wLpv/o++rpK5ux/5Knrv/YF03/0ffUAYw8R6H4f+KOtf29rOn6Z5+kaf5X226SHzNs15nbuIzjIzj1FbP/Cx/BH/AEOXh/8A8GkH/wAVUGj/APJUfEH/AGCNO/8AR17XV0Ac3/wsfwR/0OXh/wD8GkH/AMVR/wALH8Ef9Dl4f/8ABpB/8VXSUUAc3/wsfwR/0OXh/wD8GkH/AMVR/wALH8Ef9Dl4f/8ABpB/8VXSUUAc3/wsfwR/0OXh/wD8GkH/AMVR/wALH8Ef9Dl4f/8ABpB/8VXSUUAc3/wsfwR/0OXh/wD8GkH/AMVR/wALH8Ef9Dl4f/8ABpB/8VXSUUAed3nj7we3xJ0a6XxZoZt49Jv43lGpQ7FZprMqpO7AJCMQO+0+hroP+Fj+CP8AocvD/wD4NIP/AIqi+/5KnoX/AGBdS/8AR9jXSUAc3/wsfwR/0OXh/wD8GkH/AMVR/wALH8Ef9Dl4f/8ABpB/8VXSUUAc3/wsfwR/0OXh/wD8GkH/AMVR/wALH8Ef9Dl4f/8ABpB/8VXSUUAc3/wsfwR/0OXh/wD8GkH/AMVR/wALH8Ef9Dl4f/8ABpB/8VXSUUAc3/wsfwR/0OXh/wD8GkH/AMVR/wALH8Ef9Dl4f/8ABpB/8VXSUUAc3/wsfwR/0OXh/wD8GkH/AMVR/wALH8Ef9Dl4f/8ABpB/8VXSUUAed+AfH3g+z+G3hq1vPFmhwXEOk2scsUupQq8bCFQVYFsggjBBroP+Fj+CP+hy8P8A/g0g/wDiqPhx/wAks8Kf9gWz/wDRCV0lAHN/8LH8Ef8AQ5eH/wDwaQf/ABVH/Cx/BH/Q5eH/APwaQf8AxVdJRQBzf/Cx/BH/AEOXh/8A8GkH/wAVR/wsfwR/0OXh/wD8GkH/AMVXSUUAc3/wsfwR/wBDl4f/APBpB/8AFUf8LH8Ef9Dl4f8A/BpB/wDFV0lFAHN/8LH8Ef8AQ5eH/wDwaQf/ABVH/Cx/BH/Q5eH/APwaQf8AxVdJRQBzf/Cx/BH/AEOXh/8A8GkH/wAVR/wsfwR/0OXh/wD8GkH/AMVXSUUAc3/wsfwR/wBDl4f/APBpB/8AFUf8LH8Ef9Dl4f8A/BpB/wDFV0lFAHN/8LH8Ef8AQ5eH/wDwaQf/ABVH/Cx/BH/Q5eH/APwaQf8AxVdJRQB53eePvB7fEnRrpfFmhm3j0m/jeUalDsVmmsyqk7sAkIxA77T6Gug/4WP4I/6HLw//AODSD/4qi+/5KnoX/YF1L/0fY10lAHN/8LH8Ef8AQ5eH/wDwaQf/ABVH/Cx/BH/Q5eH/APwaQf8AxVdJRQBzf/Cx/BH/AEOXh/8A8GkH/wAVR/wsfwR/0OXh/wD8GkH/AMVXSUUAc3/wsfwR/wBDl4f/APBpB/8AFUf8LH8Ef9Dl4f8A/BpB/wDFV0lFAHN/8LH8Ef8AQ5eH/wDwaQf/ABVH/Cx/BH/Q5eH/APwaQf8AxVdJRQBzf/Cx/BH/AEOXh/8A8GkH/wAVXn/xy8a+FdX+DGu2OleJdHvruX7P5dvbX8Ukj4uIycKrEnABP0FeyV5t+0H/AMkJ8Q/9u3/pTFQB0v8AwsfwR/0OXh//AMGkH/xVH/Cx/BH/AEOXh/8A8GkH/wAVXSUUAc3/AMLH8Ef9Dl4f/wDBpB/8VR/wsfwR/wBDl4f/APBpB/8AFV0lFAHN/wDCx/BH/Q5eH/8AwaQf/FUf8LH8Ef8AQ5eH/wDwaQf/ABVdJRQBzf8AwsfwR/0OXh//AMGkH/xVH/Cx/BH/AEOXh/8A8GkH/wAVXSUUAc3/AMLH8Ef9Dl4f/wDBpB/8VR/wsfwR/wBDl4f/APBpB/8AFV0lFAHN/wDCx/BH/Q5eH/8AwaQf/FUf8LH8Ef8AQ5eH/wDwaQf/ABVdJRQB534B8feD7P4beGrW88WaHBcQ6TaxyxS6lCrxsIVBVgWyCCMEGug/4WP4I/6HLw//AODSD/4qj4cf8ks8Kf8AYFs//RCV0lAHN/8ACx/BH/Q5eH//AAaQf/FUf8LH8Ef9Dl4f/wDBpB/8VXSUUAc3/wALH8Ef9Dl4f/8ABpB/8VR/wsfwR/0OXh//AMGkH/xVdJRQBzf/AAsfwR/0OXh//wAGkH/xVH/Cx/BH/Q5eH/8AwaQf/FV0lFAHN/8ACx/BH/Q5eH//AAaQf/FUf8LH8Ef9Dl4f/wDBpB/8VXSUUAc3/wALH8Ef9Dl4f/8ABpB/8VR/wsfwR/0OXh//AMGkH/xVdJRQBzf/AAsfwR/0OXh//wAGkH/xVH/Cx/BH/Q5eH/8AwaQf/FV0lFAHN/8ACx/BH/Q5eH//AAaQf/FUf8LH8Ef9Dl4f/wDBpB/8VXSUUAc3/wALH8Ef9Dl4f/8ABpB/8VXP+C/H3g+10G5juvFmhwu2ralIFk1KFSVe+nZWwW6FWBB7gg969Erm/Af/ACLt1/2GtV/9OFxQAf8ACx/BH/Q5eH//AAaQf/FUf8LH8Ef9Dl4f/wDBpB/8VXSUUAc3/wALH8Ef9Dl4f/8ABpB/8VR/wsfwR/0OXh//AMGkH/xVdJRQBzf/AAsfwR/0OXh//wAGkH/xVH/Cx/BH/Q5eH/8AwaQf/FV0lFAHN/8ACx/BH/Q5eH//AAaQf/FUf8LH8Ef9Dl4f/wDBpB/8VXSUUAc3/wALH8Ef9Dl4f/8ABpB/8VR/wsfwR/0OXh//AMGkH/xVdJRQBzf/AAsfwR/0OXh//wAGkH/xVUfDmt6Vr3xJ1+60PU7PUrdNJ06NpbO4WZFYTXpKkqSM4IOPcV2Vc3Y/8lT13/sC6b/6PvqAINH/AOSo+IP+wRp3/o69rl/G3iHTIviYtrr2pa1a6Rpmjtc3S6W96iK7yfK8rW3IAVG5Y45NdRo//JUfEH/YI07/ANHXtacHhjT4db1fVGEk0+rxRw3AkIKiNFKhVwM4+Yk5J5NAHn+nePJfCOh2kGqSIJdWu7ibSl1/VfIEdkMFWlnfe2TkYUhm+YA4xW9Y/Eh9estIHhnSkvdR1K2kujBPd+VDDHG2xiZVR85fhcL83XjFW4fhzp9ppWk2mnanqdlPo8TwWd9E8TTxwv1i+eNlK8L1XI2jnPNT33gW1upLOa11jWNPurW0NkbuC5DzTQkglXeVXOcjO4YYdjQBkeLfiZN4R023udS0qxtZWsjdz2l/rMMM2R1ihRQ5mfr/AHVPHzZPGB4v8TapJe+KZdPv7q0hi0yxs7RUkKmO5uZDlsDgOFZAD1FdVqfww0vUr69uP7T1W3XUIYIbuKOaNxOITlCzyI0n1+bB7jJzVyf4f6Rc3N1NPJdO13qUGpSgyLgyQhRGn3eEG0HHXPegDpLeMxW0UbMzlEClmOScDqTUlFFABRRRQBzd9/yVPQv+wLqX/o+xpniiJ9T1zSNFa8urS1uVnmma0uXt5H2KAqh0IYDL5ODzt544p99/yVPQv+wLqX/o+xq/rmgrrccBS/u9Oubdi0N3ZlBIgYbWHzqykEeqnoCMEA0AZ2lX+q6h8NY7u0dZtWexbynbGJJQCFY9ByQD6VgeHdfg0rUjDnXjA+mtc3K6uJzJ9oV0XCCb5huL4wnyE42967a10iGysYbG1lmitIbf7OsKvjjAAbdjduAHUHuT15rNtfBlgBdf23PP4ga6jWFzqyRSgRKciMKqKuM85ILE9ScDABkeHYtR1eHxLaa/qd3C66gpc205jMEZhjcxI45VRkgsuCeSCCazLG4nutIW1sNR1A6JqWtJb2V1LeSmd7bZucpMzeYVZ0YK+7O05U421tP8L/D0em6rZ6REdGTVZo5J206GCM7UxiMAxlTGcHKsCDub1rSbwtJNpDWV9r+p3ciypNb3jrbpLbMvQp5cSp+DK2ckHjigA8HyynSbi1mnkufsN7PaxyzSmR2RHIXcx5YgYGTknHJJrfqjo+lRaLpqWcMs0+GZ5J5yDJM7EsztgAZJJPAA9ABxV6gAooooAKKKKAOb+HH/ACSzwp/2BbP/ANEJVfw7Jqy+OdettY1EXYW3tpYo44zHFAGaX5VUk84UZYnJPoMAWPhx/wAks8Kf9gWz/wDRCVqR6PDFrF7qcUsy3F5BHC/KkIE3bSoI6/OeuRwOKAOS8X3F3JqmszRahcWv9h6Ul5bJBcvErSlpCTIqnEi4jC7WBHJ4zzXdQv5sEchGCyhsfUVh6t4St9YuI5bi/vYiYVgulhaMC9jByEkyh4zn7m0/MRnBxW+BgYHAoAKKKKACiiigAooooAKKKKACiiigAooooA5u+/5KnoX/AGBdS/8AR9jUPxAfVYNBSfS9R+wxRzw+f5ceZZQZUG0Nn5QQTngk9ARU19/yVPQv+wLqX/o+xrX1fSoNa017G6aRIndHJjIDZVgw6g91FAFLxheXFh4Rv57KXyJ9gRJf+eZZgu78N2fwqp4XjfTtW1nRlurq6trNoXha7uXuJE8xMspdyWIyCRknGfTArY1DS4tUtbq1vJZXtrmHymhBACdfmUgbg3I744GAOcwaHoa6LFPuvrvUbm5cPNd3hTzJCAFUfIqqAAAAAo9epJoA1KKKKACiiigAooooAK82/aD/AOSE+If+3b/0pir0mvNv2g/+SE+If+3b/wBKYqAOt8Y3dxZ+FLt7OY280hjhWYHBj8yRULA+oDZqv4WR7HUda0gXNzc21lPGYGurl55FV4wxUu5LH5skZJxnHQAVtanp0GraXPYXe7yp02sUbay+hB7EHBB9RVLStA/sq0mRdTvbm6uJhNPez+UZZSMAAhUCAbVC4Cjj35oA42TU7zTfEhnvxrY1N9YW3CnzvsLWkjhU2j/Uk7SDx+8DA54zWiNHiT4gM9heaukWmwG7ulk1e6kimkk3BI/LeQptADMQB/cxxxW6/hiObXY9RutT1C4hhlM8OnyyIYIpcY3j5d5xk4UuVGcgDAxes9Kgsr7ULqNneS/lWSXfggYQIAMDphe+eSaAOO8JXF7HfaPLJqE91JrmlSXlws9y8iLKGjIKKSRGuJCNq4HA4zzWp4Ok1T+1/EdvrOom/lgvYwrLH5ccYMEbbUTJ2rknqST1Jq9ovhS10S9a4iu7u5CxmG2iuGQpaRFtxjj2qDjIHLFjgAZwKvWOkwWGoaheQvI0moSrLKHIwpVFQbeOmFHXPNAF6iiigAooooAKKKKAOa+HWf8AhVXhXbjP9i2eM/8AXBKi8Jvqg1/xFBrOom+kiuIdm2Py44g0QO1FycD6kk9Sam+HH/JLPCn/AGBbP/0QlacWjRW93qd1b3E8U+olS7jafLKpsBUFSOgzznmgDkfElxdnV9Z1KPULqFtD+y/ZoIrp44m3nc/mIDtfcDtG4HGOMHmu/rB1HwlbalqyXst7exKwj+02sTIIrvy23J5gKluD/dK56HI4reoAKKKKACiiigAooooAKKKKACiiigAooooAK5vwH/yLt1/2GtV/9OFxXSVzfgP/AJF26/7DWq/+nC4oAguJNWi+KGnRz6lnT57O5MdlFHtUFTF8znJ3t8xx0AHbPNSeKIn1PXNI0Vry6tLW5WeaZrS5e3kfYoCqHQhgMvk4PO3njitmfSYLjXLTVXeQT2kUsUagjaRIVJyMZz8gxz61U1bw7/atvADqt/aXdu7tFfW3lCVAwIK4ZChXBxyp6A5yM0AHhG+n1Hwjpt1eSebO8IEkn98jjd+OM1s1X0+xg0zTbexs1KwW8YjjBOTgDHJ7n3qxQAUUUUAFFFFABRRRQAVzdj/yVPXf+wLpv/o++rpK5ux/5Knrv/YF03/0ffUAYwn1yH4o61/YOnafe50jT/N+23722z99eY27YZN2ec5xjA6542ft3jf/AKF7w/8A+D6f/wCQ6g0f/kqPiD/sEad/6Ova2tf8QaX4X0WfV9eu1s7G3x5kzKWxk4AwoJJJPQCgDM+3eN/+he8P/wDg+n/+Q6Pt3jf/AKF7w/8A+D6f/wCQ637W5hvbOG6tX8yGZFkjcDG5SMg/lUtAHN/bvG//AEL3h/8A8H0//wAh0fbvG/8A0L3h/wD8H0//AMh10lFAHN/bvG//AEL3h/8A8H0//wAh0fbvG/8A0L3h/wD8H0//AMh10lFAHN/bvG//AEL3h/8A8H0//wAh0fbvG/8A0L3h/wD8H0//AMh10lFAHnd5eeMf+Fk6MzaFoYuBpN+EjGtTFGXzrPcS32XIIIXAwc5PIwAeg+3eN/8AoXvD/wD4Pp//AJDovv8Akqehf9gXUv8A0fY1p6zr2n6BapPqckqrI+yNILeSeRzgk7UjVmOACTgcAZNAGZ9u8b/9C94f/wDB9P8A/IdH27xv/wBC94f/APB9P/8AIdb0F3b3NlHd28ySW8kYkSVW+VlIyDn0xWfo3ijSdfkdNLuJJGRd4823kh8xCcB0LqPMTP8AGuV96AKP27xv/wBC94f/APB9P/8AIdH27xv/ANC94f8A/B9P/wDIdXpPFGjR22oTm9Vo9Om+z3PlozlZcAhAoBLsdwAVQSScdeKjHi7Rjokmqief7NFKIZENnN5ySEgBDDs8wMSw+XbnkUAVft3jf/oXvD//AIPp/wD5Do+3eN/+he8P/wDg+n/+Q62dN1KDVbJbq1S5jjYkBbq1lt349UkVWH5c1boA5v7d43/6F7w//wCD6f8A+Q6Pt3jf/oXvD/8A4Pp//kOukooA5v7d43/6F7w//wCD6f8A+Q6Pt3jf/oXvD/8A4Pp//kOukooA878A3njFfht4aWz0LQ5bcaTaiKSXWpkdl8lcFlFqwUkdQCcep610H27xv/0L3h//AMH0/wD8h0fDj/klnhT/ALAtn/6ISr+l+JdK1m8ntdOuGklg5bdBJGHXJXcjMoEi5BG5SRnvQBQ+3eN/+he8P/8Ag+n/APkOj7d43/6F7w//AOD6f/5Dq9rHifSdBmji1O4kSSRS+2K3km2IDgu+xTsQd3bCj1pt94r0bTtRisru6ZZZdnzpBI8Ue84TzJFUpHuPTeRntQBT+3eN/wDoXvD/AP4Pp/8A5Do+3eN/+he8P/8Ag+n/APkOrknivR4tbGkyXMguTIIt32aQwiQjIjM23yw5H8BbdyOORVw6tYDWhpP2qM35gNx9nBywjBA3H0GTgZ6846GgDH+3eN/+he8P/wDg+n/+Q6Pt3jf/AKF7w/8A+D6f/wCQ66SigDm/t3jf/oXvD/8A4Pp//kOj7d43/wChe8P/APg+n/8AkOukooA5v7d43/6F7w//AOD6f/5Do+3eN/8AoXvD/wD4Pp//AJDrpKKAOb+3eN/+he8P/wDg+n/+Q6Pt3jf/AKF7w/8A+D6f/wCQ66SigDm/t3jf/oXvD/8A4Pp//kOj7d43/wChe8P/APg+n/8AkOukooA87vLzxj/wsnRmbQtDFwNJvwkY1qYoy+dZ7iW+y5BBC4GDnJ5GAD0H27xv/wBC94f/APB9P/8AIdF9/wAlT0L/ALAupf8Ao+xq/rXiXSvD7QjVbh4jNkqI4JJdqjG522KdiDIy7YUZGTQBQ+3eN/8AoXvD/wD4Pp//AJDo+3eN/wDoXvD/AP4Pp/8A5Dreuby3s7KW8up44raJDJJK7YVVAyST6YrKtvGGi3Wl3F+txNFDb7fNS4tJoZRu+7iJ1Dnd0XCnceBmgCt9u8b/APQveH//AAfT/wDyHR9u8b/9C94f/wDB9P8A/IdT/wDCZ6J/ZYvxPcGMzfZ/IWynNx5nXZ5ATzd2Ocbc456c1a/4SLSf+EefXXvoo9MjjMj3EmUCAcHcDgggjBBGQeMZoAzvt3jf/oXvD/8A4Pp//kOj7d43/wChe8P/APg+n/8AkOuhhmS4t45oW3RyKHQ4xkEZFPoA5v7d43/6F7w//wCD6f8A+Q6Pt3jf/oXvD/8A4Pp//kOukooA5v7d43/6F7w//wCD6f8A+Q68/wDjld+Kpfgxrqaro2j21ofs/mS22ryzSL/pEeMI1sgPOB94YHPPQ+yV5t+0H/yQnxD/ANu3/pTFQB0v27xv/wBC94f/APB9P/8AIdH27xv/ANC94f8A/B9P/wDIdb15eW+n2M15eyrDbwIZJJG6KoGSaraPrVjrtm1zpskjIjmN0mgkhkjYdmjkVWU4IPIGQQehoAyvt3jf/oXvD/8A4Pp//kOj7d43/wChe8P/APg+n/8AkOrreKtHXXTpBuX+1hxGxFvIYlkIyIzLt8sORzsLbuRxzVsavYHWjpC3UbagsH2hrcHLLHnaGPoCemeuDjoaAMf7d43/AOhe8P8A/g+n/wDkOj7d43/6F7w//wCD6f8A+Q6t2Pi3RdSvprW0u2LxKzb5IJI45FU4YxyMoSQKepQkDvT9H8TaVr0ssWmzytJEocpNbSQlkOcOokVd6HBwy5U+tAFH7d43/wChe8P/APg+n/8AkOj7d43/AOhe8P8A/g+n/wDkOukooA5v7d43/wChe8P/APg+n/8AkOj7d43/AOhe8P8A/g+n/wDkOukooA5v7d43/wChe8P/APg+n/8AkOj7d43/AOhe8P8A/g+n/wDkOukooA878A3njFfht4aWz0LQ5bcaTaiKSXWpkdl8lcFlFqwUkdQCcep610H27xv/ANC94f8A/B9P/wDIdJ8OiF+FXhUsQANFsySe37hK0NF8S6V4gaYaVcPKYcFhJBJFuU52uu9RvQ4OHXKnBwaAKH27xv8A9C94f/8AB9P/APIdH27xv/0L3h//AMH0/wD8h1d1PxVo+kajHY39zIk7qHbZbySLCpOA0jqpWJScgFyoOD6GmS+LdGh1gaZJcSicyCHzBaymASHpGZtvlhzkfKWzyOOaAKv27xv/ANC94f8A/B9P/wDIdH27xv8A9C94f/8AB9P/APIdXW8VaOuunSDcv9rDiNiLeQxLIRkRmXb5YcjnYW3cjjmrcer2EuszaTFdRvfwQrNLApy0aMSFJ9M4NAGP9u8b/wDQveH/APwfT/8AyHR9u8b/APQveH//AAfT/wDyHXSUUAc39u8b/wDQveH/APwfT/8AyHR9u8b/APQveH//AAfT/wDyHXSUUAc39u8b/wDQveH/APwfT/8AyHR9u8b/APQveH//AAfT/wDyHXSUUAc39u8b/wDQveH/APwfT/8AyHR9u8b/APQveH//AAfT/wDyHXSUUAc39u8b/wDQveH/APwfT/8AyHR9u8b/APQveH//AAfT/wDyHXSUUAc39u8b/wDQveH/APwfT/8AyHXP+C7zxiug3ItdC0ORP7W1IlpNamQhvt0+4YFqeA2QDnkAHAzgeiVzfgP/AJF26/7DWq/+nC4oAPt3jf8A6F7w/wD+D6f/AOQ6Pt3jf/oXvD//AIPp/wD5Dq8vifSX8QHRVuXN6CRjyJPLLBdxQS7dhfad2zduxzjFTaxrlhoVvHLqMko86Ty4o4IJJ5ZWwThY41Zm4BJwDgAk0AZf27xv/wBC94f/APB9P/8AIdH27xv/ANC94f8A/B9P/wDIdTXXjXQbS3t5nuppY54vOU21pNPsjzje4jQ+WuQRl8AEH0NS6n4s0bSDB9tu2Pnx+ahggknCx/8APRjGrbE5++2F96AKn27xv/0L3h//AMH0/wD8h0fbvG//AEL3h/8A8H0//wAh1r3Ws6dZXVjb3V5FHNqEhjtIycmZgpY7QOvAJz0q7QBzf27xv/0L3h//AMH0/wD8h0fbvG//AEL3h/8A8H0//wAh10lFAHN/bvG//QveH/8AwfT/APyHR9u8b/8AQveH/wDwfT//ACHXSUUAc39u8b/9C94f/wDB9P8A/IdUfDkuqzfEnX21yzs7O4/snTgsdndtcIV869wSzRxkHOeMHoOecDsq5ux/5Knrv/YF03/0ffUAQaP/AMlR8Qf9gjTv/R17XM+NLmbxX4y/se10W91rSdEiZ71bKSAA3boRGrebKgOxSWwM8svpXTaP/wAlR8Qf9gjTv/R17XV0AeK6f4iVPB/gOz1/VptH0N7GUahei7NqZJoFCrAZUIKkkM2FYE7McjIrU1XVbGzutC0/WPEmrWXhltMkuY726uZrW6vJdwCRmQbJCyqSdn3m4yDjn1aigDx/VfGQ8OazqyTa1fTLpPhqM2VveOy3F9K+4+aYsLuYBVBbaMZbOOal0yx13UfESWF3r2sw6foOh2j3i2tyWmu7kkyMpY5JyEwT94hsAjnPrdFAHg+h+MdXv/EH9oeH5ri6Mml31+9tLrL3jsQQIopLcIsUEgJHyR5IGQT67+mGz1bwVq7+HvGOs6hrJ0UteSR30skUdwyltytykMgYEeXGVwMZXpXrNZ+uaU2t6NcaeuoXenC4XY89mUEgU9QC6sBkcZxn0IoA4n4YazqXjWSfxXcz3UemGCOysLZ3ISUqMyzsnQkv8oJzgL716NVPSNJs9C0e10vS4RBaWkQiijH8KirlAHN33/JU9C/7Aupf+j7GoPFV/ZaL4i0TVtZuIrTToUuYnuZ32RxO6rtyTwMhWAz3OOpFT33/ACVPQv8AsC6l/wCj7GukoA4qzgnb4S/2XF8mpT6RK0NsWIlwVOOPvcblHsTis3Ste1R4buDw1qJ8TCOwUtFEsCGwuNyr5Q+4BhSx2SNvGzlua9HooA838E6pb6IviltR0690Sytr2MvNeNC+wmGMFnMTvg5+dnPy/NknrijC1jeaTqU3/CWNDpa61Fcp4jEUT+eyoCQZNvkBVZQgfbt+ULgtyfVqKAOe8Galcano88s19/aduly8dpqO1VN3EMYk+QBTzuG5QFO3I610NFFABRRRQAUUUUAcv8P1Z/hJ4YVPvNodoB9fIWsHwbd2s9/oUNtLHv0XRpbfUlEn/HrJujGyT+62Y3ODzgZ6V0Xw4/5JZ4U/7Atn/wCiErpKAPNvE9/LpvijUNRj8RrpK3OnW50wqkcg1CVTKfJG8NvBLL8keHO4EGqXiC+H9ramNRljs9SmS1aDRN3/ACGGCqw4Pzttfcv7srjGXDDivVqKAOE8Y6xY3WrafY22qhtWtL6BhoTBf9Jy6nzCpAkKou5g6nYCpzuxirv9n2dl8V7WS0tYYJLrTbmWd40AaV/MhG5j3OABk9gBXXUUAFFFFABRRRQAUUUUAFFFFABRRRQBzd9/yVPQv+wLqX/o+xrJ8ZX9lpGvz3GrSxwxXmiy2lqZGx5s27PlL6uwIwByccA4rWvv+Sp6F/2BdS/9H2NdJQBx3iCKc/Dc6bE6tqFtaWzzQDMjhVZdxKA7iPkbjvgisC+1tr3Q9R2a3Hr2hwXVpINaYRkW2ZMyHdCFRhFtVs4wufn3AEV6hRQBwGia9pOn6XrFxc66senz3gSLxGSm24dolBkaTb5PBG0MAEyAuM5Br2VlaX/wi1JriKK/gtxeTWV5LGCbgfOVufTc2Sdy4BzlQAQB6PRQBS0b/kA2H/XtH/6CKu0UUAFFFFABXm37Qf8AyQnxD/27f+lMVek15t+0H/yQnxD/ANu3/pTFQB1PjiNpPB94QhkWNopZFAJzGkis/A5Pyg1T8M6rp97qWvaxZ3tvLpl1dQxwXaTAxTOI1Q7W6H5iF47jHWusooA8002/vdL8QtYxa1nUpdZlMmhMkeZLaSQnzzlfM4U5DhtnAXGa2pdOt7X4jSf2dbRwTXWkTySNGoUySGVPmY9z05PoK7GigDyjw/qWoQaLFpVlqK67PFosi6hoxiRfsEqRgKnyASKXbcu2RmY8lSMVreBrq0n19BpepLrkS6YqTXYIP2FlYbbb5eB1Y7WzINvzM3GPQaKACiiigAooooAKKKKAOO8Iwy3PwO0OC3BM0vhy3SMA/wARtlA/WqfhPVtNvdVivLG5g+x6bocdteSCTC20obJjcnhWUKcg8jPOK2fhx/ySzwp/2BbP/wBEJXSUAea69qN1o3ijWZoNc+w3tx5EumWBSNv7UwgUxjcCzDORiMqV3ZJwRVrWPFeia54qi8OXOuaXYJp93C13HcXiJNcTqQ6QxISCRu2kt3+6M8kegUUAeaabf3ul+IWsYtazqUusymTQmSPMltJIT55yvmcKchw2zgLjNb+n2FpYfE69WytooBLpiSyeWgXe7TPljjqT6musooAKKKKACiiigAooooAKKKKACiiigArm/Af/ACLt1/2GtV/9OFxXSVzfgP8A5F26/wCw1qv/AKcLigDnLe5t/wDhIINDEif2vH4ilvZLcP8AvBAVdhMR12FWVd3TJxnPFX/F91CutaPqba+mj6ZHFdQy6ojxFYZCUAG6QNGpJRlywPdRyRXcUUAebX/juNPDtjpGsaxpumanqdu7Ne38qW6Jb7igmCuRl3XBCDjJycAVW1aZdA1SefT/ABIul2zaTappDKsco1F4/MxCC4beDuT5Y8OdwINepUUAcZr9pE2teE9SnsoYdSmv0SaQKC4H2eU7N3XaCTxXZ0UUAFFFFABRRRQAVzdj/wAlT13/ALAum/8Ao++rpK5ux/5Knrv/AGBdN/8AR99QA668I6Vq+py6lcnUIbto1gaSy1S5td6IWZQwikUNgyPgkZ+Y03/hA9I/5/PEH/hR6h/8frdtfuv/AL5/kKnoA5v/AIQPSP8An88Qf+FHqH/x+j/hA9I/5/PEH/hR6h/8frpKKAOb/wCED0j/AJ/PEH/hR6h/8fo/4QPSP+fzxB/4Ueof/H66SigDm/8AhA9I/wCfzxB/4Ueof/H6P+ED0j/n88Qf+FHqH/x+ukooA5v/AIQPSP8An88Qf+FHqH/x+j/hA9I/5/PEH/hR6h/8frpKKAOWb4daC11HdNLrhuI0aNJT4hv96qxUsoPnZAJRSR32j0FS/wDCB6R/z+eIP/Cj1D/4/XSUUAc3/wAIHpH/AD+eIP8Awo9Q/wDj9H/CB6R/z+eIP/Cj1D/4/XSUUAc3/wAIHpH/AD+eIP8Awo9Q/wDj9H/CB6R/z+eIP/Cj1D/4/XSUUAc3/wAIHpH/AD+eIP8Awo9Q/wDj9H/CB6R/z+eIP/Cj1D/4/XSUUAc3/wAIHpH/AD+eIP8Awo9Q/wDj9H/CB6R/z+eIP/Cj1D/4/XSUUAc3/wAIHpH/AD+eIP8Awo9Q/wDj9H/CB6R/z+eIP/Cj1D/4/XSUUActbfDrQbO1itbOXXILeFBHFFF4hv1SNQMBVAmwAAMACpf+ED0j/n88Qf8AhR6h/wDH66SigDm/+ED0j/n88Qf+FHqH/wAfo/4QPSP+fzxB/wCFHqH/AMfrpKKAOb/4QPSP+fzxB/4Ueof/AB+j/hA9I/5/PEH/AIUeof8Ax+ukooA5v/hA9I/5/PEH/hR6h/8AH6P+ED0j/n88Qf8AhR6h/wDH66SigDm/+ED0j/n88Qf+FHqH/wAfo/4QPSP+fzxB/wCFHqH/AMfrpKKAOb/4QPSP+fzxB/4Ueof/AB+j/hA9I/5/PEH/AIUeof8Ax+ukooA5v/hA9I/5/PEH/hR6h/8AH6P+ED0j/n88Qf8AhR6h/wDH66SigDm/+ED0j/n88Qf+FHqH/wAfo/4QPSP+fzxB/wCFHqH/AMfrpKKAOWb4daC11HdNLrhuI0aNJT4hv96qxUsoPnZAJRSR32j0FS/8IHpH/P54g/8ACj1D/wCP10lFAHN/8IHpH/P54g/8KPUP/j9H/CB6R/z+eIP/AAo9Q/8Aj9dJRQBzf/CB6R/z+eIP/Cj1D/4/R/wgekf8/niD/wAKPUP/AI/XSUUAc3/wgekf8/niD/wo9Q/+P0f8IHpH/P54g/8ACj1D/wCP10lFAHN/8IHpH/P54g/8KPUP/j9H/CB6R/z+eIP/AAo9Q/8Aj9dJRQBzf/CB6R/z+eIP/Cj1D/4/VbUPhj4a1ewksdVGsX1pLjzLe516+kjfBBGVaYg4IB+orraKAOb/AOED0j/n88Qf+FHqH/x+j/hA9I/5/PEH/hR6h/8AH66SigDm/wDhA9I/5/PEH/hR6h/8fo/4QPSP+fzxB/4Ueof/AB+ukooA5v8A4QPSP+fzxB/4Ueof/H6P+ED0j/n88Qf+FHqH/wAfrpKKAOb/AOED0j/n88Qf+FHqH/x+j/hA9I/5/PEH/hR6h/8AH66SigDm/wDhA9I/5/PEH/hR6h/8fo/4QPSP+fzxB/4Ueof/AB+ukooA5v8A4QPSP+fzxB/4Ueof/H6P+ED0j/n88Qf+FHqH/wAfrpKKAOWtvh1oNnaxWtnLrkFvCgjiii8Q36pGoGAqgTYAAGABUv8Awgekf8/niD/wo9Q/+P10lFAHN/8ACB6R/wA/niD/AMKPUP8A4/R/wgekf8/niD/wo9Q/+P10lFAHN/8ACB6R/wA/niD/AMKPUP8A4/R/wgekf8/niD/wo9Q/+P10lFAHN/8ACB6R/wA/niD/AMKPUP8A4/R/wgekf8/niD/wo9Q/+P10lFAHN/8ACB6R/wA/niD/AMKPUP8A4/R/wgekf8/niD/wo9Q/+P10lFAHN/8ACB6R/wA/niD/AMKPUP8A4/R/wgekf8/niD/wo9Q/+P10lFAHN/8ACB6R/wA/niD/AMKPUP8A4/R/wgekf8/niD/wo9Q/+P10lFAHN/8ACB6R/wA/niD/AMKPUP8A4/R/wgekf8/niD/wo9Q/+P10lFAHN/8ACB6R/wA/niD/AMKPUP8A4/UUHw60G1jMdrLrkKM7yFY/EN+oLOxZmwJupZiSe5JPeupooA5v/hA9I/5/PEH/AIUeof8Ax+j/AIQPSP8An88Qf+FHqH/x+ukooA5v/hA9I/5/PEH/AIUeof8Ax+j/AIQPSP8An88Qf+FHqH/x+ukooA5v/hA9I/5/PEH/AIUeof8Ax+j/AIQPSP8An88Qf+FHqH/x+ukooA5v/hA9I/5/PEH/AIUeof8Ax+j/AIQPSP8An88Qf+FHqH/x+ukooA5v/hA9I/5/PEH/AIUeof8Ax+j/AIQPSP8An88Qf+FHqH/x+ukooA5v/hA9I/5/PEH/AIUeof8Ax+rujeGNN0G6ubqw+2PcXSRxzS3l/PdOyoXKKDK7EAGRzgY+8a16KAILX7r/AO+f5Cp6gtfuv/vn+QqegAooooAKKKKACiiigAooooAKKKKACiiigAooooAKKKKACiiigAooooAKKKKACiiigAooooAKKKKACiiigAooooAKKKKACiiigAooooAKKKKACiiigAooooAKKKKACiiigAooooAKKKKACiiigAooooAKKKKACiiigAooooAKKKKACiiigAooooAKKKKACiiigAooooAKKKKACiiigAooooAKKKKACiiigAooooAKKKKACiiigCC1+6/++f5Cp6gtfuv/AL5/kKnoAKKKKACiiigAooooAKKKKACiiigAooooAKKKKACiiigAooooAKKKKACiiigAooooAKKKKACiiigAooooAKKKKACiiigAooooAKKKKACiiigAooooAKKKKACiiigAooooAKKKKACiiigAooooAKKKKACiiigAooooAKKKKACiiigAooooAKKKKACiiigAooooAKKKKACiiigAooooAKKKKACiiigAooooAKKKKACiiigAooooA5268XaVpGpy6bcjUJrtY1naOy0u5utiOWVSxijYLkxvgE5+U03/AITzSP8Anz8Qf+E5qH/xioNH/wCSo+IP+wRp3/o69rq6AOb/AOE80j/nz8Qf+E5qH/xij/hPNI/58/EH/hOah/8AGK6SigDm/wDhPNI/58/EH/hOah/8Yo/4TzSP+fPxB/4Tmof/ABiukooA5v8A4TzSP+fPxB/4Tmof/GKP+E80j/nz8Qf+E5qH/wAYrpKKAOb/AOE80j/nz8Qf+E5qH/xiorn4i6DZ2st1eRa5BbwoZJZZfD1+qRqBksxMOAABkk11Nc38R/8Aklniv/sC3n/oh6AD/hPNI/58/EH/AITmof8Axij/AITzSP8Anz8Qf+E5qH/xiukooA5v/hPNI/58/EH/AITmof8Axij/AITzSP8Anz8Qf+E5qH/xiukooA5v/hPNI/58/EH/AITmof8Axij/AITzSP8Anz8Qf+E5qH/xiukooA5v/hPNI/58/EH/AITmof8Axij/AITzSP8Anz8Qf+E5qH/xiukooA5v/hPNI/58/EH/AITmof8Axij/AITzSP8Anz8Qf+E5qH/xiukooA5v/hPNI/58/EH/AITmof8Axij/AITzSP8Anz8Qf+E5qH/xiukooA5v/hPNI/58/EH/AITmof8Axij/AITzSP8Anz8Qf+E5qH/xiukooA5v/hPNI/58/EH/AITmof8Axij/AITzSP8Anz8Qf+E5qH/xiukooA5v/hPNI/58/EH/AITmof8Axij/AITzSP8Anz8Qf+E5qH/xiukooA5v/hPNI/58/EH/AITmof8Axij/AITzSP8Anz8Qf+E5qH/xiukooA5v/hPNI/58/EH/AITmof8Axij/AITzSP8Anz8Qf+E5qH/xiukooA5v/hPNI/58/EH/AITmof8Axij/AITzSP8Anz8Qf+E5qH/xiukooA5v/hPNI/58/EH/AITmof8Axij/AITzSP8Anz8Qf+E5qH/xiukooA5v/hPNI/58/EH/AITmof8Axij/AITzSP8Anz8Qf+E5qH/xiukooA5v/hPNI/58/EH/AITmof8Axij/AITzSP8Anz8Qf+E5qH/xiukooA5v/hPNI/58/EH/AITmof8Axij/AITzSP8Anz8Qf+E5qH/xiukooA5v/hPNI/58/EH/AITmof8Axij/AITzSP8Anz8Qf+E5qH/xiukooA5v/hPNI/58/EH/AITmof8Axij/AITzSP8Anz8Qf+E5qH/xiukooA5v/hPNI/58/EH/AITmof8Axij/AITzSP8Anz8Qf+E5qH/xiukooA5v/hPNI/58/EH/AITmof8Axij/AITzSP8Anz8Qf+E5qH/xiukooA5Ky+J3hrUftH9nnWLv7NM1vP5Gg3z+VKv3o2xD8rDIyDyM1Z/4TzSP+fPxB/4Tmof/ABiua+Df/M+/9jnqP/tOvSaAOb/4TzSP+fPxB/4Tmof/ABij/hPNI/58/EH/AITmof8AxiukooA5v/hPNI/58/EH/hOah/8AGKP+E80j/nz8Qf8AhOah/wDGK6SigDm/+E80j/nz8Qf+E5qH/wAYo/4TzSP+fPxB/wCE5qH/AMYrpKKAOb/4TzSP+fPxB/4Tmof/ABij/hPNI/58/EH/AITmof8AxiukooA5v/hPNI/58/EH/hOah/8AGKP+E80j/nz8Qf8AhOah/wDGK6SigDm/+E80j/nz8Qf+E5qH/wAYo/4TzSP+fPxB/wCE5qH/AMYrpKKAOb/4TzSP+fPxB/4Tmof/ABij/hPNI/58/EH/AITmof8AxiukooA5v/hPNI/58/EH/hOah/8AGKP+E80j/nz8Qf8AhOah/wDGK6SigDm/+E80j/nz8Qf+E5qH/wAYo/4TzSP+fPxB/wCE5qH/AMYrpKKAOb/4TzSP+fPxB/4Tmof/ABij/hPNI/58/EH/AITmof8AxiukooA5v/hPNI/58/EH/hOah/8AGKP+E80j/nz8Qf8AhOah/wDGK6SigDm/+E80j/nz8Qf+E5qH/wAYo/4TzSP+fPxB/wCE5qH/AMYrpKKAOb/4TzSP+fPxB/4Tmof/ABij/hPNI/58/EH/AITmof8AxiukooA5v/hPNI/58/EH/hOah/8AGKP+E80j/nz8Qf8AhOah/wDGK6SigDm/+E80j/nz8Qf+E5qH/wAYo/4TzSP+fPxB/wCE5qH/AMYrpKKAOb/4TzSP+fPxB/4Tmof/ABij/hPNI/58/EH/AITmof8AxiukooA5v/hPNI/58/EH/hOah/8AGKP+E80j/nz8Qf8AhOah/wDGK6SigDm/+E80j/nz8Qf+E5qH/wAYo/4TzSP+fPxB/wCE5qH/AMYrpKKAOb/4TzSP+fPxB/4Tmof/ABij/hPNI/58/EH/AITmof8AxiukooA5v/hPNI/58/EH/hOah/8AGKu6N4n03Xrq5tbD7YlxapHJNFeWE9q6q5cIwEqKSCY3GRn7prXrm7H/AJKnrv8A2BdN/wDR99QBBo//ACVHxB/2CNO/9HXtdXXKaP8A8lR8Qf8AYI07/wBHXtdXQAUUUUAFFFFABRRRQAVzfxH/AOSWeK/+wLef+iHrpK5v4j/8ks8V/wDYFvP/AEQ9AHSUUUUAFFFFABRRRQAUUUUAFFFFAHGfE/QtZ1zwzAugWtpqE1rdpcy6ZenEN+i5zE2eOcgjdxkDNc74d8YRweHNG0nwrov9gX1/qk1jLZ6iXmi06VFaSQBd67l4+VVKDngADFeh614e0zxDBDHqsDubeQSwSxTPDLC+MbkkjKupwSOCMg4qofBWgnR00z7E4gSb7Qsi3MonEveTzw3mbz/e3ZI4zQBzWvT6jFrPhGLxFaabPqD3N2vn2rShUAhbDopYbSy4yrbwOcE9a880bSDpvgHwtr58N6Rp8UN9BJLrWnSg6g6mUrypiQYbIVv3jfKTwele1QeDtCt0sFisSP7Pkklt2aaRmDyAh2Zi2XZgTksSao2fw38M2ItUhtr14LSRZYLWfVLqa3jdTlSIXkKcHkfLweRQBxGh+HBq3jHxZcP4N8M60q626m71SXbNGNicKPs8mQOo+Yc+nWqni2bQtN+IPi7UvEfgxvEVpZ6baM0iWtvN9kXa+TiVgwHugOMZPSvR5fAOhSahd3sf9qW015KZrj7JrN5brI5ABbZHKq5wB0Faceg6ZFqF7fLahri/hSC5d3Z/NRAQoIJI6E/XPNAHlfibwvZf8KN0aTW7XT9U1C3WzjS9ZFnZY2mT5FlYbiu04z3rpb/TtLt/iN4a8MWWm2tppcVpeaj9kt4VjiaQbIxlAMHiVz0ro4vBegw+GIvDsdk39lQuHjtzcSHYQ+8YYtuADdBnA6YxxRquhTXXivRdbs2iWWxEsE4kJG+CRRkDAPIZEOOOh5oA4HTdI8NeF/FnjrWIPDWmZ0RILi1WGzjQxEQFiIyF+TJ7ir+meP8AxPd6NqU8eiS6jPHpq3tmYtHu7RDIesH77/WkAghkI3c4A613kehabFeajdLaKZdTCi83ksswVdoBUkjGOOBzWba+AvDdna3dvHpxlju4hBKLm4lnIjHKopdiUUHkKuADyKAPPb34h69q3w+1SWz1O0stXs721hmT+zZraeBJWUFJIJHJRvmPzK7gjoQeR6jq1jf6h4WvLCC9WDUJ7V4luokKKshXG4DJKjPPUkepqkvgbQBpd7p72s88N9t+0SXF7PLM+37v753Mg244wwx2rUm0myutGfSryH7XZSReTJFcu0vmJjGGLElvqSTQB494Y8QL8P8AS9ei1fwYmjeItN01ZnWymP2TVI1O1ZgFyA5Y/MSpfB5P8Ivax448WT+DNY8otZ3Futq8WqHRLqzjkWVwjxqk7bty/wB4MchhgA8j0Cy8D+H7GC5hWye6S6g+zTfb7qW7LQ/888zMxCc/dGB7VHB4C8O2+l32nizmlhv1VLhp72eaV1UYUCV3LqFxwAwx1GKANW4tr258Py2pu0S9ltmj+0xIUVZCuN4XcSOecZJ968d8K63H8OIdWtfEvhFdM8QadpD3X2nT5SbfWIojzIcceZkjJYFvmycZxXso0y0/sn+zJo2ubTyvJZLqRpi6Yxhmcktx1JJJrL07wToGlmQwWck3mQfZj9tupbrbD3jXzWbah/urgHjjigDHvPEfifQPCtzrGsrpN8rwwm0FpHLDslkYLscFn3KNwO8EZwflHWqGu+N/EXhiz1211BdMvtRsNNTULa4ggkhhcNJsKPGXYjBGdwfnPQY56a08DeHrO1urdbFp4ruEW8ou7mW4/dDpGpkZiig8hVwAeaRPAnh5NNvbF7KWeK/RY7mS5u5pppUXlUMruX2jsA2Bk46mgDltf8c+IdI1SDSIktri+Ni2oO9vo13crIC2EhCRMxQ8YMrHH+z2q3aapL/wtbR5vsstp/b+gvLcW8oKvHJC6FQwOOQJWHTPFdLrPhDRdfMR1O1kZoYzCrw3MsDNGesbNGylkOOVbIPpVeDwyU8dLrTLbx2tnposbGGIEFAW3OSMYA+VAAPSgDoqKKKACiiigAooooAKKKKACiiigDzb4N/8z7/2Oeo/+069Jrzb4N/8z7/2Oeo/+069JoAKKKKACiiigAooooAK8a06xm8H/FBT4v8ADy3f9panK+meKLKQiTMgO23uACGKhRtAOV4GAcZHstc/aeBfD1jqi39rYukkczXEcJupWt4pWzudIC3loxyTlVB5PqaAMnw3rviTxJYrrTLpK6Jcm4UWmyVbiJVJVGMm4q5O05XYmM/eOOfONNso9f1jwKkPhnRNSRtAu3Gn6hK628eJ4xuUukzZHbIPU8ivXrXwR4fs9VOoW1i6Tb5HWP7TKYY3k++6QlvLRmycsqgnJ55Oa7/Dvw2y6eIrW7tTpsDW9q9pqVzbvHGzBmXdHICQSAeSelAHlU9sJPDlvoL6ZZzzWfjEQyaTO/8AoUW5S6xI2xsxbWBzsHJPyiuj8baHHpPwq1KN/Ceh6R515a7rXRnWRLkecnDboYhnqMEEe9dtJ4C8PS6THpzWlwIY7r7Ysi306zGf/noZg/mFuepY1L/whejNps1hci/vLaaRJHS81S5uPmRtykGSRivIBwCM980AcP4TstI1H4mapb6T4bh8N2lnp32XVdHntoIzeNIwaNykTMjIFDjdnncRUXhDRdD0LVPiDqtjoemw3Gk6hJ9keO0jVoFFrG21CB8oyTwMdTXpMnh/TJfEcOvNbY1OGBrdbhZGXMZOSrAHDDPI3A47YpIPDumWv9q/Zrbyzq8hlvTvZvNcoEJ5Jx8qgYGBxQB5jYRR+FH8B+J3Y+ReWUlnqMxONzTr54kb/toG/wC+qr6P4j1nR/DMN9pEVq+s+JZbrWpLd7R5pWhyAny+ZEigJsy7yDHQKxOK7yDwLZ6n8O7bwp4wgj1G1gVYyEmdfMWNv3bbl2sDgLkDvkZIq/qfgnw/rAshfWLH7DCYIDDcSQkREAGMlGBZCAMq2QccigDza98QHxBcWOv3NnFm98EXFzJbFmKEsVJXIIbH0IPvTfE3iHVNW+G/iPTdOhsLTTNM8NxNPG6SNJI0sBbCMX+VVUD7wcseMjrXpUfgbw7FbwwR6dtihsG02NfOk+W2brH97269R61DqHw88MapGY7zTWZGs1sZEjupYxLCoIVXCsN+3JwWyR1BFAHH+JfiBrPhy0ij0KC0u4tN022ubyI2zyOqvxlpC8aRjA42+a5JzsAGTU8RazrE8HxB/tSazv8AS7K3thDp8kEiAB1DY3pID3OTwSccgDFdzq3w68L63M0uo6c7tJbpbSCO7miWWNM7A6o4DlcnBbJB5BBqxfeCNA1Ge8lu7SZzfW621yi3cypMi427kDhSwx97G7tmgDmNQ8daxb2viLUtOisU0zwuFW5tp4Xaa7IhWV9kgcCMBXAGVfJHaota+IGvWsuv3Onx6ctjor2bmOeCRpZ45lUsuQ4CMM8HB9CO9dbe+CtA1DUDeXdk7SMEEqLcypFPs+75sSsElx23hqku/COh3y6mt1Y7xqvl/bB5rjzfLACdD8uMDpigCXxHYXms+E9RsdLuzY3l3avHBcc/unZcBuOeD6V5N4c8SJ4A0XXIL/wWmheIrCzgaSGzcmzv13eWkyKhIzk/NwXPAyTwPZNQ02z1XTJ9O1G2jubO4jMcsMoyrqexrJtfA/h+0truD7FJdLeRCCdr66lunaMdEDyszBQeQAQAeetAHDa34z8UzeBdbeJmsru0ltxFqTaLc2aTpIwVlSOdgyspOCwY8cjB6eianY6hqHhO6sYr1IdRntGiW6iRo1WQrjcBklRn3JHqaqReB9Ai0e+0z7JLLb6hj7U093NLNLgALmVnMnGBjDcdsVpyaPYz6G2kXcJu7FofIeK6kaYyJjGGZyWb6kk0AeQ+Fdfj8Aabr0WteDV0XxBpemLcSixn/wBE1SNDtEwwdquWPzEgtg8nsO1vvEHifw54YvNV1tdJvwY4fsZs45YcSyMF2yKzPlQWU7wwzz8o61saf4K0HTY7hIrOS4FzD9nlN9dS3bGL/nmDMzEJz90YHtSWngfw/Z2l3bLYvPFeRCCb7Zcy3JMY+6gaRmKqM5CggA8igDmNd8b+IvDFnrtrqC6ZfajYaamoW1xBBJDC4aTYUeMuxGCM7g/OegxzDrvjzxFpOqrpMEdvdX0dj9vc22jXdyswZiEgCxMxjPBBlYkZ/h7V1aeBPDyabe2L2Us8V+ix3MlzdzTTSovKoZXcvtHYBsDJx1NTaz4P0TX2ibU7R3aOIw7obmWEvGesblGG9OPutke1AHOwajInxa0iRbeS2XXtCeS4glBVo3hdCu4HuBKw9eK72ueh8NsPHa63IIEtrTThY2UUedybm3SEjGAPlQAD0roaACiiigAooooAKKKKACubsf8Akqeu/wDYF03/ANH31dJXN2P/ACVPXf8AsC6b/wCj76gDGEGuTfFHWv7B1HT7LGkaf5v22we53/vrzG3bNHtxznOc5HTHOz9h8b/9DD4f/wDBDP8A/JlQaP8A8lR8Qf8AYI07/wBHXtdXQBzf2Hxv/wBDD4f/APBDP/8AJlH2Hxv/ANDD4f8A/BDP/wDJldJRQBzf2Hxv/wBDD4f/APBDP/8AJlH2Hxv/ANDD4f8A/BDP/wDJldJRQBzf2Hxv/wBDD4f/APBDP/8AJlH2Hxv/ANDD4f8A/BDP/wDJldJRQBzf2Hxv/wBDD4f/APBDP/8AJlc/4+s/GK/DbxK15ruhy240m6MscWizI7L5LZCsbpgpI6Eg49D0r0Sub+I//JLPFf8A2Bbz/wBEPQAfYfG//Qw+H/8AwQz/APyZR9h8b/8AQw+H/wDwQz//ACZW7e3SWFhcXcwZo7eJpWCjkhRk49+K5qT4kaHHJ4YiYXHn+JsGyh2LvRSu7c/zcAcDjPJoAsfYfG//AEMPh/8A8EM//wAmUfYfG/8A0MPh/wD8EM//AMmUReNrO41B7e007UrmKO+axkvIYA0EbpGXdmbdwgxtJI+8QBmtLw9rtt4l8P2usWEcqW12u+ITABiuSAeCRg4yOehoAzfsPjf/AKGHw/8A+CGf/wCTKPsPjf8A6GHw/wD+CGf/AOTK6SigDm/sPjf/AKGHw/8A+CGf/wCTKPsPjf8A6GHw/wD+CGf/AOTK2tP1Kz1W2Nxp1wlxCJGj8yM5UspKsAe+CCMjipJru3t2VZ5o0dlZlRmAZgoyxA74FAGD9h8b/wDQw+H/APwQz/8AyZR9h8b/APQw+H//AAQz/wDyZWhoPiC08Q+G7fXLNJYrO5jMsfnABigJ+bAJ4IGRz0NJ4d8Saf4o0eDUdNc+XPGJVjkKiQISQrFQTgHaSPWgDnvEdz438P8AhXVdZ/tvw/cf2dZTXfk/2JOnmeWhfbu+1nGcYzg1pfYfG/8A0MPh/wD8EM//AMmUfEf/AJJZ4r/7At5/6Iet+5uFtLSa4kBKQozsF6kAZ4oAwPsPjf8A6GHw/wD+CGf/AOTKPsPjf/oYfD//AIIZ/wD5MqoPiboP2XwvK32lZPFBX7DblF8wBlzucbsADIBwTye9XIPGlrd60+n2Om6ndCO+NhJdw24aCOQR72LNu4VeFJx94gDPOABPsPjf/oYfD/8A4IZ//kyj7D43/wChh8P/APghn/8AkyppfGWkLc6XDayPenVLySzge2UMoeMMXJJI+UbSMjPPTNb1AHN/YfG//Qw+H/8AwQz/APyZR9h8b/8AQw+H/wDwQz//ACZVy98T6faalpVim+6l1S4kghNsVZUMakuWORgDbg4yc8Y60useJLHQ9R02zvfMD6i8io42hIlRC7O5JGFAHXnkj3IAKX2Hxv8A9DD4f/8ABDP/APJlH2Hxv/0MPh//AMEM/wD8mV0asHUMhDKwyCDkEVWm1Oyt9TttOmuY1vLpXeGDPzOq/ebHoMjnpkgdxQBi/YfG/wD0MPh//wAEM/8A8mUfYfG//Qw+H/8AwQz/APyZXSUUAc39h8b/APQw+H//AAQz/wDyZR9h8b/9DD4f/wDBDP8A/JldJRQBzf2Hxv8A9DD4f/8ABDP/APJlH2Hxv/0MPh//AMEM/wD8mV0lZdpr9reeJdQ0SGOb7Rp8UUs0hUeX+83YUHOc4XJ4xyOeuADP+w+N/wDoYfD/AP4IZ/8A5MrNgufG83iq+0b+2/D6/ZLK2u/O/sSf5/OedNu37XxjyM5zzu7Y57aubsf+Sp67/wBgXTf/AEffUAH2Hxv/ANDD4f8A/BDP/wDJlH2Hxv8A9DD4f/8ABDP/APJlXZvE1hbeIptHuPMjlgsft8kzACJYtxU85znjPTp3rF0v4naHrPh3S9Y06G9li1a+ays4PLUSyMrMGbaW+6ArMTnO0dM8UAXfsPjf/oYfD/8A4IZ//kyj7D43/wChh8P/APghn/8Akyrln4nsbiCza6S4064vBI0Nnex7JysedzFOcDAzk+o7nFTeHtdtvEvh+11iwjlS2u13xCYAMVyQDwSMHGRz0NAGb9h8b/8AQw+H/wDwQz//ACZR9h8b/wDQw+H/APwQz/8AyZXRkhVJYgADJJ7VkDxNYSeJLTRrbzLiW7s2vUnh2tEsQYKCWz/EW4wD0PSgCn9h8b/9DD4f/wDBDP8A/JlH2Hxv/wBDD4f/APBDP/8AJlXLvxPp9l4mg0S5LJPNbNc+axURRqHVAGJOcszYAAOcH2zsUAc39h8b/wDQw+H/APwQz/8AyZR9h8b/APQw+H//AAQz/wDyZXSUUAc39h8b/wDQw+H/APwQz/8AyZR9h8b/APQw+H//AAQz/wDyZXSUUAeN/Ce08VP/AMJr/Z+s6PBt8W36z+fpEsvmS/JuZcXK7VPGFO4j+8a9A+w+N/8AoYfD/wD4IZ//AJMrmvg3/wAz7/2Oeo/+063b/wCI+h6XpfiLUL/7RBb+HrgW1yWVcySFFYCP5uc71Azjn86ALH2Hxv8A9DD4f/8ABDP/APJlH2Hxv/0MPh//AMEM/wD8mVHeePbC2W2Fvp+p6hPcaa2pC2srcSyLEAMAru+8xbCgZyQewzWlpfiK11bWNQ063guEl04Ree0iqFDSLuCDBJ3AdeMc9TQBR+w+N/8AoYfD/wD4IZ//AJMo+w+N/wDoYfD/AP4IZ/8A5MrpKKAOb+w+N/8AoYfD/wD4IZ//AJMo+w+N/wDoYfD/AP4IZ/8A5MraXU7J9XfS0uY2vo4RO8CnLIhOAx9MkHGeuDjoamnnhtYHnuZUhijGXkkYKqj1JPSgDn/sPjf/AKGHw/8A+CGf/wCTKPsPjf8A6GHw/wD+CGf/AOTK0LDX7XUtd1PSrZJjLpnlieUgeWWddwVTnJIGM8DrTLXxNp13r9/pCOyXFi8cTtIVVZHdC4ROckhRkjFAFL7D43/6GHw//wCCGf8A+TKzfEdz438P+FdV1n+2/D9x/Z1lNd+T/Yk6eZ5aF9u77WcZxjODXbVzfxH/AOSWeK/+wLef+iHoAPsPjf8A6GHw/wD+CGf/AOTKPsPjf/oYfD//AIIZ/wD5MrZ1XUYtI0e71G5V2htIXmdYwCxVRk4yQM8etYM3xC0WDWvDmlP9oN74ijMtrEqA+WgTfuk54HbjPP50AS/YfG//AEMPh/8A8EM//wAmUfYfG/8A0MPh/wD8EM//AMmUun+NLTVb3yrDT9Rmt/tk1p9uSFTbhohl3LhuF3ZQEjJYHjHNTL4w0qfUNJtLJ3vDq3nG3lgAKbYvvOSSPlzwCM5z6c0AQfYfG/8A0MPh/wD8EM//AMmUfYfG/wD0MPh//wAEM/8A8mV0lY8vijTk13TNJhZrmfU45ZYXgKsgSPG5ic9MsBxnk0AU/sPjf/oYfD//AIIZ/wD5Mo+w+N/+hh8P/wDghn/+TKu6l4n07SdcstKvZDHNeQyzq5KiOOOPG5nYkYHzAd+TWvQBzf2Hxv8A9DD4f/8ABDP/APJlH2Hxv/0MPh//AMEM/wD8mVtNqVmmqpppuE+2yRGZYBy2wEAsfQZIHPX8KtUAc39h8b/9DD4f/wDBDP8A/JlH2Hxv/wBDD4f/APBDP/8AJldJRQBzf2Hxv/0MPh//AMEM/wD8mUfYfG//AEMPh/8A8EM//wAmV0lFAHN/YfG//Qw+H/8AwQz/APyZR9h8b/8AQw+H/wDwQz//ACZWjpuv2mq6xqunWgkMulSJFcOwG3eyB8A5ycAjPA61p0AcTr1z430TTorr+2/D8/mXtrabf7EnXHn3EcO7P2s/d8zdjvjHGc1pfYfG/wD0MPh//wAEM/8A8mUePP8AkXbX/sNaV/6cLetHxDr1r4a0SXVL6OaSCJkVlhUFjuYKMAkDqR3oAzvsPjf/AKGHw/8A+CGf/wCTKPsPjf8A6GHw/wD+CGf/AOTKc/jnRk8dHwn5kh1FLFr+Vgo8uGMEDDNnhjnOMHjrjimaT45sNWtIr1bK/tdOltZLsahdRKluIlfaCXDEDcPmA67eTjpQAv2Hxv8A9DD4f/8ABDP/APJlH2Hxv/0MPh//AMEM/wD8mVctfFFhe+IItJtBNLLJYrfiUIAixM2FzkhgT6Y7c4rYoA5v7D43/wChh8P/APghn/8Akyj7D43/AOhh8P8A/ghn/wDkytDXvEWn+HdIvtQv5Cy2Nv8AaJYYsNKU6DC57kYHvRq/iC10Pwtca9fxzLbW9v8AaJI1UNJjGdoGcFucYz170AZ/2Hxv/wBDD4f/APBDP/8AJlH2Hxv/ANDD4f8A/BDP/wDJlbtneQ30Hm27q2OHUMCY2wDtbB4IyOKnoA5v7D43/wChh8P/APghn/8Akyj7D43/AOhh8P8A/ghn/wDkyukooA5v7D43/wChh8P/APghn/8AkyqPhyLVYfiTr665eWd5cf2TpxWSztGt0C+de4BVpJCTnPOR1HHGT2Vc3Y/8lT13/sC6b/6PvqAINH/5Kj4g/wCwRp3/AKOva6uuU0f/AJKj4g/7BGnf+jr2uroAKKKKACiiigAooooAK5v4j/8AJLPFf/YFvP8A0Q9dJXN/Ef8A5JZ4r/7At5/6IegDb1KIz6VdxAEmSF1AUcnKkcV4FZaJ4zh+GmmeIP7Fuf8AhIlvLS2s7FoHDWlvEGRS4xuALEuxwOCM9K+grm5gs7WS5u5o4IIlLySyMFVFHUkngCufsfiF4VvtAj1r+3bC206Wd7eO4urlIld1JGAWPUgZA645xQBwWr+GL/w59mttJsby9j0bw3euJIbZmN1ezEAkbRy5O44HPzVFB4J1PRLxYvCVlPa31j4Ra3W7ZWUXF05GxWkP3imw4GflBHQYr1e513SbJrRbzVLK3N6cWoluEX7R3+TJ+bqOmaguvFfh2xt7We917TLaG8GbaSa8jRZ/9wk/N17UAeYaZpN3YzS6l4L0C+s0tfD00V8Lize2m1K9IBTIkUGV1IcmQ5BL4BOaXSdMu510e3ttE1CXTdB8NThUvrF4vtV3IApQLIoYn5W4I535GRXqmu6r/Y2gXmopHFM1vEXjiluEgWRv4V8xztXJwMnjmoZPE+j2fkxatqunWF3IY42t5ryMMsrjIQZIyT29e1AGF8N9Ch0r4V6bp1lFJp1w9pieT7EbaUTlcM5R1BznuRzgdq5RPCGu+DNN166fSbLxDeTadKsWt27TyajI4iChGjlaVjuPQRyAcfdFer3t7a6dZy3eoXMNpbQruknnkCIg9Sx4ArC1XxrYW2k6df6LJbazFqN/FZQva3SmMlnwzB13A7QGOPUY460Aedf8Ilc+GZC2haRemXTvCD27vFC7Nd3D4Cx7sfvGXacLk7QR0GK0r/4b6jqFvoNjpmmaXpL6Zp8UP9vtNMt4h8tlMcawNG2FPPzybfm+6a73wz4iXxLBfzw2/kw2t/NZo3mbvN8s7S3QY+bIxz061tUAcp45gktfg74jt5rh7mSLQbpHnkA3SEW7Ascdz1rpbxPMsZ0AJLRsMDr0rB+I/wDySzxX/wBgW8/9EPXRswRCzkBVGSScYFAHzxYeHfF9l8MbPWho11JrlpdWdnp9g0Lh4baBioZlxkbmJdjgcY7CuvHg+60bVNPs4bCXUYNL0C9lmdoMpeXk5G4E42lmw3y+jV2+neMtNk0O31HXLzTNJ+0RvPGr6lFIjQq+0SCQEKVOV5HA3AZrYm1Swt9JbU5723jsFi843TSgRBMZ3bumMd6APHfDng2Ex+EbObQ7g6ZpujXN1fI+nSW63F24VCjxlRvJG/5SDuGOCKv2nw81vV/hVoNnFc/YpIbeVp9E1Azx283mNuWOXyZEdQo4wdyjJyprvNK8d+GtY0eDU7bWbOO2uFkeMz3CIWRHCM2CeBkr16bhnBOK0LfxFol1q0ulWusWE2owAtLZx3SNNGBjJZAcjqOo7igDzq48NS6h4k0iPVPC0dhpmj6Pdu+nWSGW0kldwqoNqqHBVS2wrn5hkZqr4T8O6xAfC8d7o00kel+HLiR7O4XbGZ5mGINzDaCFBXHYHkV32m+MbGXSPt+uXOnaQrvMYt+pRSLJCj7RLvB24I2kjnbuAJzW9b3MF3ax3NpNHPBKoeOWNwyup6EEcEe9AHB+BPAuqeHtYm1G4kstIs5vN26DpUk0lshdgQ5MjbQwwR+7jjHJ61m+IrN4fidrWuR+FZdSvLLQl/s1o7Vx9plJfftuAuEcLhQN2/BOBXf6f4l0LVnuU0rWtOvWtBm4W2u0kMPX7+0nb0PX0NU7vx34WtPDdzr7a9p82mWxIkube4SVd2M7BtJyx7KOTQB49aaDr8GneI5tG02ayibS7WIrpmkXNg9yTIWnIWVmkklVMjeTuO7p0zejsbGbWvFn/COaZq+naVDpVtpsMem2JWa2aUs0kot22sONhZQN7YJwc5r1i4stG8b+G7WS5T7VY3AjuoHinKMp4ZWWSNgVI9Vb8a5q51rS/AVvr0ehaTJdpptsb/UZpLySSWWdgPLjMj72d2AHJb5Rt65AoAZ8JtIk0yz1UvpUFlG06Rw3NvYS6cL1VQDzGtJD+7bOQSAN2M9K5y+0C/vtavVk0m8k8WPrqTWurSW0nl2tkjqw8u527VTZuBiDZJY5Xk13Ol+PbfWJfDUdna5bXLeW4ZGlw1sI1G4EY5IYhT0wfyrYtvE+g3kl5Haa3ps72AJu1iu42NsBkHzAD8mMHrjoaAPKb/wld6wL7UZNNvhqWpeLYmhmkhfdaW8LqPMTI/dqVjPz8ZDDkjAo8WQX2k6P4p8X3VnN5lr4jtrq2jdSjSQQhI/lyOQ2Xwe+a9S8O+KtI8VaRJqeiXaXFmkrxGUMMZQ4J68DuM44INYVxqHhnxJoum6j40k0+yRGa9t7eXWFaB0RwFmO1hHKvKHkMFLDvQBY+HWi3eneHpNS1pR/bWtSm+vyP4WYfLH9EXao+lWbH/kqeu/9gXTf/R99XQwTxXVvHPbSpNDKodJI2DK6nkEEcEVz1j/yVPXf+wLpv/o++oA5Lx5oWsa58TtL06ytJv7I1KwMGqXnlkokKS7zFuxty+NuD2JrB0zw/r1vD4w1W90m6C6R9vh0O0SBy8zTsWaVF/iyCqrgf3vWvVL3xhodh4psfDtxqEI1W+DNFbeYu4KATkgnjOMAdT2HBxa03xDousNcLpGr2F+1scTi1uUlMR9G2k7eh6+lAHkV74bOkak8ieGZ57nSfCC2+nTQ6c0pluNrBgHVSFdQAACQTvOO9b3g7wYNA8daOtnYT28On+HFgubkowFxK7rhWc/fKBDgZO0EcAYrvbLxLoWpMo07WtPuy6uyiC6R9wQgORg9F3DPpkZ60/SfEGja/HI+havY6mkRAkazuUmCE9ASpOKAOS8eeB9U8R6pb39rNZ6naQiMNoWqvMlrKVcsXzG20sQcfvI5BwOBzXK+JPDV1q0ninULzwxK32bw/b2OnaWsJki85gzEIANr7GKAMBhcZGK9LPiWKHxBfWV79jtbG0SAfbZL+PLTSkgRGPqh+7gn727AFaOm6tp2sW7T6RqFrfwo5jaS1mWVVYdVJUkZHpQB53aeHdSOt6w11oi6xFb6NY6ZBbaidkNywy0pLsrAgEjJAP3fWtr4eeDNT8JW8w1HUIfKmjRYtKsnne1s8FifLaZ3bnI6bF4+7XSr4g0Z9abR01axbU1G42IuUMwGM58vO7pz0rm7P4iLf6pZ2dtppYXmr3OnRyCccJApLykbf7w27f1oA7SiiigAooooA82+Df8AzPv/AGOeo/8AtOsWfwvrWqfEbxak9lcJosLNqMDNEwF5dNarCiqejBArHv8AMR6VtfBv/mff+xz1H/2nXVQeN/DtzrupaTFqtqbnS4RNeEzKEhGSCCc9RjnsMjNAHlekeFNdu/h3YXOr6fcprGtX2n21xCYG3WllAwwrgjKghGYk93+lWLzwhc6p9u1FtKvRqWpeLonilkgcNa28LqvmLx+7DJGRv4yCOSMV6xB4k0O60eXVrbWtPm02HPmXsd0jQpjrlwdox9aB4l0JrCW+XWtPNpDGsstwLpPLjRhlWLZwAR0J60AeW32gX99rV6smk3knix9dSa11aS2k8u1skdWHl3O3aqbNwMQbJLHK8mmXVpquptrWm/2Nqkd5rXieL7ZJJZP5MdlGy7W8wjYyskePlJxu5xXr2napYaxYpe6RfW1/auSFntZllRiDg4ZSQcHismx8XWMlrc3Wq3On6dbx3M0UErajE6zJF958g4XGGyucrjnFAGD4P0e3j+JvjDVLjRfsd488cdvcNYsgkhEa5ZZtoVtzZyAxPyjNVvEfgXVrjxgNf8nT/FNosvmR6Vq0sqfZPkC/uPmaEnIz80YPP3/T0CyvbXUbOK70+5hu7aZd0c8EgdHHqGHBFZw8WaFNHqP2HV7C9m02N5LqC2ukkki25yGUEleQRz3oA8svPCFzqn27Un0m9XUtT8XRPFLJA4a1t4XVTIvH7sMkZG/jcCOSMVq/8Ixf6zoPifzPC9lqNxrWtzMsWtM0McMaJ5STHCl8fIMbME7sggc11Ph/xxJrupaRZnSzbPqGkf2nNmfcbcFlCJjb8xOTzxjHfPHW0Ac74K8OX/hnRXtNT1eTUpHl8xATIUt12geWhleRyowT8znrxgcU34j/APJLPFf/AGBbz/0Q9dJXN/Ef/klniv8A7At5/wCiHoA0/EUDXXhfVII0Z3ls5UVUGWYlCAAPWvDx4f8AGY8F6H4gi0qYeJbu+ghWAwNnT7dYXhj3jAYBdzSNnux6V77czpa2ss8hVUiQuxdgoAAzyTwB7msO08YabHoFpqHiO807RJZ7dZ5IJ9RiZY1Y4U+YCFYE4G4cE9KAPPdb8Iy6Y91Y6ZolxqNto3hOa2tleAut1PM3zAEgh3OwEjk8+9Q2vg+yNxZhPD91JpejeFnEdu2nSRJdXMp+ZWiKgu58sEqQTkgkdDXrmoavp+laTLqmo3sFtYxJ5j3EjgIF7HPfPb1rP07xn4f1LR7TUotWtIoLyETRCe4RGKFtoJGf7xC/U460AcE3w213UPAPhm0+2xTtYadFFc6Nqr3C21y+UY7zFIpyMEYdZF7betRan4ffUdZurjU/CLW9ro/hhorfTbaEzWzTSMxMUYVQsuPLQ4C8EqcA4x6ZbeI9Evbu6tLHWNPubqzBNzBDdIzw4671Byv41n2PjPTDoFvqWvX2maOZ4vPCSalE6CMttVxICFZTleRxk4zQBw+h+GtTguraG90N9VGleE4rNIb/AAsV3NIcvEXcEdEUNwcZHHaug+H3gjU/C1xcXF7d2trbTKyx6Npslw9rbkuW3KZnPODj5EjX26Y7dZontxOkiNCy7xIGBUrjOc+mO9Z1h4n0DVbO4u9L1zTb22tRmea2u45EhGM/MykheOeaAPONb0+S08ceNNdg8L3F7f8A9n29vZeXayL5qEESSJNGud3z4Ko28hABXOWnh3WLXSfED6dpl1a6ZLPp0EtrpejTWAuLZTmd0gdmkZiG2sfvMFPFevaj478Mab4Yl8Qy63Yy6ZGSouLe4SRZHH8CkHDN7VY1LRtH8YaXZSXsZnhVkurWaC4eJ42xw6SRsGBwSMqeQaAPKbO0s73/AITuXRLDV9O0+QW2lW66dYsZLVNm9nW2OGC5ky0aru5OVzmuu+E+lSabp+qtJpEGno90Fimt7GWwW9RY1Hmm0kP7ps5BwBuxnpg1Hqvimw+H2maxB4e0Vr230mMTXRa7cyS3UrDZFuZXaR2ByWJJHyjnPG/YeNLfVNb0exsIPNi1LTX1FpxKP3KgoApXHJJYjqMbTQB55JoGpXusSCTSro+Lj4hE6axJav5dtYrJkBLgrtCGLK+UrZLM2R1NNk8J3OqZ1KbSb+PVNT8XiZZ3gffaW8TY8wEj92rJEBu43AqOeK9WtfE+g31vdz2Ot6dcxWWftUkN3G6wYzneQfl6Hr6VHoHinSfE+htq+jXST2SvInm7gB8hIJPPA4zzjgg0AeT+Ihd+HPCV54zu9LnF7B4sN9HbuhWSRM/Z0wDz8y4x6g16R8PtAudC8MK+rFX1jUpGvdSkA+9O/JX6KMKPZRVCfUPC+u6ZpWteNJ9OsHt8XkEE2sq1uoL4jlO1xHJ2KsQcE8HNdsjrJGrxsHRgCrKcgj1BoA5zx5/yLtr/ANhrSv8A04W9QfE2C6uPhtrC6daTXt0sSvFbwIXeVldWCgAEnp2qfx5/yLtr/wBhrSv/AE4W9amua7pnhvR59U1u8is7OBcvLK2B7AepPQAcmgDxrUPBviie48Or9ml+3eIluv7evY4m22iTeWWUkdMRoI1z3A9Kt+L/AAzLcx+LxF4fuZ7T/iWaXbItm8m23jIZ5I0CkuF3t9wE5B9K9Oi8Z+HJLXTJptb0+2OqRpJZxT3caPMGxgKN3zHJxxnnird74i0TTLprXUtYsLS4WEzmGe6SNxGOr4JztGDk9KAPI/Efg1NRh8aT2WgXG1bC00vR7cWTqi/Lu8yOPaOVaT72PlIPI5r1TVdFu9Q8HyaRZ6pPp109usS3sZJdCAOchg3OOSGB54IPNT3PiPQ7PUrfT7vWdPgvbkAwW0t0iySg9Nqk5bPtTfEGry6Np8U1tbRXU81xFBHBLdJb7y7AHDPwSBk7RknGBzQB5ZqHgjWdO8KXugf8I9p4k1TULZJtX0mSaSW6ia43SNN5m6VSqgnJkdQW4IpdS8K3gl8UWei6LcW1pqWs6faqqwMqSxoVae4Prn5gZD1I5Jr1SPxHokuoR2EWsae95KXWO3W6QyOUOGAXOTggg+mKm1PV9N0Sz+16zqFrp9tuC+ddzrEmT0G5iBmgDgtU8B6rrPjt9W0+30/wxHE6q2pWc0xvL9VZW+dY2jj2kAr+8808dMV6TXO3/jG0tdc0iwtRHeR6lbz3YuYpgVSGJQd4wCGBLAdR1q34U17/AISfwrp+ti2Nqt9EJkiL7iFP3ecDqMHp3oA16KKKACubsf8Akqeu/wDYF03/ANH31dJXN2P/ACVPXf8AsC6b/wCj76gCDR/+So+IP+wRp3/o69rq65TR/wDkqPiD/sEad/6Ova6ugAooooAKKKKACiiigArm/iP/AMks8V/9gW8/9EPXSVzfxH/5JZ4r/wCwLef+iHoA1NejvZfDuox6UivevbSLbqzbQXKkLz25ry688O+L7bw5ounaHolzax2OiPbRNEbA3Mdxt2lJJJS4WJgM5iyx7kV7A7rHGzyMERQSzMcAD1JrhpfiTZX+v6HY+HJ4poLySWW7lu7eWEC1SNm82IuFDKW2jeNy4zQBwWoWM/g/SNcEFhHq0dv4bt9JBS8hf7BKEOYZUL7hvLKRtDZJGcDmtPUfBGupHp9to2k3sE9vpNvpy3CXNrNp9zFwZI7q3m+YAfN9wNw3XPA6s658PtWu7nX2063u7/Trdbv7VLo0n2gxDO2SIvGGdeOGTI96msvil4fk0Cy1PU/tmnfa7c3Rt5LKd3ghDY8yXah2J/tnC9cMQM0AT+OtCvtZ8L2ekaTAmxr61+0KhVFjgSRWfAJHGFxgc81ymqeA9X1C38TSDTU+2a9rluGkaRMpYRNHznOQMKxCjnLdK7fVvHPh7RLhYdQvnU7Ekd4baWaOJHOFaR0UrGCehcgGnXfjXw/Y6wumXN/tuGkSIssEjRRu/wBxHlClEZuMBmBORjqKAKHxAs9avNJsINBsVvIheRvdhI4HuIo1+YPCLg+VvDBeW6DJAzXJaD4L8SLNotxq1tN5sWt3uq3jTTwFidjJBny8KSwIPygAHriustPiRo1zea0ksd5bW2kTJbPPNZzDzpm4KRrsyzZIAUZY5yBjBO5oniDTfEVpJcaTM8iwytDKksLwyROOqsjhWU/UCgDL+Hmi3eg+B7K01OEQXzmS4uY9wbbJI7OwypIJy3UE101FFAHN/Ef/AJJZ4r/7At5/6IetDxOl9L4T1WPSYDcX0lpKlvEGVS7lSAMsQBz6kVn/ABH/AOSWeK/+wLef+iHrevLyDT7Ge8u3KQW8bSSMFLbVAyTgZJ49KAPMofBOqWN0ZotHSf8Asnwsmn6X+8jy1ywbzFXLfL0UZOAc9etdD/wj2paR8GD4f0SJH1OHSDbQxvJhTL5eMbifUnvWxJ4v0KI2vmagii6tGvomKNt8hQCZGOMIOR97HpWPqPxJ0geEdb1XRnknudLs/tP2a6tJrd23AmM7JFVirEYBHB9aAMbSvAr3viGyvNY0NVs9J0OC00+21BopB9oDEsXVGZcrtTB565HIrF0jwz40fVrO91LSprdrKzvpvs8ZsYrYXkowohWL59rbmO6RiSRk47+oS65DpXhyDUtflWAtHH5gijZ90jYGxEXLMSxwFGSapx+O/DsmlHUEvZfLW5NoYTZzC484f8s/I2eaW7425xz0oA4nR/Auq6ZLp8s2l/aJNF8L/ZLJmljJa8kyZAMtweANxwPm4PWuq0bw/deHvhLaaFDYrfXVtpoge1Nz5XmsV+dRJg4JJOD0+g5pupfEnRLOw0i5shdaiNXuxa2y29rKSGBw4cBcqygMShG75TxwSOtdwkbOwYhRk7VJP5Dk/SgDxqL4f+JL3wrrWlpDdQWv2KC104awbSS+CK+6WHzodymIgAKHJ56jHWzfeDvEFz4d1e4Ww1a4u9SurOOa2vrqy8+S2hcFsLCI4VOMgZc5HXHSus0r4n6HqelSai8d9bQG8e0tUexnaa6KDlkiVCzDhs4B24+bByBpXXjnw9aabZ3zXsk8N8jSW4tLWW4d1UZZvLjVmAXuSAAeDg0AaGl3moXU96l/pR0+GGUJau1wkhuE2Alyq/cwxK4JP3c9680h0TUdb8O69ZWMYe6uvFudQYOq4gSVCc5Iz+7VRjk812KfELSLrxLo+j6YtzfHVbY3cd1DbyGFIccMXC45OB2A7kHANjWPE/hvwjcTf2g/2aWZTdXLW1lJKQowvmymNDtHAG58DjrxQBxUHw61yLxr4qlt3jttOnsJo9GmBA8qW5O+YYB3DDrnOB97jOKn0zwzrzyadc22hjRDoWhTWFvBNLExupnVR8pjdgIwUB+bBJPQYrsr7xv4e029jtbrUPnkWNy8UEkkcSyHCGSRVKRhuxcjPasHxF8S4tOuPEVlptlcPcaDYfbJ7i4tZRATnPlhsAElQSDnB4xuwcAE+k6Tqml/BZNIs9OuI9Ug0prdLWeWLzHm2EfeVynLc53d+cVgw+CdUsbozRaOk/8AZPhZNP0v95Hlrlg3mKuW+XooycA569a9PgmW4t45o+VkQOv0IzUlAGN4Q0b/AIR3wZpGkEYaytI4WAOfmCjPP1zVSx/5Knrv/YF03/0ffV0lc3Y/8lT13/sC6b/6PvqAMLxHpfiZ/G2q6npOkw3n/EhNrpsk7xmHzi7M6SqWDc4QDAI65Irj7rwnr6aL4gm1aWWxFxo9vpmnLqdxZWody5Lwr9mwiBjhVHJ56noPV9b8XaN4euI4NUuXSZ4zLsit5JdkYOC77FPloCfvNhfeuXtPH2h6j4JtJvHK2zrqVu11JbR2MtzCttvOySUAOETG0lnwuc+lAHN/YbrxB4s8StD4UYLaaDb6U2n/AGyOGYiRmZ0EqFkDBMFRnHIyRk4634daBqukPfy6vFc+Xtit7KTVFtmv/JRfuyywZV1BJ25JPXNSWHijwvoHiOXwvo+nR6dbW1mdQuZ7ezMFrCp6NuVQh3AMd2cfLjJPA0rTx/4bvbK8uo76SJLKNJZlubSaCQI/3GEciBmDYwCoOTwMmgDjLzwPrGqa5O2oaYs1lqHihL26EksbKtpDDtjJGeQWUfL155FdX4K0O80u58R3+oWv2a41TVZJ0jLq37pVVIz8pIGVXOOvPPNWYvHnh2bTbu9F7IiWc6288MtpNHOkrAFU8lkEhZgRgBcntmqWs/ErRtL8Ow6raxXuo/aLsWUVvBZzeYJt2Cjps3RkdcMNxxwCcCgDkdN8MeLr3xfpV9rmnzW0NlqN1fTRQfYo7QyFGSJowmZm3BuWkbOeoHa/4L8Ga1p2seG7nVLUW8VjYXc1yvmI2Lu4lDFflJyQuckcc9TXXJ458PvrcWlC9kF1NMbeMtayrE8oXcYxKV8suADld2eCMZroKACiiigAooooA82+Df8AzPv/AGOeo/8AtOql9oPipIfFRtdFM8+qazFKXf7NMHtFCqDAkr7fMUJnEoABJIz0q38G/wDmff8Asc9R/wDadavjL4j6b4d0zV47GYXGr2MWI4WgkMPnsMxxPKBsDNkfIWDYPSgDiP8AhF9atJYLrVIpr6/u/Ew1F9Luru0W5voIoQiFQpSIsmFcgY+7TdM0a68R6Lrmpw6LfyJqniR7kNpN9FBc23kYRJE83Eb/ADIc5bHJI3V3Wo654P1q6tdB8VW9nqN4kscTxz6a89tFcsmdnmMjRo5B4UtuwQO9N0v4geHLc6pY29pcabp2hyx2SkWEsaSSHjyoownJHACqCTnIGMEgFzwVp+s6Z4Pf+24IRq00s07+VFFG8pLHYZfLwhlK7QxXjPc9a5Hw34I1m1uvC1xq2lof7I0u6uJI2kjfF/M4bA+bqBu+bpz1rt/+E40A6OuprdzNC9wbVYls5jOZgcGPyAnmbhgkjbkAZ6c0w+P/AA2dJt9RjvpJobl3SKOC0mlmLJneDCqGQbcfNlRjvigCn4R0TVvDvwtgsEtoBrS20kjQTPuj+0OWYqSOo3HHFefL4J8Y3tpfSy6fdwTjw/Jp9nFM1jEkU00g81Y0t8ARgAEbmYn69fRp/iFo41zQtNsfPvjrUTXENxBC7QrCBnzC4UjGSoPpn5scZt6T420DW9UGn6deSPctG0sQltZYlnRTtZ4ndQsigkcoSORQBm+GvDV5pvjfU9RuYvLtF0600+yO8HcsYYuQByPmYDnGcV2NFFABXN/Ef/klniv/ALAt5/6Ieukrm/iP/wAks8V/9gW8/wDRD0ASeO7HUtT8BazYaJH5l/d2rwQruVeW+XOWIHAJPXtXF6r4H1ZpvE93Y6Yk10dBg0jRy8kfTYwkIyflGWGc4yF4zXpGrarZ6HpF1qmqTeRZ2kRlnkCM+xByThQSfwFUrvxdoVhcPDeagkTR2Rv5GKNsjgBxvZsbVz2BOTzgHFAGR4p8P37fCO68PaFCZrn+z1s0RZArMuArbWYgZ25xkgZrJTwVPf8Aiy81290aFxZ6Tb22jWmolJESZdzlmCswBDbBntglTzmtHW/iLZJ4P1bUvDrGW+svLjW3vrSaAiSQgRlo5AjlTuzkYBwcGuk1PW7PQ9OiudXlZPMZY1SGF5XkkP8ACkaBmY9eACcCgDyS08IeM5I57640y7W6tvD1za2lpI1jBEt1MRvSJYDhU+UEF2J9TmtabwNrFu2sXFrpkc89v4ah0nSA0kYzIVbzSCT8oyVBJxwOM12g8e+HG0eDU4795ILidraKOO1led5VzujEAUyblwcjbkAEniql98RdIt7jQYbCO71E67Nst3trWRlRRnezkKdu3GCp5HfABIAH6joU1r8Lv7AtNNOplbBLR7RLv7O0ibQr7JCCA2MkZwCcAkda4STwD4mvPCWo24W93JcWf2T+0DZ/2lNbQEM0TzR7o355QSEgnhsA5r2G4nS1tZbibf5cSF22IXbAGThVBJPsBmuS0r4m6JqHh6DV50vbWK6mlS1gNlNJPMiE/vFjRCxXHJIBAzgnNAHLXPgvW5PD91N9g1S5uNT1u1u76C5u7Q3LwwlecRiOFSdigqGbjvnivTdMur66W5Oo6cbDy52SEGdZDLGMYk+X7uefl5IxWVfePfDen6fbXst+89vdW5uoms7WW5zCOshESsVTn7xAHamQeOdOvPGdv4esIrm5eaz+2NdpA/kqhxs+fbtO7nnOOMZzxQBxGlaJqOtaabcWwnJ8ZzXOpuHUbI4pCyEhiC33YhgZ/LpFD8NPEUcnjmCOVY7e7tDZ6GTKF/dO7SupKklRufZyOBXfav4q8M+ErqaO/k+yySr9quWtrKSUIOF82Zo0IQHGNzkZx14qW88b+HrDU47G51DErtGpdIZHijMn+rDyqpSMtkYDMM5GOooA5S30LxBd3l5qtroh0Q2ugnTLGxnmiLzSddxMTsoRSAFyc8nIHfTt9I1PT/gl/Y2k6ZNFqcOkG1hs5pYg5k2bcF1cpyec7qh1f4mQwxeJ10q1m3+HERria7tpUidsgugJAGQhBBzzuBAI5PdRyCWJJE5V1DD6GgDya48A6xDb+IJbPTI5bweHrfR9JLyR/wBwiUgk/KNzDOcZC8Zr0/R7BdK0Ox09Pu2tukI5z91QP6VcooA5vx5/yLtr/wBhrSv/AE4W9Q/EjTNT1nwRc6fo1qbuWeaESwq6qzwiRTIFLlV3bQcZIFTePP8AkXbX/sNaV/6cLetrUtSs9I02e/1Kdbe1gXfJI3YfQck+w5NAHlfi3w34w17WNQhh0qWCyu5bOFXtPsSLJaKymQTu+ZmkXL4VCFwOCSecjxHazzWWuaZFYwalH4i8SW8cGpx3UU0bIroDHgNvV4wjjG3AwTnPFd9bfEayvPFF7DFMkGjabpv2q+mu7aWCaGRnIVSjhWUFVJwVycjHXmle+KPAejWeo+LbHQ0k1O3kEUrR6K8N60sgG0NujDgNkfMeD79KAKF94V1u78eS3VrpF3b21zewfbVup7W70y6giHyyCN/30c3QDaoAKjnHNdR4w0jUtW1zwy1lB5lpYXz3l0d6jG2JhGME5OXYdPSrE3j3QLW8gtL26lt7iTyg4a0m2QPL9xJX2bY2JOAHKnkcc1JN420CDXE0mW8kF084tgwtZTCJiMiMzBfLD4/hLZ9qAOI8P+ANRtoPBiXWmC2e0v7jV9VcSoSLh1cKpIYljmTtkYXrit3x7ZeJ7zWNMbQbR5LSCKZzcWa2puopyuEANyCqRkE7igLcAdK27TxtoF9qr6daXry3CmRVItpfLlaP76xybdkjL3VCSMHjg1l6T8TtE1TS5NQaLULeA3j2tsjWE7zXWwcskSoWIGGzgHbj5sHgAHH6f4G8TWGihV0/feWfhVrG3LTxDzLuZy0q8NhQCF56cjGcV6noOnDSPDun6cAB9kto4eOmVUD+lP0jV7HXdJt9S0m4FxaXC7o5ApXI9wQCCDwQQCD1q5QAUUUUAFc3Y/8AJU9d/wCwLpv/AKPvq6Subsf+Sp67/wBgXTf/AEffUAQaP/yVHxB/2CNO/wDR17XV1wQ8R6H4f+KOtf29rOn6Z5+kaf5X226SHzNs15nbuIzjIzj1FbP/AAsfwR/0OXh//wAGkH/xVAHSUVzf/Cx/BH/Q5eH/APwaQf8AxVH/AAsfwR/0OXh//wAGkH/xVAHSUVzf/Cx/BH/Q5eH/APwaQf8AxVH/AAsfwR/0OXh//wAGkH/xVAHSUVzf/Cx/BH/Q5eH/APwaQf8AxVH/AAsfwR/0OXh//wAGkH/xVAHSVzfxH/5JZ4r/AOwLef8Aoh6P+Fj+CP8AocvD/wD4NIP/AIquf8fePvB958NvEtrZ+LNDnuJtJuo4ootShZ5GMLAKoDZJJOABQB1/ijSJPEHhPVNIhuDayX1rJAsy/wABZSM/rXDDwZ40u777fLPouj3ljoTabpcllLJcbJmKlpG3xqAMIAAAcc9a6r/hY/gj/ocvD/8A4NIP/iqP+Fj+CP8AocvD/wD4NIP/AIqgDjYPhr4h+w+JHlvIo77U9Ij0+1abVrm+8thuMhaSZMgMSPujA/u+qeIvh74t8QWkthJdWsenSWEFrFaxaxcxR2m3iVdkcaicMvRpOnTb69n/AMLH8Ef9Dl4f/wDBpB/8VR/wsfwR/wBDl4f/APBpB/8AFUAc3rHgLWr3xdHqWnjT9OeJ4I4tWsr24guBbIQTDJAAY584IyWXgjjjmOX4YXEvi29nuPIu9LvdTTUnaXUrxGQrtIT7MjLE5DICJGPHdTjnqP8AhY/gj/ocvD//AINIP/iqP+Fj+CP+hy8P/wDg0g/+KoA5aTwFrk3h3UNL1Gx0LVorzWJb6ZLm6nhNwjMWQiREzBImEHAfIB5Ga6Lwro/ibQtP0+yvr+3vYRLPJdtc3Es80SMcxRRyMAXC9CzgEgdKn/4WP4I/6HLw/wD+DSD/AOKo/wCFj+CP+hy8P/8Ag0g/+KoA6Siub/4WP4I/6HLw/wD+DSD/AOKo/wCFj+CP+hy8P/8Ag0g/+KoAPiP/AMks8V/9gW8/9EPW/dW6XdnNbyjMc0bRsPUEYNcB4+8feD7z4beJbWz8WaHPcTaTdRxRRalCzyMYWAVQGySScACug/4WP4I/6HLw/wD+DSD/AOKoA5jQ/h34i0LwLf21trMA8RTQx2tvdgtsht4+EiVipZcruJbaSGckA4FVI/hhrU1lra3M1rHNq09kp8zUrm9aO2hYNIhlmG5iTuxwB83QV2X/AAsfwR/0OXh//wAGkH/xVH/Cx/BH/Q5eH/8AwaQf/FUAN8c+H7nxHocWnQWGmajamZWuLTUJpYN6jlTHNFlo2DYOdpyMjjrXL3Hw516fQtE+1am1/qGl3k84hm1W5izHICBELtB5uUBGGK/NgggZyOq/4WP4I/6HLw//AODSD/4qj/hY/gj/AKHLw/8A+DSD/wCKoA52HwJfaMfDdxZQ6e8ekzXV5dwefcNmaVTmRGYSySMNzcEjdnPGcV2OjS6ve+FbaXWI4LXVZrfMqRKwSNyOMBucDjrz9Kof8LH8Ef8AQ5eH/wDwaQf/ABVH/Cx/BH/Q5eH/APwaQf8AxVAHFxfDHXItE8Nl3tpNR0WGe3khh1e5tI7nzSCZvOiQOrbhkptIwxGe9S6t8MtRl0vSrLT7PSGbTrVxbXsOoXllc2Ny+d8kcgMrSIc52ORyOSc8df8A8LH8Ef8AQ5eH/wDwaQf/ABVH/Cx/BH/Q5eH/APwaQf8AxVAFTS/DWs2Pj1NXvbq31C1GkRWPnO7JMkisWdtgUhg52/xDGOhrL8X+CNa1/wAUDUbBNPtJo40itNYt7+4tbu1TcC6NGisk6nHAYqOSMdzv/wDCx/BH/Q5eH/8AwaQf/FUf8LH8Ef8AQ5eH/wDwaQf/ABVAHL6t8Mby+8V6ldeZFd2GrzwTXP2nUruHyhGqqyC3hZUlztBBZl2knhgMGp4j8P6otx4k0Qmznl8YXUcdqyTv5sdqqKsu9NmFVEDfNuOS4HGRXZ/8LH8Ef9Dl4f8A/BpB/wDFUf8ACx/BH/Q5eH//AAaQf/FUAdDBCtvbxwxjCRoEUewGKfXN/wDCx/BH/Q5eH/8AwaQf/FUf8LH8Ef8AQ5eH/wDwaQf/ABVAHSVzdj/yVPXf+wLpv/o++o/4WP4I/wChy8P/APg0g/8Aiq5+z8feD1+JOs3TeLNDFvJpNhGkp1KHYzLNeFlB3YJAdSR23D1FAD/FHhPxPNrmv33hn+yJv7b0yOxLahPJE1qV3jICxvvUhycZXB9ayPEHwz8S6lYvo8GowyaR/Z9vZ28Z1K4tVg28S7ool2zbx0LscdNvr2n/AAsfwR/0OXh//wAGkH/xVH/Cx/BH/Q5eH/8AwaQf/FUAYV94O8SR6l4ludBu7G0l1K0t4LG685lkhWIYMRXyyFBy+JASRn7tZUXw01g2evfbrPSdROrtbxPZahqt5chreMHcn2lx5ituJZWCkDptHWuy/wCFj+CP+hy8P/8Ag0g/+Ko/4WP4I/6HLw//AODSD/4qgDlJvhrrNz4Ysre51F5bmw1U39tZtq1yUjj2lBALsATYAJIbbkHjGKnj+H+rWlpoTWiaf51tq76lfwPe3LrISjKpEsvmPIy5B52BiP4eldJ/wsfwR/0OXh//AMGkH/xVH/Cx/BH/AEOXh/8A8GkH/wAVQBz2heB9d03xk2s7dP0sSSTS3q6bf3DQ6k7DajPbOuyIjAJKsxznrnNdzpP9pf2Tbf279k/tHZ/pH2Pd5Ib/AGN3OPrWP/wsfwR/0OXh/wD8GkH/AMVR/wALH8Ef9Dl4f/8ABpB/8VQB0lFc3/wsfwR/0OXh/wD8GkH/AMVR/wALH8Ef9Dl4f/8ABpB/8VQB0lFc3/wsfwR/0OXh/wD8GkH/AMVR/wALH8Ef9Dl4f/8ABpB/8VQBzXwb/wCZ9/7HPUf/AGnUF78P/Elz9o0fdpL6Nda+uqzXb3En2l4xIsnl+X5e3O5QM7/ujoKy/hP418K6d/wmv9oeJdHtPtPi2/uIPPv4k82Jtm2Rct8ynBwRwcV6B/wsfwR/0OXh/wD8GkH/AMVQByv/AAgXim98YWV/rmow3tpa6s14ZDqVwN8IVvKjW1CiFChKc5YtgnI7qPBPjCHT5raC+tFE2tzX939n1Ca1e+gckqhlSPfCV+QYTO4L94Zrqf8AhY/gj/ocvD//AINIP/iqP+Fj+CP+hy8P/wDg0g/+KoA41PhlqsfhKy0u8s9I1hl1Ce/uBc6jdQypMzlopIrpVaQMowDuUk/3vWW9+GuuyR6FdvqX9q6jp9hLZTm51W6tCwdgwfz4fnfbgKVYDeMElSK63/hY/gj/AKHLw/8A+DSD/wCKo/4WP4I/6HLw/wD+DSD/AOKoAw7TwLqmj61Yz6OulfZ7PRH0+ATmYiCVm3MwjJZpEYhQQZAQB1NVvC3gnxH4WS+l0WPTNKD2wS30ldSubuxE5fc8wDopizkjYmQfXiul/wCFj+CP+hy8P/8Ag0g/+Ko/4WP4I/6HLw//AODSD/4qgDo13bRvxuxzjpmlrm/+Fj+CP+hy8P8A/g0g/wDiqP8AhY/gj/ocvD//AINIP/iqAOkrm/iP/wAks8V/9gW8/wDRD0f8LH8Ef9Dl4f8A/BpB/wDFVz/j7x94PvPht4ltbPxZoc9xNpN1HFFFqULPIxhYBVAbJJJwAKAO31nTk1fQ77TpgCl3bvCc9PmUj+tcJp/gPxNpvw+uba31m3TxRemL7VeRu6xmOPCiGNyC0Y8sEBwuQWLYya6T/hY/gj/ocvD/AP4NIP8A4qj/AIWP4I/6HLw//wCDSD/4qgDj7P4Y6vIl3/aMtsv2zWbS9kVtRuLxlt4ArCPzZV3M28HrgYPbpXUePPDd34ms7O1i07TNStophLJBeXc9pIjrykkU8QYowPbbyD1Hex/wsfwR/wBDl4f/APBpB/8AFUf8LH8Ef9Dl4f8A/BpB/wDFUAcxefDvXJtJ8Oyz6m+p6npCzLIJtVubXzRJ/wBPMQ8wlcAZI+YdcVPa+CtS8PaloF9Yx2MlppNjdLPAJbglZ5SGMkYIleToRgsDzkc8DoP+Fj+CP+hy8P8A/g0g/wDiqP8AhY/gj/ocvD//AINIP/iqALFsut6p4EVNR+z2et3ViRJ5SsIopmTsCScAnvzXDS/DHVlsPDcltHaLdaTpj6a9rHrF3bR7TtIkWeFVduV5QqAc/eGMnsf+Fj+CP+hy8P8A/g0g/wDiqP8AhY/gj/ocvD//AINIP/iqAOQ1n4ZarJbWFrocOl2klhZi3sdVt7+7tLmwYnMhABk89CeQjsO4J5zXU6R4d1Kw+IGq61dtbXNve2dvbxz+ayzJ5QOVMe3bgszNuDe2Km/4WP4I/wChy8P/APg0g/8AiqP+Fj+CP+hy8P8A/g0g/wDiqAOe8U+Bta1zxf8A2rZLp9nOgjjttZtb64truCEMGeN4lDJOCQcbmUYOMcZNe5+GF1P4u1G5l8i703UtQjv5mm1K7jKFQuU+zRssUhyikOzDHQq2Oep/4WP4I/6HLw//AODSD/4qj/hY/gj/AKHLw/8A+DSD/wCKoA4zWPD+oxWuteGJTYy3vizVTOskUzFzaZQSvIhQBdkaqvBYEso4zXqscaxRLGgwqKFA9hXO/wDCx/BH/Q5eH/8AwaQf/FUf8LH8Ef8AQ5eH/wDwaQf/ABVAHSUVzf8AwsfwR/0OXh//AMGkH/xVH/Cx/BH/AEOXh/8A8GkH/wAVQAePP+Rdtf8AsNaV/wCnC3o8deH7zxJ4fittNe3Fzb3kF2kd0SIpTFIG2MQCQDjrg4ODg1z/AI08feD7rQbaO18WaHM66tpshWPUoWIVL6BmbAboFUknsAT2roP+Fj+CP+hy8P8A/g0g/wDiqAOZm8H+M7qLxJqAvNN0zVtXuLcRpZXUpVbWMANGZzGGR2Bb51TI4I9qafDPW102+3NZzXF3rdtqDW9xqdxOrQQhdsRnkRnyGXOSCD7Dgdl/wsfwR/0OXh//AMGkH/xVH/Cx/BH/AEOXh/8A8GkH/wAVQByureAPE2u+JvP1e/hutPXVobuMHU7hFS3jwwh+yqoiJDDO9ixPt2sWPgXXIvHQ1jNjpSSXEkuoTaZfXGNSUoVQPauvlowyCXDscg+vHRf8LH8Ef9Dl4f8A/BpB/wDFUf8ACx/BH/Q5eH//AAaQf/FUAcv4W+GV7od9a/aWt5Y9MSb7FdtqV5M7O+QG+zswihwCchQ+e22qv/Cutfbwdomk3lhot5PpiOVnTVLm1mjuCeLiOeOPIzkkx7cA4+Y12X/Cx/BH/Q5eH/8AwaQf/FUf8LH8Ef8AQ5eH/wDwaQf/ABVAE3h+x8QaZDp9jql/bahbW9gkc924f7RPcg4Lf3duPqSa3q5v/hY/gj/ocvD/AP4NIP8A4qj/AIWP4I/6HLw//wCDSD/4qgDpKK5v/hY/gj/ocvD/AP4NIP8A4qj/AIWP4I/6HLw//wCDSD/4qgDpK5ux/wCSp67/ANgXTf8A0ffUf8LH8Ef9Dl4f/wDBpB/8VVHw5rela98SdfutD1Oz1K3TSdOjaWzuFmRWE16SpKkjOCDj3FAE+j/8lR8Qf9gjTv8A0de11dcpo/8AyVHxB/2CNO/9HXtc74rvLnUvitDpNvba/qFpYaUZrm00bUvsZ8ySTCM7efFuwEbA3Hr0oA9NorzHxkniPT4fDVloWqT6Rp93f28EtvcSNc3spZi0iNO0j7QFXqrMTyMgDno7vxnY6tca94d8J36zeJtOtnPkNC4WOTHy5dl2Hkjuf50AdXRXkHw+8XWBvb3+3X8TaHrWk2DTappurXkk8M695k80nABGRs2D5sYYYrqovHeo2ugT6/4g8ONYaOtn9sglgvBPMwJ+WN4tq7ZCCDhS6843eoB2tFcLP8RbjSINT/4SbRo7Gez0o6rFHBeGcSxDgqxMa7HBwMAMOeCazbv4uy2C2kep6NZ6Rc38RuLRdX1dLaN4FRSXZ9jbWLNtVMFjgk7elAHplc38R/8Aklniv/sC3n/oh6v+GNfg8UeF9P1u1ieKK+hEqxuQSmeoyODznkVQ+I//ACSzxX/2Bbz/ANEPQB0lFY/i2/n0zwfqt7ZuI7iG1do3borY4P4daz/DMcmm6/qejC8uru3ht7e4Rru6eeRWk3hhuclsEoCBnAycYHFAHUUVxWuaHFeeNtNgs7zWIJ5WN9dvFq90sSxRlQEEQk8sb2KjG3GA3fml1PVr658eaGtpcvFpaXk1tKiHAuZBA7Nn1VCAMf3s/wB0UAdpRXnHhy6vJfElpdS39+sd/Lcobqa5d7a+GWMawRMSIiirySibsHHmAk1p6NFNo/j59NafVhbT2bOr6ndm4F7KrKWki+ZhEFDYK4QHPCYXNAHaUUUUAFFFFAHN/Ef/AJJZ4r/7At5/6Ieukrm/iP8A8ks8V/8AYFvP/RD1f8U38+l+EtVvrRlWe3tJJI2YcKwU4P50AatFcp4Yjl0zxBfaR9turyBbO3ula7unndXcur4ZySFOwHGcDnAA4qr4h0OG98Yabb2d5rFvc3Mhu7l4dXukjSGLblREJPLG5ii429Cx60AdrRXnWnasLjxM+o6k+uxBtUksoriK5xYx7XMaQtEW5LEZ3+WfmbG8YwG+HdW+263b6hqD+IIJb+6uIIrkz/6CxVnVYBCWO0gJkSeWNxB+c5wQD0eiuK0WAWfj6Sy0fUtTv4Le1b+1mvLyS4jWdipjA3kqj4LkpGFADLkAFa7WgAooooAKKKKACiiigAooooAK5ux/5Knrv/YF03/0ffV0lc3Y/wDJU9d/7Aum/wDo++oA6SiuA8SXF2dX1nUo9QuoW0P7L9mgiunjibedz+YgO19wO0bgcY4wea63xBbWdxos7anLdxW0CmZ3tLuW2cBQSfniZW/DOKANKivNH0/VLLwbpEKweItRbU78XFzb2mpTGeCEozLEJ5JlKKMICTIMnPqBXZ+Frqzu9AiOnrexpEzxPFfzPLPFIrEMjuzMSQcjO5h6EjFAGxRRRQAUUUUAFFFFABRRRQB5t8G/+Z9/7HPUf/adek15t8G/+Z9/7HPUf/adWdMu7v8AtvT9We/uJH1HV7uxlt2uXMKxIJQgWInarDygdwAJyck0AegUVy/juzgk0X7UW1D7YpEFolpqVzaq0sjBV3iF13DJB5zgZxWT4vlv9B8AyaPpGpXbXlpYGae/lmZ5lRe5cnO52yAc5ADEdKAO+orz7xRdXjX2sXceoXNudD02C6to4bl40aRi5YyKDiQEIFwwI64weat69osV/wCLdLhtLzV7e6un+13Lw6vdJGkMW3KiISeWNzFVxt6Fj1oA7aiiigAooooAK5v4j/8AJLPFf/YFvP8A0Q9dJXN/Ef8A5JZ4r/7At5/6IegDpKKxfGF5cWHhG/nspfIn2BEl/wCeZZgu78N2fwqp4XjfTtW1nRlurq6trNoXha7uXuJE8xMspdyWIyCRknGfTAoA6WiuL1HRIrn4gWMVleavC6A6heldXuvKKA7UjEXmeWAzZJG3GEPrTb6G40Xx1pksVzq/lX0zrcXN1dmS1kLI3lwLCGxG2QCGCKMLgszNggHbUV5poGoXkGs6ZbXj69HquovPBqZu/N8hHCMwaASZiwCvBiBXB+bJxWz4eSXSvHF7pbTaols9oJIV1O8a5N06th5o2LNsXDKCny8nIQDkgHZUUUUAFFFFABRRRQAUUUUAFFFFAHN+PP8AkXbX/sNaV/6cLeukrm/Hn/Iu2v8A2GtK/wDThb1J4wkmOn2VnDcSWwv7+G2llhlMbiMklgrrgqSFxkEEZ4INAHQUVgeEJJf7PvrKW4luFsL+a1ilmlMkhQEFQznliA2Mkk8cknmsez0iOHx3dTafd6sLfSoC86T6vdTRzzyAkLskkZQFXnAHV19KAO3orzfRdRu9Pt7O+n1eVm1bRJ9QuZLq4eWKGVdjB0Q5CKBIRtUAYA4zVO0vdR03StT3ajf6bNPpSyRrqdzJcNLNu2meL75RDuUBBhgWGY17gHqlFcj4KaaC81Syma/gSPypIrDU7prm4gVgQWMhd8qxUkAO2MH7pyo66gAooooAKKKKACubsf8Akqeu/wDYF03/ANH31dJXN2P/ACVPXf8AsC6b/wCj76gCDR/+So+IP+wRp3/o69rYstAtbHxBqWsxvM91qSxLKHIKosYIULgZA5J5J5rlRPrkPxR1r+wdO0+9zpGn+b9tv3ttn768xt2wybs85zjGB1zxs/bvG/8A0L3h/wD8H0//AMh0AX9W8PWms6ppF9dvMJNJuGuYERgFZyhTLAjnAY4wRzVnVtOGraZNZ/a7uyMg+W4s5fLljIOQVPT8CCD0II4rH+3eN/8AoXvD/wD4Pp//AJDo+3eN/wDoXvD/AP4Pp/8A5DoAIvBVpJ9sfWr+91ue8tWs3mvTErLA3JRRCiKATznGffgVDD4Aszo17peqatq+q213bLahbu4VRBGv3fLWNUUMODvILHAyTipvt3jf/oXvD/8A4Pp//kOj7d43/wChe8P/APg+n/8AkOgCq/w5066s76PVNR1HUbm+jjgmvblohL5KMGEQCRqgXI5+XJycnpi/rfhK31jULW/gv77Sr62he3W5sHQM0LY3RkOrLjIBBADAjgjmovt3jf8A6F7w/wD+D6f/AOQ6Pt3jf/oXvD//AIPp/wD5DoA37W3W0tIreNpHWJAgaWRpHIHcsxJJ9yawPiP/AMks8V/9gW8/9EPR9u8b/wDQveH/APwfT/8AyHXP+Przxi3w28SreaFocVudJuhLJFrUzuq+S2Sqm1UMQOgJGfUdaAO9vrKDUdPnsrtN8FxG0ci5xlSMGs3SvDg0qC526pf3V3c7Q97cGJpQqjCqMIEwBn+HuSck5qp9u8b/APQveH//AAfT/wDyHR9u8b/9C94f/wDB9P8A/IdAGvHpUMeuTaqHkaea3S3KkjaqqzNxxnJLc89hWRc/D3wtc67aax/YenxX1tcG486K0iVpXKkZdtuWwTu65yAaPt3jf/oXvD//AIPp/wD5Do+3eN/+he8P/wDg+n/+Q6AFsPBdnYX0Uv26+ntrZnezspXTyrRnyCUKqHPDMBuZsA8YqbS/C6adqYv7nVdR1SaKJobb7c8bfZ42IJVSqKWztXLOWY469cwfbvG//QveH/8AwfT/APyHR9u8b/8AQveH/wDwfT//ACHQB0lFc39u8b/9C94f/wDB9P8A/IdH27xv/wBC94f/APB9P/8AIdAHSUVzf27xv/0L3h//AMH0/wD8h0fbvG//AEL3h/8A8H0//wAh0AHxH/5JZ4r/AOwLef8Aoh63ru1hvrKa0ukEkE8bRyIf4lIwR+VcD4+vPGLfDbxKt5oWhxW50m6EskWtTO6r5LZKqbVQxA6AkZ9R1roPt3jf/oXvD/8A4Pp//kOgCzpXhpdJhudmqX9zdXARDeXBiaVUThEGEC4GT1Uk5JJJ5q8ulwrrsmrb5DO9utttONqqGLccZySeeewrI+3eN/8AoXvD/wD4Pp//AJDo+3eN/wDoXvD/AP4Pp/8A5DoAmPhO2OsC7+23gtRP9q/s7cn2cz9fM+7vznnbv255255psfhC2i1AXCX98LeOSSa3st6eTbyvu3SL8m8n52IDMVGeAOMR/bvG/wD0L3h//wAH0/8A8h0fbvG//QveH/8AwfT/APyHQA7w14Sk8MokMPiHVb60RWxbXaWu0sxyXLJCrs2ckksckknNdFXN/bvG/wD0L3h//wAH0/8A8h0fbvG//QveH/8AwfT/APyHQB0lFc39u8b/APQveH//AAfT/wDyHR9u8b/9C94f/wDB9P8A/IdAHSUVzf27xv8A9C94f/8AB9P/APIdH27xv/0L3h//AMH0/wD8h0AdJRXN/bvG/wD0L3h//wAH0/8A8h0fbvG//QveH/8AwfT/APyHQB0lFc39u8b/APQveH//AAfT/wDyHR9u8b/9C94f/wDB9P8A/IdAHSVzdj/yVPXf+wLpv/o++o+3eN/+he8P/wDg+n/+Q65+zvPGP/CydZZdC0M3B0mwDxnWpgir515tIb7LkkktkYGMDk5IAB0+p+E7XVNYW+kvLyFG8v7TaQugiu/LbcnmZUtwf7rLnocjirupaQmraZfWF5czmC9XYwXYDGpABVfl6HB+9nqfbGX9u8b/APQveH//AAfT/wDyHR9u8b/9C94f/wDB9P8A/IdAGpqmlPqFrHHbale6ZLEcpPZMm4cYIKurIwx/eU46jB5p+kaVDo2mpZ27yygMzvLM255XYlmdjwMkkngAegArI+3eN/8AoXvD/wD4Pp//AJDo+3eN/wDoXvD/AP4Pp/8A5DoA6Siub+3eN/8AoXvD/wD4Pp//AJDo+3eN/wDoXvD/AP4Pp/8A5DoA6Siub+3eN/8AoXvD/wD4Pp//AJDo+3eN/wDoXvD/AP4Pp/8A5DoA6Siub+3eN/8AoXvD/wD4Pp//AJDo+3eN/wDoXvD/AP4Pp/8A5DoA6Siub+3eN/8AoXvD/wD4Pp//AJDo+3eN/wDoXvD/AP4Pp/8A5DoA5r4N/wDM+/8AY56j/wC066y28KWtrrx1Jbu7dFlknhsnZPIhlcYeRQF3ZOTwWIG44AzXnHwnu/FSf8Jr/Z+jaPPu8W37T+fq8sXly/JuVcWzblHGGO0n+6K9A+3eN/8AoXvD/wD4Pp//AJDoA07rRo70WP2u5nmayuRcox2DewDABgFxgbuMYPA59aPiXwP4d8W28qa3pFncTyRGJbt7aNp4l/2HZSRiovt3jf8A6F7w/wD+D6f/AOQ6Pt3jf/oXvD//AIPp/wD5DoAdfeC9Ou5oTDNcWNukKW81pabEhuYkOUjcFSQoJP3CpwSDxxWqulQrrsmq7pDO9stttONqqGLccZySeeewrI+3eN/+he8P/wDg+n/+Q6Pt3jf/AKF7w/8A+D6f/wCQ6AOkorm/t3jf/oXvD/8A4Pp//kOj7d43/wChe8P/APg+n/8AkOgDpKK5v7d43/6F7w//AOD6f/5Do+3eN/8AoXvD/wD4Pp//AJDoA6Sub+I//JLPFf8A2Bbz/wBEPR9u8b/9C94f/wDB9P8A/Idc/wCPrzxi3w28SreaFocVudJuhLJFrUzuq+S2Sqm1UMQOgJGfUdaAO71LT4NV024sbwMYbhCj7TggHuD2I6g1Q0rw/wD2VazqNUvrq7uZVkmvrjyjLJtwAuFQIBtGOFHUnqc1T+3eN/8AoXvD/wD4Pp//AJDo+3eN/wDoXvD/AP4Pp/8A5DoA14NKgg1q71NWdp7qKOJw2Nqqm7AHGf4jnJNZy+FEOuR39zq+p3cMEzT29hPIjQwyEEbgdnmHGWwGdlGeAMDEP27xv/0L3h//AMH0/wD8h0fbvG//AEL3h/8A8H0//wAh0ATWvhSKHVGvbrVNSvysbx20dzMuLRX+9sZVVySMDc7MwA4I5y/SfDS6ZqLX9zql/qt15XkRSXzRkwxZyUXYi5yQMs2WOBk1W+3eN/8AoXvD/wD4Pp//AJDo+3eN/wDoXvD/AP4Pp/8A5DoA6Siub+3eN/8AoXvD/wD4Pp//AJDo+3eN/wDoXvD/AP4Pp/8A5DoA6Siub+3eN/8AoXvD/wD4Pp//AJDo+3eN/wDoXvD/AP4Pp/8A5DoA6Siub+3eN/8AoXvD/wD4Pp//AJDo+3eN/wDoXvD/AP4Pp/8A5DoA6Siub+3eN/8AoXvD/wD4Pp//AJDo+3eN/wDoXvD/AP4Pp/8A5DoA6Siub+3eN/8AoXvD/wD4Pp//AJDo+3eN/wDoXvD/AP4Pp/8A5DoAPHn/ACLtr/2GtK/9OFvWrrOkxa1p5tZZprdg6yRXFuQJIXU5V13AjII6EEHoQRXFeNLzxi2g2wutC0ONP7W00ho9amclvt0G0YNqOC2ATngEnBxg9B9u8b/9C94f/wDB9P8A/IdAGjpeirpNhFbW95dSFZmmnmlKF7l2yWL/AC45Jz8oXGABgcVNYaVBp899LEzu99cGeUvg87VXAwBxhR1zWR9u8b/9C94f/wDB9P8A/IdH27xv/wBC94f/APB9P/8AIdADrHwTp1n9oSae6vreW3e0it7llKW0DHLRptUHB45YscADOBUUfgSya3ni1PUNR1NpLf7NFLdSIHto8hgsZjReQyqdzbmJUZJp/wBu8b/9C94f/wDB9P8A/IdH27xv/wBC94f/APB9P/8AIdAF7RtATSJri5mv7vU724CrLd3nl72Rc7VxGiKAMnoozk5zWtXN/bvG/wD0L3h//wAH0/8A8h0fbvG//QveH/8AwfT/APyHQB0lFc39u8b/APQveH//AAfT/wDyHR9u8b/9C94f/wDB9P8A/IdAHSUVzf27xv8A9C94f/8AB9P/APIdH27xv/0L3h//AMH0/wD8h0AdJXN2P/JU9d/7Aum/+j76j7d43/6F7w//AOD6f/5Dqj4cl1Wb4k6+2uWdnZ3H9k6cFjs7trhCvnXuCWaOMg5zxg9BzzgAE+j/APJUfEH/AGCNO/8AR17WrqXijRtI1zTNH1G9EOoaqzLZweWzGUqMtyAQMe5FZWj/APJUfEH/AGCNO/8AR17Xn/xMvvs3jj/hIY7Vr2Tw7PY29vGigt5sxkJUZ6ZzFnkUAeq6b4o0fV9c1PR9OvPPvtKZVvIxE4ERYZA3EbSfoTjvWtXhWnNH4Q8L+I5bmSeK5vtUh0+e/hultB52wGWSS4Kt5Sb3dd4BYcY55qTTvEWqDwqzXery2eh3niU2c18NTlm+w2qp8wF3KFfa8i7Q5wQH+Ujg0Ae40V5NcF9XvvDOi+DPFetLp97Pd3kl5LO7ym3Rdm2N5RudN8gKs28dCCQBWX9u1GK6mtYde1SbxXa6zFaWOmNfuSLNGXMksO4LIrR7maVlJyeCMAAA9j1PUrTR9LudS1KYQWlrE0s0pBIRFGScDn8qz9K8WaZrMuyzj1JB5Zl8270m6toyvHPmSxqvfpnNcL8QW8YzeG9X0vWv7FFhq97b6fposfNM4SSUBzLv+XITn5QR1rsP+EZji0O8tPEGr32vae8Q32+oR26oqpzj9zFHkHAyGyCB9cgGpo2u6X4htHutDvob+2SUxGeBt0ZYYztYcN16jIrL+I//ACSzxX/2Bbz/ANEPWZ8H7KG0+F2lyW0Swx3nmXioi7VUSyM4AHYYI4rT+I//ACSzxX/2Bbz/ANEPQB0M88VtbyT3EixxRKXd2OAqgZJNUdG17T9ft5JdMlkYRMFdZreSF1JGRlJFVsEEEHGCOlVfGltLd+CNYgt42lkktJAsa5y/HQY9ayvDurabqHiDWNasL23k0r7Lawfa1lHleYvmFl3dMjeoPoeDyKAOkvtXsNNuLOC+uUhlvpvItkOcyvgtgAewJqoPE+mtrraRGL2W6RwjtHp9w8MbFQ2GmCGNTgg8t3FcV4oudTHjfS7i78OajKkWrRQ2dwktsYzFsYsVBmDhmYknKjhFHUczRXg0vxhLBpfipr6/vtVLXGgPBEnlxHCs+3Z5wCquRIW2NgYHIoA66y8V6NqF9Na210xeHfmSSCSOJ9hw+yVlCSbe+0nHejSPFWk63dNbafNP5qp5irPaSweamcb4/MVfMXp8y5HI55FcLpkqW/iTStM0/wAR22oWGiz3E89vHamOaxhEci4uGLHnLAKNqEgE4bqNbwn4l0fxn4q/ti11rTZXjtXisdOgu45LhYiyl5ZVBypJCYXHyjGeSQADvKKKKACiiigDm/iP/wAks8V/9gW8/wDRD10UsscELyzOsccalndjgKBySTXO/Ef/AJJZ4r/7At5/6Ierfi+1mvfBesW1rGZJpbKVURerEqeB9aAJ9G8Qadr8MkmlyyOIiA6zW8kLDIyDtdVO0jkNjB7E1Fc+J9NtdcGkOL2S7whYW+nXE0ce7O3fIiFE6H7xHrWH4c1fTdQ8QanrFheW76XHYWtu1yso8sSKZCUz0BUOoI6gnB5rK1i+Gj+ML6XTvFrf2vd3duI/DzW8Q+0JhUPDKZWXbubzEYIuDkHa2QDsl8T6S/iA6Kty5vQSMeRJ5ZYLuKCXbsL7Tu2bt2OcYpIPFOkXOtHSoblzdbmRSbeRYpHX7yJKV2Ow5yqsSMHI4Ncfb3Nv/wAJBBoYkT+14/EUt7Jbh/3ggKuwmI67CrKu7pk4zniqmiXlu/iWxhjuY5tRj1a5M+hj/mHK3m5uMffBYFTuclDv+QLkUAejW+rWF3ql3p1tdRy3dmENxEhyYt+doPbJAJx16eoq5XI+H9Ps9M+IOvW+nWsNrD9jtHKQoFBZnnLMcdSSSSepJrrqACiiigAooooAKKKKACiiigArm7H/AJKnrv8A2BdN/wDR99XSVzdj/wAlT13/ALAum/8Ao++oAvX/AIn0nTdXg028uXS6n27QsEjom47V3uqlY9xGBuIyeBmtavOPFFzb2+sa/pk8iJqOsfYxp0LOQ9xtIB2DvsILHHQHJwK6jxPd3Umky22i2s2pSmZYLuKxmiWaGMjLY8x0AYqRjJBG7NAEknjHQ00hNSS8ae2lna3i+zW8kzzSKxBVI0Us+NrfdB4BPTmlu/FukWdhaXby3M0d6xSBbWxnuJGIBLAxxozrjBzkDBGDg157o0sMPg+z1Ca6Xwg2ma1di2l1OGKW2wzyKUcRygKMEqDvT5lGMgjc6Dy7bT9P1bXvGsvhxXuL+e2uXt4YxOssgK4aZGRcqNwTG8qevBJAPVredLq2jniEipIoZRLG0bAH1VgCp9iAakrL8M3l7f8AhjT7rVE2Xc0KtIPLKZPrtPK5GDg9M4rUoAKKKKACiiigAooooA82+Df/ADPv/Y56j/7TrtIPEulXOuSaRDcM15HuBBgkCMygFlWQrsZgCMqCSO4ri/g3/wAz7/2Oeo/+06XSZoW1zTNGjdDqllrd7d3duH+eOJhMVkYdlbzEwTwc8dDQB6Bf39rpen3F9qE6W9rbRtLNK5wqKBkk/hWdqHi3RtMhtJbq4lIvI/OhWC1lmYx4BMjKikqgyMswAGRkisDx/d3V5opWx0m51jSTbTyzy2U1vt3qpCBvMkXKg5Y7cnKD6Vz5v5rJdP1G91iXwws+g20dq0ywu00yFj5I3b1O4FTsT52GMEYNAHf6l4t0XSZIEvLtj58YlVoIJJlSMnHmOyKRGnP32wvvxSz+KNMt9aXSj9tmuiEY/ZtPuJo0D527pEQoucH7xHHNcJqmpapp+qXmo32sf2FqN1ptpLaWYiR/ttwqvutx5gJcbiBsj2uN2c8irGoag+leKLqe08VFNcvbm2x4bMEYEw2orDDKZXXG8+YjBBtOQdrZAPS6KKKACiiigArm/iP/AMks8V/9gW8/9EPXSVzfxH/5JZ4r/wCwLef+iHoA37u6gsbOa6vJVhghQySSMcBVAyTVTRtcsNetHuNNklZY38t0nt5IJEbAOGjkVWXggjI5BBFUfG8Lz+C9RWONpdqK7IoJLKrBmHHP3Qao+G9W06/1jXdasb63l0qeS3iiu0lBildU2na3Q8sq8dxjrQB0F3q1jYX1lZ3dwsdxfO0dtGQSZGCljjHoB1PH51TtvFej3esnS4LmQ3IZkVmtpVikZfvKkpUI7DnIViRg56GuK1u51MfEXRbm+8OaiW/tVoLa4WW2MfkCGQfL++3AnJdsqOFA5IAOjqusafqXj3RotL1cXl/aXTxT6MwXNsuxg1wy7RIhAIAZiUIcYGWDUAdLZeKtH1HULqytbsma1DNIZIXjRgp2uUdlCyBTwSpIB4OKdo3iXS9fLjTJpXKKHAmtpYd6Ho6eYq70PZlyp9a4PRBY6sNL0PzN0+m6fewatFCxaS2LkLhlAyGYgsuRzjIyKueDrmfUvF1s1t4gtNdstN017d57K28pIyzR7I5PnbMuEYsBtxx8q55APRaKKKACiiigAooooAKKKKACiiigDm/Hn/Iu2v8A2GtK/wDThb1s6nqdpo+nyXuoSGOCPAJVGdmJOAqqoLMxJAAAJJ6VjePP+Rdtf+w1pX/pwt6PG0kdtp2n312ypZ2epQT3MjnCxxgkF2PYAkEk8DGTQBs6ZqdprGnx3unyGSCTIBZGRlIOCrKwDKwIIIIBB60j6tYprMWktcL9vlhadIMEkxqQC3oBkgc9fwNYnhC9tnsL29SeM22o6pPJZP5gxcKehQnqG2sRjqORxXL6ddaqnxQsrjUfDOowX1zZXZkkkmtShUNHsVSsxOwAAcgHL5xy2AD0CTXdMh1SfTpb2JLu3tvtc0bHHlw5I3segGQevoapWnjHR762u5rV71zaKrywnTrgTFG+6yxFN7qcHDKpBweeK4/w3eX1v8Q5Z9Y8PalZXU2ktNeTSm3kyfNz8oildioACKACeBx3rS0LV7C88capqWlasmt2RsA09yrIwsirErApQADILsVbLjAycEAAHSaL4m03X57mHTvtiy2m3zo7uwntWTcMrxKik5A7VrVz/gmBl8MQX0/N1qZN9cMepaTkD8F2qPZRXQUAFFFFABRRRQAVzdj/AMlT13/sC6b/AOj76ukrm7H/AJKnrv8A2BdN/wDR99QBBo//ACVHxB/2CNO/9HXtdXXBDw5ofiD4o61/b2jafqfkaRp/lfbbVJvL3TXmdu4HGcDOPQVs/wDCuPBH/Qm+H/8AwVwf/E0AdJRXN/8ACuPBH/Qm+H//AAVwf/E0f8K48Ef9Cb4f/wDBXB/8TQB0lFc3/wAK48Ef9Cb4f/8ABXB/8TR/wrjwR/0Jvh//AMFcH/xNAHSUVzf/AArjwR/0Jvh//wAFcH/xNH/CuPBH/Qm+H/8AwVwf/E0AdJXN/Ef/AJJZ4r/7At5/6Iej/hXHgj/oTfD/AP4K4P8A4muf8feAfB9n8NvEt1Z+E9DguIdJupIpYtNhV42ELEMpC5BBGQRQB6JRXN/8K48Ef9Cb4f8A/BXB/wDE0f8ACuPBH/Qm+H//AAVwf/E0AdJRXN/8K48Ef9Cb4f8A/BXB/wDE0f8ACuPBH/Qm+H//AAVwf/E0AdJRXN/8K48Ef9Cb4f8A/BXB/wDE0f8ACuPBH/Qm+H//AAVwf/E0AdJRXN/8K48Ef9Cb4f8A/BXB/wDE0f8ACuPBH/Qm+H//AAVwf/E0AdJRXN/8K48Ef9Cb4f8A/BXB/wDE0f8ACuPBH/Qm+H//AAVwf/E0AHxH/wCSWeK/+wLef+iHrpK878feAfB9n8NvEt1Z+E9DguIdJupIpYtNhV42ELEMpC5BBGQRXQf8K48Ef9Cb4f8A/BXB/wDE0AdJRXN/8K48Ef8AQm+H/wDwVwf/ABNH/CuPBH/Qm+H/APwVwf8AxNAHSUVzf/CuPBH/AEJvh/8A8FcH/wATR/wrjwR/0Jvh/wD8FcH/AMTQB0lFc3/wrjwR/wBCb4f/APBXB/8AE0f8K48Ef9Cb4f8A/BXB/wDE0AdJRXN/8K48Ef8AQm+H/wDwVwf/ABNH/CuPBH/Qm+H/APwVwf8AxNAHSUVzf/CuPBH/AEJvh/8A8FcH/wATR/wrjwR/0Jvh/wD8FcH/AMTQB0lFc3/wrjwR/wBCb4f/APBXB/8AE0f8K48Ef9Cb4f8A/BXB/wDE0AdJRXN/8K48Ef8AQm+H/wDwVwf/ABNH/CuPBH/Qm+H/APwVwf8AxNAHSVzdj/yVPXf+wLpv/o++o/4Vx4I/6E3w/wD+CuD/AOJrn7PwD4Pb4k6zat4T0M28ek2EiRHTYdis014GYDbgEhFBPfaPQUAeiUVzf/CuPBH/AEJvh/8A8FcH/wATR/wrjwR/0Jvh/wD8FcH/AMTQB0lFc3/wrjwR/wBCb4f/APBXB/8AE0f8K48Ef9Cb4f8A/BXB/wDE0AdJRXN/8K48Ef8AQm+H/wDwVwf/ABNH/CuPBH/Qm+H/APwVwf8AxNAHSUVzf/CuPBH/AEJvh/8A8FcH/wATR/wrjwR/0Jvh/wD8FcH/AMTQB0lFc3/wrjwR/wBCb4f/APBXB/8AE0f8K48Ef9Cb4f8A/BXB/wDE0AdJRXN/8K48Ef8AQm+H/wDwVwf/ABNH/CuPBH/Qm+H/APwVwf8AxNAHNfBv/mff+xz1H/2nXpNeN/CfwV4V1H/hNf7Q8NaPd/ZvFt/bwefYRP5US7Nsa5X5VGTgDgZr0D/hXHgj/oTfD/8A4K4P/iaAOkorm/8AhXHgj/oTfD//AIK4P/iaP+FceCP+hN8P/wDgrg/+JoA6Siub/wCFceCP+hN8P/8Agrg/+Jo/4Vx4I/6E3w//AOCuD/4mgDpKK5v/AIVx4I/6E3w//wCCuD/4mj/hXHgj/oTfD/8A4K4P/iaAOkorm/8AhXHgj/oTfD//AIK4P/iaP+FceCP+hN8P/wDgrg/+JoA6Sub+I/8AySzxX/2Bbz/0Q9H/AArjwR/0Jvh//wAFcH/xNc/4+8A+D7P4beJbqz8J6HBcQ6TdSRSxabCrxsIWIZSFyCCMgigD0Siub/4Vx4I/6E3w/wD+CuD/AOJo/wCFceCP+hN8P/8Agrg/+JoA6Siub/4Vx4I/6E3w/wD+CuD/AOJo/wCFceCP+hN8P/8Agrg/+JoA6Siub/4Vx4I/6E3w/wD+CuD/AOJo/wCFceCP+hN8P/8Agrg/+JoA6Siub/4Vx4I/6E3w/wD+CuD/AOJo/wCFceCP+hN8P/8Agrg/+JoA6Siub/4Vx4I/6E3w/wD+CuD/AOJo/wCFceCP+hN8P/8Agrg/+JoA6Siub/4Vx4I/6E3w/wD+CuD/AOJo/wCFceCP+hN8P/8Agrg/+JoA6Siub/4Vx4I/6E3w/wD+CuD/AOJo/wCFceCP+hN8P/8Agrg/+JoA6Siub/4Vx4I/6E3w/wD+CuD/AOJo/wCFceCP+hN8P/8Agrg/+JoAPHn/ACLtr/2GtK/9OFvXSV53408A+D7XQbaS18J6HC7atpsZaPTYVJV76BWXIXoVYgjuCR3roP8AhXHgj/oTfD//AIK4P/iaAOkorm/+FceCP+hN8P8A/grg/wDiaP8AhXHgj/oTfD//AIK4P/iaAOkorm/+FceCP+hN8P8A/grg/wDiaP8AhXHgj/oTfD//AIK4P/iaAOkorm/+FceCP+hN8P8A/grg/wDiaP8AhXHgj/oTfD//AIK4P/iaAOkorm/+FceCP+hN8P8A/grg/wDiaP8AhXHgj/oTfD//AIK4P/iaAOkorm/+FceCP+hN8P8A/grg/wDiaP8AhXHgj/oTfD//AIK4P/iaAOkrm7H/AJKnrv8A2BdN/wDR99R/wrjwR/0Jvh//AMFcH/xNUfDmi6VoPxJ1+10PTLPTbd9J06RorO3WFGYzXoLEKAM4AGfYUAT6P/yVHxB/2CNO/wDR17WH4w8WJafEa00W68Zx+GLCPTHup332qvLIZAqAGdHHQOcAZNbmj/8AJUfEH/YI07/0de1f0/wyll4z1fxC9x502owwQLHsx5KRg8Zyc5LE9BQBx2g/E5rHSdPtfEFvqmqanf8A2iax+y2A827tklCxyNGuACysGzhRgEnaK6C3+I2k3GrW1r9lvY7W8uJLW21J0T7PNNGpZ0GHL8bW+YqFO04J4zpJ4cH/AAnE3iKa4EhaxSzhg8vBiAcs7bs87srxgY29Tnjl9H+EOm6VqUjn+zpLXM5iZdIhW8/e5zvuTktt3ELtVDjGS3cA29M8d2mqgz2+l6ommtBJPb6o8Cm3uETqVKsWXPUb1XcOmaw9J+JMVvo+mxzRat4g1K9sTqZit7WCK4S3ZjtzD5g3EAgbY97cZI5q9ZeCNbtvCdzoE3ihHtf7OOn2Yj04J5Y27RJJlyZHAwPlKL149KWtfC1tajtbO41Kxk0+1hhig8/SVe6tPLxk29wrqY920H5lfB9uKALupeObPTPFN4bu+u4rHT9PgeSz+xL+9mnciIKxO/zPlxswB8wJPpZl+ImnWeja1e6pp+oWE+ixrJdWEyxtPtYZQrsdkbd0HzdeuKral8OjqNxrF0dWKXd7eWt3aym33C2a3A2KwLfvASGJ5XhuMHmorv4cT6lY6idT1pZdS1S7tpry5itCkZhhdWWBIy5KqQCMlmOWJ9AADa0PxjZ67rl5pKWV9ZXdpBFclLuNV8yKTO1xtYkfdPDbWHcUz4j/APJLPFf/AGBbz/0Q9WdK8OnTvE+tazLdCeTUzCqIItvkxxpgLnJ3cljnjrjHGarfEf8A5JZ4r/7At5/6IegDR8S6lLo/hjUdQtkV5re3d41boWA4z7ZrP8OXGpQavqGj6rqEupNbwwXCXM0caNiTcCmI1UYBQ4OM4POcZrY1bTYdY0e7066yIbqJonK9QCMZFZmj6FqGnm9u7zUre71S6WOP7QtmY41SMHaPL8wkn5mJO7qegHFAGA/id7jxlPE/iCfTorW/WyjtFsBLbSnapInm2Hy3YvhB5ifw8NnBu3kGrjx3ZWdj4m1Jon3Xl3avDamGOAHAQEQh8sxwDvzhW5qzeeEZrnUJxFqMcelXl0l5d2jWu6R5F2nCybgFUlFyCjHrgjPGtbaT5Gv3+pvN5jXcUUSptI8pU3cZzzkuT0FAGJD4hvrv4jQ2EDIuj/ZLjB2gmaaN4wzZ/uruKjHUhs9BRoviDUNV8dX0BZBpAsUls0C/NIfMZWkJ9Gx8o6YAPeo4PhtpNr4gtdRtbnUkht7eaD7K+p3UiHzMdN0pCgAH5QMZIPVRU+jeAtP0HxN/aun3WoFFsxapbXGoXM6qAxOf3kjDGDgLjAxkdaAOpooooAKKKKAOb+I//JLPFf8A2Bbz/wBEPWn4h1KTR/DWo6jCgkltbaSVEboWCkgH2zWZ8R/+SWeK/wDsC3n/AKIetrU9Ph1bSrrT7rPk3ULRPjrhhg4/OgDE8N3Gp2+sXmkavqEmpNHbQXSXEscaMPM3hkxGqjAKZHGcHknrWPc+J3m8Z3Nu3iCfTIrK9js0tksBNbysVRj58uw+WW8zag3x8gcNnFbujaBqGnNd3d5qdvealcRxwLOtmY40jjztBTzCSfmYk7hkngADFQah4Rnu7+5EGoxw6XqFwlzfWrWu+SR1CjCSbwEB2LkFWPXBGeADBXxhNB4lk+267suV1UWJ0Dy4/kgZwiTfd83Jyrby2w524zzWzJ4gv5/iLY6faMi6QYrhJTty00yBDweyruxx1bI7VcuvD+o6hrkE2oavHNpVtcC6hs1tNsvmAfKGl3YKKSSAEBzjLHHNOH4eaZaeJrDV7K51GL7GZn+zvqVzJGzSYJwrSlVGckqBg556UAS6Bqmt3XjDWrHWhbRRW8MEltBbsX8tXaQZZyASxCAnjA6DONx6esy20f7P4lv9W8/d9sghh8rZjZ5Zc5znnO/04xWnQAUUUUAFFFFABRRRQAUUUUAFc3Y/8lT13/sC6b/6Pvq6Subsf+Sp67/2BdN/9H31AGbr+saxDq+pXdlfvb2ei/Z91osUbLd+YcvvLKWGFI27SvPXd0rV8aavNpOkW62101nLe3SWwuUiErQg5JZUIO58KQow2WI4PQxav4Sm1LWJZ4dRjt7G98n+0LVrbe83lNldkm4bM9DlWyBxtPNX9Z0e41W3wt3FBcW9wtxYy/ZywidRj513fODls4K8HAII3UAcxda/cp4bsvsniK7uEmv2t57wWCpqESBGbYLcx/NLkDIEOdpzs43VTm8Wag1jpVlfazc2Us0VzNLeabZJdXUqRSiNQIljkAb5gZMIdpBHy9t1vBt8EjvoNWgTXVvGvHu2si0Ds0YjK+T5gbbsAA/eZBGcnkEj8G3ljHDd6Tq0MWsKZzLdXNn5sUnnMHceUrqQAVG35+AOd1AFbxBPqEnhWy1LSvFV4Li4jjhtjp8NsIryaQgK5EsUhUc5ODwAa6+yhnt7CCG7uWup0jVZJ2UKZGA5bCgAZPYVkQeFora30O3huWMOkyNLtZeZ3KMuSQQBy5boa3qACiiigAooooAKKKKAPNvg3/zPv/Y56j/7TrS07WtXk1u0vri8d7HUNSubBbDy49kKxiTZIGC7yxMRzliPm4AxWb8G/wDmff8Asc9R/wDaddHZ+EZLbXo7h7+OTTbe5lvLWzFtteOaUHcWk3fMvzuQNoI3ck4FAFTxnr8llq1jpcep3mlpNBLcyz6fZC6uGCFFCpH5cnGXyx2HAHUZzUPiPUNSh8IQa3p/iSdljtQ8TadpqypeSEZDSZD7IjjnBTbkkuO2zqeh6ldXFtqGn6la2uq28ckImlsmlhaN2BIMfmKcjauDv6g8HOKrS+GNUttGt9L0HXEs7ZbcwT/aLITM+c5kQqybHOT13L0+X1AIvEOsa3bf2FLp5so7O6urZLqcP5jSB2wUjGMY77yenAHORn3PiRX+IN3Z3XiHVNOtrSaC3SC3sFa1kdlDESztAwQsWVQPMU9MckV0V34bhl0fS9OtZTbwabPBJHldxZYiML1HXHX9Kr6x4f1XV7toJdahGiyyJJNaNYgzHaQdizBwAhKjOUZuW+YZGADoqKKKACiiigArm/iP/wAks8V/9gW8/wDRD10lc38R/wDklniv/sC3n/oh6AL3ijUbjSvDN7eWIU3KIFh3DIDswVSR7Eg1V8NTahDf6ppGp38upPYtE0d3NHGkjrImcMI1VeCGGQo4x16nS1rS49a0W606Z2jW4TaHUAlD1DAH0IB/CqOj6JqGnreXN5qNtd6peyo01wlmYotqAKFWPzCR8oPJc8nPTigDAtPEkt74vlEuv3FnGl+1lDYf2eHtnCcEST7PllY5KjzF42/I2ebd1Nq+l+MtKgPiCS/bUppfM0xraJY4bdVJ8xNq+YNp8tSWdgS/QZAFmXwjO+pMo1GMaPJerfyWRtcymcMG4l34CbgG27Cc5+bHAi0fwzr+meILzUZ9a0u7F5KWmd9KkFwYxny4hJ9o2hUzwAmOpxliaAG20+q6Z41tNPutek1UXVtLPdwSW8UaWirjY6bFDKpJK4dnJxweCad4d1/UNX8Y6tFMVXTVtYJrGMKNxVmkUyE9fm2ZA6bdvcmmaJ4S1exF5BrOradqVrqG/wC2PHp0sFzcbgQMy/aGwADgAKMDgYqxofgax0DxNc6vZXmoSCa1jtlgub+4nCBSxzmSRs9RgY+XBx940AdPRRRQAUUUUAFFFFABRRRQAUUUUAc348/5F21/7DWlf+nC3qz4qvLy20+1t9MnNtcX15FarcKqs0IY5ZgGBUkKDjIIzjg9KrePP+Rdtf8AsNaV/wCnC3rR1/SH1jT0it7hbW6gmS4tp3i8xY5EOQSuRuHUEZBweo60AV/C95dz6fdQajO11PYXctq1wyKrTBSCrEKAoJUjOABnsOlc/wCEvEcusatFPca/OWvRI6abJp4W3VAeFin2DdIoALje/O75V7dJouj3Ok2Aia8inuJrl7i9m+zlRMz5J2Lu+QdAMluBzk81n6b4RnstQsxPqMc+mabI8lhara7JI2YEfPJvIcAMwGFXqMliM0AVrHX9Zi1zxIuui2hgsLOK5t4Ldt4jU+byzkAsxCAkYwOgzjcavg3UrnW9IkCeKNUm1We0jlMepaWkAty3V4kMMTOucgMS68Dr36NdDdNc1PUor14nv7WKBdka7oSm/wCcFsgn5+hGOO9UYPDusPeT6hqWuQyah9mNtZzWtgIlgUsGJZXd97EqueQMDgA80AM8G6ld3dxq9nd391fpZXCpDNf2y29ywKgnfGqJ8u7IVtg3AHr1PUVi6Hol3Y395qWsX0N9qN2qRs9vbGCJI0ztVULuerMSSxzntW1QAUUUUAFFFFABXN2P/JU9d/7Aum/+j76ukrm7H/kqeu/9gXTf/R99QBjDVLvTfijrX2PQtQ1fzNI0/d9ikt18rE15jd50qdc8Yz0OccZ2f+Eo1f8A6ETxB/3/ANP/APkqoNH/AOSo+IP+wRp3/o69rY1fxLoWgNEuva1p2mNMCYhe3aQlwOuNxGcZHT1oAzv+Eo1f/oRPEH/f/T//AJKo/wCEo1f/AKETxB/3/wBP/wDkqtvT9RsdWskvNKvLe9tZM7J7aVZEbHBwykg1ZoA5v/hKNX/6ETxB/wB/9P8A/kqj/hKNX/6ETxB/3/0//wCSq6SqtxqlhZySJd31tA8UJnkWWZVKRjgucnhffpQBi/8ACUav/wBCJ4g/7/6f/wDJVH/CUav/ANCJ4g/7/wCn/wDyVXRo6yRq8bB0YAqynII9QaWgDm/+Eo1f/oRPEH/f/T//AJKrn/H3iPVJ/ht4lil8F65bJJpN0rTSzWJSMGFgWbbclsDqcAn0Br0Sub+I/wDySzxX/wBgW8/9EPQAf8JRq/8A0IniD/v/AKf/APJVH/CUav8A9CJ4g/7/AOn/APyVXRkhVJYgADJJ7VV03VtO1m1NzpF/a38AYoZbWZZVDDqMqSMj0oAxv+Eo1f8A6ETxB/3/ANP/APkqj/hKNX/6ETxB/wB/9P8A/kqteXWtLg1aLSptSs49RmXfFZvOomdfUJnJHB5A7VYluYIZYoppo45J2KxI7gGQgEkKO5wCeOwoAwP+Eo1f/oRPEH/f/T//AJKo/wCEo1f/AKETxB/3/wBP/wDkqti21jTLzUbnT7PUbSe9tMfaLaKdWkhz03qDlc+9Qaf4l0LVr6ay0rWtPvbu3z51vbXSSSR4ODuVSSMHjmgDO/4SjV/+hE8Qf9/9P/8Akqj/AISjV/8AoRPEH/f/AE//AOSq6SigDm/+Eo1f/oRPEH/f/T//AJKo/wCEo1f/AKETxB/3/wBP/wDkqukooA878feI9Un+G3iWKXwXrlskmk3StNLNYlIwYWBZttyWwOpwCfQGug/4SjV/+hE8Qf8Af/T/AP5Ko+I//JLPFf8A2Bbz/wBEPXSE4GTwKAOb/wCEo1f/AKETxB/3/wBP/wDkqj/hKNX/AOhE8Qf9/wDT/wD5KrZ03VtO1i3afSNQtb+FHMbSWsyyqrDqpKkjI9KZPrelWurQaXc6nZw6hcjdBaSXCrLKOeVQnJ6HoOxoAyf+Eo1f/oRPEH/f/T//AJKo/wCEo1f/AKETxB/3/wBP/wDkqtGTxLoUWtLo8utaemqOQFsWukE5yMjEed3TnpRH4l0KXWm0eLWtPfVEJDWK3SGcYGTmPO7pz0oAzv8AhKNX/wChE8Qf9/8AT/8A5Ko/4SjV/wDoRPEH/f8A0/8A+Sq2LPV9N1G5ubfT9Qtbqe0fZcRQTq7Qt/dcA5U8dDVygDm/+Eo1f/oRPEH/AH/0/wD+SqP+Eo1f/oRPEH/f/T//AJKrpKKAOb/4SjV/+hE8Qf8Af/T/AP5Ko/4SjV/+hE8Qf9/9P/8AkqukooA5v/hKNX/6ETxB/wB/9P8A/kqj/hKNX/6ETxB/3/0//wCSq6SigDm/+Eo1f/oRPEH/AH/0/wD+SqP+Eo1f/oRPEH/f/T//AJKrpKKAOb/4SjV/+hE8Qf8Af/T/AP5Krn7PxHqg+JOsyjwXrjO2k2CmETWO9AJrwhj/AKTtwdxAwSflOQOM+iVzdj/yVPXf+wLpv/o++oAP+Eo1f/oRPEH/AH/0/wD+SqP+Eo1f/oRPEH/f/T//AJKrYudY0yz1G20+81G0gvbvP2e2lnVZJsddik5bHtU15eW2n2ct3f3EVrbQqXlmmcIiKO5Y8AfWgDB/4SjV/wDoRPEH/f8A0/8A+SqP+Eo1f/oRPEH/AH/0/wD+Sq0ZfEmhwaKmrz61p8emSY2Xr3SCFs8DDk7T+dPu/EGjWGlR6nfatY22ny7fLu5rlEifPTDk4Oe3NAGX/wAJRq//AEIniD/v/p//AMlUf8JRq/8A0IniD/v/AKf/APJVa17relabHbPqOp2dol24jt2nuEQTMeioSfmJ9BV6gDm/+Eo1f/oRPEH/AH/0/wD+SqP+Eo1f/oRPEH/f/T//AJKrpKKAOb/4SjV/+hE8Qf8Af/T/AP5Ko/4SjV/+hE8Qf9/9P/8AkqukooA5v/hKNX/6ETxB/wB/9P8A/kqj/hKNX/6ETxB/3/0//wCSq6SigDxv4T69qNr/AMJr5HhPWLzzfFt/K/kS2Y8ljszG2+dcsO5XcvPDGvQP+Eo1f/oRPEH/AH/0/wD+Sq5r4N/8z7/2Oeo/+0672PV9Nm1WXTIdQtZNQhQPLaLOpljU9GKZyByOSKAMf/hKNX/6ETxB/wB/9P8A/kqj/hKNX/6ETxB/3/0//wCSq19U1nTNDtBda1qNpp1uWCCa7nWJCx6DLEDNNv8AXdJ0v7N/aeqWVn9rcJb/AGi4SPzmPQJkjceRwKAMr/hKNX/6ETxB/wB/9P8A/kqj/hKNX/6ETxB/3/0//wCSq0tU8SaHoc0MOtazp+nSz/6lLu6SJpOcfKGIz1HSku/E2g2GqRaZfa3p1tfzhTFaTXcaSybjgbUJyckcYFAGd/wlGr/9CJ4g/wC/+n//ACVR/wAJRq//AEIniD/v/p//AMlV0lFAHN/8JRq//QieIP8Av/p//wAlUf8ACUav/wBCJ4g/7/6f/wDJVdJRQBzf/CUav/0IniD/AL/6f/8AJVc/4+8R6pP8NvEsUvgvXLZJNJulaaWaxKRgwsCzbbktgdTgE+gNeiVzfxH/AOSWeK/+wLef+iHoAP8AhKNX/wChE8Qf9/8AT/8A5Ko/4SjV/wDoRPEH/f8A0/8A+Sq6N3WONnkYIiglmY4AHqTVXTdV0/WbJbzR7+2v7ViQs9rMsqEjggMpI4oAxv8AhKNX/wChE8Qf9/8AT/8A5Ko/4SjV/wDoRPEH/f8A0/8A+Sq1/wC2tK/tn+yP7Ts/7T2eZ9i89fO2/wB7Zndj3xVk3EK3K27Sxid1LrEWG5lBAJA64GRz7igDn/8AhKNX/wChE8Qf9/8AT/8A5Ko/4SjV/wDoRPEH/f8A0/8A+Sq2LXWNMvr+6sbLUbS4u7MgXNvDOryQE9N6g5XOO9TrcwNdPbLNGZ41DvEHG5VOcEjqAcHn2NAGB/wlGr/9CJ4g/wC/+n//ACVR/wAJRq//AEIniD/v/p//AMlV0lFAHN/8JRq//QieIP8Av/p//wAlUf8ACUav/wBCJ4g/7/6f/wDJVdJRQBzf/CUav/0IniD/AL/6f/8AJVH/AAlGr/8AQieIP+/+n/8AyVXSUUAc3/wlGr/9CJ4g/wC/+n//ACVR/wAJRq//AEIniD/v/p//AMlV0lFAHN/8JRq//QieIP8Av/p//wAlUf8ACUav/wBCJ4g/7/6f/wDJVdJRQB53408R6pNoNssngvXIANW01g8k1iQSL6AhfluScsQFHbJGSBkjoP8AhKNX/wChE8Qf9/8AT/8A5Ko8ef8AIu2v/Ya0r/04W9b15eW2n2ct3f3EVrbQqXlmmcIiKO5Y8AfWgDB/4SjV/wDoRPEH/f8A0/8A+SqP+Eo1f/oRPEH/AH/0/wD+Sq3rO8ttQs4ruwuIrq2mUPFNC4dHU9ww4I+lQW+taVd6pcabaanZz39qMz2sVwrSw/7yA5Xr3FAGR/wlGr/9CJ4g/wC/+n//ACVR/wAJRq//AEIniD/v/p//AMlVq2Gu6Rqs9zDpeqWV7LaNsuI7e4SRoWyRhwpO05B4PpUWneJ9A1d7hNJ1zTb5rUbp1truOQxD1baTt6Hr6UAZ/wDwlGr/APQieIP+/wDp/wD8lUf8JRq//QieIP8Av/p//wAlVsaZq+m63Z/a9G1C11C23FfOtJ1lTI6jcpIzVygDm/8AhKNX/wChE8Qf9/8AT/8A5Ko/4SjV/wDoRPEH/f8A0/8A+Sq6SigDm/8AhKNX/wChE8Qf9/8AT/8A5Ko/4SjV/wDoRPEH/f8A0/8A+Sq6SigDm/8AhKNX/wChE8Qf9/8AT/8A5Kqj4cv7nUfiTr8t5pN5pTrpOnKIbx4Wdh516dw8qR1xzjk54PHTPZVzdj/yVPXf+wLpv/o++oAg0f8A5Kj4g/7BGnf+jr2uY17Vdaj+Lmp3+haHBq39gaGqtHLeG3ZmlcuVQ+W4LYjXgle3NdPo/wDyVHxB/wBgjTv/AEde10kVlawXM9xDbQxz3GDNKkYDS4GBuPU4HHNAHjljrmq2Wn6JFoU91cHxW91rVxdaVFbq0Qwp8qP7UwjGNw3Fhk7SQB22dO8U+INbj0TTb7V4tEaTSptSvNTtmtpS6o+xNrESQ4IO5iMjsCK7248MaDd6Wum3WiadPYK5kW1ktI2iDEklghGM5J5x3NP1Hw9ourxW8eraRYXyWxzAtzbJIIj6qGB29O1AHmPjLxvrOnabMmh69dajeaXp8T3FxptjapbSzy/6ppGmc5V+PkhBIznd0FZ3i6WTUr/xc8w3zXK6XoJjTlQ0jh5AB9JOfYV65e+GNA1K+F7qOh6bd3aoIxcT2kbyBQchdxGcA84qx/ZGml2c6fa7mnFwW8hcmUDAk6feAGN3WgC1HGIokjThUUKPoKdRRQAVzfxH/wCSWeK/+wLef+iHrpK5v4j/APJLPFf/AGBbz/0Q9AE/jjefAeteVv3fY5PudcbecfhmqugiIeMtZFlt+zfY7P7mNu/D+nfZs/DFdMQGUhgCCMEHvVG00LSLDT3sLHSrK2s5GLPbQ26JGxPJJUDBNAHA6mVOqazesYxYwa7aie0J/wBIlmHkhGR+iLyPk2sWwcOucU3U9ahuvihoU13bapFNBqE1rbo+l3IjEfkuCwfy9jbmwcgnCqCcYNegyaHpM2sx6vLpdk+pRJsjvWt0MyLzwHxuA5PGe5qzLbQTSxSzQxySQMWid0BMZIIJU9jgkcdjQB55oDRxN4beJ0S7VdSa6Z2A2/Md5c9QPM21oeD5tZ0WbSdB1W80rUYbiwaeKXTonQxbCuSzM7eYrb+HATkdOeOsttH0yz1G51Cz060gvbvH2i5igVZJsdN7AZbHvTNO0LSNImuJtJ0qysZbpt8721ukbTNknLFQNx5PJ9aAL9FFFABRRRQBzfxH/wCSWeK/+wLef+iHqz4z80+B9a+z7/M+wzY2fe+4elVviP8A8ks8V/8AYFvP/RD10hGRg8igDlPD4hHjHURYY+y/2ZZZ2Y27v3m3p32bfwxXO62VfUtfu3KCxttVs/tNqx/fzyr5JjaN+iLyPk2sWIOGTNd9aaDpFhYyWVjpVlbWkrl5LeG3RI3Y9SVAwTwOaWbQ9JudXh1W40uyl1G3G2G8kt0aaMc8K5G4dT0Pc0Aclb3Or6FrU979v0i+0/Vda8kWtvGxuFJAj/1u/aWTZlk2cAH5uKj0251zQ7uJXv8ASNRs9Z1G6EUVkj+dGSXcP5pcq+3bhlCLj1OOewXQtIXWm1hdLshqbLsN6LdPOK4xjzMbsY7Zog0LSLXVptVttKsodRuBia8jt0WaQccM4GT0HU9qAOM8HCMXvhUWud39gy/acEE53x/e753+Z+O73r0KqdnpGm6dc3Nxp+n2trPdvvuJYIFRpm/vOQMseepq5QAUUUUAFFFFABRRRQAUUUUAFc3Y/wDJU9d/7Aum/wDo++rpK5ux/wCSp67/ANgXTf8A0ffUAc/4lEf23xUZP+Pv/iX/AGXJG77/AMm3P/TTd+Nb3jk503ToVwss2p26wyuf3cUgbcrOP4lyuNuQSSAGU8jaudH0y81G21C8060nvbTP2e5lgVpIc9djEZXPtS3GlafeW91b3dhazw3n/HzHLCrLPwB84Iw3AA59BQBxukajZaPb6h9rtVv9Xi1aSOLyEUfarl41ZvJB/wBWMHDAsdoDbmPJqjFoutaVrWiWUE+mwXf2O+ujJcxNNBDM8qOyogZC2FdlzuGBk4OcV2lz4S8OXmm2+nXfh/S57G1JNvbS2UbRQ/7qkYX8KVvCnh19FXR20HTG0xH3rZGzj8lWznITG3OSTnHegDiPtdnqFmt3e2dvZW8nhacxW8e0RIN3z7OgxgIRx0Ir0DRfN/sDT/tO7zvssfmbuu7aM5/Gi+0XS9UW3XU9Ns7xbVxJbi4gWQQuOjLkHaR6irtABRRRQAUUUUAFFFFAHm3wb/5n3/sc9R/9p1JpYAvtG25+2nxDqBm5G7bibdnvjHl/+O+1R/Bv/mff+xz1H/2nXex6RpsOqy6nDp9rHqEyBJbtYFEsijopfGSOBwTQBznidZrnxhpFtYSw2t39junWe6TzIvLzGHTywVyxBGG3DaAchs4rmrSP7N4bttW0r+zWsv8AhH/s09vqV2d9vChb96m1CJFbnghA2F5HQeh33h3RdT09LHUtHsLyzjfelvcWqSRq3PIUjAPJ59zTr7QtI1OS1fUtLsrt7Ng9s1xbpIYGGMFMj5TwOR6UAcGJPEWlWg1+PUdHU2GhWou7O7jd5mZQzspIdfK3ZwGIfJ7cc27i+1nSNV1PxBBeaRLYz3VrDJpxRmuhlUTy/MDhUcFyQhRs56jPHY32haRqd7bXmpaVZXd1aHNvPcW6SPCc5yjEZXkDpSTaBo9xrMWrz6TYy6nCu2K9e2QzRjngORuA5PQ9zQBoUUUUAFFFFABXN/Ef/klniv8A7At5/wCiHrpK5v4j/wDJLPFf/YFvP/RD0AP8eDPgbUwc+WY183B/5Z7hv/Dbmm6B5f8AwlniP7Lt8jzLfOzG3zPKG7p327P0ronRZI2SRQ6MCGVhkEehFUbTQ9J0/TV06w0uytbJW3i2ht0SMNndnaBjORnPrQBwmqQanpl8bezfS7m3vPEUU8dws7G6EhdS8Rj24yqBvm35CjG3vWx/ZdvZfFyG6gEjXF5pdw8rySs+cSRBVGSQqjnCjA5J6kk9KNF0pdZbV10yzGpsnlm9FuvnFf7u/G7HtmrBtoGuluWhjNwiGNZSg3qpIJUHrgkDj2FAHnWg3EdlH4buYYpJ7mHT7+S6ihUPK5DqXXA5JMnGPWl8C6lDdfETWGaPUBe3lhbz3DXOnXNuocPINo81FwACqjpu2kjJ3V3tro+mWN/dX1lp1pb3d4Qbm4hgVJJyOm9gMtjPep1toFunuVhjE8ihHlCDcyjOAT1IGTx7mgCWiiigAooooAKKKKACiiigAooooA5vx5/yLtr/ANhrSv8A04W9O8ZBTbaSJv8Aj3/ta283JAGN3y5z237ab48/5F21/wCw1pX/AKcLet68s7bULOW0v7eK6tplKSwzIHR1PYqeCPrQBh+D9ottX8n/AFH9rXPlbcYxu+bGP9vd+tcp4eKJe+Hru4Mb2d1c3os7df8AXWzN5jSGZ+kg4IwFTaSAd55r0ODS7C2tba2trG2hgtCDbxRwqqw4BA2ADC8Ejj1qO20PSbLU7jUbPTLO3vrr/j4uordFlm/3nAy34mgDjb8pa+Kreayu9L+xT6JcppzQAQx2kahGLyMCweMnbggKF9GzkZ9/daho/hK58Na/LYajCukRss2mo1sIV3LFh97SfKc7g+ACFb5a9AsNA0fSrq5udL0mxsp7xt1zLb2yRtOck5cqAWOSTz6mksPD2i6Vb3EGl6RYWUN0SZ47a2SNZiRglgoG7j1oAxPC6y2/irW7e/kiudQMdvLNc2sZjhZSGCKIyWKsAvOWbOQeBhR1lU9M0jTdEs/smjafa6fbbi3k2kCxJk9TtUAZq5QAUUUUAFFFFABXN2P/ACVPXf8AsC6b/wCj76ukrm7H/kqeu/8AYF03/wBH31AGMNLu9S+KOtfY9d1DSPL0jT932KO3bzczXmN3nRP0xxjHU5zxjZ/4RfV/+h78Qf8AfjT/AP5FqDR/+So+IP8AsEad/wCjr2pvHfjFPBXh06gtk+pXckgitbGOTY074JIBwcAKGYnB4BoAX/hF9X/6HvxB/wB+NP8A/kWj/hF9X/6HvxB/340//wCRauQeJ9L/AOEVs9f1K9tdOsrqGOXzbqdY0TeAQC7YHfFTXXiTQ7LSYdUvNZ0+306fHlXkt0iwyZGRtcnByOmDQBm/8Ivq/wD0PfiD/vxp/wD8i0f8Ivq//Q9+IP8Avxp//wAi1tLqunvNHEl9bNJLD9ojQTKS8X98DPK8jnpVb/hJNDEEMx1rT/KnjEsUn2pNsiFgoZTnkFiBkcZIFAGd/wAIvq//AEPfiD/vxp//AMi0f8Ivq/8A0PfiD/vxp/8A8i1qW3iDRr3VZ9Ms9WsbjULfPnWkVyjSxY67kByOvcVDH4s8OzfbvK1/S3/s8E3m28jP2YAkHzOfk5BHOOlAFH/hF9X/AOh78Qf9+NP/APkWuf8AH3hzVIPht4lll8aa5cpHpN0zQyw2ISQCFiVbbbBsHocEH0IrvBqFkb1LMXcBuni85IBKN7R5xvC5yVz36Vh/Ef8A5JZ4r/7At5/6IegA/wCEX1f/AKHvxB/340//AORaP+EX1f8A6HvxB/340/8A+Ra2NX1KHRtGu9SugxhtYWlcL1IAzge9UNA1y61Oe6s9VsIrC/tljkaGG589THICVbcVU5+VgRjgjqRzQBW/4RfV/wDoe/EH/fjT/wD5Fo/4RfV/+h78Qf8AfjT/AP5FqT+39SuddmttK0eO7sLSdbe7uTeCORXIBOyMrhwoZckup64DEYLz4pjPjSHw9FZXJLwSSvduhSIFNnyKSPnPzjJHA6ZzwACD/hF9X/6HvxB/340//wCRaP8AhF9X/wCh78Qf9+NP/wDkWnQeI9RTxDFp+r6PHZxXUcslq8d350hEeM+agUBMgjG1nHYkGofDvi+fW9Qt4bnTUtYb60N7ZSRXPms0QYD96uxfLb5hwCw688UASf8ACL6v/wBD34g/78af/wDItH/CL6v/AND34g/78af/APItdJRQBzf/AAi+r/8AQ9+IP+/Gn/8AyLR/wi+r/wDQ9+IP+/Gn/wDyLXSUUAed+PvDmqQfDbxLLL401y5SPSbpmhlhsQkgELEq222DYPQ4IPoRXQf8Ivq//Q9+IP8Avxp//wAi0fEf/klniv8A7At5/wCiHra1PUIdJ0m61C6z5NrC0z7Rk4UZOPfigDF/4RfV/wDoe/EH/fjT/wD5Fo/4RfV/+h78Qf8AfjT/AP5Fqx4f1+61S4uLPVdPj0+9gjjn8qK589WikB2ncVXByrAjHBHBI5qN/EGoz69PaaTpEd7Z2UqQ3lwbwRyK7AMRHGVIfaGUnLr143HigCP/AIRfV/8Aoe/EH/fjT/8A5Fo/4RfV/wDoe/EH/fjT/wD5FqxqXieGw8VaVoa27TTX7PvkDYWABGYZ45LbDgcdCe3MSeIdSi8SW9hqejx2trevKlpMl55sp2DcTJGEwikAkEO3UAgE4oAZ/wAIvq//AEPfiD/vxp//AMi0f8Ivq/8A0PfiD/vxp/8A8i1N4c1nV9bX7Zc6XZWumyhmtpY795ZnAYhS0ZhULkDPDtj3reoA5v8A4RfV/wDoe/EH/fjT/wD5Fo/4RfV/+h78Qf8AfjT/AP5FrpKKAOb/AOEX1f8A6HvxB/340/8A+RaP+EX1f/oe/EH/AH40/wD+Ra6SigDm/wDhF9X/AOh78Qf9+NP/APkWj/hF9X/6HvxB/wB+NP8A/kWukooA5v8A4RfV/wDoe/EH/fjT/wD5Fo/4RfV/+h78Qf8AfjT/AP5FrpKKAOb/AOEX1f8A6HvxB/340/8A+Ra5+z8OaofiTrMQ8aa4rrpNgxmENjvcGa8AU/6NtwNpIwAfmOSeMeiVzdj/AMlT13/sC6b/AOj76gA/4RfV/wDoe/EH/fjT/wD5Fo/4RfV/+h78Qf8AfjT/AP5Fpmr+LptN1mW3h05LixsvJ/tC6a52ND5rYXYm0h8dWyy4B4yeK1Nf1d9H09JLe2F3d3Ey29tbmTyxJIx4BbB2qOSTgkAHAPSgDO/4RfV/+h78Qf8AfjT/AP5Fo/4RfV/+h78Qf9+NP/8AkWrDaj4j/s2Mx+H7Y6iZSjxvqWLdVAzvEojLkHoB5YOeoA5qkninVr3Qor/SdDglkVplvFutQEMcBiYqwVwjFySDj5VBAySvSgCX/hF9X/6HvxB/340//wCRaP8AhF9X/wCh78Qf9+NP/wDkWoNV8V6pB4Zt9e0nSbKexltVuGW+v5LeYFgNqBEhkDE5AHI5NdJZS3E1hBLe2621w8atLCsm8RsRyu7AzjpnAoAwv+EX1f8A6HvxB/340/8A+RaP+EX1f/oe/EH/AH40/wD+Ra6SigDm/wDhF9X/AOh78Qf9+NP/APkWj/hF9X/6HvxB/wB+NP8A/kWukooA5v8A4RfV/wDoe/EH/fjT/wD5Fo/4RfV/+h78Qf8AfjT/AP5FrpKKAPG/hPoOo3X/AAmvkeLNYs/K8W38T+RFZnzmGzMjb4Gwx7hdq8cKK9A/4RfV/wDoe/EH/fjT/wD5Frmvg3/zPv8A2Oeo/wDtOuisvF8l3ryWzWCR6bcXU1nbXn2jLyTRA7gY9o2r8rgMGOdvIGRQA/8A4RfV/wDoe/EH/fjT/wD5Fo/4RfV/+h78Qf8AfjT/AP5Fq1retXllfWunaNYQ3+o3KPKI7i6NvGkaYDMzhHPVlAAU5J7Vn6x4vvtN8pINEEs8dkb+/hmuxGbaEHBClVYO/wB7AyoO0/MKAJv+EX1f/oe/EH/fjT//AJFo/wCEX1f/AKHvxB/340//AORai8SeJNb0i1S90nSNN1GzlEaw+bqckE00jnCoqCBxzkclh3zgDNW9a8ULot9o1jJaNNc6ncpCyxv8tuCDl2OORkYHHJ9MGgCH/hF9X/6HvxB/340//wCRaP8AhF9X/wCh78Qf9+NP/wDkWukooA5v/hF9X/6HvxB/340//wCRaP8AhF9X/wCh78Qf9+NP/wDkWukooA5v/hF9X/6HvxB/340//wCRa5/x94c1SD4beJZZfGmuXKR6TdM0MsNiEkAhYlW22wbB6HBB9CK9Erm/iP8A8ks8V/8AYFvP/RD0AH/CL6v/AND34g/78af/APItH/CL6v8A9D34g/78af8A/Ita2t6rHomiXWpTo0i28Zby16uegUe5JA/Gqugazdam15a6rYxWOoWTqs0MNwZ48MoZWVyqk5B7qMEHr1IBT/4RfV/+h78Qf9+NP/8AkWj/AIRfV/8Aoe/EH/fjT/8A5FqW31rV77xFdWljpdk2m2c4gnu5b90l3bFc7YhEQcbgOXHeq9h4tuLzUI2fTY4tJuLuSyt7v7VmV5ULAlotgCqSjAEOT0yBngAf/wAIvq//AEPfiD/vxp//AMi0f8Ivq/8A0PfiD/vxp/8A8i1DpHjKbUtXt4J9Njgsr5Z2s50uTJIwhba/mx7B5fthn9Dg1e8PeJ08Q3mpxQ2Vzax2MqRq9yhjaYMgbcEIyo54zyeuBQBX/wCEX1f/AKHvxB/340//AORaP+EX1f8A6HvxB/340/8A+Ra6SigDm/8AhF9X/wCh78Qf9+NP/wDkWj/hF9X/AOh78Qf9+NP/APkWukooA5v/AIRfV/8Aoe/EH/fjT/8A5Fo/4RfV/wDoe/EH/fjT/wD5FrpKKAOb/wCEX1f/AKHvxB/340//AORaP+EX1f8A6HvxB/340/8A+Ra6SigDm/8AhF9X/wCh78Qf9+NP/wDkWj/hF9X/AOh78Qf9+NP/APkWukooA878aeHNUh0G2aTxprk4OraaoSSGxABN9AA3y2wOVJDDtkDIIyD0H/CL6v8A9D34g/78af8A/ItHjz/kXbX/ALDWlf8Apwt60PEGsPo2mpLb2wurqeZLe2gaTy1kkc4ALYO0dSTg8A8GgDP/AOEX1f8A6HvxB/340/8A+RaP+EX1f/oe/EH/AH40/wD+Ra0dA1d9Y095bi3W1uoJnt7mBJfMWORDggPgbh0IOAcHoOlUtG1rWNYup5V0qxi0tZZoorg37maQo5TJi8naASp/jPHbtQBH/wAIvq//AEPfiD/vxp//AMi0f8Ivq/8A0PfiD/vxp/8A8i1Wt/FWtQa5cWWu6Ppttb2lk15c3FlqclwYV52gq0EfLbWxg/wn2ptt45mj02+uda0lbKW3s476CGG684zRSZCAkqu19wwV5AyMMaALf/CL6v8A9D34g/78af8A/ItH/CL6v/0PfiD/AL8af/8AItXNA1m61Nry11WxisdQsnVZoYbgzx4ZQysrlVJyD3UYIPXqdigDm/8AhF9X/wCh78Qf9+NP/wDkWj/hF9X/AOh78Qf9+NP/APkWukooA5v/AIRfV/8Aoe/EH/fjT/8A5Fo/4RfV/wDoe/EH/fjT/wD5FrpKKAOb/wCEX1f/AKHvxB/340//AORao+HLC5074k6/Feateaq7aTpzCa8SFXUedejaPKjRccZ5GeTz0x2Vc3Y/8lT13/sC6b/6PvqAINH/AOSo+IP+wRp3/o69rM1jw54n8QeOptSjmstOsdOtmtbFL61N0JzIP3swEc6beMIN3ON3AzUp1WPQfiPq91f2eqPb3WmWUcMtnpdzdIzJLdF1JijYAgSIcHH3hWr/AMJ5pH/Pn4g/8JzUP/jFAHGaZ4b8S6Lpvgme50OTU/7AtLi3k063ngVllI2xTAySBcbAR94sN/Q81qXmj6xp/iHSNZtfCkV1FBpk0A0qwuoljtLiRgzNl/LBUgEFgpbr8pzzv/8ACeaR/wA+fiD/AMJzUP8A4xR/wnmkf8+fiD/wnNQ/+MUAcdq+geJ7TVNafQPDUSmfQI7DSxa3MKWto3zGRMEow5IxhMHAzt5xd0z4dsnil7/UdPt7qLS9ItbLSUugrx+cgLNJtycENtAJGRyR1rpP+E80j/nz8Qf+E5qH/wAYo/4TzSP+fPxB/wCE5qH/AMYoA870zwb42v7uCW/hm02WDS71UXFnHbwXk2B+5WD59mCTucsx6nB69BFo7TfD+/03V/CkGiW9loTWUd1czwvIw8s7wojLBYsgHJcEnqo610n/AAnmkf8APn4g/wDCc1D/AOMVU1LxP4Y1myaz1jRdWv7ViC0F14WvpUJHIJVoCOKAMb4OafqF5oP/AAlviFAupatBFHCmP9RaxriNB355c+7V0nxH/wCSWeK/+wLef+iHpF8daMihUstfVVGAB4b1AAD/AL8VieNfFllq/gHxBpun6f4gmu7zTLmCCP8A4R2/Xe7xMqjJhAGSRyTigDrfEmmy6x4Z1HT7dwk1xbukbN0DEcZ/GsvQ01NtR1LW9Q0m4tJJ4YLeOxaWF5CI9xLZVymCXOMtnA5xnFP/AOE80j/nz8Qf+E5qH/xij/hPNI/58/EH/hOah/8AGKAOfv8AwfOfElxJDoxmurjUkvbbXPNj/wBBT5PMQZbzFJCMNqKVbd8x5NdRfaddTeONI1COLNrb2lzHLJuHys5i2jGcnO1unpVf/hPNI/58/EH/AITmof8Axij/AITzSP8Anz8Qf+E5qH/xigDOl07VNU8Ww3sOhHQ7mBJUudUEsTi8TYVjRSh3uoYhv3irt28dah8IaNqlnqlo8ujyaQILZ49Sne4jk/tSf5QsvyMzP91jvkCvhgMcnGv/AMJ5pH/Pn4g/8JzUP/jFH/CeaR/z5+IP/Cc1D/4xQB0lFc3/AMJ5pH/Pn4g/8JzUP/jFH/CeaR/z5+IP/Cc1D/4xQB0lFc3/AMJ5pH/Pn4g/8JzUP/jFH/CeaR/z5+IP/Cc1D/4xQAfEf/klniv/ALAt5/6IetPxDpr6x4b1HToXEcl1bPEjHoGKkDP41yHjXxZZav4B8Qabp+n+IJru80y5ggj/AOEdv13u8TKoyYQBkkck4rc/4TzSP+fPxB/4Tmof/GKAItDj1VtSv9a1LSbi0ke2gtY7NpYXkfYWLOCr7cEvxlgcDkDpWJqvg+d/El3LBopubq8v47u01oSxj+zlCxh1+ZvMUkRnhFIbd82Oa6D/AITzSP8Anz8Qf+E5qH/xij/hPNI/58/EH/hOah/8YoAx7vwt4nXxjpl/DqOnXNmupyXUxOnsssaGJkALmfDYBCDCjHBIPObF1p+o6p4xtLseHP7NntJHE+qi4ixd24VgsIZD5hBLKSHQBSCRkgE6H/CeaR/z5+IP/Cc1D/4xR/wnmkf8+fiD/wAJzUP/AIxQBi+FfDK6b4ktptL8JDwxb2tvJFdyLNE4v2JG3lGLSAEFt8oVuRxy2O+rm/8AhPNI/wCfPxB/4Tmof/GKP+E80j/nz8Qf+E5qH/xigDpKK5v/AITzSP8Anz8Qf+E5qH/xij/hPNI/58/EH/hOah/8YoA6Siub/wCE80j/AJ8/EH/hOah/8Yo/4TzSP+fPxB/4Tmof/GKAOkorm/8AhPNI/wCfPxB/4Tmof/GKP+E80j/nz8Qf+E5qH/xigDpKK5v/AITzSP8Anz8Qf+E5qH/xij/hPNI/58/EH/hOah/8YoA6Subsf+Sp67/2BdN/9H31H/CeaR/z5+IP/Cc1D/4xWHaeLLKLx9qupPp/iAWlxpllBFJ/wjt/8zxy3TOMeTkYEqckYO7jocAFrX9I1ebVtStLKwkuLTWvs++8WWNUtPLOH3qxDHKgY2hueu3rWj4t0ybWrCILp0l0LC8Sc2rSIv21ApDIpLY5DEYfaCQQflOaX/hPNI/58/EH/hOah/8AGKP+E80j/nz8Qf8AhOah/wDGKAMBbPxFovh17bw/oF3a29/fMws7OW1Eul2xQZCBpBEGZgSArFV355xg6E8Hl+D7XTV8A3N/pzI0cmmXE9q8qEHKs4eUxuGOSW8wtkg4OTi//wAJ5pH/AD5+IP8AwnNQ/wDjFH/CeaR/z5+IP/Cc1D/4xQBVg0HVf7H8L6dqH+k/Y51mvpDLvAKIxQZYgth9nOCflya66ub/AOE80j/nz8Qf+E5qH/xij/hPNI/58/EH/hOah/8AGKAOkorm/wDhPNI/58/EH/hOah/8Yo/4TzSP+fPxB/4Tmof/ABigDpKK5v8A4TzSP+fPxB/4Tmof/GKP+E80j/nz8Qf+E5qH/wAYoA6Siub/AOE80j/nz8Qf+E5qH/xij/hPNI/58/EH/hOah/8AGKAOa+Df/M+/9jnqP/tOtPT9F1aPW7OxmspEsdP1K5v1vzLGUnWTzNqKoO8MDKc5UD5eCc1zXw01tPD/APwlv9r6V4gt/wC0fE17f2v/ABT98/mQSbNj/LCcZweDg+ort/8AhPNI/wCfPxB/4Tmof/GKAM/xXoX9rahZare+GpNct47aa2l0l3hJJZ0ZXKyOI2xs7tkZBHORVCXQfEOl6XDDb2cmqT3mj/2bMy3Kf6K+5irs0hBZAHIJG5vlHynPG/8A8J5pH/Pn4g/8JzUP/jFH/CeaR/z5+IP/AAnNQ/8AjFAD59HuH1rw9H5fmWOmRySPKWH+tCCNOM56M56dqxfEPhfxPc6/DfabqWnSwPqdvOY5dPYywRRgjHmeeAyjLHAUHLmtf/hPNI/58/EH/hOah/8AGKP+E80j/nz8Qf8AhOah/wDGKAOkorm/+E80j/nz8Qf+E5qH/wAYo/4TzSP+fPxB/wCE5qH/AMYoA6Siub/4TzSP+fPxB/4Tmof/ABij/hPNI/58/EH/AITmof8AxigDpK5v4j/8ks8V/wDYFvP/AEQ9H/CeaR/z5+IP/Cc1D/4xWH418WWWr+AfEGm6fp/iCa7vNMuYII/+Edv13u8TKoyYQBkkck4oA6rxPp0+q+Gby0s9v2h0DRBjgF1YMAT2yRjNUdBXUjd6prN/pNzZyXskKR2LywvKiIu3cxVynVmOAxOB68Uf8J5pH/Pn4g/8JzUP/jFH/CeaR/z5+IP/AAnNQ/8AjFAGLd+F1fxYLjTvCa2OoPqC3U3iFJom3Rgjcu4t5uWUbTHt2DPU4pD4Ve68YQyQaDcaZDb6gb6W7a/822mIU7TDD5h2OxYFj5adG5bOTt/8J5pH/Pn4g/8ACc1D/wCMUf8ACeaR/wA+fiD/AMJzUP8A4xQBi+GtC1ez1qyM2lvY3FuXOq6q00bDV/lKp91i7YOG/eBdgG1eK6PSNPurXxLr91PFthu5YWgbcDvCxBTwDkcjvVb/AITzSP8Anz8Qf+E5qH/xij/hPNI/58/EH/hOah/8YoA6Siub/wCE80j/AJ8/EH/hOah/8Yo/4TzSP+fPxB/4Tmof/GKAOkorm/8AhPNI/wCfPxB/4Tmof/GKP+E80j/nz8Qf+E5qH/xigDpKK5v/AITzSP8Anz8Qf+E5qH/xij/hPNI/58/EH/hOah/8YoA6Siub/wCE80j/AJ8/EH/hOah/8Yo/4TzSP+fPxB/4Tmof/GKAOkorm/8AhPNI/wCfPxB/4Tmof/GKP+E80j/nz8Qf+E5qH/xigA8ef8i7a/8AYa0r/wBOFvVnxTZ3dxp9rcadbtdXFjeR3Qt0dVaYKSGUFiFBKk4yQM9x1rmvFviyy1PRbeCx0/xBLKmp6fOy/wDCO364SK8hkc8w9kRjjqcYGTW5/wAJ5pH/AD5+IP8AwnNQ/wDjFAEvhuC+s7Gae+sZYp9RvpLh4PMjY2yt90OQ2DgKAdpbk8ZHNYGi+F1svFVpPpfhNfD/ANnkme9v0micX4cH5AysZJAWIbMirjbxW1/wnmkf8+fiD/wnNQ/+MUf8J5pH/Pn4g/8ACc1D/wCMUANtdBubrTPEiXqfZ7jV55lUlg22PZ5cZ4J42gNj3PFYp0TXtbsb+W805tNuY9Ohs7eKaeJ/OljfzC4KFgEJCgFsHrlRW5/wnmkf8+fiD/wnNQ/+MUf8J5pH/Pn4g/8ACc1D/wCMUASeG4b+bUNU1fU9Pl01754ljtJ5I3kRI0xljGzLySxwGPGOnQdBXN/8J5pH/Pn4g/8ACc1D/wCMUf8ACeaR/wA+fiD/AMJzUP8A4xQB0lFc3/wnmkf8+fiD/wAJzUP/AIxR/wAJ5pH/AD5+IP8AwnNQ/wDjFAHSUVzf/CeaR/z5+IP/AAnNQ/8AjFH/AAnmkf8APn4g/wDCc1D/AOMUAdJXN2P/ACVPXf8AsC6b/wCj76j/AITzSP8Anz8Qf+E5qH/xiq3h2+XV/H2t6lbWmoQ2jaZYQLJe6fPa73SW7ZgolRS2BImSBj5hQB01r91/98/yFT1Ba/df/fP8hU9ABRRRQAUUUUAFFFFABRRRQAUUUUAFFFFABRRRQAUUUUAFFFFABRRRQAUUUUAFFFFABRRRQAUUUUAFFFFABRRRQAUUUUAFFFFABRRRQAUUUUAFFFFABRRRQAUUUUAFFFFABRRRQAUUUUAFFFFABRRRQAUUUUAFFFFABRRRQAUUUUAFFFFABRRRQAUUUUAFFFFABRRRQAUUUUAFFFFABRRRQAUUUUAFFFFABRRRQAUUUUAFFFFAH//Z)![fact2.jpg](data:image/jpeg;base64,/9j/4AAQSkZJRgABAQEAYABgAAD/4RDaRXhpZgAATU0AKgAAAAgABAE7AAIAAAAFAAAISodpAAQAAAABAAAIUJydAAEAAAAKAAAQyOocAAcAAAgMAAAAPgAAAAAc6gAAAAgAAAAAAAAAAAAAAAAAAAAAAAAAAAAAAAAAAAAAAAAAAAAAAAAAAAAAAAAAAAAAAAAAAAAAAAAAAAAAAAAAAAAAAAAAAAAAAAAAAAAAAAAAAAAAAAAAAAAAAAAAAAAAAAAAAAAAAAAAAAAAAAAAAAAAAAAAAAAAAAAAAAAAAAAAAAAAAAAAAAAAAAAAAAAAAAAAAAAAAAAAAAAAAAAAAAAAAAAAAAAAAAAAAAAAAAAAAAAAAAAAAAAAAAAAAAAAAAAAAAAAAAAAAAAAAAAAAAAAAAAAAAAAAAAAAAAAAAAAAAAAAAAAAAAAAAAAAAAAAAAAAAAAAAAAAAAAAAAAAAAAAAAAAAAAAAAAAAAAAAAAAAAAAAAAAAAAAAAAAAAAAAAAAAAAAAAAAAAAAAAAAAAAAAAAAAAAAAAAAAAAAAAAAAAAAAAAAAAAAAAAAAAAAAAAAAAAAAAAAAAAAAAAAAAAAAAAAAAAAAAAAAAAAAAAAAAAAAAAAAAAAAAAAAAAAAAAAAAAAAAAAAAAAAAAAAAAAAAAAAAAAAAAAAAAAAAAAAAAAAAAAAAAAAAAAAAAAAAAAAAAAAAAAAAAAAAAAAAAAAAAAAAAAAAAAAAAAAAAAAAAAAAAAAAAAAAAAAAAAAAAAAAAAAAAAAAAAAAAAAAAAAAAAAAAAAAAAAAAAAAAAAAAAAAAAAAAAAAAAAAAAAAAAAAAAAAAAAAAAAAAAAAAAAAAAAAAAAAAAAAAAAAAAAAAAAAAAAAAAAAAAAAAAAAAAAAAAAAAAAAAAAAAAAAAAAAAAAAAAAAAAAAAAAAAAAAAAAAAAAAAAAAAAAAAAAAAAAAAAAAAAAAAAAAAAAAAAAAAAAAAAAAAAAAAAAAAAAAAAAAAAAAAAAAAAAAAAAAAAAAAAAAAAAAAAAAAAAAAAAAAAAAAAAAAAAAAAAAAAAAAAAAAAAAAAAAAAAAAAAAAAAAAAAAAAAAAAAAAAAAAAAAAAAAAAAAAAAAAAAAAAAAAAAAAAAAAAAAAAAAAAAAAAAAAAAAAAAAAAAAAAAAAAAAAAAAAAAAAAAAAAAAAAAAAAAAAAAAAAAAAAAAAAAAAAAAAAAAAAAAAAAAAAAAAAAAAAAAAAAAAAAAAAAAAAAAAAAAAAAAAAAAAAAAAAAAAAAAAAAAAAAAAAAAAAAAAAAAAAAAAAAAAAAAAAAAAAAAAAAAAAAAAAAAAAAAAAAAAAAAAAAAAAAAAAAAAAAAAAAAAAAAAAAAAAAAAAAAAAAAAAAAAAAAAAAAAAAAAAAAAAAAAAAAAAAAAAAAAAAAAAAAAAAAAAAAAAAAAAAAAAAAAAAAAAAAAAAAAAAAAAAAAAAAAAAAAAAAAAAAAAAAAAAAAAAAAAAAAAAAAAAAAAAAAAAAAAAAAAAAAAAAAAAAAAAAAAAAAAAAAAAAAAAAAAAAAAAAAAAAAAAAAAAAAAAAAAAAAAAAAAAAAAAAAAAAAAAAAAAAAAAAAAAAAAAAAAAAAAAAAAAAAAAAAAAAAAAAAAAAAAAAAAAAAAAAAAAAAAAAAAAAAAAAAAAAAAAAAAAAAAAAAAAAAAAAAAAAAAAAAAAAAAAAAAAAAAAAAAAAAAAAAAAAAAAAAAAAAAAAAAAAAAAAAAAAAAAAAAAAAAAAAAAAAAAAAAAAAAAAAAAAAAAAAAAAAAAAAAAAAAAAAAAAAAAAAAAAAAAAAAAAAAAAAAAAAAAAAAAAAAAAAAAAAAAAAAAAAAAAAAAAAAAAAAAAAAAAAAAAAAAAAAAAAAAAAAAAAAAAAAAAAAAAAAAAAAAAAAAAAAAAAAAAAAAAAAAAAAAAAAAAAAAAAAAAAAAAAAAAAAAAAAAAAAAAAAAAAAAAAAAAAAAAAAAAAAAAAAAAAAAAAAAAAAAAAAAAAAAAAAAAAAAAAAAAAAAAAAAAAAAAAAAAAAAAAAAAAAAAAAAAAAAAAAAAAAAAAAAAAAAAAAAAAAAAAAAAAAAAAAAAAAAAAAAAAAAAAAAAAAAAAAAAAAAAAAAAAAAAAAAAAAAAAAAAAAAAAAAAAAAAAAAAAAAAAAAAAAAAAAAAAAAAAAAAAAAAAAAAAAAAAAAAAAAAAAAAAAAAAAAAAAAAAAAAAAAAAAAAAAAAAAAAAAAAAAAAAAAAAAAAAAAAAAAAAAAAAAAAAAAAAAAAAAAAAAAAAAAAAAAAAAAAAAAAAAAAAAAAAAAAAAAAAAAAAAAAAAAAAAAAAAAAAAAAAAAAAAAAAAAAAAAAAAAAAAAAAAAAAAAAAAAAAAAAAAAAAAAAAAAAAAAAAAAAAAAAAAAAAAAAAAAAAAAAAAAAAAAAAAAAAAAAAAAAAAAAAAAAAAAAAAAAAAAAAAAAAAAAAAAAAAAAAAAAAAAAAAAAAAAAAAAAAAAAAAAAAAAAAAAAAAAAAAAAAAAAAAAAAAAAAAAAAAAAAAAAAAAAAAAAAAAAAAAAAAAAAAAAAAAAAAAAAAAAAAAAAAAAAAAAAAAAAAAAAAAAAAAAAAAAAAAAAAAAAAAAAAAAAAAAAAAAAAAAAAAAAAAAAAAAAAAAAAAAAAAAAAAAAAAAAAAAAAAAAAAAAAAAAAAAAAAAAAAAAAAAAAAAAAAAAAAAAAAAAAAAAAAAAAAAAAAAAAAAAAAAAAAAAAAAAAAAAAAAAAAAAAAAAAAAAAAAAAAAAAAAAAAAAAAAAAAAAAAAAAAAAAAAAAAAAAAAAAAAAAAAAAAAAAAAAAAAAAAAAAAAAAEVuYWIAAAAFkAMAAgAAABQAABCekAQAAgAAABQAABCykpEAAgAAAAM5OAAAkpIAAgAAAAM5OAAA6hwABwAACAwAAAiSAAAAABzqAAAACAAAAAAAAAAAAAAAAAAAAAAAAAAAAAAAAAAAAAAAAAAAAAAAAAAAAAAAAAAAAAAAAAAAAAAAAAAAAAAAAAAAAAAAAAAAAAAAAAAAAAAAAAAAAAAAAAAAAAAAAAAAAAAAAAAAAAAAAAAAAAAAAAAAAAAAAAAAAAAAAAAAAAAAAAAAAAAAAAAAAAAAAAAAAAAAAAAAAAAAAAAAAAAAAAAAAAAAAAAAAAAAAAAAAAAAAAAAAAAAAAAAAAAAAAAAAAAAAAAAAAAAAAAAAAAAAAAAAAAAAAAAAAAAAAAAAAAAAAAAAAAAAAAAAAAAAAAAAAAAAAAAAAAAAAAAAAAAAAAAAAAAAAAAAAAAAAAAAAAAAAAAAAAAAAAAAAAAAAAAAAAAAAAAAAAAAAAAAAAAAAAAAAAAAAAAAAAAAAAAAAAAAAAAAAAAAAAAAAAAAAAAAAAAAAAAAAAAAAAAAAAAAAAAAAAAAAAAAAAAAAAAAAAAAAAAAAAAAAAAAAAAAAAAAAAAAAAAAAAAAAAAAAAAAAAAAAAAAAAAAAAAAAAAAAAAAAAAAAAAAAAAAAAAAAAAAAAAAAAAAAAAAAAAAAAAAAAAAAAAAAAAAAAAAAAAAAAAAAAAAAAAAAAAAAAAAAAAAAAAAAAAAAAAAAAAAAAAAAAAAAAAAAAAAAAAAAAAAAAAAAAAAAAAAAAAAAAAAAAAAAAAAAAAAAAAAAAAAAAAAAAAAAAAAAAAAAAAAAAAAAAAAAAAAAAAAAAAAAAAAAAAAAAAAAAAAAAAAAAAAAAAAAAAAAAAAAAAAAAAAAAAAAAAAAAAAAAAAAAAAAAAAAAAAAAAAAAAAAAAAAAAAAAAAAAAAAAAAAAAAAAAAAAAAAAAAAAAAAAAAAAAAAAAAAAAAAAAAAAAAAAAAAAAAAAAAAAAAAAAAAAAAAAAAAAAAAAAAAAAAAAAAAAAAAAAAAAAAAAAAAAAAAAAAAAAAAAAAAAAAAAAAAAAAAAAAAAAAAAAAAAAAAAAAAAAAAAAAAAAAAAAAAAAAAAAAAAAAAAAAAAAAAAAAAAAAAAAAAAAAAAAAAAAAAAAAAAAAAAAAAAAAAAAAAAAAAAAAAAAAAAAAAAAAAAAAAAAAAAAAAAAAAAAAAAAAAAAAAAAAAAAAAAAAAAAAAAAAAAAAAAAAAAAAAAAAAAAAAAAAAAAAAAAAAAAAAAAAAAAAAAAAAAAAAAAAAAAAAAAAAAAAAAAAAAAAAAAAAAAAAAAAAAAAAAAAAAAAAAAAAAAAAAAAAAAAAAAAAAAAAAAAAAAAAAAAAAAAAAAAAAAAAAAAAAAAAAAAAAAAAAAAAAAAAAAAAAAAAAAAAAAAAAAAAAAAAAAAAAAAAAAAAAAAAAAAAAAAAAAAAAAAAAAAAAAAAAAAAAAAAAAAAAAAAAAAAAAAAAAAAAAAAAAAAAAAAAAAAAAAAAAAAAAAAAAAAAAAAAAAAAAAAAAAAAAAAAAAAAAAAAAAAAAAAAAAAAAAAAAAAAAAAAAAAAAAAAAAAAAAAAAAAAAAAAAAAAAAAAAAAAAAAAAAAAAAAAAAAAAAAAAAAAAAAAAAAAAAAAAAAAAAAAAAAAAAAAAAAAAAAAAAAAAAAAAAAAAAAAAAAAAAAAAAAAAAAAAAAAAAAAAAAAAAAAAAAAAAAAAAAAAAAAAAAAAAAAAAAAAAAAAAAAAAAAAAAAAAAAAAAAAAAAAAAAAAAAAAAAAAAAAAAAAAAAAAAAAAAAAAAAAAAAAAAAAAAAAAAAAAAAAAAAAAAAAAAAAAAAAAAAAAAAAAAAAAAAAAAAAAAAAAAAAAAAAAAAAAAAAAAAAAAAAAAAAAAAAAAAAAAAAAAAAAAAAAAAAAAAAAAAAAAAAAAAAAAAAAAAAAAAAAAAAAAAAAAAAAAAAAAAAAAAAAAAAAAAAAAAAAAAAAAAAAAAAAAAAAAAAAAAAAAAAAAAAAAAAAAAAAAAAAAAAAAAAAAAAAAAAAAAAAAAAAAAAAAAAAAAAAAAAAAAAAAAAAAAAAAAAAAAAAAAAAAAAAAAAAAAAAAAAAAAAAAAAAAAAAAAAAAAAAAAAAAAAAAAAAAAAAAAAAAAAAAAAAAAAAAAAAAAAAAAAAAAAAAAAAAAAAAAAAAAAAAAAAAAAAAAAAAAAAAAAAAAAAAAAAAAAAAAAAAAAAAAAAAAAAAAAAAAAAAAAAAAAAAAAAAAAAAAAAAAAAAAAAAAAAAAAAAAAAAAAAAAAAAAAAAAAAAAAAAAAAAAAAAAAAAAAAAAAAAAAAAAAAAAAAAAAAAAAAAAAAAAAAAAAAAAAAAAAAAAAAAAAAAAAAAAAAAAAAAAAAAAAAAAAAAAAAAAAAAAAAAAAAAAAAAAAAAAAAAAAAAAAAAAAAAAAAAAAAAAAAAAAAAAAAAAAAAAAAAAAAAAAAAAAAAAAAAAAAAAAAAAAAAAAAAAAAAAAAAAAAAAAAAAAAAAAAAAAAAAAAAAAAAAAAAAAAAAAAAAAAAAAAAAAAAAAAAAAAAAAAAAAAAAAAAAAAAAAAAAAAAAAAAAAAAAAAAAAAAAAAAAAAAAAAAAAAAAAAAAAAAAAAAAAAAAAAAAAAAAAAAAAAAAAAAAAAAAAAAAAAAAAAAAAAAAAAAAAAAAAAAAAAAAAAAAAAAAAAAAAAAAAAAAAAAAAAAAAAAAAAAAAAAAAAAAAAAAAAAAAAAAAAAAAAAAAAAAAAAAAAAAAAAAAAAAAAAAAAAAAAAAAAAAAAAAAMjAyMzowMjoxNCAxNTo1MjozMgAyMDIzOjAyOjE0IDE1OjUyOjMyAAAARQBuAGEAYgAAAP/hCxdodHRwOi8vbnMuYWRvYmUuY29tL3hhcC8xLjAvADw/eHBhY2tldCBiZWdpbj0n77u/JyBpZD0nVzVNME1wQ2VoaUh6cmVTek5UY3prYzlkJz8+DQo8eDp4bXBtZXRhIHhtbG5zOng9ImFkb2JlOm5zOm1ldGEvIj48cmRmOlJERiB4bWxuczpyZGY9Imh0dHA6Ly93d3cudzMub3JnLzE5OTkvMDIvMjItcmRmLXN5bnRheC1ucyMiPjxyZGY6RGVzY3JpcHRpb24gcmRmOmFib3V0PSJ1dWlkOmZhZjViZGQ1LWJhM2QtMTFkYS1hZDMxLWQzM2Q3NTE4MmYxYiIgeG1sbnM6ZGM9Imh0dHA6Ly9wdXJsLm9yZy9kYy9lbGVtZW50cy8xLjEvIi8+PHJkZjpEZXNjcmlwdGlvbiByZGY6YWJvdXQ9InV1aWQ6ZmFmNWJkZDUtYmEzZC0xMWRhLWFkMzEtZDMzZDc1MTgyZjFiIiB4bWxuczp4bXA9Imh0dHA6Ly9ucy5hZG9iZS5jb20veGFwLzEuMC8iPjx4bXA6Q3JlYXRlRGF0ZT4yMDIzLTAyLTE0VDE1OjUyOjMyLjk3OTwveG1wOkNyZWF0ZURhdGU+PC9yZGY6RGVzY3JpcHRpb24+PHJkZjpEZXNjcmlwdGlvbiByZGY6YWJvdXQ9InV1aWQ6ZmFmNWJkZDUtYmEzZC0xMWRhLWFkMzEtZDMzZDc1MTgyZjFiIiB4bWxuczpkYz0iaHR0cDovL3B1cmwub3JnL2RjL2VsZW1lbnRzLzEuMS8iPjxkYzpjcmVhdG9yPjxyZGY6U2VxIHhtbG5zOnJkZj0iaHR0cDovL3d3dy53My5vcmcvMTk5OS8wMi8yMi1yZGYtc3ludGF4LW5zIyI+PHJkZjpsaT5FbmFiPC9yZGY6bGk+PC9yZGY6U2VxPg0KCQkJPC9kYzpjcmVhdG9yPjwvcmRmOkRlc2NyaXB0aW9uPjwvcmRmOlJERj48L3g6eG1wbWV0YT4NCiAgICAgICAgICAgICAgICAgICAgICAgICAgICAgICAgICAgICAgICAgICAgICAgICAgICAgICAgICAgICAgICAgICAgICAgICAgICAgICAgICAgICAgICAgICAgICAgICAgICAKICAgICAgICAgICAgICAgICAgICAgICAgICAgICAgICAgICAgICAgICAgICAgICAgICAgICAgICAgICAgICAgICAgICAgICAgICAgICAgICAgICAgICAgICAgICAgICAgICAgIAogICAgICAgICAgICAgICAgICAgICAgICAgICAgICAgICAgICAgICAgICAgICAgICAgICAgICAgICAgICAgICAgICAgICAgICAgICAgICAgICAgICAgICAgICAgICAgICAgICAgCiAgICAgICAgICAgICAgICAgICAgICAgICAgICAgICAgICAgICAgICAgICAgICAgICAgICAgICAgICAgICAgICAgICAgICAgICAgICAgICAgICAgICAgICAgICAgICAgICAgICAKICAgICAgICAgICAgICAgICAgICAgICAgICAgICAgICAgICAgICAgICAgICAgICAgICAgICAgICAgICAgICAgICAgICAgICAgICAgICAgICAgICAgICAgICAgICAgICAgICAgIAogICAgICAgICAgICAgICAgICAgICAgICAgICAgICAgICAgICAgICAgICAgICAgICAgICAgICAgICAgICAgICAgICAgICAgICAgICAgICAgICAgICAgICAgICAgICAgICAgICAgCiAgICAgICAgICAgICAgICAgICAgICAgICAgICAgICAgICAgICAgICAgICAgICAgICAgICAgICAgICAgICAgICAgICAgICAgICAgICAgICAgICAgICAgICAgICAgICAgICAgICAKICAgICAgICAgICAgICAgICAgICAgICAgICAgICAgICAgICAgICAgICAgICAgICAgICAgICAgICAgICAgICAgICAgICAgICAgICAgICAgICAgICAgICAgICAgICAgICAgICAgIAogICAgICAgICAgICAgICAgICAgICAgICAgICAgICAgICAgICAgICAgICAgICAgICAgICAgICAgICAgICAgICAgICAgICAgICAgICAgICAgICAgICAgICAgICAgICAgICAgICAgCiAgICAgICAgICAgICAgICAgICAgICAgICAgICAgICAgICAgICAgICAgICAgICAgICAgICAgICAgICAgICAgICAgICAgICAgICAgICAgICAgICAgICAgICAgICAgICAgICAgICAKICAgICAgICAgICAgICAgICAgICAgICAgICAgICAgICAgICAgICAgICAgICAgICAgICAgICAgICAgICAgICAgICAgICAgICAgICAgICAgICAgICAgICAgICAgICAgICAgICAgIAogICAgICAgICAgICAgICAgICAgICAgICAgICAgICAgICAgICAgICAgICAgICAgICAgICAgICAgICAgICAgICAgICAgICAgICAgICAgICAgICAgICAgICAgICAgICAgICAgICAgCiAgICAgICAgICAgICAgICAgICAgICAgICAgICAgICAgICAgICAgICAgICAgICAgICAgICAgICAgICAgICAgICAgICAgICAgICAgICAgICAgICAgICAgICAgICAgICAgICAgICAKICAgICAgICAgICAgICAgICAgICAgICAgICAgICAgICAgICAgICAgICAgICAgICAgICAgICAgICAgICAgICAgICAgICAgICAgICAgICAgICAgICAgICAgICAgICAgICAgICAgIAogICAgICAgICAgICAgICAgICAgICAgICAgICAgICAgICAgICAgICAgICAgICAgICAgICAgICAgICAgICAgICAgICAgICAgICAgICAgICAgICAgICAgICAgICAgICAgICAgICAgCiAgICAgICAgICAgICAgICAgICAgICAgICAgICAgICAgICAgICAgICAgICAgICAgICAgICAgICAgICAgICAgICAgICAgICAgICAgICAgICAgICAgICAgICAgICAgICAgICAgICAKICAgICAgICAgICAgICAgICAgICAgICAgICAgICAgICAgICAgICAgICAgICAgICAgICAgICAgICAgICAgICAgICAgICAgICAgICAgICAgICAgICAgICAgICAgICAgICAgICAgIAogICAgICAgICAgICAgICAgICAgICAgICAgICAgICAgICAgICAgICAgICAgICAgICAgICAgICAgICAgICAgICAgICAgICAgICAgICAgICAgICAgICAgICAgICAgICAgICAgICAgCiAgICAgICAgICAgICAgICAgICAgICAgICAgICAgICAgICAgICAgICAgICAgICAgICAgICAgICAgICAgICAgICAgICAgICAgICAgICAgICAgICAgICAgICAgICAgICAgICAgICAKICAgICAgICAgICAgICAgICAgICAgICAgICAgICAgICAgICAgICAgICAgICAgICAgICAgICAgICAgICAgICAgICAgICAgICAgICAgICAgICAgICAgICAgICAgICAgICAgICAgIAogICAgICAgICAgICAgICAgICAgICAgICAgICAgPD94cGFja2V0IGVuZD0ndyc/Pv/bAEMABwUFBgUEBwYFBggHBwgKEQsKCQkKFQ8QDBEYFRoZGBUYFxseJyEbHSUdFxgiLiIlKCkrLCsaIC8zLyoyJyorKv/bAEMBBwgICgkKFAsLFCocGBwqKioqKioqKioqKioqKioqKioqKioqKioqKioqKioqKioqKioqKioqKioqKioqKioqKv/AABEIAjQC5gMBIgACEQEDEQH/xAAfAAABBQEBAQEBAQAAAAAAAAAAAQIDBAUGBwgJCgv/xAC1EAACAQMDAgQDBQUEBAAAAX0BAgMABBEFEiExQQYTUWEHInEUMoGRoQgjQrHBFVLR8CQzYnKCCQoWFxgZGiUmJygpKjQ1Njc4OTpDREVGR0hJSlNUVVZXWFlaY2RlZmdoaWpzdHV2d3h5eoOEhYaHiImKkpOUlZaXmJmaoqOkpaanqKmqsrO0tba3uLm6wsPExcbHyMnK0tPU1dbX2Nna4eLj5OXm5+jp6vHy8/T19vf4+fr/xAAfAQADAQEBAQEBAQEBAAAAAAAAAQIDBAUGBwgJCgv/xAC1EQACAQIEBAMEBwUEBAABAncAAQIDEQQFITEGEkFRB2FxEyIygQgUQpGhscEJIzNS8BVictEKFiQ04SXxFxgZGiYnKCkqNTY3ODk6Q0RFRkdISUpTVFVWV1hZWmNkZWZnaGlqc3R1dnd4eXqCg4SFhoeIiYqSk5SVlpeYmZqio6Slpqeoqaqys7S1tre4ubrCw8TFxsfIycrS09TV1tfY2dri4+Tl5ufo6ery8/T19vf4+fr/2gAMAwEAAhEDEQA/APoq1+6/++f5Cp65m48UyWeu3GkWHh/VNWuIYI7qZrN7ZUjWRpFQEyzISSYX6A9vWnf8JRq//QieIP8Av/p//wAlUAdJRXN/8JRq/wD0IniD/v8A6f8A/JVH/CUav/0IniD/AL/6f/8AJVAHSUVzf/CUav8A9CJ4g/7/AOn/APyVR/wlGr/9CJ4g/wC/+n//ACVQB0lFc3/wlGr/APQieIP+/wDp/wD8lUf8JRq//QieIP8Av/p//wAlUAdJRXN/8JRq/wD0IniD/v8A6f8A/JVVo/HF7Lqs+mp4J8QG7t4Y55Y/NsPlSRnVDn7Tg5MT8A5G3nqMgHW0Vzf/AAlGr/8AQieIP+/+n/8AyVR/wlGr/wDQieIP+/8Ap/8A8lUAdJRXN/8ACUav/wBCJ4g/7/6f/wDJVH/CUav/ANCJ4g/7/wCn/wDyVQB0lFc3/wAJRq//AEIniD/v/p//AMlUf8JRq/8A0IniD/v/AKf/APJVAHSUVzf/AAlGr/8AQieIP+/+n/8AyVR/wlGr/wDQieIP+/8Ap/8A8lUAdJRXN/8ACUav/wBCJ4g/7/6f/wDJVH/CUav/ANCJ4g/7/wCn/wDyVQB0lFc3/wAJRq//AEIniD/v/p//AMlUf8JRq/8A0IniD/v/AKf/APJVAHSUVzf/AAlGr/8AQieIP+/+n/8AyVR/wlGr/wDQieIP+/8Ap/8A8lUAdJRXN/8ACUav/wBCJ4g/7/6f/wDJVH/CUav/ANCJ4g/7/wCn/wDyVQB0lFc3/wAJRq//AEIniD/v/p//AMlUf8JRq/8A0IniD/v/AKf/APJVAHSUVzf/AAlGr/8AQieIP+/+n/8AyVR/wlGr/wDQieIP+/8Ap/8A8lUAdJRXN/8ACUav/wBCJ4g/7/6f/wDJVH/CUav/ANCJ4g/7/wCn/wDyVQB0lFc3/wAJRq//AEIniD/v/p//AMlUf8JRq/8A0IniD/v/AKf/APJVAHSUVzf/AAlGr/8AQieIP+/+n/8AyVR/wlGr/wDQieIP+/8Ap/8A8lUAdJRXN/8ACUav/wBCJ4g/7/6f/wDJVH/CUav/ANCJ4g/7/wCn/wDyVQB0lFc3/wAJRq//AEIniD/v/p//AMlUf8JRq/8A0IniD/v/AKf/APJVAHSUVzf/AAlGr/8AQieIP+/+n/8AyVR/wlGr/wDQieIP+/8Ap/8A8lUAdJRXN/8ACUav/wBCJ4g/7/6f/wDJVH/CUav/ANCJ4g/7/wCn/wDyVQB0lFc3/wAJRq//AEIniD/v/p//AMlUf8JRq/8A0IniD/v/AKf/APJVAHSUVzf/AAlGr/8AQieIP+/+n/8AyVR/wlGr/wDQieIP+/8Ap/8A8lUAdJRXN/8ACUav/wBCJ4g/7/6f/wDJVZt98SX07XtL0a98HeII9Q1bzfsUO+xPm+Uu+T5hc4XCnPJGe2aAO2orm/8AhKNX/wChE8Qf9/8AT/8A5Ko/4SjV/wDoRPEH/f8A0/8A+SqAOkorm/8AhKNX/wChE8Qf9/8AT/8A5Ko/4SjV/wDoRPEH/f8A0/8A+SqAOkorm/8AhKNX/wChE8Qf9/8AT/8A5Ko/4SjV/wDoRPEH/f8A0/8A+SqAOkorm/8AhKNX/wChE8Qf9/8AT/8A5Ko/4SjV/wDoRPEH/f8A0/8A+SqAOkorm/8AhKNX/wChE8Qf9/8AT/8A5Ko/4SjV/wDoRPEH/f8A0/8A+SqAOkorm/8AhKNX/wChE8Qf9/8AT/8A5Ko/4SjV/wDoRPEH/f8A0/8A+SqAOkorm/8AhKNX/wChE8Qf9/8AT/8A5Ko/4SjV/wDoRPEH/f8A0/8A+SqAOkorm/8AhKNX/wChE8Qf9/8AT/8A5Ko/4SjV/wDoRPEH/f8A0/8A+SqAOkorm/8AhKNX/wChE8Qf9/8AT/8A5Ko/4SjV/wDoRPEH/f8A0/8A+SqAOkorm/8AhKNX/wChE8Qf9/8AT/8A5Ko/4SjV/wDoRPEH/f8A0/8A+SqAOkorm/8AhKNX/wChE8Qf9/8AT/8A5Ko/4SjV/wDoRPEH/f8A0/8A+SqAOkorm/8AhKNX/wChE8Qf9/8AT/8A5Ko/4SjV/wDoRPEH/f8A0/8A+SqAOkorm/8AhKNX/wChE8Qf9/8AT/8A5Ko/4SjV/wDoRPEH/f8A0/8A+SqAOkorm/8AhKNX/wChE8Qf9/8AT/8A5Ko/4SjV/wDoRPEH/f8A0/8A+SqAOkorm/8AhKNX/wChE8Qf9/8AT/8A5Ko/4SjV/wDoRPEH/f8A0/8A+SqAOkorm/8AhKNX/wChE8Qf9/8AT/8A5Ko/4SjV/wDoRPEH/f8A0/8A+SqAOkorm/8AhKNX/wChE8Qf9/8AT/8A5Ko/4SjV/wDoRPEH/f8A0/8A+SqAOkorm/8AhKNX/wChE8Qf9/8AT/8A5Ko/4SjV/wDoRPEH/f8A0/8A+SqAOkorm/8AhKNX/wChE8Qf9/8AT/8A5Ko/4SjV/wDoRPEH/f8A0/8A+SqAOkorm/8AhKNX/wChE8Qf9/8AT/8A5Ko/4SjV/wDoRPEH/f8A0/8A+SqAOkorlpvGd1ZtbtqfhDXLG3muoLX7RLJZMkbTSrEhYJcM2NzrnANdTQBV/wCXiX6j+VFH/LxL9R/KimI57R/+So+IP+wRp3/o69rq65TR/wDkqPiD/sEad/6Ova6ukMKKKKACiiigAooooAK5ux/5Knrv/YF03/0ffV0lc3Y/8lT13/sC6b/6PvqAOkooooAKKKKACiiigAooooAKKKKACsO78beFdP1B7C/8TaPbXkbBHt5r+JJFY9AVLZB5FbleNx2GtX03xOj03UtNtbJr+RZ47uxaV3/0WPOJBKqpxxyjY689KAPWr/VNP0q3W41S+trKF3EayXEyxqzHooLEDJ7CotW17SNBgjm1zVbHTYpG2pJeXKQq5xnALEZOK8X1u90vxlZeGNBvbLUk0+DQftz29vaXF5LDLJH5cAfykJyPnbcQOQMe16TxFf8AiDSvhhqVnbwz6ouoSwywXMzQL50dtKjhm2MynIJ+6T2wKAPUR4v8NNo7asviHSjpqyeU14L2PyQ/93fu259s07TPFfh3WmmGja9pmoGBN8otLyOXy1/vNtJwPc1yXw5vX1jU/Fmq38Kafqcl2tvd6Uj7/spiTarFsDdvB3BsDjA7ViW80kP7M4EW4edEYHKEghHn2NgjpwxoA7+58eeELKYRXnirRLeQqrhJdRhU7SMg4LdCCCDW3b3MF5bR3FpNHPBKoeOWJgyup6EEcEe9cL4yhjt/F3w7hhUJHHqciIo6AC0lAFZFv4x8T3XjOcxpcLZQ65/Zht3eyjtTEB1y7i4M3O4ADaRwAetAHqtFeU6b4s8Rj4hC21m+uV0u+1C4srGWyS1urOTaDhdyfvYZVKnPmFwSG4GON34Rpef8IS02o6leahNLfXOWu9hZcTMDyqgnOMnOeTxgYFAHUt4g0ZNaXR31axXU2G4WJuUExGM58vO7pz0rQrx69N94T8ZSalD/AGT4n8LatrsYljwjXWmXrkJuU8htpxn+Ie2CTbsfGHii/wDFzELcxWQ1qTTGgd7KO2EagjK73Fw03RsYKkdF70AerVnSeIdFh1qPR5tXsI9UkGUsWuUE7DGeI87jwCenauT+D63p8IXc2o6neahK+q3i7rsoWXZO69VUHnGTnOOgwMCub1b7X4S8YXes250jxL4Y1TWoReWzBGudOvWKxqyHkEg7eD8w7Y5NAHsNFcFo+rarq+sX1/deJE0qCz1ltPXS5YITFKi4ABYgSeY+cgh8dPlNZkHivXfsdr4gbUnkNzrv9mNonkxCNE84x8Hb5nmBRvJLkdflxQB6hUU11b2zRLcTxRNM/lxCRwpkbBO1c9TgHgeleU3fi/xLZ+DtY1tNQnupk1x9LggSCALBGbhUDjKjLqCQC7Bem71qLWdU1i7+HmvHWGnNzomqW0lnLczWrXW4PG4WUWzFFYEkYwCVI45OQD2CikQ7kUkYJGcUtABRRRQAUUUUAFFFFABRRRQAV5t42/5Lt8MP+4t/6TLXpNebeNv+S7fDD/uLf+ky0Aek0UUUAFFFFABRRRQAUUUUAFUtV1rS9CtVudb1Kz06Bm2LLdzrEpb0yxAz7Vdrg/ial0934RXTpoYLk65H5ck8JlRT5b8lAykj23CgDrdJ13Sdet3n0PVLLUoY32PJZ3CTKrYzglSQDgjipLHVtO1OOaTTb+1u0gkaKVreZZBG46qxB4I7g15Xe63eeDvEXji+1aS3v9UGkW00c9jE0KEkvHFF5JZyHLEndvO4YGBiq/w6ez8MeJpNAs47+OHVNHW4dr3Tp7XzLyIETMPNRdxYMCcDtQB6ZZeNvCupagljp3ibR7u8kJVLeC/ieRiBkgKGyeAfyqKTx94Phu3tZvFehx3COY2hbUYQ6uDgqRuyDnjFeTaLf6hc+EfAOh6xZ2+naVdXkc1trEN20jeZFIXWJkMaiNnxtzuYYz3OK9Eu/wDkuWnf9gKb/wBHJQB1E+s6XbXS21zqVpDcMyKsUk6q5L52AAnOW2nHrg46VK1/ZpqCWD3cC3kkZlS2MgEjICAWC9SASBnpzXlWp6VP4g8NePLuGPdqdrrAntt3rarG0aj0HB/76NUE8XSatNrHjXTrySJJ2stE0yWCKOUl3KtJs8whQSz7dzZAK52tjBAPZrq9tbFEe9uYbdZJFiRppAgZ2OAoz1J7DvRa3trfI72VzDcLHI0TtDIHCupwVOOhHcdq8bk1vWNW8Mrb+ILqO7udN8YW1oJUdHyA6nBdI41YgkjIRenTvV7Sdf1Wa8s9JtL5NJTUPEWoRS3dtawKxWIFljAKFdzYyWKkkKec80Aeq2l9aahE0thdQ3UaSNEzwyBwrqcMpI7gggjsanrw/wAN65qNr4Tg0zRdSeK/1HXNUdZoFhRXWOV2ZjJKHWNOc8RyE9AB1rR0XVtZ8T6j8OtRvNYuYjdQ3T3CWoj8qZ0GAxBQgkjIyMcE7duaAPWbS9tdQtxPYXMNzCWKiSGQOuQcEZHGQQRU1eReFdd1fUk0LQ7e+/saK+bUZ5L2ytYEZjFPtWJVaMxgkMWJ2knb9TVnTfFniHX7nw7ZjU2sBeS6lbz3NvBETOtuxWOVd6soJxnoV5PGMUAeqVnR+IdFm1qTR4dXsJNUjGXsVuUM6jGeY87hwQenesv4e6xe674GsL7VJfPu23xyy7QvmFHZNxAAAJ254AFcDpy3nhPxhabTpHinwvq+tTNY3aFGutNu5NxcAgEMAQy5B3DnOMYIB7HRXk3hLxd4p13UrKW7a6itdUF0jrI9ikdvsyFNuoYzMVIwwkVuucCul+EqXf8Awriwmv8AULq+mmaV2e62llPmNkZVQTzk5bJyTzQB0i+INGfWm0dNWsW1NRuNiLlDMBjOfLzu6c9K0K8etxe+FvGtvMh0fxR4V1bXHNvMuxrrTL18hsHkMAQwOPmHP3cYO74d1zWNVjOu3niFLUf2jdWg0OSCLZIIy6rGjELIJTtDZ3MOuFxggA9EorzHw94q12RfB2pXWpPfjxO7LcacYYlSxHlPJmMqof5CoRt7N17GsyPxb4pXwbp+pHUry8udW1dtO228Fqpt4xLIAY96qvmEKFzIxX2z1APXJbq3gmhhmnijlnJWJHcBpCBkhR3wBnipa8j1fWdWn8BWGo6pzqGmeJbeGCR5Ld5ZFM6xkSeQzIsm12VguOnQV65QAUUUUAFFFFABRRRQAUUUUAc348/5F21/7DWlf+nC3rpK5vx5/wAi7a/9hrSv/Thb10lAFX/l4l+o/lRR/wAvEv1H8qKYjntH/wCSo+IP+wRp3/o69rq64IaXd6l8Uda+x67qGkeXpGn7vsUdu3m5mvMbvOifpjjGOpznjGz/AMIvq/8A0PfiD/vxp/8A8i0hnSUVzf8Awi+r/wDQ9+IP+/Gn/wDyLR/wi+r/APQ9+IP+/Gn/APyLQB0lFc3/AMIvq/8A0PfiD/vxp/8A8i0f8Ivq/wD0PfiD/vxp/wD8i0AdJRXN/wDCL6v/AND34g/78af/APItH/CL6v8A9D34g/78af8A/ItAHSVzdj/yVPXf+wLpv/o++o/4RfV/+h78Qf8AfjT/AP5Frn7Pw5qh+JOsxDxpriuuk2DGYQ2O9wZrwBT/AKNtwNpIwAfmOSeMAHolFc3/AMIvq/8A0PfiD/vxp/8A8i0f8Ivq/wD0PfiD/vxp/wD8i0AdJRXN/wDCL6v/AND34g/78af/APItH/CL6v8A9D34g/78af8A/ItAHSUVzf8Awi+r/wDQ9+IP+/Gn/wDyLR/wi+r/APQ9+IP+/Gn/APyLQB0lFc3/AMIvq/8A0PfiD/vxp/8A8i0f8Ivq/wD0PfiD/vxp/wD8i0AdJRXN/wDCL6v/AND34g/78af/APItH/CL6v8A9D34g/78af8A/ItAHSVh3ngjwpqN/Jfah4Y0a6u5G3PcT6fE8jH1LFck8VgXOma9D4003SF8ca4be60+7unY29hvDRSW6qAfs2MYmbPHYdOc6/8Awi+r/wDQ9+IP+/Gn/wDyLQBuQ2Fnb3ct1b2kEVxMqrLMkYV5AvChiOSB2z0qFND0mOWOSPS7JJIp2uI3W3QFJWBDSA44YgkFupzWT/wi+r/9D34g/wC/Gn//ACLR/wAIvq//AEPfiD/vxp//AMi0Abcem2MWoT30VlbpeXCKk1wsSiSVR0DNjJA7A1S1Tw3p+o+Fbvw+kEdnZXMDwhLZAgi3fxKBjBB5+tUf+EX1f/oe/EH/AH40/wD+RaP+EX1f/oe/EH/fjT//AJFoA1otLhe3sP7Sjt727sQDHcvAMrJt2l0zkoSCeh6HGaRtC0htaXWG0uyOpquwXpt084LjGPMxuxjtmsr/AIRfV/8Aoe/EH/fjT/8A5Fo/4RfV/wDoe/EH/fjT/wD5FoA04/D2iw61JrEOkWEeqSDD3y2yCdhjHMmNx4AHXtU1lpOnaZJcSadYWto91J5tw0EKoZn/ALzED5j7msb/AIRfV/8Aoe/EH/fjT/8A5Fo/4RfV/wDoe/EH/fjT/wD5FoA0v+Ec0T+2v7Y/sbT/AO1P+f77Knn9Mf6zG7px1p/9haR/bX9sf2XZf2nt2fbfs6edtxjHmY3Yx2zWV/wi+r/9D34g/wC/Gn//ACLR/wAIvq//AEPfiD/vxp//AMi0AbNnpWnadPczafYWtrLdv5lxJBCqNM395yB8x9zUD+G9Dk1tdZfRtPbVF+7fG1QzjjHEmN3Tjr0rN/4RfV/+h78Qf9+NP/8AkWj/AIRfV/8Aoe/EH/fjT/8A5FoA1H0DR5NaXWJNJsW1NF2retbIZlGMYEmN2MH1oTQNHj1ptYj0mxXU3Xa16tsgmYYxgyY3YwPWsv8A4RfV/wDoe/EH/fjT/wD5Fo/4RfV/+h78Qf8AfjT/AP5FoA2V0rTls57RbC1FtcszTwiFdkpb7xZcYYnvnrWPqfgrTLvRbPR9PgttL0yC9jupbW0tlRJQjb9mFwFywUk4OQCO9Y/izTNe0HwXrer2fjjXHuNP0+e6iWW3sCjMkbMAwFsDjI5wRWv/AMIvq/8A0PfiD/vxp/8A8i0AdJRXN/8ACL6v/wBD34g/78af/wDItH/CL6v/AND34g/78af/APItAHSUVzf/AAi+r/8AQ9+IP+/Gn/8AyLR/wi+r/wDQ9+IP+/Gn/wDyLQB0lFc3/wAIvq//AEPfiD/vxp//AMi0f8Ivq/8A0PfiD/vxp/8A8i0AdJRXN/8ACL6v/wBD34g/78af/wDItH/CL6v/AND34g/78af/APItAHSUVzf/AAi+r/8AQ9+IP+/Gn/8AyLR/wi+r/wDQ9+IP+/Gn/wDyLQB0lebeNv8Aku3ww/7i3/pMtdL/AMIvq/8A0PfiD/vxp/8A8i15/wCL9B1GL4z/AA6t5PFmsTyz/wBp+XcyRWYkt8W6k7AsAU7uh3K3HTB5oA9korm/+EX1f/oe/EH/AH40/wD+RaP+EX1f/oe/EH/fjT//AJFoA6Siub/4RfV/+h78Qf8AfjT/AP5Fo/4RfV/+h78Qf9+NP/8AkWgDpKK5v/hF9X/6HvxB/wB+NP8A/kWj/hF9X/6HvxB/340//wCRaAOkorm/+EX1f/oe/EH/AH40/wD+RaP+EX1f/oe/EH/fjT//AJFoA6SqWq6Lpeu2q22t6bZ6jArb1iu7dZVDeuGBGfesj/hF9X/6HvxB/wB+NP8A/kWj/hF9X/6HvxB/340//wCRaALtr4S8OWVk1nZ+H9Lt7VpVnaCKyjVDIuCrlQMbhgYPUYq/cWFnd3EE91aQTTW5JhkkjDNFkYO0nkZHBxWH/wAIvq//AEPfiD/vxp//AMi1keE9M17XvBeiaveeONcS41DT4LqVYrewCKzxqxCg2xOMnjJNAHWSaFpEulx6bLpdk9hEQ0dq1uhiQg5BCYwMHkcdasGytTfLem2hN0kZiWcxjzFQnJUN1xkZxWF/wi+r/wDQ9+IP+/Gn/wDyLR/wi+r/APQ9+IP+/Gn/APyLQBc07QE03WtXvI5Q1vqjpLJbGP7sgXYzZzghgF4x1B5OeJY/DWhRaK2jxaLp6aW5JaxW1QQNk5OY8bevPSs7/hF9X/6HvxB/340//wCRaP8AhF9X/wCh78Qf9+NP/wDkWgDRt/DWhWlsLe10XToIBKkwijtEVQ6ABHwBjcoAAPUADFOn8PaLdWL2VzpFhNayTee8ElsjI0mc7ypGC2ec9azP+EX1f/oe/EH/AH40/wD+RaP+EX1f/oe/EH/fjT//AJFoAvzeFfD1zZpaXGhaZLbRzG4SGSzjZFlJJMgUjAYknnryafJ4c0Oa3toJdG094bOXzraNrVCsEmc70GMK2TnI5rN/4RfV/wDoe/EH/fjT/wD5Fo/4RfV/+h78Qf8AfjT/AP5FoA0bnwzoV5pg0680TTp7FZDKLWW0Rog5JJbYRjOSTnHc1aGm2IktpBZW4e0Upbt5S5hUjBCHHyjAAwKxP+EX1f8A6HvxB/340/8A+RaP+EX1f/oe/EH/AH40/wD+RaAN60s7Wwtlt7G2htoFJKxQxhFGTk4A45JJqnD4c0O21mTV7fRtPi1OXPmXqWqLM+euXA3HP1rN/wCEX1f/AKHvxB/340//AORaP+EX1f8A6HvxB/340/8A+RaANW20LSLPVJ9TtNLsoL+5GJ7uK3RZZf8AecDLdB1NP0/SNN0kTDStPtbIXEpmmFtAsfmOerttAyx9TzWP/wAIvq//AEPfiD/vxp//AMi0f8Ivq/8A0PfiD/vxp/8A8i0AaUfhzQ4dafWIdG0+PU5M775bVBM2Rg5kxuPHHWnJoGjx602sR6TYrqbrta9W2QTMMYwZMbsYHrWX/wAIvq//AEPfiD/vxp//AMi1kazpmvadq3h+1g8ca4yalqD2sxe3sCVUWs82VxbcHdEo5zwT9QAdZZ6Do+n6jcahYaVY2t7df6+5htkSSbnPzMBlufWlbRNKfSpNMfTLNtPkzvtDboYnycnKYwcnnp1rJ/4RfV/+h78Qf9+NP/8AkWj/AIRfV/8Aoe/EH/fjT/8A5FoAl1DwlZXcOj2lqkFjpul3a3Qsre3VUcqDsUAYCgMd3A5xW/XN/wDCL6v/AND34g/78af/APItH/CL6v8A9D34g/78af8A/ItAHSUVzf8Awi+r/wDQ9+IP+/Gn/wDyLR/wi+r/APQ9+IP+/Gn/APyLQB0lFc3/AMIvq/8A0PfiD/vxp/8A8i0f8Ivq/wD0PfiD/vxp/wD8i0AdJRXN/wDCL6v/AND34g/78af/APItH/CL6v8A9D34g/78af8A/ItAHSUVzf8Awi+r/wDQ9+IP+/Gn/wDyLR/wi+r/APQ9+IP+/Gn/APyLQAePP+Rdtf8AsNaV/wCnC3rpK8/8WaDqNlpdjcXPizWNQiTWtL3W1zFZiN838A5McCtxnPDDkdxxXoFAFX/l4l+o/lRR/wAvEv1H8qKYjntH/wCSo+IP+wRp3/o69rq65TR/+So+IP8AsEad/wCjr2urpDCiiigAooooAKKKKACubsf+Sp67/wBgXTf/AEffV0lc3Y/8lT13/sC6b/6PvqALGpeJBpvirS9Hktsx30E8zXRk2iIRAHGMc5z6jGK5iw+LMGp+H7vUrTSZfMGqLpthbSy7GvGbaVf7vyKVbd0PyjPel+JvhTW/E+reHo9FBjtTJNb6ncrIqtFbSKA4GSDlgu3K5IzWXpngHWbT4jeJNYmtk/syAedodusifvJ2tkiLnn5Sqx7RnH3zQB0DfEVbd9L/ALQs7O1hv7u5jNydTjeKK3hBJnLqCvOB8pIxnkgjFdHc+JdCs9Ih1W71rT4NOnx5V5LdIsMmem1ycHPsa8+0HwLqthc+GZb/AE9ZzoOgSqmZIzm/kILYGeDwfm6fMeai0bwlr/hhfDN6+iNq8tno01rNa29xEv2a6kYOz/vHVSp5UsCSMcAg0Aeof2lYl7VPttvuvAWtl81czgDJKc/Nxzx2rG1Lx74Y0uSwjuNas2k1C6+y26RXCMXcNtbvgBTwfQ8dcCuJsPCfifw1f6A0WmnVv7O0i5iiNvcRxxQXUrhvmEjBtgA2gqCcZ4FW9D8Ka5pV54ES8sGuLfTbW4e+kikjzDdygfMwZxlfmk5Xcc4oA9HvLy20+zlu7+4itbaFS8s0zhERR3LHgD61zF98RNIgk0WSyuLW50/U5J99+9yIoYIolJeTcRhhkAdQDnOfVfG/gK38Z/ZJzeG0vbEP9leS1iuoQzY5eGVSrY2jBG1hzhhmsqbw34gvfGWm6trtpZ3z6PpdytvJagJHJcu4ClUdiVbYo5JwCxwaANrWfHWnaXPoxgaG8stTE0rXkM25IoI4y7SjaG3jgDA9evY7mmatp2t2CXuj31tf2rkhZ7aVZEJHUZBIyK858L+CvEWkzaBK8FvFPpOgTRgyyBoft0zhmBCncQMdR2PBre8KfD1dB8QXPiHUb+O71e7V0lNnZRWdvhmDfcQbnIxjdI7nr0yaAL99/wAlT0L/ALAupf8Ao+xq14g8QHQ7vR4RaG4Gp362ZbzNvlblY7uhz93GOOvWqt9/yVPQv+wLqX/o+xrM+Kei6/rXh2xTwiinU4NQilSRmUCFcMrSfMQDgNnHX0oAgX4r6e03igiylFroCoEnL/8AH67Fl2xjHTepQHJyc+lWLj4mafo1rdXHir7HpccDwwKE1COd3ndQzRbRgqU3DJbHHzHA5rnIPhfewfE/TSiD/hFLHTbUNukVmuLiBpDGGBO7gyFye5A5p8fhfxEslhc3WkSSiXxVNqV7DFPCXWIblgfLOFI4RiASwHbNAHXaf490q88S6lpNxcWln9kuY7S3ea7VWvJWjVyqKcZwHXoTnPatbVvEejaC9umsanbWcl1IIreKWQB5mLBQEXq3JHQcZrzpfAuq3Vk32vSEjutT8VDUL+TzYyUtopC0RJDc5CJhRkjdyOtbp+H11pPjObxN4X1C1S4vJS17BqNhHKZFYruEc6hZUwFOFLOuccAUAaeleOtNv/EGo6VdTWtjLb3xsrRZrtRJesqKzlEODwWA4z+FRW/xD0calqNvrE9vpMNtqB0+3uLqcKlzIsau2CQAuN2ACecVyuneBdYWz0oXWmRrcXXiSXVtVk8yPKRq0jRAkH5j9wADOOc4q/p/g3xJN4HuNKkn0+wn1XULq51Bry0W9KxySFkVULeWxxtHzbgPQmgD0VpESNpHdVRRuLE4AHrmud074heFNT0u81ODXbBNPtLk2sl3NcokRfA6MT0OeCcZxkZGDUvhrwtb+DvDL6Xo0kkwDSzIZgiDe5LYCxqqIuT0VQBXntpoHjKz8L+GbOLRJoJbMXEt5LB9hkuorps4eNpmZFibe+WAMmOMDmgD1CfxFottp1tf3OsWEVldlRb3Ml0ixzFvuhGJw2e2OtR3firw9YWK3t9rumW1o0zQLPNeRpGZFJDJuJxuBUgjqMH0ryjTdPvvCJ0a61Czj1C40nw/Ob+0+3QeZp80r72ldNwBRsMu5AT8pABqDTvCGur4H8LHTNH1K2v7XS5JLe80u7tgkcs/LxXFvPhWi5U/LuPB4GBkA9wimingSeGRJInUOkiMCrKeQQe4qjp/iLRNWhuJtL1iwvYrUkXD210kiw9/mKk7eh61ha/4Zv734TXHh7TktLe9awWERWo8iEsANyLtHyK2COBxmuY1fw14i1my1u+0/RX0eWXQxpFlYSTQmRyTkuxR2QKoOFG7PXgUAd9/wlWhyw3rWWrWN5JY2/2ieG3uUkdE27gSASQCMYJ65qHw94qs9b0G2v7h7exuHso724s3uVZ7WNwSpfpgYB5IA4PpXDa34D1cf2rBoGmxwww+G00nTSkiKGd2PmHGeABg5OMnOKzfF/h67ufiTpHhbSSqWuraNHb6tIp+ZLWCTJH/AAPcU/E0Ad/4+uYLz4R+J7i0mjngl0O7eOWJgyupgfBBHBHvXQ6hdGx0y6u1j8028LyiMHG7apOM++KwPiDFHb/CXxPDCgSOPQ7tUVRgKBAwAFdBfQm4065hVdxkiZAM4zkEUAcUfihD9p8I2selySXPiNY5JFSUlbKN1yGZtvOW4A+XOD6Yqe2+IiXl7m3s7UaZ9vmtjfT6lHF+6hQmWcIwBZVcbMAn1JAFefWnw58bwfC+0IjRfFj31tuBljK2dvEDGgB3bTtUl8Akksetddd+CdS0/U7NPD9tutdI8O3FpZPJMoEl1IVHOTnOFyWPHzHmgDR/4WnodyukXGmT289hqFxcRy3ktysUdvHCpLyEnPGduAdvDAnHQ9jZ3ltqFnFd2FxFdW0yh4poXDo6nuGHBH0rzPRvBuoQXvhqebRJY4PD2gSQW0NzLCzC7bav8LsM7VOGzj5uuc11fgrw7PpPw207RNVXyrn7JsuxC+Nsj5L4Ye7HkUAaM/ijRLfWH0ltTtm1JIWmazSQNKiKMlmUcqMEcnGe1Z3hbx3pnibQYb4T2sF3Ja/bH09bpZJooTyrMvBGVweR3rmI/AGueDvC+taZ4QuLPULG6sZEhtJLGG2uhN5e1P30YRHzzkuuenzGq954E1WxAj0LSUVdN8LSafZbZY0WW5lI3jrx90EscD5uCeaAOt8KfEDR/E9pYj7Tb2epXtst1Hp0k480xNkqwBALAqMnA4711Nedar8M7rxFpemaHql9Y2+hafaJEsUWnRT3Lv5e1iJZg6xgHGCqbv8AaFegWtulpaQ28RYpCgRS7FmIAxyT1PvQBLRRRQAV5t42/wCS7fDD/uLf+ky16TXm3jb/AJLt8MP+4t/6TLQB2HiHxAdBfSgLQ3A1C/jsyd+3yt4PzdDnp0469a5pfizpx1HxXGbKUWPh2FX+2b8i8kJZWSNcdnTZnJy2RjirXxT0jX9Y8K28fhGNX1WC/hmiZmUCIAkF/mIBwDnFc2vwwvoviBosMa7vC9jp8P2l3dWa5uIXZkVgTuPzvvJx1A5oA3p/iJd2dg015otusy3VpZeTFqiSbZpgC6vhcp5YbPzAFhyABXTxeJNDn0V9Xg1rT5NMjzvvUukMK44OXB2j8688g8D6zqF9p51nTEFvJ4lutVvkkkjceWqstvkZOc/IcDOO+KRPCGvQfY9XuNIa7lj8SXOp3OmQ3EQeSNgyQuCzCMso2tgsOp5yMUAekRa7pM+nwX8OqWUlncuI4LhLhDHKxOAqtnBJPGBVHXfGvh3w5pt5e6rq1rGlk4imRZlLrIRuEe3P3iCDg9uenNcJ/wAIt4khl0zUZ9IkuI5/EMur3emWtxDutgYyIlJd1RiDhm2k/N0yBkrJ4T8ST+F1OpaUZ7u98TjUr+1triMsIEkzGFZ2VWwEj4JHGeO1AHqcNxFcWsdzFIrQyIHVwwIKkZzkcYrldU+I2jQaUbvQri21ojUIdPYW1wPLWSQjrIAR8qnccZ6YrR8W+FLPxloY03UZZYY1lSZTGsb/ADKcgMkisjj2ZSP51yM3gjxBO3hfRtYOm6npGlagJ3ltrNLVTFHCRGrw7iufMP8AAMYA4FAHS6t440210O01PRJbbW4ry/hsYjZ3Sshd3Ck71yPlGSR7VqaP4i0fXxP/AGLqVtetbuY50hkBeFgSMOvVTkHqBXAad4N12TU9MuL2zW3RvEl1q16PNRtqBWWAHB5J+U8Zx3rXg+HtxqPjSHxT4n1C1e9tZQ9rDpthHCEUBlAedg00nysMgMq5/hxQB3Vc18Ozt+FPhY4zjRbQ4/7YJXS1zXw5GfhX4VB/6Atn/wCiEoAwLv4twWmg+HLw6RJJea7drAtmk2fs8fmiNpWbb90Er2GSwGR1rSbx/wCZ4gubCysbeS2t79LA3U2oJBvfYXmKKw+fy1xkKSSc8DaTXn8Hw58Xp4C1yV7ZG19rlItKtWmTZFbR3Hmrzu25YkscnPAHbFdZZeCdR0nVvC0NrALi30u0u7m6vJJFHm30oAyRnJLFnOQMD8qAL0nxX8PzizfRrm3v4bjVDp7z/aFSOPbGZHlLc/KFUnJwDjrjBrrIdY0y50n+1bfUbSXTthf7Yk6tDtHVt4OMDB5zXmfhnwdrO/wamuaE0cejRXd1d+dLC4N6xG0qFdsglnIPbAzg1NZ/Cj+2Ph/p1nrbNp2qQz3N7saGC7ijmmZmIeORXjfG4dOR2YUAdHffEfRYf7Hm065tb2x1G5mhe+FyEhgSFWaSQuRhgNuPQ564q3qfjWxsrjQhY+VqNtrEkm26t5w0ccSRs7SAqDvHygYHrWA3hnxFdeMNGv8AxBBY6hHothdGGa1iESSXDMoiIjdyUbYpzztBPBqn4T8F69pl54alu7aGH+zNJumlDSKyC9ncHb8pyQBnJHHPBoA9A0fXNK8Q6et9oWo22oWrHHm20ocA4zg46HnoeRVTUvF2iaT4g07Q72/hTUtRYrBbb13YwTuIJ4Bxgep4GeawvDnw9k0/xW/irXdQgudalVwy6fYRWkADhcgkAyy428GRz9Aag8VaT4hm8ctquj6VFeGDQ57axkmkTyVuHYErKpYNghFA2g+5AoA63TfEWi6xPcQ6RrFhfy2pxPHa3SStDyR8wUnbyD19DSWXiPQ9SZV07WdPu2YuAILpHJ2Y39D/AA5GfTIzXkEvhXxBHo+uTas0uko2hRaZpx1G4sbVBI7nfCotsKikhVXJJ+cc54FyGzu9b8X6v5XhJo20zw5Fpv8AZ7XcUUreaxLRiRCyA7FBX5scjJXJwAeq6V4g0bXfO/sTVrHUvIIWX7HcpL5ZPZtpOOnelvNe0fT9Rt9Pv9VsbW9uv9RbTXKJJNzj5VJy3PpXJfDnw9quj3F9JqsN0LdYYbawk1ZbZ79YkBykksGQ6ZPy5JPWsfWPCWv3N14p0uHSjMPEV9DKmstPH5dtAoT5WUt5m9NrbQqkEsDkc4APQr7xJoemXHkalrOn2k29I/LuLpI23MCVXBOcnBwO+DVAeMLRfFuo6Pd+VaQ2MVuTeT3CosksxYLEAe/A78lgAK4nVfAms31t4sc6ckl5rep20EcryRhlsY/LBYtnOPldtvXJHFQeL9Du9K8F+PNa1OJEeS+hurBGcHcluIxEMgnBZlOB15oA9XjvrSa8mtIbqGS5twpmgWQF4w33Sy9RntnrWF4o/wCRi8Gf9hqT/wBN95VX4caJeab4cbUdbwdb1mX7dftj7rsBtj+iLtUfSrXij/kYvBn/AGGpP/TfeUAW/EPiA6C+lAWhuBqF/HZk79vlbwfm6HPTpx161zS/FnTjqPiuM2UosfDsKv8AbN+ReSEsrJGuOzpszk5bIxxVr4p6Rr+seFbePwjGr6rBfwzRMzKBEASC/wAxAOAc4rm1+GF9F8QNFhjXd4XsdPh+0u7qzXNxC7MisCdx+d95OOoHNAHQy/Eyy0izubnxYllpMdusCFU1KOd2uJE3NDs4KlQRy2Mg54HNXrPx7pVx4m1HSbi5s7RLWWG3gmmvEU3croH2IpxkgMvQnOelclJ4U8QebHdS6O8q3PixtSvYY5ovM8hFKwsMuFPKoSM5A7Z4pJvAeqX1nfmfSljutY8UR3l3IZYyVtIZAUJO45BEYwo5+boOaAPViQqksQABkk9q5LVPiNo0GlG70K4ttaI1CHT2FtcDy1kkI6yAEfKp3HGemK0fF3hOy8ZaINM1GWWKNZkmVo1jcblORuSRWRx7MpFcjN4I8QTt4X0bWDpup6RpWoCd5bazS1UxRwkRq8O4rnzD/AMYA4FAHS6t440210O01PRJbbW4ry/hsYjZ3Sshd3Ck71yPlGSR7VqaP4i0fXxP/YupW161u5jnSGQF4WBIw69VOQeoFcBp3g3XZNT0y4vbNbdG8SXWrXo81G2oFZYAcHkn5TxnHeteD4e3Go+NIfFPifULV721lD2sOm2EcIRQGUB52DTSfKwyAyrn+HFAG/r3i/Q/DV3p9prGoQwXOozrBbQtIoZyTjOCRhR3P0HUgVat/EOi3WsS6Ta6vYTalACZbKO5RpowMZ3IDuHUdR3FYHiTTdXuvH/hy+tLD7Vp9jFclpFkQeVO6qqM4ZgSmN2doY5xxXC2Xh3xSl5b6h4lT+w7axsb+WaZ3sreytrqUYDR+V8+w7mO6Ri2Rk4PUA9Yh8SaHc3htLfWdPluRObcwx3SM4lALGPaDndhSdvXAPpS2HiLRNVvriy0vWLC9u7YkT29vdJJJEQcHcqkleeOe9eR6JY6g/iTwnpieG4obnw9oFxKYpbyMiaRwqLiWMvhHO4hiN3UkDv0fw58KapousBrqxvrbSrWz8qzh1p7W4ubZ3fc6Qzwlm8rGBhzngcUAdN48/5F21/7DWlf+nC3rpK5vx5/yLtr/wBhrSv/AE4W9dJQBV/5eJfqP5UUf8vEv1H8qKYjntH/AOSo+IP+wRp3/o69rq65TR/+So+IP+wRp3/o69rq6QwooooAKKKKACiiigArm7H/AJKnrv8A2BdN/wDR99XSVzdj/wAlT13/ALAum/8Ao++oAd4i8ZWnh3WtH0qW0vLm61afy4/ItpHSNRyzsyqRgenXnJwMkP03xx4e1bUWsrK/JlEbyo0tvJFHKiHDtHI6hZFBIyUJAqh4j8O63qHjPTNX0me0SG0sbmAGdyGglkC7ZVXYRJjbjaSvXvXFt4D1PTrLUNZ8aakEEegzWUl2uo3eoMskhHmTBGQBFIA+VFAGPTmgDvrD4geGdTure3s9SJkug7W/mW8sYmRBlpEZlAaPH8YO09jU+jeNNC1/UGstMupXuPJ89FmtJoRLHnG+MyKokXP8Skjp615p4aTUfFPiSB9Om0C5Gg+HmsYZrSR7yxaaUqNrMAhOUj5QcqGHXNdh4A8Haj4WvLxpfK0/TZIUjt9ItdRmvIIXBJaRGlRSmc42AY4zmgDQ1PxhbaT4i1CK+v7ODTNK00Xl+GilaeLcxCMCBtKkK3Ay2ccVoaP4r0bXr65s9KuzLcWyJLIjQyR5R87XXco3qcHDLke9cpr/AIC1fWZ/EjrPYgaxd2Spvd+LWEqZFb5fvH58DkcjJFdBo3hy4svGuva5d/Z8XyQQWqxElkhjU8NkDBLM3AyMY5oAl1DxtoGl6uNNvr1o7jfHG5FvK8UTSHCLJKqlIyxxgMwJyPWubv8A4ganHqWp21haWrCDXbXSLYyK3zl1VpmODztDHGMcjnNU9X8AeJdd8UGfVr+K605dWhu4wdTuIwtvGQwh+yqoi3BhnexYn27XLD4f6nHqWmXN/d2rCDXbrV7kRs3zl1ZYVGRztDDOccjjNAHoVFFFAHN33/JU9C/7Aupf+j7GrPijWLjSrewjsJ7KK8vr6G2iF6kjI4LZcARjO7YGxnC5xk4qtff8lT0L/sC6l/6PsaPEfh271rxH4evoXgFvpM01y6yMwZpDEUTAAIwNxzk/nQAW3xB8MXmpQWNrqfmTXF1JZxkQSeWZ0zuj8zbtDcEgE5I5GRT/ABV4xs/CsmmQXNtd3Nxqd0ttbx29vJJknliSqnGFycdTjp1I53Rfh5fWVt4PhvXsiuizz3t55TMfMuZA2CmVGQDIxycHpxW34m0DUtT8UeHtTsRaSwaXJM8kVxK0ZDOmxZFIRskAt8pxnPWgBo+JfhBmu1TWo3azV2nVIpGKbZPLIwF5Jf5QByx+6DTL7xxaXekpL4cvLdbx9RisPK1K2uIikjEFkaPYJFbYSRuAHQk45rJg8Da7pXw30/RdDu7a31AXAuNT8q5kt1uyzFpVWdULpknhgucDHFVND+Gmq2N9ptxez2pMOtz6rcgXc07SZiMcK75AWcqCMlj2BHpQB1S/EDww+qLp8ep752vDYkrbymNbgf8ALNpAu1WPbJGe2a09Z1/TtAhik1KWQGd/Lhigt5J5ZWxnCxxqzNgAk4HA61xemfDvUbax8OW1zPZlbHV59W1HYzN50jmRkC5UZwzgknH3eK0/Hvhe/wDErWK21hpt9DbFpU+0Xs9lcW838EsU8QYjHOV288HPGKAL8nj7w2mk2morfyTQXgZoFt7SaaVgn3z5SIXAX+LKjb3xUP8Awn+lTeKNI0XTkuL5tUtzdpdQQSNAsOPlfeFKnJwOuB3IOAea1L4ca7N/Yt2dS/ta/s9MbT7p7jU7qyMhJDeb5kHzPyMFGxu4OQau2HgrW/DmtG58PJpLwW+hJp9hHPNMi28qlmOVw7MjErkl9wC96AOn8QaP4auIm1fxJpOm3f2CIyC5vLWORoVX5jhmBI6Z4rjb34l6rpl/4X+3afAlprLPPcgRtvsrVmRIWY7sbt0ibjjHJ44Jrc+JUFzcfCXWknCvMLLdOsKkqwXBcKOuCAaq3/gqTxHq2qXlzLB/Zt/oMen2YRm8yNiWZnPGAM7MEEnj6UAW9O8cweXrF3rEsUNnb6q2n2IghkeWcqqggIu5pG37+FXoOnBNGtfEnRtL8OW+r2kd5qK3V0LOGC3tJTJ527aUddu5COSVYbuMAE8Vz+j/AA51vQvD3hd4pbDUNa0e6uLq6S5mdIbmScNvYSCMsrAtkHYe4461ZHgHWoP7IuVnsrq5TW31fUoXlaKNmZCoEbBGJ2ZGAQN2OSOlAHVeJ9Zm0vTbQ2E1pFd3t3DbwC+SUoxZuRhAW3bQ2M4GepArL03xV4G/4SJ/7Ke0TUtTumtJbmGxZftE8ecxvMEwWABwGbJHIyKueJ/D17reueHrq3lhS30q7kupUdiC7eUyRgAA5ALZOSOnesDRfh5fWVt4PhvXsiuizz3t55TMfMuZA2CmVGQDIxycHpxQBv8AxH/5JZ4r/wCwLef+iHrfu7qOys5rqff5UKF38uNnbAGThVBJPsBmsD4j/wDJLPFf/YFvP/RD1q65aXOoeH9Qs7CZILq4tpIopHGVRmUgE/nQBzemfFDQb7w7Z6xcLe20d80v2WAWM8s0saZPmBEQts24O4AqMgZrTn8deG7dLN21NZEvLf7VE8MTyqIf+erlVIjTn7z4HvXGaj4D8Xz6BpulWFzZ2tpa6SbIWkGr3NukM4G1Zd0UatMuMfI20DnrXM63t8Iy6zpGgXukyalPolrpI0+d5I7pJQhVPIjKfv0bf1BAXk84xQB6lc/EbwvaadbX8moSPa3Nt9rSSGznlCQf89X2ITGn+0+BV7xJri6T4Su9Wtbi0VlhDW8twHaEu2Am7ywWKkkfdBPNcLqPw31m4m07+zo9Ps5rGygtbXWLa/uLW7tUXb5iNGilJ1JXgMVHJGO57Dxn4du/Eui2mnW80aIt/bT3LSErvijkDsBgHk7QMcD3oAiufiB4e0qaSz1fU0W+tPJS9WC2mdIGkHyliFOxCf4mIA4BOa2tX1rT9B01r/VbgQW6sqhgrOzsxAVVVQWZiSAAASa4i++HmpX1hrkLT2aya1rsN7cPuY/6LGUwn3eWKx4x05610HjXSNd1fT7KHw7eLbrHcq93AbqS0NzEAfkE8as8fODlRk4xkZoAp6p48hk03TZvDTJPNe6vFpzJd28kTRHd+8DRttdWCg4yB1B5HXQ8G+Ip/E1jqF7LHEkEWpXFrbeWCN0cT7MnJ5O4N0wK5PQfhtq2nto0l9cWryWOp3mpTEXM0xkkkVkh+eQbmwrcljnjvXXeCNBn8NeDrHTL14pLuNWe4eEko0jsWbBIBIyepA+lAG/RRRQAV5t42/5Lt8MP+4t/6TLXpNebeNv+S7fDD/uLf+ky0AdT4x8X2ng3R0vbu2u7p5plt4IbWB5C8jHAB2qcf16AE4FDeOfD6a0ulNeyC6aVYD/os3lJKy7ljaXZsRyMfIzBuRxzUHjHQdT1u40GXTDavHp2pJd3FvcytGJlVWAwyq2CGIbGOcYyK5aTwJ4ouvFdpqWv6jFe2dnqr3zSDUbkl4QreVGtoF8pWQ7eRuLYJznggHWT/EDwzbXrWs2pESC6WzDC2laN52IAiVwu1mBPIUkqAScAGpY/HHh+XXk0hL1/tUkzW8bG1lEMkqjLRrMV8tmAByoYngjsa8o8N7tW1Dwv4c0XUNI1GwsdVuNUmms3dpVjBkZPtETKphfe6jaSSxB6YxXZeFvA2s6R4w/teVLDSopWmlv4tKv7h4NSlfAEhtpF2QkYzlWY54z3oA6bXNcl0/XtHsLe5sYvtTyy3KXKyFzBGhLGMqNoYMV++QMZxk1Ho3j3w34gvrW00nUfPlvIGuLY/Z5ESZFIDFHZQrEEjIByO4FZnivwjquteILjU7Ca0Rk0O4sLMTSMNs0xGWbCnC4UcjJ9qdo/giTTfE2iXrG2Fnoui/2fbpGTu8xiu9sYAAwgGc556CgDZ13xdo3huSOPVrmVJHjaURwWss7LGv3nYRqxVBn7xwPeub8RfEWTS77W/wCz47e6tNL0JdSD4LGWSRmESgg42kL06nPUVX8feC/FXii+v0sNURdOuLD7PbwnUri0+zSkne7JEpE+4YADnC8/KcmmXvw41K5t9aginsoo9QmsIYxuc7LS3CblPy/eOHwOnTJ7AA9B0+WebTLWW8CLcSQo0oQEKGIBOM54zVigAAADoKKACua+HJA+FfhUnoNFs/8A0QldLXJeCYp5vgz4eisyi3EmgWyxFyQoY26gZxnjNAEOm/EPTVsYZNb1G1aa+e5msY9PtriRpreN8Z2FNxcDrgeuMgZrorXXtOvvDqa5Y3BudOkg+0JLDGzl0xnIUDcT7Yz7Vw+i/DvVtGjhKTWMktl4bGl2jtI+RcMS0jk7OFJ28jJPPArpLHwxPpXwxi8M6bPFFcw6Z9kjmIOwSbMbvXGefWgDOsfix4Zm8N2utancSaXb3gme2W5gkDyxxn74G3nIKkYzknAJNatp478O32sx6XbX0jXMsjRRlrWVYpJFXc0aylQjOB1UNkYPHBrE0DwJc2msaBfalDYwjQ9HNjbRQTNMI5SQGcFkXjao9DyR71l6X4A8UnxRp+reIb63vZLBrqTzm1O4lE0rqVidYCoihABIIQHr1NAG9YfELTFh8zV9StW+2XdzHpsdlbXDyTRwnDDYV3M4IP3Rg/w5ro9K1vTta0WLVtNullsZkLrMQU4HXIYArjByCARiuH8OfD3VtHl0i5uZrGW40zRJrRCkj4N1M+935X7nAGevtW/oXhq/0D4ZW2gWstjLqMFl5TSXETPbyykZYsoKkqST6Hn8KAJ9N8d+HNVnmitb9kMNubotc20turwg4MqNIqh0/wBpSR055qtL8SfDUejalqS3Ny8WmwC5niNjMkvlHO11R0BZDg4cfLweeK5fT/hdqJ8Na/oss8Wj6dqViLa20221Ce+t7d8ktIplVGQMSAUXjHekk+Geq3PhnWYXisYNSv7aG0Ak1a8vVeFWDOjSzZKhuQAsfy56t2AO906e18W+FLefUNN/0bUIFaWyvYCeDztZHUZ/Ec1yup67aeDl1iz8JaTptlY6JYPfXyw2oRDMy/uo1VNo3HGWPPGB3yOt0ddZV7ldXisIbdSgs47SR3ZV2DcHZgMndnGAOAM88Dz0+G73XW8caPaNFFcXOv20073BID22yFjjAOTtVlHQZFAGpoXxCvtZj8KxNb29vfahJcJqsDo3+jmBD5gX5uPn24JyMH3zXR6d420DVb82dheySy7HkjP2WVUuFQ4YxOVCy4/2C1c1/wAKykPxJ1vXTeLHp+oac8EEKMS8E0oVZXCkYwRGh4PXPHcu0LwVrkL6INXfTbWPw7YvbWIsHdxPIybPNcMi7AFH3AW5J+bigDofCPjC08Y6ddX9hbXUFtBcvBG91A8RlC8FwGUcZyMDOMc4OQMJPFPh3UtO0+58YHSr6W4u55tHSCxlnZliY7WRGQv5oA52jk/dzWl4S8P6toXw3i0O6+xjUobeSMSwzM8cshyfMJKKVyxyQAceprH0P4fajo0+iy+daSto+gPp8BMjZNy5Bd/u/dO0c9evFAHbaPrFjr2kwanpM4uLS4XdHJtK55xyGAIORjBAIrI8Uf8AIxeDP+w1J/6b7yrHgvQJPC/gvS9GnkjlntIAs0sYwsknV2H1Yk1X8Uf8jF4M/wCw1J/6b7ygCz4p1ifSLC1+wzWcV5d3kNtD9sWRkYs3zDEYJztDYzgZxkgVWX4geGH1RdPj1PfO14bElbeUxrcD/lm0gXarHtkjPbNL4k8PXet+IPDl1FLEtrpV493MjsQ0jeUyIAAMHBbPJHSud0z4d6jbWPhy2uZ7MrY6vPq2o7GZvOkcyMgXKjOGcEk4+7xQB2WteIdN8PQwSapNIhuJPKgihgknllfBOEjjVmbABJwOAMmsK88dRTaj4cGgyQXNlqouJ55ZEYMsMUZJwDgq27aDuHGCCM9DxtoHiPWr6wOi3ypYRpILm0+3zWLO5ACSebCpchef3eVBzya52y+GWtWWj2caXNj9ss/Ds+nRMZpCpupmDSOWK528DnBPtQB2HhHxJJrXgKy8Rav5FqtzAblyuVSOPJKk7if4cEmskfEixvvFenafpMq/YmtJ72/lvLaWBoYUC7HAkC/KxbhsEEA46HF3WvB8l98LJPCljPFFL9gS2jkkUmMlQOGA52nGD7GsKfwn41v77WdWNzpOj6lLpUen6b9inkmEWGLOzO0S7c9AQp29ecUAbsnxK8NLo+paklzdNHptutzPEbCeOXymztdUdAWQ4Pzj5eOtMh+JWgLZWUmpyXNjcXNvFPLA1nO/2VZDtXzmEeIgTkAvtBwSOOa5U/DDW5tJ8TCWS1F5rFvbW0SXGq3N4BFGcvG80qlgGJbkLgZ6VL4h8A+LfEOoTLd3tq2nSz2rRwjVbmNLaFChlh8lECSk4YiR+eg2jsAdpqXjfw/pGpixv7545d8cbuttK8UTSHCLJKqlIy2RgMw6j1ouPFvh2XV30G5uRLNJJ9mdWtpGgMhXPktLt8veR/AWz7VzM/gbWp/Hw1yBbDTX+1RtLqOn39xHJdWyDiGW1KmNzzjeX9DjtUGmfDG6sfE/mXDQ3WnLqkmpiabU7svuYllQWqssKlWP+sJbIH3cnIALfhzxZ4M0ubWodG0I6JbWd2lozW2kSRG9nIOVSNI9zkdMAFupwBgnsdE13TvEWmi/0e48+33tGSY2jZHU4ZWRgGVgRgggGvPX+H2uy6C+m6lp2h6tG+rz37mXULi2kcs5aOVJY48xOvA2gMCP4vXq/DGl+JtGtdKsNR1C21C1ht5ftlxPJJJctKWBjVXONyhSwLN8xwOBzQA/x5/yLtr/ANhrSv8A04W9dJXN+PP+Rdtf+w1pX/pwt66SgCr/AMvEv1H8qKP+XiX6j+VFMRz2j/8AJUfEH/YI07/0de11dcpo/wDyVHxB/wBgjTv/AEde11dIYUUUUAFFFFABRRRQAVzdj/yVPXf+wLpv/o++rpK5ux/5Knrv/YF03/0ffUAWNc8U2+iX9pp6Wd3qWoXavJHaWQj3iNMb5DvdVCjIHXJJAANcx4b8fX1z4afWrjTNV1eK+vbp7SO0to0+z2sbEKXZ2RR93OGbcc9ODjZ8Q+E9S1DxFFrega1Fpd4LGSxk+0WX2lGRmDBgBIhDAjrkjnkVzF/8Gvtej6fp39s280NpprWRXUNNFyqyMSTcRIZAscmT1IbjA4oA2rf4i/2p4m0Ox0XSbq50/UtPOpSXx2fJCR8uE3bs7iAeCfQHqLMHxH07def2tpuqaKtrYHUc6hCimS3BILhVdmUjj5XCtyOOuKT/AA3nS4uDYa69lFPocekDybcrLb7A2JInDjZktkjBJwMEVS0X4UT6G2pT6fq2m2V5eWUNor2OiJHGuxmLF0d38zeCA2SCcHDDjABtWXxG0+40S51W903U9OtIYI545biKORLpZOE8p4ndHYnA27sjIyKoa38Txpvh3Urm30G/XVbKWG3bTrpoVZXmwImZlkKlSSB8rE54IHWq8Xwh09vDms6ZdyWUf9qzw3Bi06w+z2kTxYKEW5dwclRuG75hxxT1+Fvl6OtvbXWk2l0NShvz9j0SOC2PlfdjMSOGYZ+bLSMc9MDigDTb4hW0esNpK6Rqd3eWwgF+LOOKX7G0uMb0EhcgZ5ZFdR68Guvrhb34dT6p4tttY1TUrGf7LdrcwTppSxXyKo4h+0q4zHkngpnBxnPNdZpFpqFnZvHq2pf2lO00jrN5Cw7UZiUTav8AdXC56nGTQBeooooA5u+/5KnoX/YF1L/0fY1f1bxFZ6Nqmk2N4k2/VrhreB0UFFcIz4Yk8ZCnGAeaoX3/ACVPQv8AsC6l/wCj7Gl8b+Ev+Ex0aCyTUH06WG5SdLmOMO6gZDBckYJUsM9s55oAjj8cQ3WnfbNL0PWNRRrqS2hFvAg87ZkNIGd1VY8ggM7Lu7A1m2njV/EHi7wxBockken39jc31ykkS7sIVRUbrgh2P3Tzt6kUniX4ZW+t/wBkw2dxaW+n6Zavax6deWAurYZUKsix71AkUAgMd3BPFW/CfgGPwvfWc63wuEs9Ii0yGMQbMbWLPJncfvHHHbHU54AJtd8e2Oia9/Y0Wnahqt+lr9rmt9PWN5Iod23dsZ1Z+c8Rhjx05GU1X4haZpV7PC1nf3ENn5X2+7hjTy7LzCNgkDMrE8gkKrEDqBVDxT8OpvFeseff6jZSWgkjeHztLVruz2kMRBcq6lASM/MrnJPOOBDqXwpsL/xdc6yp00rezxT3QvNJiu59yALiKWTIjVgoBBRj1IKk5ABraD4tutc8aa5pKaVLBZaT5cRu3kjPmSsNxGFckDaVI4+uOlSePPFU3hDwydQtNOk1G5lnjtoIUdVHmSMFTduYcbiOn6DJGfB4X1zRL+8fRtSjZNU1lL2dhaIHjiwA6O7Odw2qqqVQEcfUa/ivw5N4jt9PW2vY7SSxvo7xfOtzNHIUzhWUMp75znggdaAM9fiJp41FLWWwv1h+1JYTX+yPyIrphnyT85YkEgFlVlBON3BqSz8f2Wo6/LpunaZqV3FDdtZS31vHHJDFMq5KuA/mIOMbmQLnvzWXafCuxtPFcmqxnTWhe8a+PmaRFJdiVudouHzhA3IAUMP71Sad8OZoPGEPiDUtSsp7u387bc2mlraXNxvG0faJFcrLtXHRF5APtQBpeCPFtz4vtdSvJdLl0+1t72S2tjK6MZRGdjE7WPIdWHp0wT1qPR/iFp+t3jrZ6fqP9nqZlGq7I2tt0X3wxVy8Z648xVzj6Zt+FPDVz4a8KjRn1FZ2RpPKuobbynG4ltzBmcM+STngH0rC0n4YC31251TV76ymmuLGWymbTdNFi10JCC0k+HYSPxwQFAyeOmAC1F8TdOmWQppeprvsZdQsjIsSi/hjxuaP958vVTiTYSCDiquieM9V1S98JXGoWr6dHrkNyXsmCN0AeJwwJP3fcZzyo4FU9P8Ag9b2Ohahp0d3p1u9xp76fBeWOjQ286KwwZJJAS0jkYzgop5+XPTT0XQr648YWV1f8Wvh2xNjAy2rW6XEz43yIjFiEVFVQdxBJb0oA7eiiigDm/iP/wAks8V/9gW8/wDRD1v3V1DZWc11dyLFBChkkkboqgZJP4VgfEf/AJJZ4r/7At5/6IetPxDosHiPw3qGjXbskN/bvbuydVDDGRQBxb+P7vWfFPhuz0u11HS7e6Et/Ot3bIzXlmkZwUClyuWZDg7X6DHNao+IluIdR+0aFq1pc2VgdQW1ukhSSeHJG5f3hC9PuvtYelZh+G2sXstxPrHizdcf2OdKs5tPsDatagkFpMmVyWO1c4IHHGKrWPweistL1+2hvrCzl1jTo7Dfpul/ZkhCbsttEhLFt3OWBOOvTABoW/xJuLXwdaa3r3hjVYi9mb27+zJG0VpDnhi7SAN8vO1cvjkovStDUPiFp9nrP9mWWnajq1wlvHdTrYRxu0MUhwrGNnV2Hc7FYgda5zXfhBL4ind9T1bT7hZLSC32zaSZfs3lnn7PumIhVx1GCf8Aa7Vp678N5PEGuxXV9qVm9tBcRTW7HS1F7arGQfKiuVddqEjoyMeSM9MAGjf/ABE0qw1R7Z7W+ltYbqKzudQjjTyLeeQgJG2WDk5ZQdqsBuGSOcZafFBLd9fudX0i5stO0u9TT7eRpIS11OTgqD5m1eSuNxCgcls5AU/Cuw/4TGfWR/ZkkNzeC+kW50iKe6WQAfKlw+dqEgHGwsDnDDs6P4e6lBot5psWuWNxBc6lNeyRX+kLcx3CyMWMcytJl8EjaylMbRkGgDqtD1htas5JpNM1DTJIpWieC/iVXyO4Ksysp7MrEVpVynhbwbc+FLDT7Gw1cLZwSzzXNtHahY5mkOQseWYxIpPCgn611dABRRRQAV5t42/5Lt8MP+4t/wCky16TXm3jb/ku3ww/7i3/AKTLQB2fiDxFa+Hra3e4imubi7nW3tbS2CmW4kOTtXcyr0BJJIAAPNcronjm/wBQ1PX7w6bqtzaW11DYW2lxW0fnRzbMy7myEABYAsZNnHB553/FHhq51y70m/0zUY7C/wBKuGmhea28+JwyFGVkDoTweoYYxXLv8KLqfS7aG+123v5xqU+oXq3mm77W8aQYAa3EoHyDG0lmAIzg9gC3qHxODaTpNxoOi3d3c6nqbab5ErRI0EkbESq37zDEBHxtJXj73rsf8JxbR+JLbSLvSdVs1vLh7a1vbiFEhnkRC5Cjf5mMBsMUCnHBPGcfTPhkdIsfDNvY6nbqdCmnlbNhhJjLkMyorjy2AY4PzAZ6VV0P4SnSfEdrq8+rW09zai523SaYq3czS9HlmZ3LuvbgL/s0AbWmfEbTNVnla3sdQGmR+eDqxSNrUGL74Yo5eM9cb1XOOO2Yo/iXYyWd1MdI1SF4tPbUreK4WJGvLcfxp+8+XscSbG56Vn2XwpjOq3l9rV9ZzSXlhLYztpmmixa5EhBaSfDsJJOOCAoGTweMR2nwjhtvDuraal1plrLfWP2GK507RYrVkTu0hVi8jHjOHVT2APNAFmy+JzjR9JOpeH799a1Gze+/suxaB5FhB+8u+Vd/GMBcsf7o6Dubadbq1inRJEWVA4WVCjrkZwVPIPsa4PxH8NL3xPp8NjqWq6XJbrbJB8+igyWrDgvayeaGhJAH3jJggduK7DTLC+sri7+16m15bSMn2SFoQpt0CAFSw5ckgtk+uKANGiiigArl/h/KIPhJ4YlKswj0O0YqvU4gU4FdRXNfDkZ+FfhUHkf2LZ/+iEoAZp/j/TNUh0V7G0v5Tq9q94kawgvbRKOWlAbjn5QF3EtwBWVrHxKW38Pa5Imlalpeo2WltfW8V/FGGlU5VGCq7YO7HyuFbnpSaT8Lo9J8O67YQa1cpeasHii1CGMRyWcOWMcSYPRSzHqMkk8ds60+DMNta6jEl7p1r/aEdpDKun6ULdBHDJvYbfMbLP0LEk555wBQB2F34hi8MeBotY8S3DMYLaM3EgVVLyEAeyjLH2A74FVP+E9to9Ma5vNG1a0uDcpa29lNDH5l3I43L5Tq5icEfxB8DByRWl4l0a61vRjZWN5b2u5h5iXdkt3BPH/FHJGxGVI9GU9Oe1cgfg/YN4Zi055bFpodTbU4o20/dYpIwKlBalz+72k/LvznnPagC1qnxMMdnpw0bQ7y4v7zVP7MktZmiRraRfmdW/eYY7ASNrFfUiu8JIXO0k4zjvXDWnw4OmtoM1jeWMUuk3U11JFDpMcMMzSLtOyONkCEKSFYlzjqW610vh6LVl8PxLr9w0t+5dnfYiFQWJVcJlchSBwTyOp60ActovxOOo2dxc3Oh3sZm1KSw0y0iaJprsx5DnPmbRtKvksVUADBNWj8UNHey057Ozvrq91CaaCLTk8lJxJCSJUO+RUJUjGAxz/DmsyT4TLN4b0rTru+0+9n0m5lmt3vNKE0EqyZ3CaFpPnbnO4MvIBx1Bk1H4Wtd6DbaPDd6M1gkLrLbXXh+F41lYnM0IiaPynwSOrdu+SQDRufHdw3iLw1pen6DfH+2Y3uZWulWF7aJB8waNmDBgzLnjGDxuNX/EXjS08Papa6Ytje6nqN1DJPHZ2XleYY0+8wEjoG/wB1SWPpUFl4LfTvE2k6pbal5kWnaZ/ZpiuoTJI65B3rIGG1jtXOVbOO1VPG3gCfxnK8dxqFgbGSIRiG80pZ5LVv4pLeYOjRuRjk7xkDA7EAn1b4j6ZpEbu+n6ncLbWiXt/5UCqbCFujSrIytngnaoZsA8Vn6l441G71XxFpekWE9rBpekm6XVCYnBlZC0eFLH5cA9VJ9QvGW6z8J7HVPEB1ISWEgmghguP7S0qK+lAi4DRPJwjMOG3K4PBwDUGueEdStP7fs9Ju2m/4SuSOFdtmf+JegjVHYyhtuwIp2rtB3NjJoA7jQ9Q/tXw/p+oHrdW0cx4xyyg/1q/UNlaRWFhBaW4xFbxrEg9AowP5VNQAVzfij/kYvBn/AGGpP/TfeV0lc34o/wCRi8Gf9hqT/wBN95QB0lFFFABRRRQAUUUUAFFFFABRRRQAUUUUAc348/5F21/7DWlf+nC3rpK5vx5/yLtr/wBhrSv/AE4W9dJQBV/5eJfqP5UUf8vEv1H8qKYjjBr1ponxR1r7bDqEvnaRp+37Fptxd4xNeZ3eSjbevGcZ5x0NbP8Awnmkf8+fiD/wnNQ/+MVBo/8AyVHxB/2CNO/9HXtdXSGc3/wnmkf8+fiD/wAJzUP/AIxR/wAJ5pH/AD5+IP8AwnNQ/wDjFdJRQBzf/CeaR/z5+IP/AAnNQ/8AjFH/AAnmkf8APn4g/wDCc1D/AOMV0lFAHN/8J5pH/Pn4g/8ACc1D/wCMUf8ACeaR/wA+fiD/AMJzUP8A4xXSUUAc3/wnmkf8+fiD/wAJzUP/AIxXP2fjTS1+JOs3Btdc2SaTYIANAvi4KzXhOU8ncB8wwSMHkAnaceiVzdj/AMlT13/sC6b/AOj76gA/4TzSP+fPxB/4Tmof/GKP+E80j/nz8Qf+E5qH/wAYrpKKAOb/AOE80j/nz8Qf+E5qH/xij/hPNI/58/EH/hOah/8AGK6SigDm/wDhPNI/58/EH/hOah/8Yo/4TzSP+fPxB/4Tmof/ABiukooA5v8A4TzSP+fPxB/4Tmof/GKP+E80j/nz8Qf+E5qH/wAYrpKKAOb/AOE80j/nz8Qf+E5qH/xij/hPNI/58/EH/hOah/8AGK6SigDzu88aaW3xJ0a4FrrmyPSb9CDoF8HJaazIwnk7iPlOSBgcAkbhnoP+E80j/nz8Qf8AhOah/wDGKL7/AJKnoX/YF1L/ANH2NdJQBzf/AAnmkf8APn4g/wDCc1D/AOMUf8J5pH/Pn4g/8JzUP/jFdJRQBzf/AAnmkf8APn4g/wDCc1D/AOMUf8J5pH/Pn4g/8JzUP/jFdJRQBzf/AAnmkf8APn4g/wDCc1D/AOMUf8J5pH/Pn4g/8JzUP/jFdJRQBzf/AAnmkf8APn4g/wDCc1D/AOMUf8J5pH/Pn4g/8JzUP/jFdJRQBzf/AAnmkf8APn4g/wDCc1D/AOMUf8J5pH/Pn4g/8JzUP/jFdJRQBzf/AAnmkf8APn4g/wDCc1D/AOMUf8J5pH/Pn4g/8JzUP/jFdJRQBzf/AAnmkf8APn4g/wDCc1D/AOMUf8J5pH/Pn4g/8JzUP/jFdJRQB534+8aaXdfDbxLbxWuuK82k3SKZdAvo0BMLAbnaEKo9SSAOpNdB/wAJ5pH/AD5+IP8AwnNQ/wDjFHxH/wCSWeK/+wLef+iHrpKAOb/4TzSP+fPxB/4Tmof/ABij/hPNI/58/EH/AITmof8AxiukooA5v/hPNI/58/EH/hOah/8AGKP+E80j/nz8Qf8AhOah/wDGK6SigDm/+E80j/nz8Qf+E5qH/wAYo/4TzSP+fPxB/wCE5qH/AMYrpKKAOb/4TzSP+fPxB/4Tmof/ABij/hPNI/58/EH/AITmof8AxiukooA5v/hPNI/58/EH/hOah/8AGKP+E80j/nz8Qf8AhOah/wDGK6SigDm/+E80j/nz8Qf+E5qH/wAYrz/xf4t064+M/wAOruO21gRWv9p+YsmiXiSNut1A2RtEGk99oOBycCvZK828bf8AJdvhh/3Fv/SZaAOl/wCE80j/AJ8/EH/hOah/8Yo/4TzSP+fPxB/4Tmof/GK6SigDm/8AhPNI/wCfPxB/4Tmof/GKP+E80j/nz8Qf+E5qH/xiukooA5v/AITzSP8Anz8Qf+E5qH/xij/hPNI/58/EH/hOah/8YrpKKAOb/wCE80j/AJ8/EH/hOah/8Yo/4TzSP+fPxB/4Tmof/GK6SigDm/8AhPNI/wCfPxB/4Tmof/GKP+E80j/nz8Qf+E5qH/xiukooA5v/AITzSP8Anz8Qf+E5qH/xiuf8A+NNLtfht4at5bXXGeHSbVGMWgX0iEiFQdrrCVYehBIPUGvRK5v4cf8AJLPCn/YFs/8A0QlAB/wnmkf8+fiD/wAJzUP/AIxR/wAJ5pH/AD5+IP8AwnNQ/wDjFdJRQBzf/CeaR/z5+IP/AAnNQ/8AjFH/AAnmkf8APn4g/wDCc1D/AOMV0lFAHN/8J5pH/Pn4g/8ACc1D/wCMUf8ACeaR/wA+fiD/AMJzUP8A4xXSUUAc3/wnmkf8+fiD/wAJzUP/AIxR/wAJ5pH/AD5+IP8AwnNQ/wDjFdJRQBzf/CeaR/z5+IP/AAnNQ/8AjFH/AAnmkf8APn4g/wDCc1D/AOMV0lFAHN/8J5pH/Pn4g/8ACc1D/wCMUf8ACeaR/wA+fiD/AMJzUP8A4xXSUUAc3/wnmkf8+fiD/wAJzUP/AIxR/wAJ5pH/AD5+IP8AwnNQ/wDjFdJRQBzf/CeaR/z5+IP/AAnNQ/8AjFc/4j8aaXNr3hN0tdcAh1aR2D6BfKSPsN0vygwgscsOFycZOMAkeiVzfij/AJGLwZ/2GpP/AE33lAB/wnmkf8+fiD/wnNQ/+MUf8J5pH/Pn4g/8JzUP/jFdJRQBzf8Awnmkf8+fiD/wnNQ/+MUf8J5pH/Pn4g/8JzUP/jFdJRQBzf8Awnmkf8+fiD/wnNQ/+MUf8J5pH/Pn4g/8JzUP/jFdJRQBzf8Awnmkf8+fiD/wnNQ/+MUf8J5pH/Pn4g/8JzUP/jFdJRQBzf8Awnmkf8+fiD/wnNQ/+MUf8J5pH/Pn4g/8JzUP/jFdJRQBzf8Awnmkf8+fiD/wnNQ/+MUf8J5pH/Pn4g/8JzUP/jFdJRQB5/4s8W6dqel2NpbW2sJLJrWl7WudEvLeMYv4DzJJEqjp3IyeOpr0Cub8ef8AIu2v/Ya0r/04W9dJQBV/5eJfqP5UUf8ALxL9R/KimI57R/8AkqPiD/sEad/6Ova5bxRp7+J/jELaPw9pOvQ6PpA8yHWJSkKvPJkEfuZctiP0HB611Oj/APJUfEH/AGCNO/8AR17W9a6RY2eqXuo20Gy7vtn2iTex37BheCcDA9MUhnm/jrw7LEPCWn2l2dFs59Tt4DomlbY7VzlpJdxCqZFwvAwo4JIz06q71281+417w3pem6zpd5BbOkGrXVqY7V3IwDHJnLYJ7Dsa3b3RrDUb+wvb2382406RpbVy7Dy3ZSpOAcH5SRznrTtW0mx1zTJtP1SAT20ww6bip4OQQwIKkHkEEEHkUAeReB9Ri8LajqEXi3wTH4f13SNLe5e901yIdThB+Z2CnDtkA/PuIJJ+UkiusbxV4o0bwjceKNft9LubJrFbmGysxJHNFIxGyIuzMsgwwBfCcg/L6dJY+EtH09LlUt5rk3cfkzSX91Ldu8f9zfMzMF5Pyg4yc4qtZ+AvDVja3tvHpvnx30Atrj7XcSXLNCM4jDSMxVBk4UEAelAHM6j491zw0usQ68mnXl1aaKdUh+xQvGqNu2+U4Z2LZbGGBXPPAqpd+P8AxdY3Vjp2o2VlaX2oWzXsZtdNutQ+zxKqjY8cR3F2djyCFUDGWNdlD4F8Pwafc2X2OWaK7KGd7i8mmlkCEFFMjuX2jHC5x145NWtb8K6R4ieB9UtpGlgDLHLBcSQSBWGGTfGysUOBlScHAyOKAHeGNTvNZ8L6fqOqWEmnXlxCHntZFZWifuMMAR+IzVCx/wCSp67/ANgXTf8A0ffVv2trBZWkVrZwpBBCgSOKNdqoo4AAHQVgWP8AyVPXf+wLpv8A6PvqAMXxrYWuq61qI1ONZV03RGurPemfImLN++Q9nGxcMORzjrXV/Z7XV/DUUeuWsF3bzW6PcQ3MQdG4BOVbjr603WfDOla/JBJqtu8rQZClJ5ItykglH2MN6EgZRsqccirstjBMtwsgkZLiPypE81tu3BHAzhTyeRg9PQUAcFoPhvwva+AtQ1rUPDuk/Y78NqLWf2KLyVjUHygExtyEwc46saibwTLbeBdL03S/Dml3n2u/S+1KxlKW9ryC+0gI3yq2xQAjfdHHU1302k2Vxo39lSw7rLyhD5Qdh8gGAMg57etM1XRbHWrZIL9JcRtvjkgnkgljPTKyRsrrxkHBGQSDwaAKPhCa2fQfItNIt9G+yTyW8tlahfKikVvm2FVUFT1B2g88gHIrdqppel2ejadHY6dD5UEecAsXYknJZmYksxJJLEkknJNW6ACiiigAooooA5u+/wCSp6F/2BdS/wDR9jUHirTrTXPEWiaTrFvHd6dKlzNJbTR745XVVC7geDjexGe4B6ip77/kqehf9gXUv/R9jWnrOg6fr9qkGpxyssb743guJIJEOCDteNlYZBIODyDg0AYuj6gYvhRHfXt1Mvk6c7NcKC0gVVOGGTktgA8nk1x0Vq/hrSNWEVtDo93daEZY0sOVuNhw1zIQBif51yMNjP337eoppdnHbxW6Q7beGEwJAGIi8sgDaUztPAxyOOfU1R03wloulR3CWtq7rcReS/2m4kuMRf8APNfMZtqf7C4X2oA4278PtbjXNC8MWEf2JIrG6fTYSIVuAXbzkBOFBkRADnAJPzHkmq32C91PTtW0PR/C1tDYxalZsdHup44oYo9iySI+wOigkAlUDg7unJrubfwhottpFzpsdvMbe5YNK0l3K8pIxtIlZi6lcDbhhtwMYpR4R0ZdIGnLbzCISmYSi7l+0eYesnn7vM34ON27OOM44oAh8HPaJpM9laaLaaI1jcvBPZWQHkLJgMShCruBDA52g88iugqnpelWei2C2enRGOFWLHfI0juxOSzOxLMxPUkkmrlABRRRQAUUUUAFFFFABRRRQBzfxH/5JZ4r/wCwLef+iHqz40uJrXwRrE1tI0UqWkhWROqcdR7iq3xH/wCSWeK/+wLef+iHroZ4Irm3kguI1kilUo6MMhlIwQaAOW8LafaaJ4m1bStIt47WwS2tZ1ghj2osjeYGYDplgik46nk8mqWueFPD+sfEDT420LTDcxg6leXn2SPz3KELEpfG7luc56R46E10mm+GtM0mxmtLBLiNJ2DSO13K8rYAA/eMxfAAAAzgDgVcTT7aPUpdQSMi6miWJ33HlFJKjGcDlj0HegDzq7sbvRfEi3txoW/UrjW0WPXBJFmW2kfAhB3eZ8qcbCoT5dwOcVp2umaPZ+NRe+HbKK0g05JjrGpIMfaGI/1Tv1lZT8xJJ24A6nFdIvhbSE1z+1xbyG73M65uZDEjsMM6xFtiuRwXChuTzyag0fwZo+g3CTaWdSiCFisL6tdSQjdkn908hTqSelAHJeDfEul698TLu8ttdsr2a+0tGjtYLxJPJRZGwgVScMFIZvcntivS6rDT7VdUbURF/pbQiAybjygJYDGcdSecZqzQAUUUUAFFFFABXm3jb/ku3ww/7i3/AKTLXpNebeNv+S7fDD/uLf8ApMtAHQeK9Ptda13QdK1aCO606d55JraaPfHMyR/KGB4OMlhnuAe1WPBw+2+BbKK8/wBJjaJ4SJhu8xAzKMg9cqB161o6zodhr1olvqUcrLG/mI8E8kEiNgjKyRsrLwSDg8gkGp7bTrWzjto7SNoYrWLyookdgirxxtzg9BgkZHPqaAOP8I+GNHj1jW9Y0LS9P0jLPp1o9jaRx7VjOHkIUYJMmeueEHvVKy0a/l8J+KdM064uL65/tZtzXM+JLlQImdC/AG5dy8YUZwMAcd9Y2FtptoLayj8uEMzhSxblmLE5JJ5JJqu2g6a9pfWzW2Yr+Qy3C72+dyANwOcqflGMYwRkc0Aecvp95fW2saBoXhK3s7IT2MjaPczRRQopYtKHEe9FDBFJCBs5zjJNdr4Na0i025sLTRLPQ5LG5aGezsAPIDkBtyMETcCGU5Kg+oqaPwfosWlPp6W8/lyS+e0zXkzXBk6b/PL+buxwG3ZA4HHFX9K0mz0WxFpp0TJFuLsXkaR3Y9WZ3JZmPqSTQBcooooAKKKKACuO8IzS23wO0Oe3JE0Xhy3eMgfxC2Uj9a7Gua+HQDfCrwqGAIOi2YIPf9wlAGV4N0600bXLaDS4kiivdFiurrYm3zpt2PNb1dgTknk4GelO8Y+F9B1/xJpVldaJps95eOZrm8ktY2nEEODgORuGWKLkHgE10GmeFNI0aG6j02CaEXS7Hb7VKzKozhEYsTGoycKhAGeAKv8A9n239opfmMm5jhMCyF2OEJBIxnHUDnrxQBx2teE/D2reP9Oh/sHS/PiH9pXd2LSPznKELEpfG7luevSPHQmqOk28UeuaZrKIv9qX2t3trdXHl4eSFRMFjY91Xy0wDwMcd679NPto9Sl1BIyLqaJYnfceUUkqMZwOWPQd6pweGtKttck1eG3ZbyTcSTPIUVmADMsZbYrEAZYAE9zQBi6bZSWnxU1F5r65u2n0yNwJmG2Iec+ERQAAAPxPcmuvqsNPtV1RtREX+ltCIDJuPKAlgMZx1J5xmrNABRRRQAUUUUAFFFFABRRRQAVzfij/AJGLwZ/2GpP/AE33ldJXN+KP+Ri8Gf8AYak/9N95QBF4r0+11rXdB0rVoI7rTp3nkmtpo98czJH8oYHg4yWGe4B7VY8HD7b4Fsorz/SY2ieEiYbvMQMyjIPXKgdetaOs6HYa9aJb6lHKyxv5iPBPJBIjYIyskbKy8Eg4PIJBqe2062s47aO1jMMVrH5UUUbsqKuAMbQcHoMEgkc+poA43wr4Q8Nz6prmo2vh/SbezlZ9Mjggs4ljkiQ4kLqFw258jnPCj3p3gvwzpiRaxrGhWNpojajI9vbPp9rFH5cMbFVYALtJLBmyQeqjkCuwsdPttOsxa2cZjhDM23cW5ZizHJOeSSaWwsbfTNPhsrGPy7eBAkaFi2APckk/jQB51Y6NdXXgKWzt4JtZht9euGu7SedTJfQrO+5CzkKxJwcMQpxjgV0PgKZjb6vaJp39mWtpfmK2stykW6GNGKYQlRhmPCkqOgOK2JPDWlS6ZLYG3dIJp2uW8ueRHWVmLl1dWDKdxJypGO1WdL0qz0XT0stNiMUCEnDOzszE5LMzEszEkksSST1NAFuiiigAooooAKKKKAOb8ef8i7a/9hrSv/Thb10lc348/wCRdtf+w1pX/pwt66SgCr/y8S/Ufyoo/wCXiX6j+VFMRxgg1yb4o61/YOo6fZY0jT/N+22D3O/99eY27Zo9uOc5znI6Y52fsPjf/oYfD/8A4IZ//kyoNH/5Kj4g/wCwRp3/AKOvasa5440vQPFuh+Hb1Lhr3W2dbYxqpRNo5LksCPQYBpDE+w+N/wDoYfD/AP4IZ/8A5Mo+w+N/+hh8P/8Aghn/APkyl8P+N9M8S+JNb0bTI7kyaJIsVxcMq+U7sDwhDEnGCDkD8a6OgDm/sPjf/oYfD/8A4IZ//kyj7D43/wChh8P/APghn/8AkyukooA5v7D43/6GHw//AOCGf/5Mo+w+N/8AoYfD/wD4IZ//AJMrU17WrXw54fvtZ1DebWxgaeURgFiqjJABIyazbTxcXtZL3WNC1DQtOjg8977UprQRKvHB8ud2BOe4oAb9h8b/APQw+H//AAQz/wDyZXP2dn4x/wCFk6yq67oYuBpNgXkOizFGXzrzaAv2rIIIbJyc5HAwSeq8KeLNK8aaOdV0CSSax85oo5pIynm7epAPOM8cgHg8VVsf+Sp67/2BdN/9H31AB9h8b/8AQw+H/wDwQz//ACZR9h8b/wDQw+H/APwQz/8AyZU+veK7bQLiOGSyvLx/Ka4n+yKh+zQqQGlfcy/KM9F3McHAOK3EdZEV0IZWGQR3FAHOfYfG/wD0MPh//wAEM/8A8mUfYfG//Qw+H/8AwQz/APyZSjxxpsul6jfWUN1eLY3osfLhVA08xKgBNzAEZcDJIHU9Oamn8TNaaTDdXuiajb3dzP5FvpzNA08r4JwCspjHAJ5ccCgCD7D43/6GHw//AOCGf/5Mo+w+N/8AoYfD/wD4IZ//AJMpo8b2sthaS2OmajeXt08sa6dEsSzo0RxKGLusY2ngnfgkjBOa3dPvodT0+K8tS3lyrkBlwynoQR2IIII9RQBifYfG/wD0MPh//wAEM/8A8mUfYfG//Qw+H/8AwQz/APyZXSUUAc39h8b/APQw+H//AAQz/wDyZR9h8b/9DD4f/wDBDP8A/JldJRQB53eWfjH/AIWToytruhm4Ok35SQaLMEVfOs9wK/askklcHIxg8HII6D7D43/6GHw//wCCGf8A+TKL7/kqehf9gXUv/R9jV7XdfTQ0t1Wxu9Rurl2WG0swnmPtUsx+dlUAAdyOwGScUAUfsPjf/oYfD/8A4IZ//kyj7D43/wChh8P/APghn/8AkytzT76DU9Nt76zYtBcRiSMkYOCM8jsfas1PFWnzalq9jbpcTzaRGj3AhhL7iwYhEA5Zvl6Y7/XABV+w+N/+hh8P/wDghn/+TKPsPjf/AKGHw/8A+CGf/wCTKu6L4gTV5rm2m0+80y8tQjS2t55e8KwO1sxu6kHB6Nng5AqCy8aaJe6JeauLryLCzuZLZ55xtDshx8vdgScL3PGByKAIfsPjf/oYfD//AIIZ/wD5Mo+w+N/+hh8P/wDghn/+TK1tF1a313RLPVLJZFt7yJZYxKu1gpGRkdj7VeoA5v7D43/6GHw//wCCGf8A+TKPsPjf/oYfD/8A4IZ//kyukooA5v7D43/6GHw//wCCGf8A+TKPsPjf/oYfD/8A4IZ//kyukooA5v7D43/6GHw//wCCGf8A+TKPsPjf/oYfD/8A4IZ//kyukooA5v7D43/6GHw//wCCGf8A+TKPsPjf/oYfD/8A4IZ//kyukooA878fWfjFfht4la813Q5bcaTdGWOLRZkdl8lshWN0wUkdCQceh6V0H2Hxv/0MPh//AMEM/wD8mUfEf/klniv/ALAt5/6Iet2+vYNN0+4vbx/Lt7eNpZHx0UDJoAwvsPjf/oYfD/8A4IZ//kyj7D43/wChh8P/APghn/8Akyr2h6/HrazqbG70+4g2l7a8CBwrDKv8jMpBGe+eCCARion8RufEUmlWmi6heLAyLcXkTQCGEsNwB3yq5wCCdqnrQBW+w+N/+hh8P/8Aghn/APkyj7D43/6GHw//AOCGf/5Mq5/wlOlnxUnh2KYzagYXmkWMblhC7eHPZjuBC9cc9Khs/FSXOsRWFzpOpaeLjf8AZLi7jjVLnZycAOXU45w6qcUAQ/YfG/8A0MPh/wD8EM//AMmUfYfG/wD0MPh//wAEM/8A8mVa0HxFJrxMkeiajaWbKWhvLloPLnGcAqElZxnqNyjitqgDm/sPjf8A6GHw/wD+CGf/AOTKPsPjf/oYfD//AIIZ/wD5MrpKKAOb+w+N/wDoYfD/AP4IZ/8A5Mo+w+N/+hh8P/8Aghn/APkyukooA5v7D43/AOhh8P8A/ghn/wDkyvP/ABfaeKl+M/w6S51nR5Ltv7T+zSx6RKkcWLdd29DckvkcDDLg8/N0r2SvNvG3/Jdvhh/3Fv8A0mWgDpfsPjf/AKGHw/8A+CGf/wCTKPsPjf8A6GHw/wD+CGf/AOTK0Nc11NEjtwLK61C5upDHBaWgTzJCFLEjeyqAACTlh+ZAqxZapbaho8Wp23mNbyxeaoEZL4xnG0c57Y65oAx/sPjf/oYfD/8A4IZ//kyj7D43/wChh8P/APghn/8AkyiHxraLHetqun6hpDWdt9rMd5GhaWHJG9RG79xjacNkjIpyeMbZNNurrU9Ov9MmtkR2s7lY2mcOdse3y3ZSWb5QN2QeuKAG/YfG/wD0MPh//wAEM/8A8mUfYfG//Qw+H/8AwQz/APyZU0Xiaeaxmki8Paq19A6rLpu62E6BhkPkzCMqR6Oe46gip/DmvjxFYS3S6deWAineApdmIlmQ4Ygxu6kZyMg9QaAKX2Hxv/0MPh//AMEM/wD8mUfYfG//AEMPh/8A8EM//wAmV0lFAHN/YfG//Qw+H/8AwQz/APyZR9h8b/8AQw+H/wDwQz//ACZXSUUAc39h8b/9DD4f/wDBDP8A/Jlc/wCAbPxi3w28NNZ67ocVudJtTFHLoszuq+SuAzC6UMQOpAGfQdK9ErmPh7IkPwn8LyysFRNEtGZj2AgTJoAf9h8b/wDQw+H/APwQz/8AyZR9h8b/APQw+H//AAQz/wDyZVjQPFNv4gkkSOyvLJhEs8Qu1QefC2dsqbWb5Tjo2GHcDNGr+KI9GvBHc6XqMlopQT6hHGnkQFzhc7mDNyRkorYzzigCv9h8b/8AQw+H/wDwQz//ACZR9h8b/wDQw+H/APwQz/8AyZT7vxjZ2mstYtZ3jwxzx2s98ip5ME0gBRGy2/J3LyFKjcMkc4ms/Ecl/rdxY22iai1tbzNBJqJaAQb1AJAHm+YeTj7nX86AK32Hxv8A9DD4f/8ABDP/APJlH2Hxv/0MPh//AMEM/wD8mVNpfi201XV2sYrS8hRjILa7lVBDdeW22TYQxbg/3lXPUZHNb1AHN/YfG/8A0MPh/wD8EM//AMmUfYfG/wD0MPh//wAEM/8A8mV0lFAHN/YfG/8A0MPh/wD8EM//AMmUfYfG/wD0MPh//wAEM/8A8mV0lFAHN/YfG/8A0MPh/wD8EM//AMmUfYfG/wD0MPh//wAEM/8A8mV0lFAHN/YfG/8A0MPh/wD8EM//AMmUfYfG/wD0MPh//wAEM/8A8mV0lFAHN/YfG/8A0MPh/wD8EM//AMmVz/iOz8YjXvCYn13Q3dtWkELJosyhG+w3XLA3R3DbuGARyQc8YPolc34o/wCRi8Gf9hqT/wBN95QAfYfG/wD0MPh//wAEM/8A8mUfYfG//Qw+H/8AwQz/APyZWhrmupokduBZXWoXN1IY4LS0CeZIQpYkb2VQAAScsPzIFW9N1CDVdNt76zLGG4QOm5cEA9iOxHQigDE+w+N/+hh8P/8Aghn/APkyj7D43/6GHw//AOCGf/5Mq2ninT5dX1XTYBcTT6TCktyIoi/3gSEUDJZsL0A7iq9p4uW4hvFm0XVbW+tFjdtPkjjeZ1ckIV8t2TBIIyWG3BLYHNADPsPjf/oYfD//AIIZ/wD5Mo+w+N/+hh8P/wDghn/+TKvaN4gi1ZbtJrO6025smC3FreeXvjBXcrZjZkII5yGPfOKf4f1+y8TaQupaZ5htnkeNGkXaW2MVJA9DjI9qAM77D43/AOhh8P8A/ghn/wDkyj7D43/6GHw//wCCGf8A+TK6SigDm/sPjf8A6GHw/wD+CGf/AOTKPsPjf/oYfD//AIIZ/wD5MrpKKAOb+w+N/wDoYfD/AP4IZ/8A5Mo+w+N/+hh8P/8Aghn/APkyukooA8/8WWniqLS7F9V1nR7m0GtaX5kVtpEsMjf6fBjDtcuBzg/dORxx1HoFc348/wCRdtf+w1pX/pwt66SgCr/y8S/Ufyoo/wCXiX6j+VFMRz2j/wDJUfEH/YI07/0de1xnxDstem8UXWt6Jo91eXWmzWMFkvlMFckyF3BAOVUyLuOCBtOa6EeI9D8P/FHWv7e1nT9M8/SNP8r7bdJD5m2a8zt3EZxkZx6itn/hY/gj/ocvD/8A4NIP/iqQzztNBv8AQPCGtWX9h3F9Fd6jDYyu9vPJmFEXfcNFFiSZGcuSqnBDcnGaradoeq23hVkvNLuk0S68SmS/06z0qWACzVNo8u1Uu4jd1VmQbsgtnvXpv/Cx/BH/AEOXh/8A8GkH/wAVR/wsfwR/0OXh/wD8GkH/AMVQBxVx4TstfvvDOm6VoWq6DoHn3eoXNuUe3A+XYFwrfud/mEhPkbG44BzWX/wiU0d1NYWuiXS+I4tZiNhqTW8nlWVhGylRHclSoTywymMNlmY5ByTXpP8AwsfwR/0OXh//AMGkH/xVH/Cx/BH/AEOXh/8A8GkH/wAVQBy3jbw54tudH1Kyn16bWbPWr+2t4bOHTVi+wQGUGQmRCWYbBjccYx712Nr4a03RrK58hb68VkDGK+v7i9GU+ZdqzO4Bz/dA6D0FV/8AhY/gj/ocvD//AINIP/iqP+Fj+CP+hy8P/wDg0g/+KoAr/DHT7jTvh3pq31tLa3dwHup4ZkKOjyuzkMp5B+bkGrFj/wAlT13/ALAum/8Ao++o/wCFj+CP+hy8P/8Ag0g/+Krn7Px94PX4k6zdN4s0MW8mk2EaSnUodjMs14WUHdgkB1JHbcPUUAXfF4uLPVr6WPT7u8XVNJawg+zWrzbZtzYVyoOxTv8AvNhRtOSO+zqEGpHwu+laN5Z1CK3iiLTs8MZB4bEgRucBugODjIqH/hY/gj/ocvD/AP4NIP8A4qj/AIWP4I/6HLw//wCDSD/4qgDkrPR7t9N1uDxRo15YWCavDPGug3M0km1Io8FSsaSMgKqMxgtnIwME1PJBfPodu9zDrUuhJqrOoeOd9QjtvKIVh1uAfNPUfvAp9M103/Cx/BH/AEOXh/8A8GkH/wAVR/wsfwR/0OXh/wD8GkH/AMVQBza2wt9CstQuodf04wXdwbCfTdP825W3c5CzQ+W5y+Mksm4EAsVbJPVeCtOudK8I2lvfLIlwxkmdJX3MheRn2k9yN2D71D/wsfwR/wBDl4f/APBpB/8AFUf8LH8Ef9Dl4f8A/BpB/wDFUAdJRXN/8LH8Ef8AQ5eH/wDwaQf/ABVH/Cx/BH/Q5eH/APwaQf8AxVAHSUVzf/Cx/BH/AEOXh/8A8GkH/wAVR/wsfwR/0OXh/wD8GkH/AMVQAX3/ACVPQv8AsC6l/wCj7Gm+J5X0zW9J1p7S6ura2WeGZbS1e4kQuqlWCICxGUwSAcbhnjJGDeePvB7fEnRrpfFmhm3j0m/jeUalDsVmmsyqk7sAkIxA77T6Gug/4WP4I/6HLw//AODSD/4qgBNCg1DTPBFlp0MSxat9iZo0lRvKjk6hXZQQMFhx1ODjOKwvC1tr+ieJNYl1LQYlgj063w1lePcNcOrSk7S8UYZyWJbkYJHXPG9/wsfwR/0OXh//AMGkH/xVH/Cx/BH/AEOXh/8A8GkH/wAVQBztvZ6lqM2uy+E7W6Szv1h8wa41xavLJubzQrSxtKi+WQo+XaCflxg1q+BrXVYbHWo9a0q3sM6lK8EcEzyqQQOV3Rp8vHBA59qu/wDCx/BH/Q5eH/8AwaQf/FUf8LH8Ef8AQ5eH/wDwaQf/ABVAE3ga3ntPAejW93DJBNHaIrxyqVZTjoQeQa3q5v8A4WP4I/6HLw//AODSD/4qj/hY/gj/AKHLw/8A+DSD/wCKoA6Siub/AOFj+CP+hy8P/wDg0g/+Ko/4WP4I/wChy8P/APg0g/8AiqAOkorm/wDhY/gj/ocvD/8A4NIP/iqP+Fj+CP8AocvD/wD4NIP/AIqgDpKK5v8A4WP4I/6HLw//AODSD/4qj/hY/gj/AKHLw/8A+DSD/wCKoA6Siub/AOFj+CP+hy8P/wDg0g/+Ko/4WP4I/wChy8P/APg0g/8AiqAD4j/8ks8V/wDYFvP/AEQ9XfFlhPqfhDVLK0QSTzWzrGh6M2OB+PSuS8fePvB958NvEtrZ+LNDnuJtJuo4ootShZ5GMLAKoDZJJOABXQf8LH8Ef9Dl4f8A/BpB/wDFUAV9Aujda1q2vNZXttaSW9vbok9jLHMzJvLERld5AMgGcc4OMjmsjVNPWDxZcS6OviWPXLq+hlDZn+weWAquTt/cFditw/7zPTHy1v8A/Cx/BH/Q5eH/APwaQf8AxVH/AAsfwR/0OXh//wAGkH/xVADr+1lPxA0a5jt5DBHZ3YklWMlVZjFgEjucHHrg1i6Vqy+JPErXmo2es200CTRWFlJpNzCsQIw0jTPGIzIwHHzYAOOSSa2P+Fj+CP8AocvD/wD4NIP/AIqj/hY/gj/ocvD/AP4NIP8A4qgDD8GWC6frVta6CPESafb2bR3y619o2+YCojEYl+XI+fJh/d4/4DXoFc3/AMLH8Ef9Dl4f/wDBpB/8VR/wsfwR/wBDl4f/APBpB/8AFUAdJRXN/wDCx/BH/Q5eH/8AwaQf/FUf8LH8Ef8AQ5eH/wDwaQf/ABVAHSUVzf8AwsfwR/0OXh//AMGkH/xVH/Cx/BH/AEOXh/8A8GkH/wAVQB0lebeNv+S7fDD/ALi3/pMtdL/wsfwR/wBDl4f/APBpB/8AFV5/4v8AGvhW5+M/w6vrbxLo81pZ/wBp/abiO/iaODfbqF3sGwuTwM9TQB6B4okbT9X0bWWtbq5trN5kmW0tnuJEEiYVgiAsRkAHAOM+mTUnhZJtK8K2FpdWswujDJOYEjPy5YtsLfdVvmAwWHf0NR/8LH8Ef9Dl4f8A/BpB/wDFUf8ACx/BH/Q5eH//AAaQf/FUAc+bS317V9Znh0vWzp15prx6jHdRTQzPKGyiQGXBGBvP7s+Xkgjk5qvY6N/aa6zqF/J4j1CxNlBbxTXlt9nvHeORpN8cPlx42Erg7MsQfv8AFdR/wsfwR/0OXh//AMGkH/xVH/Cx/BH/AEOXh/8A8GkH/wAVQBgaXHqkOm+J9btG1i8kuLZILJ9RtjDcTsisN/kiNCg3PgfIuducc5Pb6Rp0Wk6LZ6fAMR20Kxj3wOp9z1rH/wCFj+CP+hy8P/8Ag0g/+Ko/4WP4I/6HLw//AODSD/4qgDpKK5v/AIWP4I/6HLw//wCDSD/4qj/hY/gj/ocvD/8A4NIP/iqAOkorm/8AhY/gj/ocvD//AINIP/iqP+Fj+CP+hy8P/wDg0g/+KoA6SuP8HWr33wS0G0iIDz+HreJSfVrZQP51c/4WP4I/6HLw/wD+DSD/AOKrn/APj7wfZ/Dbw1a3nizQ4LiHSbWOWKXUoVeNhCoKsC2QQRgg0AXfDM8s+pJqE2nX1nFpukJZzCexkjZpQ2WWNSMyAbeCgIOeCad46mF/bjTrfT9XfUlZJtOeGCU2zy5BUylcx7VIyRNjpkDODWj/AMLH8Ef9Dl4f/wDBpB/8VR/wsfwR/wBDl4f/APBpB/8AFUAczf217/wk94DYX8msNqEEtm0dq5sXgHl5d2A8ouAr8ufNGAE421NY2K2Xi+GPQ18TR3r6jLNqH27zzZ+S25mxn/Rzkldvl5f+90eug/4WP4I/6HLw/wD+DSD/AOKo/wCFj+CP+hy8P/8Ag0g/+KoAxPDdvdHVtG06SwuoX0P7V9pmltXjibeSE8uQja+4Hd8pOMc4PFd/XN/8LH8Ef9Dl4f8A/BpB/wDFUf8ACx/BH/Q5eH//AAaQf/FUAdJRXN/8LH8Ef9Dl4f8A/BpB/wDFUf8ACx/BH/Q5eH//AAaQf/FUAdJRXN/8LH8Ef9Dl4f8A/BpB/wDFUf8ACx/BH/Q5eH//AAaQf/FUAdJRXN/8LH8Ef9Dl4f8A/BpB/wDFUf8ACx/BH/Q5eH//AAaQf/FUAdJRXN/8LH8Ef9Dl4f8A/BpB/wDFUf8ACx/BH/Q5eH//AAaQf/FUAdJXN+KP+Ri8Gf8AYak/9N95R/wsfwR/0OXh/wD8GkH/AMVXP+I/H3g+fXvCckHizQ5Et9WkkmZNShIjX7DdLuYhuBuZRk92A70AdB4okbT9X0bWWtbq5trN5kmW0tnuJEEiYVgiAsRkAHAOM+mTR4ehvtO8F2lkkIh1OS3llijljYRxuSWCuyghcFgMdeDjOKP+Fj+CP+hy8P8A/g0g/wDiqP8AhY/gj/ocvD//AINIP/iqAMDwvaeItG8V6nJqWhQCBdMhzJZXrztcSh5WO0vDGrOxZiRkYyvXPCWmqtpl9r/iDRtI125spLeImC7s7nzprrcRhFkUyiNVIyFBQc7RndnoP+Fj+CP+hy8P/wDg0g/+Ko/4WP4I/wChy8P/APg0g/8AiqAMKztb7VdBvX0pHvtSvrpH1P8Ata2utMjljAx5UfmQlggAC8KeC2Tk1rfDuHVrfw9cx65p8VhL/aFy6Rxyu+VaVjn5o04yTjg5GDxnAn/4WP4I/wChy8P/APg0g/8AiqP+Fj+CP+hy8P8A/g0g/wDiqAOkorm/+Fj+CP8AocvD/wD4NIP/AIqj/hY/gj/ocvD/AP4NIP8A4qgDpKK5v/hY/gj/AKHLw/8A+DSD/wCKo/4WP4I/6HLw/wD+DSD/AOKoA6Siub/4WP4I/wChy8P/APg0g/8AiqP+Fj+CP+hy8P8A/g0g/wDiqADx5/yLtr/2GtK/9OFvXSV5/wCLPGvhXV9LsbHSvEuj313LrWl+Xb21/FJI+L+AnCqxJwAT9BXoFAFX/l4l+o/lRR/y8S/UfyopiOe0f/kqPiD/ALBGnf8Ao69rq65TR/8AkqPiD/sEad/6Ova5zxbq9rcfFaHS7+58QfYbHSTNLbaL9ty8skmEL/ZeeAjY3HHJpDPTqK8r0Lxh4i0GHTfD8+g6jrGqXsdzeW8d1eKstvbCYCJZ3cHnY2SWJYbcfMatWPxn0q98RW1ltsRaXVzNao8eoq9zG0asxeS325SM7GAbcT0yozQB6VRXIaT4y1LUtP8A7Zl0AW+hS2kl1b3n2wGXYoyvmQlRs3DkbS+O+K5W1+JkmgaRoVj9jM9/qlgdRVdc1nymkLtnyI52i2O43ABW2DG0ZoA9ZorzzV/GqaV4xv5p7XUnaws7W3js47oGOe5uXO1DGBgONoy+4gAnA45s3vxFuNI0nxC2r6NGmq6JFFIbO2vDLHcCX/VhZTGpBJ4OU496AO6rm7H/AJKnrv8A2BdN/wDR99TPD/i271bxRqWiajo/2CaytoLkOtx5wKy7sK3ygK428gFh6Gn2P/JU9d/7Aum/+j76gDpKK4fxebm81e9ij1G6sk0vSGvoBbXTw7ptzbWfaRvUeXja2VO45BrS8Tazc23gH7fA7wz3KQJ5kIy0fmuillGDlgGOOOuKAOmorzea8W20K50uzm1+zuje28cmn6hfGW6dHPKwzq7keYqthvMAUg8x8kaOknVpfB+pW1hqclnd29zIoF9m6uLKLaG8tmLfPIAeHLOvI5cDkA7eiuMt7WfWvhro11cy6xeTLYRStBp1+baa5kKDky70Oc5PLgHvnitnwdeTX3g/Tpru6+1XPkhJ5SMEyKdrAjA5BBB4HIoA2qKKKACiiigDm77/AJKnoX/YF1L/ANH2NdJXN33/ACVPQv8AsC6l/wCj7GmeKIn1PXNI0Vry6tLW5WeaZrS5e3kfYoCqHQhgMvk4PO3njigDp6K5Wz167i+FZ1qVxNdwac8pdujuin5jgdyM9KwbPUP7K0PVVF/rlhqLaY1zHNrM5njmOMfaI1BkKfMwHlgLjI/d9KAPSKK4Lw9Z3F1Lquk3F5rWnxSQQyraXF+0l2Mlg7rMWcqj7QAFfcvP+rJFTeG31WbR9a061u7nT7q2u9sMeqk3c9pCyqRl958wn5mU72AyAc4K0AdvRWB4FuLi78BaLPe3ElzcSWiNJNK2WkbHJJ9a36ACiiigAooooAKKKKACiiigDm/iP/ySzxX/ANgW8/8ARD10lc38R/8Aklniv/sC3n/oh6ueLb+fTPB+q3tm4juIbV2jduitjg/h1oA2KK5fwzHJpuv6nowvLq7t4be3uEa7unnkVpN4YbnJbBKAgZwMnGBxVLXNDivPG2mwWd5rEE8rG+u3i1e6WJYoyoCCISeWN7FRjbjAbvzQB2tFFFABRRRQAUUUUAFFFFABXm3jb/ku3ww/7i3/AKTLXpNebeNv+S7fDD/uLf8ApMtAHpNFc14ojfUdX0bRjd3NrbXjzPO1pcvBI4jTIUOhDDkgnBGduOmRTNK1q6T4ZnVZ3+0XVtaTMXY58xo9wDE++3P40AdRRXmNtqz6P4d1KaO412HVJNKa7jk1a4EsN0cDM8alm8rBYfJiPAI+T0uXM1zoNn4h0u11e5CxWtrLBPd3MtxIkkzMjKGO5/mKjaOcFuMCgD0KiuD0O1Fxaavp+p6hq+l2kEkc5tLrU3N1bxFMnfch2bYzKTlJDjBG4cqNnwQ9xJocrvJdS2bXUh097x2eVrfjYWZyWOeSCxJIIzQB0dFFFABRRRQAVzfw4/5JZ4U/7Atn/wCiErpK4/wddPY/BLQbuIAvB4et5VB9VtlI/lQB2FFcX4RW4sNYhtJNRur1b7SY76U3N082Jt2GZNxOxW3fdXCjHAFUNd1Pf4s1KW/bXks9I8lRNplz5cNoGUO00qblEucgbSsmAudozkgHodFcV4ht/s/iHTpdL1TUptZvLqN47cXkhgS2UjzS0IIjCbc/OyltzDBzis7QNYF54hi1HUW16FrrULi1iuBcf6ASjui2/kluDhM+Z5Yy3AfnBAPRqK5XTX1VPiVqEGo6j9ot209JYLaOPZHCPNYdMksxAGWP4ACuqoAKKKKACiiigAooooAKKKKACub8Uf8AIxeDP+w1J/6b7yukrm/FH/IxeDP+w1J/6b7ygDpKK5rxRG+o6vo2jG7ubW2vHmedrS5eCRxGmQodCGHJBOCM7cdMimaVrV0nwzOqzv8AaLq2tJmLsc+Y0e4Biffbn8aAOoorg/CbLI7WUt54jtb6+sfOE1/crItznG6eFWZ/KILD5NqABh8nHDtEvj4d1fXbS6OqR2ttDFLa2upXbXU05JZTJHIzudrttUIWyD1VcjIB3VFeXnVNZTTdTs9SvL2W4uvECWj/AGKQrJHG0KSGGFsjZ/cDArjJbIPNdj4QuIJdLmggOpo9rO0UttqkwmntmwDsMm5t4wQQS78N17AA36KKKACiiigAooooA5vx5/yLtr/2GtK/9OFvXSVzfjz/AJF21/7DWlf+nC3rpKAKv/LxL9R/Kij/AJeJfqP5UUxHPaP/AMlR8Qf9gjTv/R17WtZeHrOw8R6nrcTSPeaksSSlyCFWMEKq4GQOSeSeTXLifXIfijrX9g6dp97nSNP837bfvbbP315jbthk3Z5znGMDrnjZ+3eN/wDoXvD/AP4Pp/8A5DpDNGPQbWPxRca9vle6ntUtNjEbERWZvlGM5Jbnk9B0rM03wLY6XNIkOoak+nN5pj0t5wLeLzSS+Aqh2BycB2YLngDjDvt3jf8A6F7w/wD+D6f/AOQ6Pt3jf/oXvD//AIPp/wD5DoAqWvw7tbbQ7rSDrutzWc1kbCGOS4TFrCRjCBUAZgON0gduOvXK3/w8s9QhNpLrGrLpbxQxTaZ5sbwSCPGPvxsyZwM+Wy5xnrzVr7d43/6F7w//AOD6f/5Do+3eN/8AoXvD/wD4Pp//AJDoAivfh9pN9/arSz3iy6lcwXXnJIoa1khAEZi+XjG3OG3A5Ocg4qJ/hzplxptzb3t9qF1cXt5DeXd9K8YmuGiZWRG2oFCDaBtVV4z3JNWvt3jf/oXvD/8A4Pp//kOj7d43/wChe8P/APg+n/8AkOgDQ07QLbTdb1XVYpZpbnVHjaXzSCECLtVVwBgdTzk5J5rPsf8Akqeu/wDYF03/ANH31H27xv8A9C94f/8AB9P/APIdc/Z3njH/AIWTrLLoWhm4Ok2AeM61MEVfOvNpDfZckklsjAxgcnJAAOo17wrb69Oksl9e2TeUYJxaOi/aYSQTE+5W446rtYZOCM1dvdIg1CzntLmSU20qIqxKQoiKnIZCBkHODyT90YxznK+3eN/+he8P/wDg+n/+Q6Pt3jf/AKF7w/8A+D6f/wCQ6AA+CreSylW61XUbnUJJkmGqO0QuI3T7m0LGIwACRjZg7jkHNaGmaBBplhc2/wBouLqW8Znubqcr5szkBdx2qFHAAAVQBjpWf9u8b/8AQveH/wDwfT//ACHR9u8b/wDQveH/APwfT/8AyHQBYfwxs0TT9O03WNS03+z4lhintnjLsgULhldGRug525HbFaOlaZb6NpcFhZBvJhXALtuZjnJYnuSSST6msb7d43/6F7w//wCD6f8A+Q6Pt3jf/oXvD/8A4Pp//kOgDpKK5v7d43/6F7w//wCD6f8A+Q6Pt3jf/oXvD/8A4Pp//kOgDpKK5v7d43/6F7w//wCD6f8A+Q6Pt3jf/oXvD/8A4Pp//kOgAvv+Sp6F/wBgXUv/AEfY1f1zQV1uOApf3enXNuxaG7sygkQMNrD51ZSCPVT0BGCAa5C8vPGP/CydGZtC0MXA0m/CRjWpijL51nuJb7LkEELgYOcnkYAPQfbvG/8A0L3h/wD8H0//AMh0AacOiWsGmQ6bGX/s+K2NsbYkFZFIA+Ykbs4B6EdTnPGM2HwVZG3u4dSvr7VFuLc2qG7kQGCHrsQoqnqAdzZY4GWOKT7d43/6F7w//wCD6f8A+Q6Pt3jf/oXvD/8A4Pp//kOgBbfwcsUFyZtc1a5v540iGovLGk0SocqFCIqYBJJyh3Zw24cVe0bQI9Hhut15dX91eSeZcXd2U8yU4CjhFVQAoAAVQPxJJofbvG//AEL3h/8A8H0//wAh0fbvG/8A0L3h/wD8H0//AMh0Aa+j6XBomi2mmWjSPDaxCJGlILED1wAM/hV2ub+3eN/+he8P/wDg+n/+Q6Pt3jf/AKF7w/8A+D6f/wCQ6AOkorm/t3jf/oXvD/8A4Pp//kOj7d43/wChe8P/APg+n/8AkOgDpKK5v7d43/6F7w//AOD6f/5Do+3eN/8AoXvD/wD4Pp//AJDoA6Siub+3eN/+he8P/wDg+n/+Q6Pt3jf/AKF7w/8A+D6f/wCQ6AOkorm/t3jf/oXvD/8A4Pp//kOj7d43/wChe8P/APg+n/8AkOgA+I//ACSzxX/2Bbz/ANEPW7fWUGo6fPZXab4LiNo5FzjKkYNcF4+vPGLfDbxKt5oWhxW50m6EskWtTO6r5LZKqbVQxA6AkZ9R1roPt3jf/oXvD/8A4Pp//kOgC3pXhwaVBc7dUv7q7udoe9uDE0oVRhVGECYAz/D3JOSc1cj0qGPXJtVDyNPNbpblSRtVVZm44zklueewrI+3eN/+he8P/wDg+n/+Q6Pt3jf/AKF7w/8A+D6f/wCQ6AOkorm/t3jf/oXvD/8A4Pp//kOj7d43/wChe8P/APg+n/8AkOgDpKK5v7d43/6F7w//AOD6f/5Do+3eN/8AoXvD/wD4Pp//AJDoA6Siub+3eN/+he8P/wDg+n/+Q6Pt3jf/AKF7w/8A+D6f/wCQ6AOkorm/t3jf/oXvD/8A4Pp//kOj7d43/wChe8P/APg+n/8AkOgDpK828bf8l2+GH/cW/wDSZa6X7d43/wChe8P/APg+n/8AkOvP/F934qb4z/Dp7nRtHju1/tP7NFHq8rxy5t13b3NsCmByMK2Tx8vWgD1DXNDXWooNt9d6dc2zl4buzKeZGSCrD51ZSCCQQVPr1ANPtdFtrTTYNOhaT7FFbmA27EMJQQBliRuJ69CM7jnPGMz7d43/AOhe8P8A/g+n/wDkOj7d43/6F7w//wCD6f8A+Q6AHWngyzhjuI729vtTjltms4lu3Q/Z4D1jQoqk9B8zFm+UZaiLwZZ/2Xe2d9fX2oSXmzfeXLoJl2f6vaUVVGwjI465Jzk037d43/6F7w//AOD6f/5Do+3eN/8AoXvD/wD4Pp//AJDoAr3fgCG+sJYbrXdWku55opZr8/ZzLKI87I2XyvK2Aknbs5PJzW/pdjcafaGG71W71R9xPn3aQq4HpiJEXH4Z96yPt3jf/oXvD/8A4Pp//kOj7d43/wChe8P/APg+n/8AkOgDpKK5v7d43/6F7w//AOD6f/5Do+3eN/8AoXvD/wD4Pp//AJDoA6Siub+3eN/+he8P/wDg+n/+Q6Pt3jf/AKF7w/8A+D6f/wCQ6AOkrmPh7Gk3wn8LxSqGR9EtFZT3BgTIp/27xv8A9C94f/8AB9P/APIdc/4BvPGK/Dbw0tnoWhy240m1EUkutTI7L5K4LKLVgpI6gE49T1oA6bR/CkWjLcGHVNQuJZIRbwzXDRs1rEudqJhACBnOXDE8ZJxRqfhK21S9ed7+9t47hVS9toWQR3qr0EmULDjjKFCRwcgDEP27xv8A9C94f/8AB9P/APIdH27xv/0L3h//AMH0/wD8h0AJH4Okt/EV3q1p4k1e3a8lSSa3VLVoyqgARgvCXCYzwG4ySME5qeLwlbQ6wl2t7em2ima5i04sn2eOZs5kHy78/MxwXKgkkLnGIft3jf8A6F7w/wD+D6f/AOQ6Pt3jf/oXvD//AIPp/wD5DoA110qBdefVg0n2h7ZbYrkbdoYtnGM5yfWrtc39u8b/APQveH//AAfT/wDyHR9u8b/9C94f/wDB9P8A/IdAHSUVzf27xv8A9C94f/8AB9P/APIdH27xv/0L3h//AMH0/wD8h0AdJRXN/bvG/wD0L3h//wAH0/8A8h0fbvG//QveH/8AwfT/APyHQB0lFc39u8b/APQveH//AAfT/wDyHR9u8b/9C94f/wDB9P8A/IdAHSUVzf27xv8A9C94f/8AB9P/APIdH27xv/0L3h//AMH0/wD8h0AdJXN+KP8AkYvBn/Yak/8ATfeUfbvG/wD0L3h//wAH0/8A8h1z/iO88YnXvCZn0LQ0ddWkMKprUzB2+w3XDE2o2jbuOQDyAMc5AB2GuaGutRQbb67065tnLw3dmU8yMkFWHzqykEEggqfXqAafbaLbWmmwadC0n2KGAwNAxDCVSMZYkbievQjOTnNZn27xv/0L3h//AMH0/wD8h0fbvG//AEL3h/8A8H0//wAh0ASWHhGCzMpl1PUrwtbm1t2mmVWtIT/BG0aq3ZfmYs/yjLGm2vguw23f9vTzeI3u0SKRtXjhkHlocqmxI1TGSTnbkk8ngYb9u8b/APQveH//AAfT/wDyHR9u8b/9C94f/wDB9P8A/IdAEVp8OvD2m299Ho1qulveXK3Sy2UUcTW8iqApjwmMDBO1gw+ZsggkVs6PpEej2ska3E93NNIZZ7m4K+ZM5AG5toVRwAMKAAB0rL+3eN/+he8P/wDg+n/+Q6Pt3jf/AKF7w/8A+D6f/wCQ6AOkorm/t3jf/oXvD/8A4Pp//kOj7d43/wChe8P/APg+n/8AkOgDpKK5v7d43/6F7w//AOD6f/5Do+3eN/8AoXvD/wD4Pp//AJDoA6Siub+3eN/+he8P/wDg+n/+Q6Pt3jf/AKF7w/8A+D6f/wCQ6ADx5/yLtr/2GtK/9OFvXSV5/wCLLvxVLpdimq6No9taHWtL8yW21eWaRf8AT4MYRrZAecD7wwOeeh9AoAq/8vEv1H8qKP8Al4l+o/lRTEc9o/8AyVHxB/2CNO/9HXtaOs+LtI0HUrbT7+S6e8uo3lit7SwnunZFIDNiJGIALDk+tZ2j/wDJUfEH/YI07/0de1zOrt4mv/itrt74VfThLomjxQRJf2zyrNLIWkKApIpQ4VOcN16UhnoWja3Ya/Ym70uZpYlkaJxJE8TxupwVZHAZSPQgGr9eEPqs9r4d8O3dtfGLS9ba51DV7y91N9LH2vA/ctNCjNHg7gEHJ2YJPfVGs3MNt4dsvHfiKew0t9LluXvILm4tZLybeBHH5hEcpZUOdmAznkg0AexVkan4q0XR5ruLUr5YHsrQ3twCjHy4c43EgeoPHU+leReP/E01pHLpWlarqn27TtMh+zz6hrD2Es0kpwkywRxhrhhxu8zag5GM5qXxIs+o6h4o3Bp7i7u9K0EuBgPyJJce37xicUAe2RSpPCksZykihlJBGQeehp9IqhECqMBRgCloAK5ux/5Knrv/AGBdN/8AR99XSVzdj/yVPXf+wLpv/o++oAv6z4m0rQJII9VuHiafJUJBJLtUEAu+xTsQEjLthRnk1evL23sLGW8vJlit4ULvI3QCuI8a31npWtai+pyRxDUdEa0st7YM825sxJ6ud6YUcnsODWj4mlEPw/ns3SK5ngt7cXURYsYULKGkIUhvlAZu2dtAGhH4z0OTSp9Q+0zRxW8iwyRS2c0c4dsbU8hkEhZsjAC5OeM1M3inSU0ZdTM83kO/lLGLWUzmT+55O3zN/wDs7c8dK4SOXT7q31G/g8Swy29pd2tzD4nnRZopJgrIUl8vZGUUYBKbAN/JDZJrrdStpq6tqerQx6fd66Zk16OMRR26i32CaMOWVUZ1KqZN64YH5sg0Ad9L4x0WPR7XUhPcTW93IYoVt7KaaVnGcr5SIXDDa2QVBGDnFa1ndR31nFcwrKscqhlE0LxOB7o4DKfYgGvMo5NPOkabfXPik+HLK3v7yS21NY4wt+HJAl82dWjUtuYjj5uSmF6d54VvbzUfDFndalzPIp/eeWU81NxCSbf4Sy4bHbNAGvRRRQAUUUUAc3ff8lT0L/sC6l/6Psa2tT1Oy0bTLjUdVuY7Wzt0LyzSHCoBWLff8lT0L/sC6l/6PsaT4g2FpeeBdXku7aKd7aynlhMiBvLfy2G5c9DyeaAOiWaNoBMGHlld4Y8DGM5rN0XxLpfiETHSp5JPJ2lhJbyQkq3KuodQWQ4OHGVODgnFV9S/0nwdNp9vIn2250yQQQ7wHf8Ad44HU8sPzFY3g/UbHWfEJutGmjntbXSLe1maJsiOUMx8o+jqOqnkZGQM0AdtRRRQAUUUUAFFFFABRRRQAUUUUAFFFFAHN/Ef/klniv8A7At5/wCiHroZ54ra3knuJFjiiUu7scBVAySa574j/wDJLPFf/YFvP/RD1Z8aW0t34I1iC3jaWSS0kCxrnL8dBj1oAtaNr2n6/byS6ZLIwiYK6zW8kLqSMjKSKrYIIIOMEdKhfxTpEeuHSWuJPtSsqOVt5DEjsMqjShfLVzkYUsGORxyKxvDurabqHiDWNasL23k0r7Lawfa1lHleYvmFl3dMjeoPoeDyK5/xCjQ69e6No3iKE3Oo6lbXLaQbX/SkYNGXkVy3+p2pkkoecgOOgAPRJNXsItZh0l7qMahPC08dvnLmNSAWx2GSBzVOw8V6PqeptYWdzI04DMhe3kjjmCnDGORlCSAHrsJxWVd2Fpa/FLSbi2tooprqzu3nkRAGlIMIBY9TgcDNZt7qdnrPjqy/sTVf7SuUiuILjTztB04bDmQqAHRmZVX95nIPygc5AOq0nxLpWuXE8Gm3DyyQcsHgkjDrkjchZQHXII3Lke9atee+Cbm2vtU0WPT3RzpWiG0v0R8m2mLR4icdm+Rzg8/mK9CoAKKKKACiiigArzbxt/yXb4Yf9xb/ANJlr0mvNvG3/Jdvhh/3Fv8A0mWgDudZ1yw0G0S41KSVVkfy0SC3knkdsE4WONWZuAScDgAk1Ztr22u7GO9tpkktpYxIkoPylSM5z9K53xXfWej67oOravcRWmn27zpLczvsjiZ48KWJ4GcEDPcgdTUWgyNa/DqGDyVkvJbKeaCxkYh5VJLBcHDYwyg+mRQBp6f4w0PUkuXtrxkS1i86RriCSAGLn96pkVd8fH31yvvTrPxbot7Y3l3HdSQxWKb7gXVtLbvGuMhtkiq20gHBAwccZrzm1urebRbxNHmj8TBdBeKdcFhYEbQLbEZDAfeOxiZfk5Y8YsNPa6hputy6TqA8R2aWtpLNqcZV8iOYs0GYwEIVMnaBuGfmLEigDvY/F2jSaHNq6z3AtYJBFKr2cyzI5IAQwlPM3HcuBtycgjg1f0zU4NWsxdWsd1HGWK7bq0ltn4/2JVVse+K8/vJ9N1231nVIPES6bo8uqWsker26rLETCiliHYGNRuAXewKgrjrXU+C9SuNT0y6eTUP7VtY7po7PUiqA3cQAO/5AEOGLLuUAHbkUAdFRRRQAUUUUAFc38OP+SWeFP+wLZ/8AohK6Sua+HQDfCrwqD0Oi2YP/AH4SgDZs9XsNRvL21sbqOeaxkEVyqHPlORu2k9M4I47VVv8AxPpOm6vBpt5cul1Pt2hYJHRNx2rvdVKx7iMDcRk8DNY/hqCw0XXvFMcEdvYWVvLA2FAjjjXyASfQDqSaxfE91bQ6tr2nSyxrqGsiy/s6Ivh7kAgHYO+0gscdAcnAoA9IooooAKKKKACiiigAooooAKKKKACiiigArm/FH/IxeDP+w1J/6b7yukrm/FH/ACMXgz/sNSf+m+8oA1NZ1yw0G0S41KSVVkfy0SC3knkdsE4WONWZuAScDgAk1Zt762utPjvoJ43tZIxKswb5ShGd2fTFc74rvrPR9d0HVtXuIrTT7d50luZ32RxM8eFLE8DOCBnuQOppnh6C3l+HttpmpM0P220mIhyfNMTEn5VPzEhXXtxkUAammeK9H1aGeW0unWOCPzXe5t5IAY/+eimRV3px99cr71HaeMdEvLK+uormaOOwj824W4tJYXWPBIcI6hmUgHDKCDg4JxXn8Vzd6il81hqln4qtdN0Ge2ZbS1aNCzbNkUm12JlwjFgpUjj5VJ5mifTtWstahsvEf26zk06CK412OJZzaESH9wQg2YVWJ5G5QcyFhigDvI/FulPo8+pv9ut7aBgjfatNuIHZjjASN4w7kkgDaDk8dav6ZqdprGnx3unyGSCTIBZGRlIOCrKwDKwIIIIBB61542s/aLQ3L66uvaBpeqWsx1h/KCgfN5gLxKsbLGShLAADJBPyk11fgqVLvT9QvrZhJaXuozz20qtlZIyQA6nupIJBHBByKAOjooooAKKKKACiiigDm/Hn/Iu2v/Ya0r/04W9dJXN+PP8AkXbX/sNaV/6cLeukoAq/8vEv1H8qKP8Al4l+o/lRTEc9o/8AyVHxB/2CNO/9HXtdXXBDQbTW/ijrX22bUIvJ0jT9v2LUri0zma8zu8l13dOM5xzjqa2f+ED0j/n88Qf+FHqH/wAfpDOkorm/+ED0j/n88Qf+FHqH/wAfo/4QPSP+fzxB/wCFHqH/AMfoA6Siub/4QPSP+fzxB/4Ueof/AB+j/hA9I/5/PEH/AIUeof8Ax+gDpKK5v/hA9I/5/PEH/hR6h/8AH6P+ED0j/n88Qf8AhR6h/wDH6AOkrm7H/kqeu/8AYF03/wBH31H/AAgekf8AP54g/wDCj1D/AOP1z9n4K0tviTrNubrXNkek2DgjX74OS014Dl/O3EfKMAnA5IA3HIB6JRXN/wDCB6R/z+eIP/Cj1D/4/R/wgekf8/niD/wo9Q/+P0AdJRXN/wDCB6R/z+eIP/Cj1D/4/R/wgekf8/niD/wo9Q/+P0AdJRXN/wDCB6R/z+eIP/Cj1D/4/R/wgekf8/niD/wo9Q/+P0AdJRXN/wDCB6R/z+eIP/Cj1D/4/R/wgekf8/niD/wo9Q/+P0AdJRXN/wDCB6R/z+eIP/Cj1D/4/R/wgekf8/niD/wo9Q/+P0AF9/yVPQv+wLqX/o+xrpK87vPBWlr8SdGtxda5sk0m/ck6/fFwVmswMP524D5jkA4PBIO0Y6D/AIQPSP8An88Qf+FHqH/x+gDpKK5v/hA9I/5/PEH/AIUeof8Ax+j/AIQPSP8An88Qf+FHqH/x+gDpKK5v/hA9I/5/PEH/AIUeof8Ax+j/AIQPSP8An88Qf+FHqH/x+gDpKK5v/hA9I/5/PEH/AIUeof8Ax+j/AIQPSP8An88Qf+FHqH/x+gDpKK5v/hA9I/5/PEH/AIUeof8Ax+j/AIQPSP8An88Qf+FHqH/x+gDpKK5v/hA9I/5/PEH/AIUeof8Ax+j/AIQPSP8An88Qf+FHqH/x+gDpKK5v/hA9I/5/PEH/AIUeof8Ax+j/AIQPSP8An88Qf+FHqH/x+gDpKK5v/hA9I/5/PEH/AIUeof8Ax+j/AIQPSP8An88Qf+FHqH/x+gA+I/8AySzxX/2Bbz/0Q9dJXnfj7wVpdr8NvEtxFda4zw6TdOol1++kQkQsRuRpirD1BBB6EV0H/CB6R/z+eIP/AAo9Q/8Aj9AHSUVzf/CB6R/z+eIP/Cj1D/4/R/wgekf8/niD/wAKPUP/AI/QB0lFc3/wgekf8/niD/wo9Q/+P0f8IHpH/P54g/8ACj1D/wCP0AdJRXN/8IHpH/P54g/8KPUP/j9H/CB6R/z+eIP/AAo9Q/8Aj9AHSUVzf/CB6R/z+eIP/Cj1D/4/R/wgekf8/niD/wAKPUP/AI/QB0lFc3/wgekf8/niD/wo9Q/+P0f8IHpH/P54g/8ACj1D/wCP0AdJXm3jb/ku3ww/7i3/AKTLXS/8IHpH/P54g/8ACj1D/wCP15/4v8Jadb/Gf4dWkdzrBiuv7T8xpNbvHkXbbqRskaUtH77SMjg5FAHslFc3/wAIHpH/AD+eIP8Awo9Q/wDj9H/CB6R/z+eIP/Cj1D/4/QB0lFc3/wAIHpH/AD+eIP8Awo9Q/wDj9H/CB6R/z+eIP/Cj1D/4/QB0lFc3/wAIHpH/AD+eIP8Awo9Q/wDj9H/CB6R/z+eIP/Cj1D/4/QB0lFc3/wAIHpH/AD+eIP8Awo9Q/wDj9H/CB6R/z+eIP/Cj1D/4/QB0lFc3/wAIHpH/AD+eIP8Awo9Q/wDj9H/CB6R/z+eIP/Cj1D/4/QB0lc38OP8AklnhT/sC2f8A6ISj/hA9I/5/PEH/AIUeof8Ax+uf8A+CtLuvht4auJbrXFebSbV2EWv30aAmFSdqLMFUegAAHQCgD0Siub/4QPSP+fzxB/4Ueof/AB+j/hA9I/5/PEH/AIUeof8Ax+gDpKK5v/hA9I/5/PEH/hR6h/8AH6P+ED0j/n88Qf8AhR6h/wDH6AOkorm/+ED0j/n88Qf+FHqH/wAfo/4QPSP+fzxB/wCFHqH/AMfoA6Siub/4QPSP+fzxB/4Ueof/AB+j/hA9I/5/PEH/AIUeof8Ax+gDpKK5v/hA9I/5/PEH/hR6h/8AH6P+ED0j/n88Qf8AhR6h/wDH6AOkorm/+ED0j/n88Qf+FHqH/wAfo/4QPSP+fzxB/wCFHqH/AMfoA6Siub/4QPSP+fzxB/4Ueof/AB+j/hA9I/5/PEH/AIUeof8Ax+gDpK5vxR/yMXgz/sNSf+m+8o/4QPSP+fzxB/4Ueof/AB+uf8R+CtLh17wmiXWuETatIjF9fvmIH2G6b5SZiVOVHK4OMjOCQQD0Siub/wCED0j/AJ/PEH/hR6h/8fo/4QPSP+fzxB/4Ueof/H6AOkorm/8AhA9I/wCfzxB/4Ueof/H6P+ED0j/n88Qf+FHqH/x+gDpKK5v/AIQPSP8An88Qf+FHqH/x+j/hA9I/5/PEH/hR6h/8foA6Siub/wCED0j/AJ/PEH/hR6h/8fo/4QPSP+fzxB/4Ueof/H6AOkorm/8AhA9I/wCfzxB/4Ueof/H6P+ED0j/n88Qf+FHqH/x+gDpKK5v/AIQPSP8An88Qf+FHqH/x+j/hA9I/5/PEH/hR6h/8foAPHn/Iu2v/AGGtK/8AThb10lef+LPCWnaZpdjd21zrDyx61pe1bnW7y4jOb+AcxySsp69wcHnqK9AoAq/8vEv1H8qKP+XiX6j+VFMRz2j/APJUfEH/AGCNO/8AR17TfiH4rv8AwxoUY0C1hvdbvHKWdvMGKHapd3baQdqqpPUc4HenaP8A8lR8Qf8AYI07/wBHXtVL/wAE6prXjS61y81yfTUit/senR6eIZCIm5kZ/OhbDMwAwvZRzSGaNr420xfCOja1qUxQ6rDG0MNtDJNJK7JuKxxoGdsDJ4BwBk1LL458PRaRZ6kL2SaC+BNutvayzSyBfvfukUuNuPmyvy98Vyun+BvEmh2Xhaawk02+vtBs7iy8i5uJIoWV8bJAyxsdyhVGNo4JGR31dR8P+KB4h0/xBYNo97qcWmvYzrcGWCGN2ZWMkYAkYjIwUJGQB8woA3LXxbod9JbpZ6gkxubI38RRWKtADjfuxgdeh59qoy/EfwpBHYvPqyx/2hDHNaq0EgaVZGCJhducknpjPU4wCa5/X/Bvi2+1XXrnT7rSTJq+jx6et3K8sZtmXdv2xBWBVi2cl8j0bHOpo/gaTS/E15qyywCRdJg0zTnxva3VAdzEEAcsVOAeQo6UAatj438P6lqp060vmaf95sZ7eVIpfLOH8uVlCPt77WOKqR/EnwrJbXlyupSCCztmu3lezmVZIFODJESmJUz/ABR7h09a4+x+GHiS8uxP4k1VXn/su6tHuV1O4uS9xNgecsTqqRDGRsTAGcc8Y2b0X+i/DvU7bxvPoemaRDpf2OEW8zuWbYV3F3VAM8ARhSc/xHpQB10PiDS7jWhpMF0JL42q3flKjHETHCsTjAyegJycGs2x/wCSp67/ANgXTf8A0ffVh/B/w9qOmeEV1bxHuOt6sqSXAdcGGNVCxRAdgFHT1Jrcsf8Akqeu/wDYF03/ANH31AEPifX9XstQlt9DS0xY2LahdG6id/NQNgRJtZdrEK/zHcBgfKa0ta13+zvC7arbRrI8iR+RHISqs8hCoGIHAywyfTNZvifQdXvb6WfQ2s/9OsW0+6+1SunlISSJE2q25hub5Ttzx8w73da0B9W8Oy6MFhWCNITbvIxfc0bBgHXA+XKqOCcgnp3AIND8QPJoN3qOpavo+rW9uTi80fOxiByhTe+GB44c5z0HSqeneIdc1fwYdT3aXo9ylzOlxLfBpIrWOORlJKh13HCgE71HU9sFF8I6jqst3fatef2Le3E0EgTSJVnVfJDBSWmhw5JbPMYxtX0zS6FoHiTwv4dlt7O+t9Yu2v5rgpqEgiVo3djgSRRDa3IY5RhnIGBggAzrrx9cJ4Y0O8m1TRNHk1OeSP7ffgtatGgYiRAZUOH2qVBfo3eu4055ZdNt5Li6t7uR4wzT20ZSKTI+8qlmwD/vH61zFjoOuaRp8VxaWWiXmpPcXFxLDNI8SQNM2SIphGxAHQ/uxvzn5eh2/DWkPofh+2sJXR5E3O5jBCBmYsQoPRQWwB6AUAatFFFABRRRQBzd9/yVPQv+wLqX/o+xqbxFqWqQ3lhpmgG1jvb3zH8+8haWONI1ycorKSSSo+8MZJ56VDff8lT0L/sC6l/6Psam8Rabqk15YanoK2kt7Z+Ynk3kzxRyJIoB+dVYggqp+6c4I46gAfaeI0l8Er4huYTGq2huJYlydpVSWUcc8gisjSfE2rT6Pql49xousz2luZPsWkM3m282Cfs7jc+49t2FJI+5WlB4cdPByeG5XSSCSxe3nuQxDb2GCVXByCSx5YYwOueMaTwbqmrWd5FqY0+wb+yzplt9id5VkTIO+RSqYHygeWN2AW+Y5oAn0PxBrusWeox2l1o19JCsZg1OCKRLVWYkOjLvYs0eMkBxnIB2dam0PxTf6h4dvryOC31ua1uWt4J9MIjhvMAfOu92CqCSrfM33TjPSkstK8Sx3V7rDw6Ra6i9rFbRWUU8kkDiNi2Xk2IwJ3FRhDt6/N0q74e0jULaXVb/AFdLSC81OYO1vZyNJFEFQIPnZVLMQMk7R2HOMkAteFdVuNc8J6Zql5HHFcXduksiRElVYjkDPOK1qyfC2lz6J4V03TLto3mtbdYnaIkqSB2yAcfhWtQAUUUUAFFFFABRRRQAUUUUAc38R/8Aklniv/sC3n/oh61Ne1T+xfD99qXlGb7LA0ojH8ZA4H4msv4j/wDJLPFf/YFvP/RD1q67pg1rQL7TTIYvtUDRCQfwkjg/nQBn+HtU1Sa/vdM142sl5bRxTiW0heKNkkDYG1mY5BRhnPPBwOlZz+Kru48YnTrTUtEtYo7n7Otjesy3V6QoaRojvGAu7psfO08rnIvaLpus29zf6rqkVj/aNzHFClvb3LtEEjzgl2QHJLscbeOBk9azr3wheyaje29rFp/9nalqMWo3Fy7stxE6bPlVApDZ8sYcupXPQ45ALF5e+J7fxhY6fb6jpM9tdO8skH9mSrJDbL1Yy+eQWyVUfJySeODSWuvaxH4z/sa8n0i7eW3knNpZh1lsQCNhlcsdwfOAdicg4DYNa9rpc0firUNVuGjZJreG3twp+ZVUszZ44yzep6CsqXS/EWoa7Z3Wox6XHHpbTSWstvNIXuXZCih0KfulwckBnyQKAJNM1TXbfxTHpGvS6dcm5tHukNjA8X2fayrtbc7bwd3DYT7p+X06auS8IaX4h0+7nm8RafpZurpd11qNtqUk0krj7qCNoECRgE4UNx7kk11tABRRRQAUUUUAFebeNv8Aku3ww/7i3/pMtek15t42/wCS7fDD/uLf+ky0AdZ4i1LU4LnTtN0I2sd7fu+J7uFpY4kRdzEorKSTwB8w655xgz6NrX9peF4NVuIxCxhZ5UBOFZchgM9sg1D4i07Up7nT9S0NbWW9sXfEN5M0UcqOu1gXVWII4I+U9McZyF0rR7rTPDlvpH+jTgW7rNNKCymRuT+7/iQlmzlgcYHOeADG8H+ItR8V6LNd2niXw5eTSQKyQ2Nq0n2KRhkLLi4O/A4x8hyDUMHiXxFaWGu3d/NpmpQ2Ui2tm9rZSW3nXBYKwO6aTKBmVcjByG9OdPSdG1b+3U1LVLXTLH7JZNZ2sGnzPIrqWB3NlE2gbRhAGxk8mhPC9x/wr5dFaaFL/YJWmXJQ3G/zN3QEqX9gcUAU38Sa5a2d1p1x9hm1qO/hsoriO3kS3bzVDCQxly2FXdld/O3qM8bnhvU7rUtPmXUhD9ts7mS1naBGSN2Q/eVWJIBBBwScZxk9axG8N63c2l1qNyLCLWpL+G9it47iR7dfKUKsZkKBvmXdltnBbocc7fhvTbrTdPmbUjD9tvLmS6nWB2eNGc/dVmAJAAAyQM4zgdKANeiiigAooooAK5TwLdJY/Bzw5dyglINBtZWA7hbdSf5V1dcp4FtUvvg54ctJSQk+g2sTEdg1uoP86AH+GNc1i8vha68tnvubJL+3+yxOnloxwYn3M25lyvzDbnP3RVfVfFN3H4sOmWOo6JYpC0cfk6mzCS+lYBvLiIcbcKRztkyWHAxzNoGi65ZXD3mqrYPcWtgthaJBcSFZlU58xyyfIWIX5QGxjq1V9c8Kaje3uqrYxae1trsccd7NPIyy22wbcxgIRJxyASm0jOTnAALWt6rr+jahBdu+mNpkt5DapZrDIbhxIwXeJd4UEEk7PLPCn5vSvo/iq61fxQ1vDqWiLb+ZKq6W7ML7ykYp5+d/ILKfl2AYOd/amtpXiZvGZ1C60/Sb+yt3CWDS6nLG9rEQA7+V5DK0p55L9MAEZJLbPwhfWuo2losWnppVnqUuppdJI32l5HLkoU2bRzIQX3nIGNvPABp6d4gv7zxrfaTcab9jtILVZoZJHBkmJdlLYBIVeOM8nqQOldDWSmlTr4yl1YtH9newS2C5O7cJGbOMYxg+ta1ABRRRQAUUUUAFFFFABRRRQAVzfij/AJGLwZ/2GpP/AE33ldJXN+KP+Ri8Gf8AYak/9N95QBP4i1LU4LnTtN0I2sd7fu+J7uFpY4kRdzEorKSTwB8w655xgv07xAtz4NXXLuLytlu8s8a5O1kzvA74ypxTfEWnalPc6fqWhray3ti74hvJmijlR12sC6qxBHBHynpjjOQyy8Py2/hOPQJ2SWKS1kiubgOQwd85Krg5GWbqRjA60AUfDevaxq8F4xv/AA/fXCRbvslnKyvZSnlYZjufPHVsIcg/JzxQXxrf2Wj+JZL290jUJNFiU/brNGit1mIOYpFMjkFSFJ+fow4WrukeHtat7uO5uU0u0m0/TjYWRtmeRJhlSHkUqm0fIMRgtjc3zGmx6Drl/e3+q6xZaJHeTW0VtFZrI9zBIEcvukdo0OSTgfKdnX5s4oArXHjCex8Ey6w3ijw3qG+6it4tQtoSlpBudVbzP9IbdtyT99a6fw9eS3+ixXUuradq/mklLvTIjHC657DzJM49d35Vhw6HrbTX2sXVjorancSwuli00kkAEQIVvOMYIkO4/P5ZwABg9a1fDWlXenQ31xqQt47vULprqWG1dniiJVV2qzBS3C5LbRkk8CgDaooooAKKKKACiiigDm/Hn/Iu2v8A2GtK/wDThb10lc348/5F21/7DWlf+nC3rpKAKv8Ay8S/Ufyoo/5eJfqP5UUxHKvJqukePNT1K28O6hq1peafaQLJZS2y7HikuWYMJZkPSZMEAjr6Vof8JRq//QieIP8Av/p//wAlVu2v3X/3z/IVPSGc3/wlGr/9CJ4g/wC/+n//ACVR/wAJRq//AEIniD/v/p//AMlV0lFAHN/8JRq//QieIP8Av/p//wAlUf8ACUav/wBCJ4g/7/6f/wDJVdJRQBzf/CUav/0IniD/AL/6f/8AJVH/AAlGr/8AQieIP+/+n/8AyVXSUUAc3/wlGr/9CJ4g/wC/+n//ACVWRbanr0PjTUtXbwPrht7rT7S1RRcWG8NFJcMxI+04xiZcc9j04z3dFAHN/wDCUav/ANCJ4g/7/wCn/wDyVR/wlGr/APQieIP+/wDp/wD8lV0lFAHN/wDCUav/ANCJ4g/7/wCn/wDyVR/wlGr/APQieIP+/wDp/wD8lV0lFAHN/wDCUav/ANCJ4g/7/wCn/wDyVR/wlGr/APQieIP+/wDp/wD8lV0lFAHN/wDCUav/ANCJ4g/7/wCn/wDyVR/wlGr/APQieIP+/wDp/wD8lV0lFAHN/wDCUav/ANCJ4g/7/wCn/wDyVR/wlGr/APQieIP+/wDp/wD8lV0lFAHCXOp69N4003V18D64Le10+7tXU3FhvLSyW7KQPtOMYhbPPcdeca//AAlGr/8AQieIP+/+n/8AyVXSUUAc3/wlGr/9CJ4g/wC/+n//ACVR/wAJRq//AEIniD/v/p//AMlV0lFAHN/8JRq//QieIP8Av/p//wAlUf8ACUav/wBCJ4g/7/6f/wDJVdJRQBzf/CUav/0IniD/AL/6f/8AJVH/AAlGr/8AQieIP+/+n/8AyVXSUUAc3/wlGr/9CJ4g/wC/+n//ACVR/wAJRq//AEIniD/v/p//AMlV0lFAHN/8JRq//QieIP8Av/p//wAlUf8ACUav/wBCJ4g/7/6f/wDJVdJRQBzf/CUav/0IniD/AL/6f/8AJVH/AAlGr/8AQieIP+/+n/8AyVXSUUAc3/wlGr/9CJ4g/wC/+n//ACVR/wAJRq//AEIniD/v/p//AMlV0lFAHCeLNT17XvBet6RZ+B9cS41DT57WJpbiwCKzxsoLEXJOMnnANa//AAlGr/8AQieIP+/+n/8AyVXSUUAc3/wlGr/9CJ4g/wC/+n//ACVR/wAJRq//AEIniD/v/p//AMlV0lFAHN/8JRq//QieIP8Av/p//wAlUf8ACUav/wBCJ4g/7/6f/wDJVdJRQBzf/CUav/0IniD/AL/6f/8AJVH/AAlGr/8AQieIP+/+n/8AyVXSUUAc3/wlGr/9CJ4g/wC/+n//ACVR/wAJRq//AEIniD/v/p//AMlV0lFAHN/8JRq//QieIP8Av/p//wAlUf8ACUav/wBCJ4g/7/6f/wDJVdJRQBzf/CUav/0IniD/AL/6f/8AJVcj4iTxLq/xK8HeIbbwTrC2mhfbvtKSXNiJH86EIuwC5IOCOckcetepUUAc3/wlGr/9CJ4g/wC/+n//ACVR/wAJRq//AEIniD/v/p//AMlV0lFAHN/8JRq//QieIP8Av/p//wAlUf8ACUav/wBCJ4g/7/6f/wDJVdJRQBzf/CUav/0IniD/AL/6f/8AJVH/AAlGr/8AQieIP+/+n/8AyVXSUUAc3/wlGr/9CJ4g/wC/+n//ACVR/wAJRq//AEIniD/v/p//AMlV0lFAHN/8JRq//QieIP8Av/p//wAlUf8ACUav/wBCJ4g/7/6f/wDJVdJRQBzf/CUav/0IniD/AL/6f/8AJVZHhPU9e0HwXomkXngfXHuNP0+C1laK4sCjMkaqSpNyDjI4yBXd0UAc3/wlGr/9CJ4g/wC/+n//ACVR/wAJRq//AEIniD/v/p//AMlV0lFAHN/8JRq//QieIP8Av/p//wAlUf8ACUav/wBCJ4g/7/6f/wDJVdJRQBzf/CUav/0IniD/AL/6f/8AJVH/AAlGr/8AQieIP+/+n/8AyVXSUUAc3/wlGr/9CJ4g/wC/+n//ACVR/wAJRq//AEIniD/v/p//AMlV0lFAHN/8JRq//QieIP8Av/p//wAlUf8ACUav/wBCJ4g/7/6f/wDJVdJRQBzf/CUav/0IniD/AL/6f/8AJVH/AAlGr/8AQieIP+/+n/8AyVXSUUAc3/wlGr/9CJ4g/wC/+n//ACVR/wAJRq//AEIniD/v/p//AMlV0lFAHN/8JRq//QieIP8Av/p//wAlVkazqevajq3h+6g8D64qabqD3Uwe4sAWU2s8OFxc8ndKp5xwD9D3dFAHN/8ACUav/wBCJ4g/7/6f/wDJVH/CUav/ANCJ4g/7/wCn/wDyVXSUUAc3/wAJRq//AEIniD/v/p//AMlUf8JRq/8A0IniD/v/AKf/APJVdJRQBzf/AAlGr/8AQieIP+/+n/8AyVR/wlGr/wDQieIP+/8Ap/8A8lV0lFAHN/8ACUav/wBCJ4g/7/6f/wDJVH/CUav/ANCJ4g/7/wCn/wDyVXSUUAc3/wAJRq//AEIniD/v/p//AMlUf8JRq/8A0IniD/v/AKf/APJVdJRQBzf/AAlGr/8AQieIP+/+n/8AyVR/wlGr/wDQieIP+/8Ap/8A8lV0lFAHE67fa34gtLOwi8Haxaf8TOxnee5nsvLjSK7ilcnZcM33UbgAnNdtRRQBV/5eJfqP5UUf8vEv1H8qKYh9r91/98/yFT1Ba/df/fP8hU9IYUUUUAFFFFABRRRQAUUUUAFFFFABRRRQAUUUUAFFFFABRRRQAUUUUAFFFFABRRRQAUUUUAFFFFABRRRQAUUUUAFFFFABRRRQAUUUUAFFFFABRRRQAUUUUAFFFFABRRRQAUUUUAFFFFABRRRQAUUUUAFFFFABRRRQAUUUUAFFFFABRRRQAUUUUAFFFFABRRRQAUUUUAFFFFABRRRQAUUUUAFFFFABRRRQAUUUUAFFFFABRRRQBV/5eJfqP5UUf8vEv1H8qKYh9r91/wDfP8hU9QWv3X/3z/IVPSGFFFFABRRRQAUUUUAFFFFABRRRQAUUUUAFFFFABRRRQAUUUUAFFFFABRRRQAUUUUAFFFFABRRRQAUUUUAFFFFABRRRQAUUUUAFFFFABRRRQAUUUUAFFFFABRRRQAUUUUAFFFFABRRRQAUUUUAFFFFABRRRQAUUUUAFFFFABRRRQAUUUUAFFFFABRRRQAUUUUAFFFFABRRRQAUUUUAFFFFABRRRQAUUUUAFFFFABRRRQAUUUUAVf+XiX6j+VFH/AC8S/UfyopiH2v3X/wB8/wAhU9QWv3X/AN8/yFT0hhRRRQAUUUUAFFFFABRRRQAUUUUAFFFFABRRRQAUUUUAFFFFABRRRQAUUUUAFFFFABRRRQAUUUUAFFFFABRRRQAUUUUAFFFFABRRRQAUUUUAFFFFABRRRQAUUUUAFFFFABRRRQAUUUUAFFFFABRRRQAUUUUAFFFFABRRRQAUUUUAFFFFABRRRQAUUUUAFFFFABRRRQAUUUUAFFFFABRRRQAUUUUAFFFFABRRRQAUUUUAFFFFAFX/AJeJfqP5UUf8vEv1H8qKYh9r91/98/yFT1yk2va5/wAJReaNoOkafd/ZbWC7lmvdSe2/1ryoFVVgkzjyCSSR1FT/AG7xv/0L3h//AMH0/wD8h0hnSUVzf27xv/0L3h//AMH0/wD8h0fbvG//AEL3h/8A8H0//wAh0AdJRXN/bvG//QveH/8AwfT/APyHR9u8b/8AQveH/wDwfT//ACHQB0lFc39u8b/9C94f/wDB9P8A/IdH27xv/wBC94f/APB9P/8AIdAHSUVzf27xv/0L3h//AMH0/wD8h1Ri8R+MZtfu9IXw3oYuLW1gunY67NsKytKqgH7JnOYWzx3HXnAB2VFc39u8b/8AQveH/wDwfT//ACHR9u8b/wDQveH/APwfT/8AyHQB0lFc39u8b/8AQveH/wDwfT//ACHR9u8b/wDQveH/APwfT/8AyHQB0lFc39u8b/8AQveH/wDwfT//ACHR9u8b/wDQveH/APwfT/8AyHQB0lFc39u8b/8AQveH/wDwfT//ACHR9u8b/wDQveH/APwfT/8AyHQB0lFc39u8b/8AQveH/wDwfT//ACHR9u8b/wDQveH/APwfT/8AyHQB0lFc39u8b/8AQveH/wDwfT//ACHR9u8b/wDQveH/APwfT/8AyHQB0lFc39u8b/8AQveH/wDwfT//ACHR9u8b/wDQveH/APwfT/8AyHQB0lFc39u8b/8AQveH/wDwfT//ACHR9u8b/wDQveH/APwfT/8AyHQB0lFc39u8b/8AQveH/wDwfT//ACHR9u8b/wDQveH/APwfT/8AyHQB0lFc39u8b/8AQveH/wDwfT//ACHR9u8b/wDQveH/APwfT/8AyHQB0lFc39u8b/8AQveH/wDwfT//ACHR9u8b/wDQveH/APwfT/8AyHQB0lFc39u8b/8AQveH/wDwfT//ACHR9u8b/wDQveH/APwfT/8AyHQB0lFc39u8b/8AQveH/wDwfT//ACHR9u8b/wDQveH/APwfT/8AyHQB0lFc39u8b/8AQveH/wDwfT//ACHR9u8b/wDQveH/APwfT/8AyHQB0lFc39u8b/8AQveH/wDwfT//ACHR9u8b/wDQveH/APwfT/8AyHQB0lFc39u8b/8AQveH/wDwfT//ACHR9u8b/wDQveH/APwfT/8AyHQB0lFc39u8b/8AQveH/wDwfT//ACHR9u8b/wDQveH/APwfT/8AyHQB0lFc39u8b/8AQveH/wDwfT//ACHR9u8b/wDQveH/APwfT/8AyHQB0lFc39u8b/8AQveH/wDwfT//ACHR9u8b/wDQveH/APwfT/8AyHQB0lFc39u8b/8AQveH/wDwfT//ACHVHW/EfjHQdA1DV7zw3ob2+n2sl1KsWuzF2VFLEKDaAZwOMkUAdlRXG6J4j8Y69oGn6vZ+G9DS31C1juoll12YOquoYBgLQjODzgmr327xv/0L3h//AMH0/wD8h0AdJRXN/bvG/wD0L3h//wAH0/8A8h0fbvG//QveH/8AwfT/APyHQB0lFc39u8b/APQveH//AAfT/wDyHR9u8b/9C94f/wDB9P8A/IdAHSUVzf27xv8A9C94f/8AB9P/APIdH27xv/0L3h//AMH0/wD8h0AdJRXN/bvG/wD0L3h//wAH0/8A8h0fbvG//QveH/8AwfT/APyHQB0lFc39u8b/APQveH//AAfT/wDyHR9u8b/9C94f/wDB9P8A/IdAHSUVzf27xv8A9C94f/8AB9P/APIdH27xv/0L3h//AMH0/wD8h0AdJRXN/bvG/wD0L3h//wAH0/8A8h0fbvG//QveH/8AwfT/APyHQB0lFc39u8b/APQveH//AAfT/wDyHR9u8b/9C94f/wDB9P8A/IdAHSUVzf27xv8A9C94f/8AB9P/APIdH27xv/0L3h//AMH0/wD8h0AdJRXN/bvG/wD0L3h//wAH0/8A8h0fbvG//QveH/8AwfT/APyHQB0lFc39u8b/APQveH//AAfT/wDyHR9u8b/9C94f/wDB9P8A/IdAHSUVzf27xv8A9C94f/8AB9P/APIdH27xv/0L3h//AMH0/wD8h0AdJRXN/bvG/wD0L3h//wAH0/8A8h0fbvG//QveH/8AwfT/APyHQB0lFc39u8b/APQveH//AAfT/wDyHR9u8b/9C94f/wDB9P8A/IdAHSUVzf27xv8A9C94f/8AB9P/APIdH27xv/0L3h//AMH0/wD8h0AdJRXN/bvG/wD0L3h//wAH0/8A8h0fbvG//QveH/8AwfT/APyHQB0lFc39u8b/APQveH//AAfT/wDyHR9u8b/9C94f/wDB9P8A/IdAHSUVzf27xv8A9C94f/8AB9P/APIdH27xv/0L3h//AMH0/wD8h0AdJRXN/bvG/wD0L3h//wAH0/8A8h0fbvG//QveH/8AwfT/APyHQB0lFc39u8b/APQveH//AAfT/wDyHR9u8b/9C94f/wDB9P8A/IdAG1/y8S/UfyorN8Oav/wkHh7TtZ8j7P8A2jZwXfk79/l+ZGr7d2BnGcZwKKYiho//ACVHxB/2CNO/9HXtdXXKaP8A8lR8Qf8AYI07/wBHXtdXSGFFFFABRRRQAUUUUAFc3Y/8lT13/sC6b/6Pvq6Subsf+Sp67/2BdN/9H31AHSUUUUAFFFFABRRRQAUUUUAFR3NxFaWstzcNsihQyO2CcKBknA9qkrN8R/8AIrar/wBeU3/oBoAzNN+IPh3Vrmyhtbi8Q6hxaSXWmXNvHcHaWwkkkaqxwCQAckCulrw/SJ9VtofhxB4subQ+HJI4pbS5tLZomjuxHiGKZmkcFSGOGAXLADgddC11q9a+gePVruTxg2tmG50hr1yqWnmkE/Zs7VQRYYSbQScHdzQB28nxI8MxSTiS5vRFb3Btprn+y7r7PFIG2kNN5flgAnBJbA9as33jfRLDV5tLkbULi8hjSSWOy0u6utiv90loo2Azg968cubvTj4O8X2c3jQQXbareFPDpktmF2fNysZj2eewcjGFcE54roRqNnafE/WW1nxiPB80mm2BMQmtIw7bGyv+kRv908fLj3oA9Dv/ABtoum3Vra3J1Brm7gNzFbwaVdTS+WDgsyJGWTkgYYA1HN4+8PQ6AutG4u5NPLSK8sGnXEphKEhxIqxloyCCDvAxiuS1iXVL34m6TceD9U065nbw7M8NzeQ/aIroeYuDmJ0A3HHzDI9qo6NdQ3nwG8UTOzrqzpevq9vIApt7sgl0C9lHG3rkYOTQB6bouvWXiCzN1pq3YhyMNdWM1tuBGQVEqKWGD1GRS32u6fp17FZ3UzfapoZJ44IoXlkdI8byFQEnG4D3JAGTXlfjjWJbfSfDmmrqs+kCTRWniuTeTQRySqiBY1WEo8spz8q+YAM5KPwBqfD3UbzWPGNrfalL9od/CtlJHOcZdndzIePUhc0Addo/jvQ9e1KSw0w6lJcQyGOYSaTdxLC+3dtdnjCocEHDEdR610VeQNearYaV8Ubnw/v+3R6wpRox8yr5EG9hgEjC5OQDjriq8GqapP4B8TvpviW0hs42gFtdxane6jHbsceYHu/KVwhGMspPl5PK9gD2SWWOGPfNIsaZA3O2BknAH4kgVDqGoWmk6dPf6jOlva26F5ZXPCgf56V4ZcXi618PUfVLi7FrpniS28y/TXpLm2MZZdzxXIKuYwT/ABkshP3sjj1nxjbaNqHgC+t9Yu54tKntwHu7YtI8a8bZAyhjxwdxyO54oAvaJ4m0rxF9oGlzStJbMFmhuLaS3ljyMqTHIqsARyDjBrSlljgjMk0ixoMAs7YAycDmvDU8T+L7fwfrmnWWu2/iWz06a0WDxFZvs327viZHkTcFZEHLruZQ2481FrLSar8Obie91RLrSbLxHZtDPaaxdXKQReYglzdusZlVSxIfLBD3BXgA9y1DULTStOuL/UbiO2tLaMyTTSHCooGSTVDQ/FGk+I2uE0ueYy2xXzobi1lt5EDDKkpKqtgjocYPPPFVfFUGi3/gC+g1a5n/ALHmtdslzbF5XEZAxIGUMTjg7ufU8ZrzPS/Enim38K+JdK03xBF4ptdLgt2tPEFggZwjtiSMldytIiDdwScEE9eAD22ivLb/AFOwt/CN9J4L8TalqVj9rtlvrkXsl2LSFiBK0c7bmB28thzs6/LWVrOs3UWh+IF8L65eXOgxT2C2Wox6hJcMJXlAmRLhiWcAbcjcwBJHHSgD2eqlvqlnd6jd2EE266stnnxFSCm4ZU8jkEdxkcEdq8f8b3+r6N4vutNttXOnxQ2ULaNJqGtXUXmTs53lY0SRrxt20GNicAgADOa7OzLr8aXI2+ZN4fjN3tzjcsx2dcH+J8ZoA7iiiigAooooAKKKKACiiigArm/iP/ySzxX/ANgW8/8ARD10lc38R/8Aklniv/sC3n/oh6AD4cf8ks8Kf9gWz/8ARCV0lc38OP8AklnhT/sC2f8A6ISukoAKKKKACiiigAooooAZNMlvbyTTNtjjUu5xnAAya5zS/iH4c1iWxWyuLwLqBAtJrjTLmCKckZASSSNUJIBIAPPatnWf+QDf/wDXtJ/6Ca8U8O3GqWvhz4axeKLm0PheWO3kgntbZopIblU/cxzO0jAqc/eAXJAHGaAPeK5a4+JHhm1kuhPc3qxWcxgubkaXdG3hcHBDTCPywATyS2B61wy63qP2tnXVbo+Mv7e8g6P9scoLLz9ufs2dmzyPn83bnPO7PFYd7d6YfD3jiyuvGwsrl9TvNmgmS2IuzkYQxlPPbeflwjgnPFAHrt9440PT9Yk0uR764vYoUnkisdMubrYj52sTFGwAO0457UXvjjRdPuLS3uDqJuby3+0xW8Ok3Usvl5wWZEjLJyQMMAa84TULW0+KeovrfiseDJZNC0/May2sQdv3uUH2hH+77c885rX1aXVL34l6RceDtW0+7nPh2Z4rq8h+0RXQ81ccxOgGTj5hke1AHXyeO9Aj0BdaE93LYFnVpYNOuJTCUJDiREjLR7SCDvAxir+h+ILHxFZm60wXfk8EPc2M1tvBGQV81F3DHcZFed+GrqG8+CHiWZ2ddWdL19Xt5AFNvdlSXQL2UcbeuRg5NUfFmsPbeHPCmmDU59IWfSDOl4byWCFpEjQLHiFkeWQ7jtQSKO5V8AUAeqapr2m6NJFHqNwY5JkkkRFjZ2ZY13OcKCcAf0HU1DJ4q0WPRtP1U3u6y1J4o7SWOJ381pfuAAAkZ9xx3xXn/gK8utd1/wAO3etubm4k8IoxlkA3M7yKJfxO1c1heGTcSeKbbwkwmmi8CyXd26xKQWBGLRR1DHY7ceqigD22+vbfTdPuL29k8u3t42llfaTtVRknA5PHpVOx8RaXqWoLZWV15lw1ol6E8thmFzhWyRjn06+1eGaN4iutQi1RBr8l9b3/AIYurma0e9luWgmXGVdnbaJAH+ZY44gu4Db0Nbt5q+uWlhexaPd3imHwhaSxxwMzeUS+HkRORvCZ5xngUAetxa1YTa9caLHPnULeBLiWHY3yxuWCtuxg5KtwDnircsscETSzyLHGgyzu2Ao9STXhra1YaVr/AIt1Lw/qV7qdpF4ds9l1HftI4BmkDMLhxIcDJJb5tvzYxjAoXc8up+C/Fdpc67Jqlhp99YXENxBfXBjSNmXeVlklZ3Qc/Nu25BIC4wAD3eDWLG51i70qCfde2aJJPFsYbFfO05Iwc4PQ1dryDXNc1OHUvEieH9TuptOht9LxNFdPN5Nq7ETTIxJ58vJLjnjOciq+sa1dQ6L4mHhPXLy60CGOyNpqSag9yUuGmxMiXDMzMNuzI3EDOO+KAPZ6wdc8a6D4cuhb6veSRSCLzpPLtpZhDHnG+RkUiNc/xOQOD6Gsjwe89r448U6V9svLi0tzbTQrd3Mk5jaSMlgrOSQpIztHA7AVy/xMlh0bxa/iDw74rj0TxPb2Kq2nX0ZNvq0QYlIlDY3vkkfu9zDIHGc0AeuI6yRq8bB0YAqynII9QaassbSvEsimRACyBuVBzgkds4P5V4t4i8Q+JJPFkgubuPRrpobN9LguNTuLfLOAZAttHE4ujuJVg3K+g611Hgy3tLP4q+M45rl0v5pIJktpL123xmJcuI2bBAbgNjjoMDigDqNd8ZaF4bnEOsXckT+UZnEVtLN5UYODJIY1by0z/E2B154railSaFJYXWSN1DI6nIYHoQa8o+J8kOl+J01zQfF0fh/xNa2XFnfRn7PqsIYkRDdgM27j5CzDI4BINLqetm78Qt/wnGr6h4XtX0i3n09LW7e2Y3LZ80KAf30inYBGyv1+6cmgD1iivHvEetXkN74mNzrN9a6/a+X/AMI1YrdPCbxfKUqRbjCzlpC4bcpxjHy4rTWfW7jXPG1zb3N9LqGm2sLWFmlzIYo5mtiSBEDtbLdiCM84zQB6Jqep2mj6bNf6lN5FrCAZJCpYKM4ycAnHPXtVkEMoKkEEZBHevF/DOoXOqeH/ABDHearb3lg2hFryJdWuNQaK4Ktks0kSrCxGcxBuMD5R1r03wVLPN4D0OS8z57WEJfPXOwUAblFFFABRRRQAUUUUAFFFFAHIfDj/AJJp4Z/7A1n/AOiEoo+HH/JNPDP/AGBrP/0QlFMRJo//ACVHxB/2CNO/9HXtdXXBDQbTW/ijrX22bUIvJ0jT9v2LUri0zma8zu8l13dOM5xzjqa2f+ED0j/n88Qf+FHqH/x+kM6Siub/AOED0j/n88Qf+FHqH/x+j/hA9I/5/PEH/hR6h/8AH6AOkorm/wDhA9I/5/PEH/hR6h/8fo/4QPSP+fzxB/4Ueof/AB+gDpKK5v8A4QPSP+fzxB/4Ueof/H6P+ED0j/n88Qf+FHqH/wAfoA6Subsf+Sp67/2BdN/9H31H/CB6R/z+eIP/AAo9Q/8Aj9c/Z+CtLb4k6zbm61zZHpNg4I1++DktNeA5fztxHyjAJwOSANxyAeiUVzf/AAgekf8AP54g/wDCj1D/AOP0f8IHpH/P54g/8KPUP/j9AHSUVzf/AAgekf8AP54g/wDCj1D/AOP0f8IHpH/P54g/8KPUP/j9AHSUVzf/AAgekf8AP54g/wDCj1D/AOP0f8IHpH/P54g/8KPUP/j9AHSUVzf/AAgekf8AP54g/wDCj1D/AOP0f8IHpH/P54g/8KPUP/j9AHSUVzf/AAgekf8AP54g/wDCj1D/AOP0f8IHpH/P54g/8KPUP/j9AHSUV5/d+E7KLx9pWmpqHiAWlxpl7PLH/wAJFf8AzPHLaqhz52RgSvwDg7uegxuf8IHpH/P54g/8KPUP/j9AHSUVzf8Awgekf8/niD/wo9Q/+P0f8IHpH/P54g/8KPUP/j9AHSUVzf8Awgekf8/niD/wo9Q/+P0f8IHpH/P54g/8KPUP/j9AHSVnzaLbTeIbbWt0iXdvA9v8pG2SNiDhhjsVBGMd/Wsv/hA9I/5/PEH/AIUeof8Ax+j/AIQPSP8An88Qf+FHqH/x+gDpKK5v/hA9I/5/PEH/AIUeof8Ax+j/AIQPSP8An88Qf+FHqH/x+gDpKK5v/hA9I/5/PEH/AIUeof8Ax+j/AIQPSP8An88Qf+FHqH/x+gDpKK5v/hA9I/5/PEH/AIUeof8Ax+j/AIQPSP8An88Qf+FHqH/x+gDpKK5v/hA9I/5/PEH/AIUeof8Ax+j/AIQPSP8An88Qf+FHqH/x+gDpKK5v/hA9I/5/PEH/AIUeof8Ax+sO78J2UXj7StNTUPEAtLjTL2eWP/hIr/5njltVQ587IwJX4Bwd3PQYAPQKzbTQ7W01/UNYQyPeX6RxyM5BCJGDtRcDgZZjznljWb/wgekf8/niD/wo9Q/+P0f8IHpH/P54g/8ACj1D/wCP0AdJRXN/8IHpH/P54g/8KPUP/j9H/CB6R/z+eIP/AAo9Q/8Aj9AHSUVzf/CB6R/z+eIP/Cj1D/4/R/wgekf8/niD/wAKPUP/AI/QB0lFc3/wgekf8/niD/wo9Q/+P0f8IHpH/P54g/8ACj1D/wCP0AdJRXN/8IHpH/P54g/8KPUP/j9H/CB6R/z+eIP/AAo9Q/8Aj9AHSVzfxH/5JZ4r/wCwLef+iHo/4QPSP+fzxB/4Ueof/H65/wAfeCtLtfht4luIrrXGeHSbp1Euv30iEiFiNyNMVYeoIIPQigDoPhx/ySzwp/2BbP8A9EJXSV534B8FaXdfDbw1cS3WuK82k2rsItfvo0BMKk7UWYKo9AAAOgFdB/wgekf8/niD/wAKPUP/AI/QB0lFc3/wgekf8/niD/wo9Q/+P0f8IHpH/P54g/8ACj1D/wCP0AdJRXN/8IHpH/P54g/8KPUP/j9H/CB6R/z+eIP/AAo9Q/8Aj9AHSUVzf/CB6R/z+eIP/Cj1D/4/R/wgekf8/niD/wAKPUP/AI/QB0lFc3/wgekf8/niD/wo9Q/+P0f8IHpH/P54g/8ACj1D/wCP0AdJRXN/8IHpH/P54g/8KPUP/j9Ydp4TspfH2q6a+oeIDaW+mWU8Uf8AwkV/8ryS3Suc+dk5EScE4G3jqcgHoFFc3/wgekf8/niD/wAKPUP/AI/R/wAIHpH/AD+eIP8Awo9Q/wDj9AHSUVzf/CB6R/z+eIP/AAo9Q/8Aj9H/AAgekf8AP54g/wDCj1D/AOP0Aad1olrd69YawxdLuxSSJGTGHSTG5GyDxlVPGOQK0a5v/hA9I/5/PEH/AIUeof8Ax+j/AIQPSP8An88Qf+FHqH/x+gDpKK5v/hA9I/5/PEH/AIUeof8Ax+j/AIQPSP8An88Qf+FHqH/x+gDpKK5v/hA9I/5/PEH/AIUeof8Ax+j/AIQPSP8An88Qf+FHqH/x+gDpKK5v/hA9I/5/PEH/AIUeof8Ax+j/AIQPSP8An88Qf+FHqH/x+gDpKK5v/hA9I/5/PEH/AIUeof8Ax+j/AIQPSP8An88Qf+FHqH/x+gDpKK5v/hA9I/5/PEH/AIUeof8Ax+sPxb4TstM0W3nsdQ8QRSvqenwM3/CRX7ZSW8hjcczd0dhnqM5GDQB6BRXN/wDCB6R/z+eIP/Cj1D/4/R/wgekf8/niD/wo9Q/+P0AdJRXN/wDCB6R/z+eIP/Cj1D/4/R/wgekf8/niD/wo9Q/+P0Aaut6RBr2iXWl3cksdvdJ5cphYKxU9Rkg9Rx9DV2KNIYkiiUKiKFVR2A6Cud/4QPSP+fzxB/4Ueof/AB+j/hA9I/5/PEH/AIUeof8Ax+gDpKK5v/hA9I/5/PEH/hR6h/8AH6P+ED0j/n88Qf8AhR6h/wDH6AOkorm/+ED0j/n88Qf+FHqH/wAfo/4QPSP+fzxB/wCFHqH/AMfoA6Siub/4QPSP+fzxB/4Ueof/AB+j/hA9I/5/PEH/AIUeof8Ax+gDpKK5v/hA9I/5/PEH/hR6h/8AH6P+ED0j/n88Qf8AhR6h/wDH6AKnw4/5Jp4Z/wCwNZ/+iEoo+HH/ACTTwz/2BrP/ANEJRTESaP8A8lR8Qf8AYI07/wBHXtdXXKaP/wAlR8Qf9gjTv/R17XV0hhRRRQAUUUUAFFFFABXN2P8AyVPXf+wLpv8A6Pvq6Subsf8Akqeu/wDYF03/ANH31ACa74ml0XxbpVjMIE025tbqe5nkB3R+UqsMHOAME5yDXI6Z8U9W1PRblv7OtrbVrnWF0/TbSQMcRsiyiSUBs5ERLkDHYVtfELwJd+NdU0DyrqKCwtJ3/tFGYh54GAzGuFIIYqAQSOKp2Hw3vrL4geJvEjXVu63sRGk2+5gts7QrG7uMYBPloARnjPrQA3/hY9zBLoBuZ9Omg1a7uz5lpbzuzW0QbaEjOHaUkDOFYdcA9a6VvHnhwaTZajHfSTwX4ZrZLe1mmmlC/eIhRTJ8uOcrx3xXPaH8PtR0afRZfOtJW0fQH0+AmRsm5cgu/wB37p2jnr14qDTPAOveG10G60d9Mvr+x0h9OuBeSvEgdmDmVGVGJ+YHKkDIxyMUAdpB4o0a5fS1tr5JTqyM9lsVmEqqMscgfLgeuOeOtY998SdGt5NIjsY72/bVrxrWBoLKYqNjFZGJ2dFwfr1+7lhhW3w913Qr/SpdEubC7+x6VcWfnXkjxNFNM4dpVRVYMCQBtJXAHU1a0fwJq2jXng0pLZ3VtolnNDdq8rIxmkC5mTCHd0cbTt+9nPagDrNf8UaJ4WshdeINTt7GNs7BK3zykdkQfM59lBNc5q/xEWzv/DixW81rBqstwZkvbKUXBiiUn93CPn3MdpA2k4/hz02/EfhDTvE3lS3Mt7ZX1ujpb3+n3T288AbG7DKcEHaPlYFeOlYy+DtZXxPbardapHqcljpVxaWs9yojkaWRwQzhF2gBVVSw5ODwKAF1D4gRvc+HpPDijUrPU0uLiXy4HMzQxRkkIhKkOX2jDD1GM9Nnw/4y0DxQZY9F1KOa4gJE9pIDFcQkHB3xOA688ciuX0D4d6ppEmkO2pW8c2l6FJYR3EaF2W5lcM8oRgAVyoxnr6Cuh0HwVZaJqB1O4vdR1fVWR0N/qVyZHVGYMURBiONcgcIo6DOaAEvv+Sp6F/2BdS/9H2NSeKNdu9FvNCjtI4Xj1DUktJ2lBJRCrHK4I5yo65+lR33/ACVPQv8AsC6l/wCj7GqfxL8J6n4x8OW1hol7HYXMd7HMbh2KlEGQ+0hT821jj+dAHPJ8W7h5vE8v2GEWtisK6OMnzL5pXaJGPP3WkUgcDgZ5zV65+JMuhQXkmsJHqMkN1Bp0dvpNlcF/tTIpkViVI2gtkbdxwCOW4psPwuEHxQ0/W4poY9C03TYbe3sEJB86LeI3IxghVkbHPU5xxUcXgPX4W06dpNPuJYvEU+rXcJndFkRtwjw3lkllBU7cAEjGcUAXrL4maf8A8JTrWn6tPHa2tnfw2Fs4t5WJkdFP71gCqAswVd23kEZNddq+taZoGntfa3qFtp9qpwZrmURrn0yep9uprh4/h/qsmnQ295LYs03iRtXvmV2+aJXLRqvy8sMRg5wBg4JwK7DX/DeneJbWKHU0mzbyedbzW87wSwSYI3o6EMDgkde/NAHM618SYI/D9hqejRvFFfapBZxT6naSQrLG+GaREbazDbkKeMnse9jVPH9vNpenXHhhluZbzV49NZLq3ljaI7sygxttcMFBxkdweRwYh4G1Mat4dN5rkusWWjXclysmobftHMPlxqSigOQSx3HB5HU81T0n4e6nb3ujXGo3Vq7WmrXuq3PlsxzJKGWILlRnarYJOOnegDotD8d6Br9++nW14bbVYv8AW6ZfRtb3KcZ/1b4LDB+8uV96PEXjK08O61o+lS2l5c3WrT+XH5FtI6RqOWdmVSMD0685OBkiDSvAsFtq0Wsa5quo69qkTmSGW8m2w27FNp8qBMRpwTzgtyfmqLxH4d1vUPGemavpM9okNpY3MAM7kNBLIF2yquwiTG3G0levegC/pvjjw9q2otZWV+TKI3lRpbeSKOVEOHaOR1CyKCRkoSBUVh8QPDOp3Vvb2epEyXQdrfzLeWMTIgy0iMygNHj+MHaexrgW8B6np1lqGs+NNSCCPQZrKS7XUbvUGWSQjzJgjIAikAfKigDHpzUPhpNR8U+JIH06bQLkaD4eaxhmtJHvLFppSo2swCE5SPlByoYdc0Ael6N400LX9Qay0y6le48nz0Wa0mhEsecb4zIqiRc/xKSOnrSa1428P+H702uqXzRzJGJZhFbyzC3jJwHlZFIiUn+Jyo4PPBrF8AeDtR8LXl40vlafpskKR2+kWuozXkELgktIjSopTOcbAMcZzVfW/BOt3WpeI49MmsRY+JUijubqeRhPaKqbGCIEKyZXpllwSetAG9q/j7w1oV1cW2palsmtrdbqZIoJJjHCxIEh2KcLxyeg6nGRVHU/HcGm+LUtZ5oE0aLSxfXN15buwLyqkWNv8J+bPB7cjHORqHw51C50/wAWW1vLZg6zBbWNs7yNuS1jQKwchfvcvgDI5HIzxT8b+H7XRdG8Yapq17bW8OoaXDp2nIrfPmNGKoFI5Yu3CrnOKAPRINc0661y50i3uPMvrWJJp41jbEavnblsbcnB4znHOKyr7/kqehf9gXUv/R9jVL4Y+Hb3Q/CgutdJfXNVf7ZqDsMEOQAqewVQFA7Yq7ff8lT0L/sC6l/6PsaAJPFGu3ei3mhR2kcLx6hqSWk7SgkohVjlcEc5Udc/SuOT4t3DzeJ5fsMItbFYV0cZPmXzSu0SMefutIpA4HAzzmuh+JfhPU/GPhy2sNEvY7C5jvY5jcOxUogyH2kKfm2scfzrKh+Fwg+KGn65DLDHoWm6bDb2+noSD50W8RswxghVkbHPU5xxQA6T4kT6Lpd1da5HFqUgv49OtodHs7hmM+1RIr5U4wxbG3dkDA3NxVnR/iXY3PiHVLDVZo7eOPVP7OsTHbytltinErgFUZmJChtucd+aoW3gHXLOw0JRLY3U1nrs+q30clw6JL5jOV2t5ZJK7xwQAcYyKl0/4fapb2Gi21zc2jeRrs2r6gysx8wszsip8ozgsvXGAvegDtdY1zSvD2ntfa7qNtp9qpx5tzKEBOM4Gep46Dk1yesfEq3hsdFutMhlig1TVEtEl1CzljMkWwuzxxna5yBheOT0B4z0viDw1pviW2hi1JZ1e3cy21xbXDwTQOVK7kdCCDgkeh7g1z0PgrVovEeg3F5rLazZaP8AaHjl1DaLne8apGCUQK+Bvy5weRwetAEl98QLW4i0F/DTpdjVdVNg3nQyI0YQO0oKNtZXAQjDDj0rR0Px3oGv376dbXhttVi/1umX0bW9ynGf9W+CwwfvLlfeue8PfD7UtMvfD8t7cWjLp8l9d3PluzFrm4bIK5UZADNknB6cem1pXgWC21aLWNc1XUde1SJzJDLeTbYbdim0+VAmI04J5wW5PzUAdTRRRQAVzfxH/wCSWeK/+wLef+iHrpK5v4j/APJLPFf/AGBbz/0Q9ADPh8zJ8JfC7IAWXRLQgH18ha5OX4q6mmieFHjsbSS+1aaI6iRkRWkLzeUGA3ZyzEAcnuecV13w6G74U+FR66LaD/yAlefp8G9bj+HOq6YmqWi+IL2+imhvNzGO3hhmDxRqdoIx8xxj7zGgDp7Px3f6r4nFvYSabFpr6jJawmeOUy3EcCH7Q6Mvy8PhRuwMBuScCpvBPxIsfEdrax6jcwxahevcPbxw28qxNFG5G3zTlC4UAsA2efuioX+H91Z32nHRpoI7XStDuLC1WWRtxuJdv7xvlPHy8nk5J4qKz+G9zCugWb3UEVhpOhTaeRESXM8qqpkAIAwAG5zklulAHTaZ400DWNR+w6fetJMyu8TNbyJHOqnDGKRlCSgdyhanQeMNDubfTpre8eVNTeRLPZbyEymMMW425AAU8nAPGOorktP8CeIHs9Lt9Rn02yGhabLZ6ebF3kE0rx+X5rhkXYAB9wFuSfm45d4b8C69YXWgPqDaba2+haRJZW0FpPJNmZgq+aSyLkYXp29T1AB03hDxfaeMtPur7T7a6gtobl4I2uYHiMoXguAyjjORjnGOcHIDLXx5oGo64dK0e7bVJ48/aJbGJpoLbhj+8mHyKflI253Z7UngTQb3w/4HstG1lLVri3Rkle3laRJiSSXO5FwWJJK4OM9TWevgCTRY518I61f2Vs9s8K6Tc3BmtFOxguzeGeLDMD8hxgY20AReCfiTY+IrS2TUbiGO/vWuHt44beURNFG7Db5hyjSBQCyhs8/dFQ6H8U9P/sixu/FzrpQ1F5GtbtoHS0KeY4RGmOVV9qAncVBzx6CG3+Hup2MOhQ2VxZpFougz2MKlm+a6kVV3/d4UbTz1+bpV60+HTjQtG0e71/UodM02yigew06Y26XDqpDF5VxIVOR8oZenOc0AdpDNHcQpNBIssUihkdGBVgehBHUVz1j/AMlT13/sC6b/AOj76tzT9PtdK023sNOgW3tbaNYoYk6IoGAB+FYdj/yVPXf+wLpv/o++oAra94xfQPGlrYXv2eLSW0m61C4ncHehhaMcHOMYc9vTmuc0r4ma3qWh24l0y2s9bvtYaygtJAzLBAoDs8u1jysfJwQMkDitbxx4BufF/i3w9ei5ii02xMgv4izCS4jJRxGMDBUtGuQSOB3qppnw61Gx8VeLddluraWfUVlTSELNttRIg3lvl4JZVzjPCj6UAWdM+I6vNotpeoL651ueZraXTbS48iO2VmCuzOmd2AoboATnhcEv8FfEiy8RRwQ6hPFDfXtxcraRwwS+W0cbsAvmkFDJtXcV3A89MVSsPAOraRdaI1ibCWLTPD76WhkndDDMwBLqAh3glVHJUgevSrOheALvS5/CUVxNayWeg6bLBMoLFpriQKpYZAG3G/k8nd0oA2rXx5oGo64dK0e7bVJ48/aJbGJpoLbhj+8mHyKflI253Z7Vk+CfiTY+IrS2TUbiGO/vWuHt44beURNFG7Db5hyjSBQCyhs8/dFSr4Ak0WOdfCOtX9lbPbPCuk3NwZrRTsYLs3hniwzA/IcYGNtZ1v8AD3U7GHQobK4s0i0XQZ7GFSzfNdSKq7/u8KNp56/N0oAn0X4o2A0WwvfFzDS01J5DbXZt3W02+a6ojTHKq+1QTuKg549B2F7rNlY6FLrEkpmsYofPMlshm3JjOVCAlhjniuXtPh5IugaJo9xr+pW2m6ZZxQyWWmzfZ1uHUEMXlXEhU5+6GXpk5rT17wwZPhxe+GfDHk6fusWtLQMSEjG3ABOCenGcE9+aAKNl8TtDl8O6fquore2BvoHuEtWsZ5JY4lODI6ohKpjHzn5eeGI5rQ1Dx34b0ycRXmpqD9mF27xxSSJFCRkPI6qVjU44LEZ7ZrjfE3gLxfrtk1lBe21tZNpSWcFpDq9zBHZy9Hb93GPtAK4A8zAHPynJrmPFBjspPFHhrQb7TLi41tbXTfsbSSLfQsEWMqkJT95FsO7zA2ANx5xQB6te/EHw1p6wtdX0oSaGOfelnNIsUchwjSsqERA9t+3v6VratrWn6Hpb6hql0sFquBvwWLk8KqqMlmJ4CqCSeADXB6l8P9aufFEF9p/9n6e8Bgii1ayvbiC4FtGVJhkgAMc2cEZLLwRxxz0/jLw/d65b6bNppt2u9Mv472KG6cpFMVyNrMFYrwcghTggcUAKfHvhpNFn1WfUvs1pb3C2s5uYJIZIZWIAR43UOpO4HkDg56c1na78QrKLwfrOo+HZVuL7TpFtvIureWLZO5UIGRgrEHcDxjI6HvWY/wAPtVvbyK+1Kayae81yHU9QgV2aOKOFCI44yUBcghSSwXPJ4wBS3Hw8v7v7e11NZg6j4ih1S5Idj/o8O3YmdvLfu144HXk9wDp28Z6JBp73NzfACG8XT5QsEhP2kkDywu0seSOQCMc5xzUPjz/kXbX/ALDWlf8Apwt64Twnoo8SfGLXNat7tLzw5p159os/LwYpL54lR2DDhtgB5GcFjXd+PP8AkXbX/sNaV/6cLegCbxrrd34d8J3Wp6dHDLPC0YCzAlcNIqnOCD0J71zN18TmtfiFe6bLbwx+H9O06ea51B87nuIgjOic4wquM8HnjIwa6Xx1ol74j8D6ppOlSww3tzDtgknJCI4IIJIBPb0NcVc/CCab/hEbYX0ZstMMj6vudvMvndlkbkDkNIuTnGR+VAFu0+JV5Y6Xcan4nS3SK001L25sbKzna5haZyYUJ5T7gAY5+9ydoxU7fFSztvEIh1UGw0+LRotRuQ9pO88TSMRgqF3KihTuJTjIJI7x674C1vU4vFDwT2HmatfWkkMbyOqtbQ7MxOwQ7SxDjIDYBFO1fwHq+rW/jAu1hFceII7e1iIlciK3RAHUtsBzkyYA68dM8AHdXGqWFppZ1K7vbe3sQgkNzNKEjCnoSx4A5FcdrXxPsF8E6xrvhzdPHZIogvbu3kjtJpGcoNrNt8xQRklTjGMN6dTqXh/TdY0MaRqdv59mAmFDshUoQVZWUhlIIBBBBGK5PUvh5qM+nW+lr4gu9T0xdSt7totWk8ySKOOQyMiyhd0gJ2ABycBfvGgCzq/xEtIfButaho0iXWp6VGqPbz28sK+c+AnyuASjE5BGQR0Jq/ZePdEk1kaHqd3/AGbrHAFtexNb/aDnG6Ev8sgJ6bST61haj8PtU1OfWHnu7ULqmt2t4wDN8trBsxH93liUPHT5utbM3gWHVNafUfEerajqyLMJLbT3m8q0g2vvT91HgSMDj5pC3ToKALXjHxfaeDdHS9u7a7unmmW3ghtYHkLyMcAHapx/XoATgUo8b6AdaTSvtkgumlEGTazCISldwiMu3YHx/AWDe1V/GOg6nrdxoMumG1ePTtSS7uLe5laMTKqsBhlVsEMQ2Mc4xkVy0fgPxNN4qsdV8Rakt7b2OpS3ryLqNy3mx7WEKLaBfKjKZH3ckkZzyQQDrJ/iB4Ztr1rWbUiJBdLZhhbStG87EARK4XazAnkKSVAJOADUsfjjw/LryaQl6/2qSZreNjayiGSVRlo1mK+WzAA5UMTwR2NeUeG92rah4X8OaLqGkajYWOq3GqTTWbu0qxgyMn2iJlUwvvdRtJJYg9MYrsvC3gbWdI8Yf2vKlhpUUrTS38WlX9w8GpSvgCQ20i7ISMZyrMc8Z70AeiUUUUAch8OP+SaeGf8AsDWf/ohKKPhx/wAk08M/9gaz/wDRCUUxEmj/APJUfEH/AGCNO/8AR17XV1ymj/8AJUfEH/YI07/0de11dIYUUUUAFFFFABRRRQAVzdj/AMlT13/sC6b/AOj76ukrm7H/AJKnrv8A2BdN/wDR99QBF4n8WXmi+JNB0bT9Hmv5NVnIkmWSMLDEgy5wXBJAx7YPc4Upb/EDT21c2GpafqWk7raa6hnv4kjSaKIgOwAYuuMg4dVJB4FO1/wjc6x4ostYtdWNl9nsp7NkEJZwJcfvI3DjY42jkhuOwrkLf4U2/hrS9RvrwR6m7aM+nyJo+lCG5nDHLSktKxklPfJ5xx6UAdNY/EvS7y8sLeXT9Tsv7RglurWS5hQLJbxruM3yuSq4IwGAfkZUdaueF/G1t4rZWstK1KC0mh8+2vZo42guE3Y+V43ba3+y+1vbg44rwxoWu634i+1y6jewJpWif2dY6lJoz2RErkEstvcbixCou5j8pzgYwa6rwd4DXwvrN/qjzWH2i+ijieLS9P8AsVudpJ3mPzHBkJblsjjtQBFrnjWDQ/Eesy3VzeNYaHpaXF1Zw2kbCV5HOzbIW3F8KRtwB8wOa1ND8Y2eu65eaSllfWV3aQRXJS7jVfMikztcbWJH3Tw21h3FZWrfDx9Wm1t5NW2f2ve2k7gW2dkMBU+V97ndtPzcY3dDjnb0rw6dO8T61rMt0J5NTMKogi2+THGmAucndyWOeOuMcZoAq6543tvD+oLDfaVqhtPOhgk1FYVFvG8rBUGWYM/JAJRWAzzjmuVv/GOvS6rqVvY3awo3iS10my/dI2IwqvOeRyT8w5zjHFWbv4TLf+Lm1q91G0uh/akeoI1zp3m3SKgGIBOZPljBGQFUY75rRsPh0lrfabc3GptcNZardaowMG3zZZgwUfe4CK2O+cdqAO1ooooA5u+/5KnoX/YF1L/0fY0vjDVZLBNJs7S/lsLvUtSit4pIrZJiwGXdSHIABRGBYZIzkA0l9/yVPQv+wLqX/o+xqfW/DX9ta9o2otdiIaU80iReVu3u8ZQNnIxtBPY5z2oAyLL4oaPf31jDDZakIL/UJdNgvHhQRNPHuyv39xB2HDBSOxIPFXPGPi268N3eiWVhpM2oXOr3otk2OgVAAWcnc6knYrEduOT0BqaT8PRpsXheObURcL4fM0hxb7ftE0ikb/vHbjc3HPXrWlr3hq41fxDo2q2uoR27aYZf3U1uZVfzFCkjDrtYDoeRyeKAM3T/AIm6bq8d7JpGj65fJZmRGe3sdyvIknl+WrZwWJ564C8sVFV77x2mp2K2mnvf6Jqn9sRaZLFLawzyRSHEjKQJChBj/iVmxnpkYpbj4btJ8PdN8M2+qRqbOVJp3ltS8F6QxZ1lhDgsjEk7d/p1qHQ/hXDo0umOt9b7bDVLjUvKtrBYI2eSMoqhVbChATjrn9aALsXxP0ia/jgisdSa3fVG0k3vkoIVuBxjJfcwJBGVU4I5xWv4l8V2XhgWKXMM11dahP8AZ7S1gaNXmfGcAyOiDgd2GegyaxdP+HK2Vt4egfUzImj382oSbYNv2qWTfyfmO0AyE98kDpV/xj4UuvFEcMKXmnfZFVllstU0pb2F2PSQDcjK68gENjnpnmgCOfx9bQ2tmU0XWJb+6hkn/svyEjuIo04dnEjqgAPHDHdn5c1VtPiF/bHirQtO0HS57rT9TsTqD35KKqQkYX5S4YHcQDkZ9AeSM6/+EFlPaaMlvc2k8ul2BsN2saal+jx5B3qjMNrgjg5IwcEGtKPwHeadrE99oGsw2G/SE02FW05G+zFCxWRFVkQDLZKbMHAxigDp9a1a10HQ73Vb99ltZwtNIfZRmvM9W8beJ9E1Lwy93KHhuEfUNZt1jT/RrZ3SNEBwD8hkBJzk7W56Cuv8f6Ze6h8MdVsYBLfXn2TIWNAHuGTDEBRxlsdPemT+C4dY1TUtR1Gcvb6po6aaLN4MeQvzFjknkncOMDG2gDO0rx8EXUrm+kn1D7Vrctho9jbRx+ZIIlAZVJKjqrsWdsD16Cna18Sng8PW93oWh3d5qFxqQ0w2UzRI9vPn5lfMmCcZI2sQePmA5pml/DGTQ/Dfh600jWUTU9CkllS8uLQyR3BlDCTfF5gPO7PDggjvyKmHw5khXSJbXVwbyy1R9Tupbm2MiXcrqVb5A67MA/LyduBkN1oA1/F+rTWFjpsFreTafd6jfw20Ukduk7DJ3MpVmAwVVgW5xnIBrNsviho9/fWMMNlqQgv9Ql02C8eFBE08e7K/f3EHYcMFI7Eg8Vra/wCGf7d1jRL5rvyV0meS4WLy93mO0bIpzkY27iehz7VlaT8PRpsXheObURcL4fM0hxb7ftE0ikb/ALx243Nxz160AdnXN33/ACVPQv8AsC6l/wCj7Gukrm77/kqehf8AYF1L/wBH2NADPHXiq88K6bZvpmky6peX13HaQRpIiqrMep3MueAcAdxyVHNEnjm2t/EFrpd7pOq2aXly1pb3txCiwyzBC5UDfvxhW+bZtOOGNTeJ/DVxr2oaJd2t/HavpN59q2S25lSXKFMYDrggMSDkgHsa5XTPhQuj6/Brt3d2+qT2Ul1OHXTgt7dGUEASTtIS7KDgfdX2FAGzF8TdJnurNIrDUmttQv8A7BY3giTyrqQEhinz7gq7TyyrnHy7qs6L49stf1Y2umabqU1p50tuNSSON7fzI/vK21y8ftvVQe3UZ4LwtoWpajrnhqwjfVE0jQRcXUb3mjSWL2zupSONjISs0i72+ZBtwORyK67w98PJNJ8XL4h1G/sbi9S3eFpbHTBZvdFyCXuCrlZG44IVcEnjsADQ17xCLDxfpth9tnt447O51C7jS2R0lhjAXDOTlDlsjaDnB5FReH/iLpviHUtOsotO1KzfU7E31o95EiCWNSoYYDlgQWHUAHqCRzTfEXgebXdS1i8TVvsr6ho50uH/AEff9myxLSfeG7ORxx06mrmn+ElsfFEGrfag8drpaadb24ixsAbLPuzznCjGBjHU5oAXxR4xh8LRSTXOk6peW0EDXNzc2sKeXbxjqWZ3UMep2pubA6dK5LxX451e2vfEp0W6WO3sdKtfsjGJWzdXDkKxyMnC7eDxz0q14w+FI8Xa5e3t1qVq8N3DFEsV7p32l7TY2W8hzIBGH/iwuT69qvXnw3jvrm/kn1I7L7VbW/eMQYCx24XZCPm6ZXOffpQB2duJFtohM2+QIA7Yxk45PFSUUUAFc38R/wDklniv/sC3n/oh66Sub+I//JLPFf8A2Bbz/wBEPQAz4fOYvhL4XkCNIV0S0YIuMtiBeBkgfmRWVoPxFvtV8ODVp/CeqsLi5mW1gtRC+YE/5aPI0gReh4JBJ4UMBuOl4DgN18H/AA3AsjRGXQrVBIvVc26jI9xXL3HwdubvRtL0+71uwuotP0+SxWO50kywjd0nSNpiFmHdzuz2C0AdInxI0i6h0p9Ltb/Un1K0+3LFbRLugt+8sm9lAAJxgEsTnANVl+KmkXFjpc2l6dqWozarBLdWtnAsSzPDGcFwskig57KCWPp1rldf0q98MXRtvDMWqLdw6CmloIdEknhvBzsMcyNtt2DZyZOMEHtmtS7+E8+o+FdM0O41DTzY2unxWvk3elLcSWrgYeS3mDo0bH1O/kA46ggHYa/4hi0vwLe68wurZIrNpwDb/voyV4HluV+YEj5SRzxWDc/Eiz8O2t1aalb6rqtzo+nwXWo3cNtEihXByxG8KCMZKDJ5+Xdg43PEnhj+3/CY0KO9a3jLQh5ZE81nRHVip5HLBcZ984PSsjUfh4+oW/iSJtWC/wBvXUEjn7NnyYYwg8ofNzkK3zcY3dDigDqLzVo7TRW1OO3uryPyxIkNrCZJZM4wFX1OR1wB3IFcXrvxBnudAnj0O3utN1mLV7XTJbe7SJnhaVkYn5WdG/dsTwT+BroPGXhZ/FXh5NMgvhZqk8crLJEZYZ1Q5MUsYZS6Huu4fj0rB0f4Vw6SLMJe20aW+stq0kVnp628cjGMokYUMQqrkHv0/GgDY8G6xf61eeIZ7ucSWlvqslrZIEA2JGqhuRycvuOTXUVieE/DieFtC/s9bg3LvcTXMsxTbveWRnY4ycctjrW3QAVzdj/yVPXf+wLpv/o++rpK5ux/5Knrv/YF03/0ffUAR694hFh4v02w+2z28cdnc6hdxpbI6SwxgLhnJyhy2RtBzg8iovD/AMRdN8Q6lp1lFp2pWb6nYm+tHvIkQSxqVDDAcsCCw6gA9QSOab4i8Dza7qWsXiat9lfUNHOlw/6Pv+zZYlpPvDdnI446dTVzT/CS2PiiDVvtQeO10tNOt7cRY2ANln3Z5zhRjAxjqc0AVNa8bT6V44tdDXSZ5LUWUt/eX2+PbFEoI4XeG+9jPH0B5Ii0z4lW2t6TDf6P4c8Q3kc5jEISzVRJuQsSHZxHhcYLFgueAWNHiDwJdazresX1vrS2qarpP9mMj2pkaAZY7423gDO/kFTnA5FR+J/hyuvJo8UF5bR2emW7W4sL6y+1WzgqFEnl71HmKAdrHcBk8UAMfx1a6tdeHJdNv7qwhu0ub24ge1jcvDApV43Yt8mHI+ZN2SuM4Oat6B8SdL8Q6jpVpb2GpWw1eze8sprqFEWZExuGAxYEbhyQAexNZdt8KjaaRb2kGsIsltoEmjwyizwFaQ5ebaH74Hy5/Gt7TvBsen+I9P1T7UHTTtKGm28IixtGVLPuz32qMY7dTQAviLxtaeH9Ug0tNPvtU1Ga3e5WzsPKMnlp1YCR03H/AGVy3tVXUviNpmmzSK1hqU8VrFFNfzxwKq2Cyfd80Oytu7lVVmA6gZGa3jf4fT+NJpI7nUbEWUkYRUutKWae0Ofme3mDqY2PHLB8EDjHFV9T+FFhf+JpNUVtPkW5MJuft+lRXk/7sAfupZMiPcAM5RvUYNAGtpXi271b4gapoUWkSxWGm26M9+0kZEkr8qAA+QNvI4J6524G674v19vDvh9rm3jE17PKlrZxHOHmkbagOOwJyfYGsy38Hatp+qa1daV4gitV1W+huyfsAeSNECq0W5nKlSq7RhQV3E8mpPHNhcXb+Hrm2gmuBZazBNLHEhY7DuUsQOw3Ak9sZoA5oeNNY0T4lHS9Wvhe6JBZx2s1wYkVvtxjabcdqjAKKRjpnHHNX9A+IMo8LaKb6z1DWda1GybUHtbKKJZIoCSQzbmRAACqgZ3E9AeTT9c+FsOueH/E2nzam0dxrt8L1bpYTm2ZVRUAG75sBMdRnJq5deBLmG7gufDmrx6ZINMXS5vNtDOGhX7rJ867HHPJ3DnkHFADJPiGLzXPDFl4f02a+t9dia6N0WRBFAo+Y7WYNuDMueOO2TxV3XvEIsPF+m2H22e3jjs7nULuNLZHSWGMBcM5OUOWyNoOcHkVDpfgKLQ/EGkXuk3irZ6bpp04W1xCZXKlgxdZN42sSBnKtnHak8ReB5td1LWLxNW+yvqGjnS4f9H3/ZssS0n3huzkccdOpoAd4f8AiLpviHUtOsotO1KzfU7E31o95EiCWNSoYYDlgQWHUAHqCRzVnx5/yLtr/wBhrSv/AE4W9Lp/hJbHxRBq32oPHa6WmnW9uIsbAGyz7s85woxgYx1OaTx5/wAi7a/9hrSv/Thb0AT+NNXOh+D7+9juZLSbYIoZ4oFmaORyEQhGZQ2Cw4JFYt98S9N0WS/tLm11O/bRnt4dRu4YIxHG0gGGOXGeoyqgkZ4BHNbnirw2PFGn2lnJc+RFBfQXcg8vd5oicOE6jGSBzz06ViXXw5F3Zajby6mQNS1uPVbhlt8FlRkIh+96RqN3p2oA6fV9VGlaY14tleX53KqW9lD5kkhYgAAcADnlmIUDkkVx+qeO5dRs9Li0QXGl31xr0em3EN0kTSR7CXlXguhyi9VJ4PUHpteNvCUni6ws7eO+jt1trkTvBc25uLa6ABGyaIOm9ckHG7GQOtYug/C2LRI9IRdQhYaZeXd4qw2Kwo0kwIXChsKEVsYHX2oA1fA2vXeuaJqWq6lMPI/tK6S33KqiOCNyg6DkfKTk881iXfxEm1fVvDVn4ftb+zh1W9MiXc8EbR3dpGrM7JgsQDhcbgrHcCBjJHS6J4Ti0nwHH4amuWuU+zPDNcKmwyF87mAycZLE4yfxrnbH4bauktj/AGn4q86LTNMl0+x+x2H2eSIuoXzmfzGy4UDoFHsKANE/Ee2S4uLe40LWLSdLKa+t4rqOKNruKJgGKgyZQ8g4kCHB6VXsfiHeHwfYaxqPhbVmmu7eS7eGzSJlghXkM0jyKnKkYXdvPJ2jHGRp/wAGls7TVEOqWUNxf6QdM8/T9LFuykkkzMTIzO7cZJbnHGKf4j+Edz4jhVLvWbBsaYLAJPpPnR2zDP723RpsRMeASdxIUYIoA3L34l6VBeW9pp1hqOr3E1guomGwjjaSO3Y4D+W7q7/RAxGORyMz6r8QtM0q9nhazv7iGz8r7fdwxp5dl5hGwSBmVieQSFViB1ArJ134YPrtzBHdajYvYW4hFuJNKU3dmI8ErBcK6lASoPzK5GTzjgLqXwpsL/xdc6yp00rezxT3QvNJiu59yALiKWTIjVgoBBRj1IKk5AA+T4mxWereJTqemzWukaAI43u2kiJlmfBCgb+AQyYzgcksV6V02ga8ddhnZ9K1HTHgcIY76NRvBUMGR0ZkdSD1VjzwcVzzeAtQjg1yG01my8rVr/7Y8d3pK3CSKQFaGYM/7xNoAG3YRgcmpvDXge78L2lvb6Xq8NrAdQkvL22tbEJBKrKR5USMzeSoO1uCTkHoDQB2NFFFAHIfDj/kmnhn/sDWf/ohKKPhx/yTTwz/ANgaz/8ARCUUxEmj/wDJUfEH/YI07/0de11dcpo//JUfEH/YI07/ANHXtdXSGFFFFABRRRQAUUUUAFc3Y/8AJU9d/wCwLpv/AKPvq6Subsf+Sp67/wBgXTf/AEffUAO17xPc2GuWmi6Np0eo6lcQPcuk1wYI4YUIBZnCPySQAMc88jFcPo3xBv8ASvBkeu6gLRjrF9d3EQ1rWUtEt4lYhIlJDlmwowqLt5PI4z2/iDwZBruqxalDqupaTepavaNPp7xgyROQSpEiOOoyCACPWsiT4TaOLW2gstT1WxWHTDpbtBLGXmgJydzPGxVskncm0nNAFaw8d6zr3inQY9L0+CHSbrSP7VulmnxcBWGFTBTaCGP94Zx1XGC3SPizHfy6mk+n2spsdObUCmkammoOFUkGKQIoVZOnCs4688c6t18NdIu5bsyXV8sN7pSaTcwI6BJYUBCnOzcrDcfukA9wabafDe2tVu2HiDXGubm1htVulnjhkgSFiyeX5caqPvYIIIYDkHnIBk6d8Xrefwff+I7+0sRYW0cRim0/VUuEeSTgRPuWN4nBK53qAAc5OMVR1D4t3lz4W1R9Bg0iXVbW6trRHttT+12pa4IVGWRYxuYE4KlQBjqeh6ofDvS5bHU4dSubzULnU5I5bi+n8pJt8WPKZfLRUBUgEHb9c0+58CRXunRwXuvazcXMd8l8l7LNG0iyJwoCeX5Srj+EIPXrzQBkXPxJubTxinhgabZzajEtuJ4pdSFvLN5n3mt1eMLMq8k/MhODha9ArlpvAlvd6pHc3+s6te2sV4L2LT7mWOSGOYdCrGPzQAedofbzjGOK29I0v+yLN7f7de3xeaSYy3s3mON7FtoOBhVzgDsABQBeooooA5u+/wCSp6F/2BdS/wDR9jU/iHxOvh7U9Et57bfBql01s9wZNotyI2cEjHIO0jqMZqC+/wCSp6F/2BdS/wDR9jVnxZ4UsPGOjrpuqyXEcCzpNutpNjEqfu5weCMg+xPIoA564+JEkfhu31oWGnWtpe3TxWc+qaxHaRSwgErKWKkjfglVVXOME4qrpHi+48X+L/Cctj51pZTaZc39zAk2VY7ljQEjG9cliCR2BwK6DWvAthrGp2N/FeXumXNlayWcb2TRj9y4AZMOjAdBgrhvepPD/gnTfDl5Dc2Mty7QadFpsSyspVIoySCAFHzEnntwMAc5AMfxd8Sf+Eb8VQaDbWFrPdzW32hPt1/9iFxl9ojhZkKPJ/ssydRycnFTxD8YNO0LXrnTzHZN9gMK3sdxqSQ3O6TB2ww4PmlQwJ+ZR6E1u6z4Ft9cvLhr7WNWNhdPHJcaYZY3t3KEEY3ozxg4GRGyjjPUmpJvBVo2uzalaajqWni6ljmvLWznWOO6eMAKznbvHAAIVlDAYIIzkAp+GfEes65458R2s8FpHpOlSR2sRimZpGlKhyTlB/C68Z4xjnrUvxG8Q6r4c8LrPoEFvNf3V1DZw+fIVCNK4QMAFOcZzg8YBPOMFreCpbS6lbR9XvoIbzVV1G6jM6oFxyyrtQMytgAqzYA+mDq+IfDkHiOKyE11dWkljdJdwTWxTcrrkDIdWUjBPUUAccvxfs18SJpUkensFv002bbqam6M54Zkt9gLRBjjeSp6nbjre074ktq3ji58P2Gm2rm1untp0k1ERXcYVc+b9ndBuiJx8yOxwQdtbFp4LtbHWJLyz1PU4LaS4a6fTop1S3aZhhnO1Q5z1279medtQ2fgS2t9Wtb++1jVdVNj5v2OO/kjf7N5nDYcIJG44G9249+aAIfh54h1rxPpuo6lrNva28Bv5YbNLeUviONjGc5Rc5ZSQe+eg6VnaB8UU1zV72JbC1isrL7R9pb+0B9rtfKOMy2zIpVW5wVZ+34dN4f8MW/h3w7/AGLbXl5cWq7xGZnVZIlbnarRqp4ycE5b3rPsfAFlb6kL7VNT1LW5o7N7GE6i8TGKFyN67kRWfOBy5Y+/JyAczp3xnt9VadLK102V20yfUbVYtVEpVYsZS4CofIYgggDf3HGKsaHr+vXGpeCJ9edY7rV7a6ae3tpmMRUqsiEqQMFRgdCRkjcc5raT4dWP/CPXuiXWsaxd6fc2ZsY4ZrlcW0PTagVQCQMDc+9sDGeuTRvDN0viyPUtTkuJItJtDYac1w0e+YNgyTMIwFGcKoGAcKcgZoA66iiigArm77/kqehf9gXUv/R9jXSVzd9/yVPQv+wLqX/o+xoAn8S+I30STTrOxs1vtT1Ocw2tu8piQ4Uszu4ViqhR12nnAxzXE6Z421S1/wCEj13UYreFP7Vj02G31HWFt7S18tAJH81geCxbG1CzcZA5x3HiHwvB4gm0+5+3XmnXunStLbXdkyb03KVYEOrKwIPQqe1Ydv8AC3TLS304WmratFd6fcT3C3xkieaVpv8AWb98ZXn1CgjHBFAGTD8R9Z8Q/wDCK/8ACO6fZRLq15Oly0t2WAjgYhzGwjIZGA4cgZBHAzkaNh8TFu/Gy6BLZ2OZHuERbXVY7m6j8rnMsKKRGGAOPnJ6AgHOLtl8N9LsJNGe1vtRVtItprRC0iMZ4pSC4kJTOSQPmXa3vVfSfhZpmkfZlh1fWZIbOymsbSIzpGLaKQqTsaNFbcNvDkluTkmgDP8ADvxdt9btdQ1GextoNLsbaa4nkh1ASXNr5bEbJ7dkR42IBxjevB+buaafGdLjRdYubW10qW5sdLOpxLb6sLlNgOCkxRP3cgyPkG4Hpu711Ft8PtO3Xj61e32vS3ll/Z8kuoeUG+z90zFGmck5y2T702T4fW1zoN7pWoa5rV7FdRRwq81wmbdEOVCIqBM5HLMrM3QkigDn7v4man4eh0bStYsdPl1y808XT/adR+yRTtkDy4XaLY0hyPlYoBkDcetelxO0kKO8bRMyglGIJU+hxkflXK6n4Bi1gSRah4g1meyuEiW6sXkhaG4Kd8GImMnAz5RQcZwDW7p2kjTbq+mW9vLgXkwlEVxNvS3AQLsiGPlX5c49STQBfooooAK5v4j/APJLPFf/AGBbz/0Q9dJXN/Ef/klniv8A7At5/wCiHoAi8BXMVn8IfDVzcuEhh0K1kkY/wqIFJNcxc+L9c8Q6x4Qgh06XSrHVbo30UsN6TJLbRIW2yptXYWyh25YYJyRjB6bwHaxXvwf8NWtym+GfQrWORc9VMCgj8jVGz+FemQNEL3WNZ1KG30+TTbaC6mjCwQuADt2RqS2ABuYk4oAzbb4tNdXuoWcdhpbz2+n3F9GLbWVuRGImA2XBjQiJiCCApfoRnio3+JGs6D4J0jUfEVroovr61kvHN1rCWke37yxoChdnIYDaFIGOXJPOvD8LNLXTryzvNV1W9jutLGlEzPEvlQAkgII41APPXBz3zSal8LLDUzK8uuaxFLc6aumXcsLQK1xCuduf3WFI3fwbQe4NAFLWPiytjqWmWNlpkDXGoael9FHqV+LLzg5AEULMhR5OfusyduTk4PEPxg07QteudPMdk32Awrex3GpJDc7pMHbDDg+aVDAn5lHoTWzqXw/tNUkeO51jVjpsxiM2lmWN7dzHjGN6F487RkRso4z1JqxN4KtG12bUrTUdS08XUsc15a2c6xx3TxgBWc7d44ABCsoYDBBGcgHNT/EbVNPvvGOo31jbyaL4f8uCNLeV2kaUgOWf93wu113EZ24OA3Wuo8G+JpvFOmTXkltZRxJLshuNP1FbyC4GAcq4VWBBOCrKpBHeq48CRQm/Nhr2s2DXt99vzbTRr5Mp+9jMZ3q3QrJvHpipNN8EWultA9tqepiVb57+5kWVI/t0rKVPnKiKpXkHaoUZUGgDpaKKKACubsf+Sp67/wBgXTf/AEffV0lc3Y/8lT13/sC6b/6PvqAI9d8c2nh3xBLp+pwiOBNMk1BbjzOX2OFMYXHX5lxz1OMVheJPijdeF9NtbnVdH062lks/tc1pc61HHOcnHlQx7C0r465CLngMe3T694N0rxJrGk6lqgleTSpDLDGrgJISQQHGPmAZVYDjlQazNY+G2m6xq2oXr6lqdqupGBry3t3iCTGIgoSWjLgcYKhgp9KADRtSvNU+KWtAXEo06x061jS3LEKJZCzsxXpu27Bmq3/CyGl+IE/hmz061d7a4SGZJ9QEF0ysu4yxwugEkY9Q+evy9M9NpXh+00jUtVvrZ5nn1W4WecyMCFKoECrgDCgL055JrKj8B2p1m1vr3V9V1GKyuXu7S0vZY5Y7eRgRlXKeaQAxwGcgenAwAYOm/GHTtU8VWml2kdlJBfXctnAY9RVrpXRWO+S3C5SMlCA24np8ozWz8PPEOteJ9O1HUtZt7W3gN/LDZpbyl8RxsYznKLnLKSD3z0HSrekeCrXRLwtZ6nqn2JWleHTTcAW8LSHLEBVDtySQHZgueAOMVtB8FzeHdQ06Kx1i/k0qwhnVbaaZcO0jAgMqIoYLhsMxJ+Y/WgCPxj4i1rS/Enh3S9Egs2TUJ3e6luJmVkhiG5wAEYcjv+GBncMrw58XtO8R6/a2NrHZvBfrM1qbbUFnuQIxn99AFHlbgCR8zHpnFdVqXha11LxNp+uvc3MN1YwywBIyhjmjk2lkcMp67RypU+9UdN8BWml272ltq+sixFu9ta2aXnlR2aMefLMYViR/CzlivYjnIBz2h/FibxDpup32naVYNDZWk1xg6r+9gaMkCO5hMYeItg4Kh14PPQ10PhvXdW/4VtDr3ia2V702rXkkNjlyykF1VRtHO3Axz9T1qu/w10+7tdRj1nVdU1WbULD+znurloVlSD+6DHGoJzzlgx/WtuXQfO8MLozapqKFYhGt9DKsNwpHRgUULkYHG3aehBGaAOM074w21x4Tv/EV7aWI062iiaKax1RJw0khwIZAyo0LgkZ3Ltwc5OKr3fxYurnwfr11olvpE+qaY8MSm31L7VasZsBCsioCxBPKYHT71dJ/wrrS57XU01S7vNSutSaJpr6fykmDRcxFfLREBUjIO3r1z0p194Eh1HQZLDUNb1m7ma7jvReSzRNKskZBTahTylA2j5QgB6nnmgCp4Y1TVD8QtV0jVpC8kek2NzKqTGSOOZjIr7cquAdgPCjPXArtq5nwlol3aXWp63rCumo6rKpaKRkYwRRjbGhK8E4yxxxljjgV01ABXN+PP+Rdtf8AsNaV/wCnC3rpK5vx5/yLtr/2GtK/9OFvQB0lFFFABRRRQAUUUUAFFFFABRRRQAUUUUAFFFFAHIfDj/kmnhn/ALA1n/6ISij4cf8AJNPDP/YGs/8A0QlFMRRGqXem/FHWvsehahq/maRp+77FJbr5WJrzG7zpU654xnoc44zs/wDCUav/ANCJ4g/7/wCn/wDyVUGj/wDJUfEH/YI07/0de1sav4l0LQGiXXta07TGmBMQvbtIS4HXG4jOMjp60hmd/wAJRq//AEIniD/v/p//AMlUf8JRq/8A0IniD/v/AKf/APJVa9vrWl3eljU7XUrOawbpdxzq0R5x98HHXjr1q7QBzf8AwlGr/wDQieIP+/8Ap/8A8lUf8JRq/wD0IniD/v8A6f8A/JVaWmeJND1q5mttH1nT9Qnt/wDXRWt0krR84+YKSRzxzWlQBzf/AAlGr/8AQieIP+/+n/8AyVR/wlGr/wDQieIP+/8Ap/8A8lV0lFAHN/8ACUav/wBCJ4g/7/6f/wDJVc/Z+I9UHxJ1mUeC9cZ20mwUwiax3oBNeEMf9J24O4gYJPynIHGfRK5ux/5Knrv/AGBdN/8AR99QAf8ACUav/wBCJ4g/7/6f/wDJVH/CUav/ANCJ4g/7/wCn/wDyVWxf6xpmlPbrqmo2lk11IIoBczrGZnPRV3Ebj7DmrUkiQxPLM6xxopZnY4CgdST2FAHO/wDCUav/ANCJ4g/7/wCn/wDyVR/wlGr/APQieIP+/wDp/wD8lVs6Zq2na1Zi80a/tdQtixUT2syyoSOo3KSM1J9vtPsJvftUH2QKXM/mDywo6nd0xQBhf8JRq/8A0IniD/v/AKf/APJVH/CUav8A9CJ4g/7/AOn/APyVV7VfFfh3Qp0h1vXtM06WRd6R3l5HEzL6gMRke9acE8V1bxz20qTQyqHSSNgyup5BBHBFAHPf8JRq/wD0IniD/v8A6f8A/JVH/CUav/0IniD/AL/6f/8AJVdJRQBzf/CUav8A9CJ4g/7/AOn/APyVR/wlGr/9CJ4g/wC/+n//ACVXSUUAed3niPVD8SdGlPgvXFddJv1EJmsd7gzWZLD/AEnbgbQDkg/MMA846D/hKNX/AOhE8Qf9/wDT/wD5Kovv+Sp6F/2BdS/9H2NbOp6tp2i2ZvNZv7XT7YMFM91MsSAnoNzEDNAGN/wlGr/9CJ4g/wC/+n//ACVR/wAJRq//AEIniD/v/p//AMlV0asHUMhDKwyCDkEVT03WtK1nz/7I1Ozv/s7+XN9lnWXym/uttJwfY0AZH/CUav8A9CJ4g/7/AOn/APyVR/wlGr/9CJ4g/wC/+n//ACVXQJcwS+b5c0b+S2yXa4OxsA4PocEHn1rP1DxRoGk21vcarrmm2MF0N0EtzdxxrKMZypYgNwR0oAz/APhKNX/6ETxB/wB/9P8A/kqj/hKNX/6ETxB/3/0//wCSq3LDULPVLKO80y7gvLWUZjnt5RIj9uGBINWKAOb/AOEo1f8A6ETxB/3/ANP/APkqj/hKNX/6ETxB/wB/9P8A/kqukooA5v8A4SjV/wDoRPEH/f8A0/8A+SqP+Eo1f/oRPEH/AH/0/wD+Sq6SigDm/wDhKNX/AOhE8Qf9/wDT/wD5Ko/4SjV/+hE8Qf8Af/T/AP5KrpKKAOb/AOEo1f8A6ETxB/3/ANP/APkqj/hKNX/6ETxB/wB/9P8A/kqukooA5v8A4SjV/wDoRPEH/f8A0/8A+Sq5+88R6ofiTo0p8F64rrpN+ohM1jvcGazJYf6TtwNoByQfmGAeceiVzd9/yVPQv+wLqX/o+xoAP+Eo1f8A6ETxB/3/ANP/APkqj/hKNX/6ETxB/wB/9P8A/kqtnU9W07RbM3ms39rp9sGCme6mWJAT0G5iBmrSsHUMhDKwyCDkEUAc5/wlGr/9CJ4g/wC/+n//ACVR/wAJRq//AEIniD/v/p//AMlVr6brWlaz5/8AZGp2d/8AZ38ub7LOsvlN/dbaTg+xqzHcwTLI0U0brGxRyrghGHUH0I9KAOf/AOEo1f8A6ETxB/3/ANP/APkqj/hKNX/6ETxB/wB/9P8A/kqtDUPFGgaTbW9xquuabYwXQ3QS3N3HGsoxnKliA3BHSrlhqFnqllHeaZdwXlrKMxz28okR+3DAkGgDD/4SjV/+hE8Qf9/9P/8Akqj/AISjV/8AoRPEH/f/AE//AOSq6SigDm/+Eo1f/oRPEH/f/T//AJKo/wCEo1f/AKETxB/3/wBP/wDkqukooA5v/hKNX/6ETxB/3/0//wCSq5/x94j1Sf4beJYpfBeuWySaTdK00s1iUjBhYFm23JbA6nAJ9Aa9Erm/iP8A8ks8V/8AYFvP/RD0Ac/4B8R6pB8NvDUUXgvXLlI9JtVWaKaxCSAQqAy7rkNg9RkA+oFdB/wlGr/9CJ4g/wC/+n//ACVR8OP+SWeFP+wLZ/8AohK2NO1jTNYSZtI1G0vlgkMUptZ1lEbjqrbScH2PNAGP/wAJRq//AEIniD/v/p//AMlUf8JRq/8A0IniD/v/AKf/APJVW7/xj4Z0vUDYan4i0mzvBjNvcX0Ucgz0+UsDzSN4y8MJqv8AZj+I9IW/8wRfZDfRCXf/AHdm7OfbFAFX/hKNX/6ETxB/3/0//wCSqP8AhKNX/wChE8Qf9/8AT/8A5KrYj1fTZtVl0yHULWTUIUDy2izqZY1PRimcgcjkirAuITctbiVDOqBzFuG4KSQDjrjIPPtQBz//AAlGr/8AQieIP+/+n/8AyVR/wlGr/wDQieIP+/8Ap/8A8lV0lFAHN/8ACUav/wBCJ4g/7/6f/wDJVH/CUav/ANCJ4g/7/wCn/wDyVXSUUAc3/wAJRq//AEIniD/v/p//AMlVz9n4j1QfEnWZR4L1xnbSbBTCJrHegE14Qx/0nbg7iBgk/KcgcZ9Erm7H/kqeu/8AYF03/wBH31AB/wAJRq//AEIniD/v/p//AMlUf8JRq/8A0IniD/v/AKf/APJVbF5q+m6dc21vqGoWtrPdvst4p51Rpm/uoCcseegp2o6pYaPYve6vfW1haoQGnupliRSTgZZiAMnigDF/4SjV/wDoRPEH/f8A0/8A+SqP+Eo1f/oRPEH/AH/0/wD+SqsL448Jvp736eJ9GazjkET3A1CIxq5GQpbdgEjtU0firw9No8mrQ69pkmmxNtkvVvIzCjehfO0Hkd+9AFH/AISjV/8AoRPEH/f/AE//AOSqP+Eo1f8A6ETxB/3/ANP/APkqt43tqtj9ta5hFrs8zzzINmzGd27pjHepgcjI5FAHN/8ACUav/wBCJ4g/7/6f/wDJVH/CUav/ANCJ4g/7/wCn/wDyVXSUUAc3/wAJRq//AEIniD/v/p//AMlUf8JRq/8A0IniD/v/AKf/APJVdJRQBzf/AAlGr/8AQieIP+/+n/8AyVR/wlGr/wDQieIP+/8Ap/8A8lV0lFAHN/8ACUav/wBCJ4g/7/6f/wDJVH/CUav/ANCJ4g/7/wCn/wDyVXSUUAc3/wAJRq//AEIniD/v/p//AMlVz/jTxHqk2g2yyeC9cgA1bTWDyTWJBIvoCF+W5JyxAUdskZIGSPRK5vx5/wAi7a/9hrSv/Thb0AH/AAlGr/8AQieIP+/+n/8AyVR/wlGr/wDQieIP+/8Ap/8A8lVvXl5bafZy3d/cRWttCpeWaZwiIo7ljwB9aLS8tdQs4ruwuYbm2mXfHNDIHR19Qw4I96AMH/hKNX/6ETxB/wB/9P8A/kqj/hKNX/6ETxB/3/0//wCSqt2XjHwxqOpDT9P8R6Td3pJAtoL6J5CR1G0NnjFW7PW9K1C8urSw1OzurmzOLmCC4R3gPPDqDleh6+lAGT/wlGr/APQieIP+/wDp/wD8lUf8JRq//QieIP8Av/p//wAlVq6fr2j6vbzz6VqtjfQ27FZpLa5SRYiBkhipODj1qTTdV0/WbJbzR7+2v7ViQs9rMsqEjggMpI4oAxv+Eo1f/oRPEH/f/T//AJKo/wCEo1f/AKETxB/3/wBP/wDkqukooA5v/hKNX/6ETxB/3/0//wCSqP8AhKNX/wChE8Qf9/8AT/8A5KrpKKAOb/4SjV/+hE8Qf9/9P/8Akqj/AISjV/8AoRPEH/f/AE//AOSq6SigDm/+Eo1f/oRPEH/f/T//AJKo/wCEo1f/AKETxB/3/wBP/wDkqukooA5D4cf8k08M/wDYGs//AEQlFHw4/wCSaeGf+wNZ/wDohKKYiTR/+So+IP8AsEad/wCjr2sO9i1nWPjVdPod1Y2f9jaTHC015ZtcqWmcsVCrLGQcIvOT9K3NH/5Kj4g/7BGnf+jr2ulisrWC5nuYLaGOe4IM0qRgNLgYG4jk4HAzSGebfEnw9b6nrXgz+1p5Lq/k1aCONI3eO3Uxh5ZHWLcRkhcZYtgAAHrnd1a/1XUzr+ja9paaBokkDW9trsmpRHzmfCjEXBQ5bjJ56d66yaytbi4gnuLaGWa2YtBI8YZoiRglSeQSOOKW7tLe/s5bW+t4rm2mUpLDMgdJFPUFTwR7GgDyTQNU8S+Eby+0zxvpmlatc6Bosl3purWMYEjQj5TGwIBQnao4AB2/xYzWlN4j1vw/4PvdduPFFrrGoDSUvX0mWGJFtmkPyyKYwHEIyR8+4nb97Oa77StA0fQreS30TSbHToZW3SR2lskSucYyQoAJxSaf4d0XSLe4t9K0ewsYbkkzx21qkay8Y+YKAG445oA871XxV4g8MLr1sNXk1yW20Nb1JpbeJfs907bUjHlooKtnIDZPHU1X1LW/HOlanp2jX+pXVzcX1lJqE0umQWcT2wjVF8pTckIy7iXdjk8jAUdPSrTwzoVhpr6fY6Jp1tZSOJHtobREjZgQQxUDBOQOfYVLqmiaVrkMcOtaZZ6jFE/mRpd26yqjdNwDA4PPWgCp4PvtR1Lwdpd5rYgF/Nbq05t3R42b+8pRmUg9eCRzVSx/5Knrv/YF03/0ffV0YAVQFAAAwAO1c5Y/8lT13/sC6b/6PvqAMjxcLf8AtjWjqGNn/CNy+TvIx99t+M98+X+ntWh4pfZ8NXF+kjmSGCOTDhNrMyLuZiDgAnJ4PANb9/o+maq9u2qadaXrWsglgNzAshhcdGXcDtPuOaleytZTOZLaFzcII5i0YPmqM4VvUcng+poA5DSNNW91PxJpesy/aLqUW8t5cWJa3ilBQhUChiyHCfMC7ZDDnB2jCutHs7v9n+HzkcJY2DyQxJIyRhhkKWUEBsdQDkA4OMgEekabpOnaLZCz0fT7XT7UMWEFrCsSAnqdqgDJp39nWX9nmw+x2/2MqUNv5S+WV9NuMY9qAMTxSz3VnpmixMy/2rcLDMVzkQKpeQe2Qu3P+1XRIixRrHGoRFAVVUYAA7Ux7aCSaKZ4I2lhz5TlAWjyMHae2R6VLQAUUUUAFFFFAHN33/JU9C/7Aupf+j7Gk14RHxj4f+2Y+zhLrbvI2+Z5Yx177PM/DNLff8lT0L/sC6l/6Psa2dT0nTtaszZ6zYWuoWxYMYLqFZUJHQ7WBGaAOa0acW3wejmmimmij0t2EcZw7RhDtCnt8uMGqPhi1aLXoLW8uI7ia60JFgnsP3Yht1bCqxySz/PxICAdpwic57n7Lb+dHL5EXmRIUjfYMopxlQewOBx7Cq2maJpWiiYaPplnp4uH8yYWtukXmN/ebaBk+5oA4zRfDmmyeHfFGk+VKtjHqkzeUk7gyYjRiHbO5wScsCTu53Zyas2t7cWfwf0VLBzHd3dnaWkDgZKPIFTcPoCW/CuzjtLeITCK3iQTsXlCoB5jEYJb1OAOTTBp9mLeCAWkAhtipgj8obYivClRjC47Y6UAGn2MGmadBZWabILdAiL7D+tWKKKACiiigAooooAKKKKACiiigArm77/kqehf9gXUv/R9jXSVzd9/yVPQv+wLqX/o+xoATXhEfGPh/wC2Y+zhLrbvI2+Z5Yx177PM/DNVNGnFt8Ho5poppoo9LdhHGcO0YQ7Qp7fLjBrpdT0nTtaszZ6zYWuoWxYMYLqFZUJHQ7WBGamFrbiZJRBGJEQxq4QblQ4+UHsOBx7CgDhPDdmV1uGzvrhJ5brQkWGfT2MQht1YBVYg5L/PxICoODhE7roPh/Tp/BGt6UYpEsYtSu8QxzOm8BydrEHLAnqCTu75ya7HTNE0rRRMNH0yz08XD+ZMLW3SLzG/vNtAyfc1ZitLeGORIbeKNJWZ5FRAA7N94kdye570AcZa3txZ/B/RUsHMd3d2dpaQOBko8gVNw+gJb8K7DT7GDTNOgsrNNkFugRF9h/WgafZi3ggFpAIbYqYI/KG2IrwpUYwuO2OlWKACiiigAooooAK5v4j/APJLPFf/AGBbz/0Q9dJXN/Ef/klniv8A7At5/wCiHoAzfDfnf8KD0j7Lu8//AIRqDy9nXd9mXGPepPC4tR4liGmbfsw0C03eWQRjc/l9P9nNXvhx/wAks8Kf9gWz/wDRCVqWugaNY2tzbWWk2NtBdOZLiKG2RFmY9WcAYYn1NAGZrynVPEuk6K3Nth766XHDrGVCKfYuwOO+yi6X+1vHlvaSc2uk24u2TBw07lljJ7fKqufqwPat/wCzQfavtPkx+fs8vzdg3bc52564zzihLaCO4knjhjWaUASSKgDOB0yepxk4oA8+0sAX2jbc/bT4h1AzcjdtxNuz3xjy/wDx32rU0bS7bTfilrJthIXuNNt5ZpJZGkZ2Ms3diTgDgAcAcACulj0jTYdVl1OHT7WPUJkCS3awKJZFHRS+MkcDgmpxbQLdNcrDGLh0EbShBvZQSQpPXAJPHuaAJaKKKACiiigArm7H/kqeu/8AYF03/wBH31dJXN2P/JU9d/7Aum/+j76gDB8YCP8AtDxSbnO/+wYhbZI675fu5779n47fau4nuxYaPJd3ZwLeAyyE/wCyuT/Km3mkabqNzbXGoafa3U9o++3lngV2hb+8hIyp46ipZLG0mFwJrWGQXSbJw0YPmrjGG/vDBIwfWgDmdPll8PfD251q7TfqM8DX9xkHLzOuVT1wPlQD0AqtLpS6S3hC1umaQ/b3kupWI/e3DQSEs3uWJx+FdjNaW9xam2uLeKWAgAxOgZSB04PHYVHqGnWOrWT2eq2dve2smN8FzEsiNjkZVgQaAPONU0u21D4LXstwJWitDeTWqLKVjIEr+WSqkBgBgqDkDgjkAj02L/Up/uio3sbSSw+wvawtabPL+zmMGPZjG3b0xjtU4GBgcCgAooooAKKKKACiiigAooooAK5vx5/yLtr/ANhrSv8A04W9dJXN+PP+Rdtf+w1pX/pwt6AHeMgpttJE3/Hv/a1t5uSAMbvlzntv20eDtv2fVvJ/1H9rXPlYxjG75sY7b9361uXlnbahZy2l/bxXVtMpSWGZA6Op7FTwR9ajg0uwtba1t7axtoYLP/j2ijhVVg4I+QAYXgkcdiaAOdYTap4j1u+TLf2TbmzslA+7M0YeRx2zyi/gfU1i+E7hre10S21qHRZrC60VpY2jhw9pGAnmiSRmIkRi3LBU5HIPUehQ20Fu0hghjiMrmSQogXex43HHU8Dn2qtZ6Npen3V1c2Gm2lrPeNuuZYYFRpz6uQMseT1oA888ToYNR15ZJLe4iutIiZGs08sW9ok2Njjcd2VdyHyBhSNo6nrdA8v/AISzxH9l2+R5lvnZjb5nlDd077dn6Vp6d4f0bSIZ4dJ0mxsYrk7p0trZI1lPTLBQN341Lpulafo1ktno9hbWFqpJWC1hWJATySFUAc0AW6KKKACiiigAooooAKKKKAOQ+HH/ACTTwz/2BrP/ANEJRR8OP+SaeGf+wNZ/+iEopiKI0u71L4o619j13UNI8vSNP3fYo7dvNzNeY3edE/THGMdTnPGNn/hF9X/6HvxB/wB+NP8A/kWoNH/5Kj4g/wCwRp3/AKOvaZ4j8eDQPHXh7w2umvdHWGYSXKy7RagfdJG053HIHI6GkMtf8Ivq/wD0PfiD/vxp/wD8i0f8Ivq//Q9+IP8Avxp//wAi1n+HPiNba9rXiWKS2jsdK0J1X+1J7jEc4wdzYKgKoKnncQfaujg8RaJdaPJq9rrFhNpsQJkvY7pGhTHXLg7RjvzQBmf8Ivq//Q9+IP8Avxp//wAi0f8ACL6v/wBD34g/78af/wDItaUPiTQ7mwhvrfWdPltLhmSG4S6Ro5GXJIVgcEjacgeh9KYvijw++oW1iuuaa15eIJLa3F3H5k6HJDIucsDg8j0NAFD/AIRfV/8Aoe/EH/fjT/8A5Fo/4RfV/wDoe/EH/fjT/wD5Fq94p15PDHhTUtbkgNwLG3abyVbaZCBwoODjJwOlZ0XiLWrLT31PxRpOn2GnpCH3WV/NdzFiQFQRfZ0ySTjgk5xwaAH/APCL6v8A9D34g/78af8A/Itc/Z+HNUPxJ1mIeNNcV10mwYzCGx3uDNeAKf8ARtuBtJGAD8xyTxjovBPi6Pxt4fbV7fT7mwhNxJBHFdgCX5DtJZR907gRjJ6U2x/5Knrv/YF03/0ffUAH/CL6v/0PfiD/AL8af/8AItH/AAi+r/8AQ9+IP+/Gn/8AyLR4j8U3OjXht9P01L8wWrXt4XufJ8qBTglflbe5+bCnaPlOWFdBFPHLbpOjDy3QOGPoRnNAHP8A/CL6v/0PfiD/AL8af/8AItH/AAi+r/8AQ9+IP+/Gn/8AyLVSHx6t5pd9dWGnNJLHqS6dZxSy7BcuwUq5O07EIbOcMdozjnFTN4tvW0OKW20uBtWe/wD7PaykvCsSygnd+9EZJUKCwOzJGOBQBL/wi+r/APQ9+IP+/Gn/APyLR/wi+r/9D34g/wC/Gn//ACLTr/XtYsLfTrY6VYvrF87qtv8A2g4t1CKWJM3k7s4HA8vr7DNaWg6smu6DZ6nHE0K3MYfy3IJX8RwR6HuOaAMv/hF9X/6HvxB/340//wCRaP8AhF9X/wCh78Qf9+NP/wDkWukooA5v/hF9X/6HvxB/340//wCRaP8AhF9X/wCh78Qf9+NP/wDkWukooA87vPDmqD4k6NEfGmuM7aTfsJjDY70AmswVH+jbcHcCcgn5RgjnPQf8Ivq//Q9+IP8Avxp//wAi0X3/ACVPQv8AsC6l/wCj7GrXiDW7vTJbOz0mwiv9QvGfyoZrkwRhUXczM4RyOwHynJI6daAKv/CL6v8A9D34g/78af8A/ItH/CL6v/0PfiD/AL8af/8AIta+j6nFrOjWmo26skdzEJAjYyueoOO4PFYn/Cc2Yu/EKtbyfZtDgWZ5wf8AX537gg9ihXOeTn05AJP+EX1f/oe/EH/fjT//AJFo/wCEX1f/AKHvxB/340//AORar/8ACY3sGk6m+oaTDBqlikTpZx3hdJRKcRfvPLBGWyD8hwRxmrV3rusaZoyTanpViuoXF0ltbW9vqDyQsznCl5WhUqOucI3brmgBv/CL6v8A9D34g/78af8A/ItH/CL6v/0PfiD/AL8af/8AItX/AA7rMmt6bJNcWq2txBcSW08aS+agdG2nY+BuX3wD6gEVq0Ac3/wi+r/9D34g/wC/Gn//ACLR/wAIvq//AEPfiD/vxp//AMi10lFAHN/8Ivq//Q9+IP8Avxp//wAi0f8ACL6v/wBD34g/78af/wDItdJRQBzf/CL6v/0PfiD/AL8af/8AItH/AAi+r/8AQ9+IP+/Gn/8AyLXSUUAc3/wi+r/9D34g/wC/Gn//ACLR/wAIvq//AEPfiD/vxp//AMi10lFAHN/8Ivq//Q9+IP8Avxp//wAi1z954c1QfEnRoj401xnbSb9hMYbHegE1mCo/0bbg7gTkE/KMEc59Erm77/kqehf9gXUv/R9jQAf8Ivq//Q9+IP8Avxp//wAi0f8ACL6v/wBD34g/78af/wDItWvEGt3emS2dnpNhFf6heM/lQzXJgjCou5mZwjkdgPlOSR061d0fU4tZ0a01G3VkjuYhIEbGVz1Bx3B4oAyP+EX1f/oe/EH/AH40/wD+RaP+EX1f/oe/EH/fjT//AJFqGTx5apceIFW0keHRYo380MP9JZiy7UHoGXbnPXPpyf8ACXXsGiapLqGlQQ6rpzIhs4rwyRyNJjy8S+WCASwB+TIIPB7gE3/CL6v/AND34g/78af/APItH/CL6v8A9D34g/78af8A/ItOu9d1jTNGSbU9KsV1C4uktra3t9QeSFmc4UvK0KlR1zhG7dc1d8O6zJremyTXFqtrcQXEltPGkvmoHRtp2Pgbl98A+oBFAFD/AIRfV/8Aoe/EH/fjT/8A5Fo/4RfV/wDoe/EH/fjT/wD5FrpKKAOb/wCEX1f/AKHvxB/340//AORaP+EX1f8A6HvxB/340/8A+Ra6SigDm/8AhF9X/wCh78Qf9+NP/wDkWuf8feHNUg+G3iWWXxprlykek3TNDLDYhJAIWJVttsGwehwQfQivRK5v4j/8ks8V/wDYFvP/AEQ9AHP+AfDmqT/Dbw1LF401y2STSbVlhihsSkYMKkKu62LYHQZJPqTXQf8ACL6v/wBD34g/78af/wDItQ+BLqKx+D3hu7uDthg0G1kc+irbqT/KrPhzxJd6vcyW2qabHp05t47uBI7nzt8L5wW+VdrgggryBxhjQAz/AIRfV/8Aoe/EH/fjT/8A5Fo/4RfV/wDoe/EH/fjT/wD5Fp+ueIdS0W8SQ6PHLpQmihkuTeBZi0jBQY4gpDAFhnLKeuAeM15PGM6eITarpkbaet+unPc/af3wnZA3EOzBTBHzb89TtwM0AS/8Ivq//Q9+IP8Avxp//wAi0f8ACL6v/wBD34g/78af/wDItS6brWr6nrN0kOmWK6Tb3L25u2v385igwSIvJ243ZH+s7Z9qr6H4um1bVYoZ9OS2s71JZNOuFud7TrG21t6bRsJyGGC2R1weKAH/APCL6v8A9D34g/78af8A/ItH/CL6v/0PfiD/AL8af/8AItdJRQBzf/CL6v8A9D34g/78af8A/ItH/CL6v/0PfiD/AL8af/8AItdJRQBzf/CL6v8A9D34g/78af8A/Itc/Z+HNUPxJ1mIeNNcV10mwYzCGx3uDNeAKf8ARtuBtJGAD8xyTxj0Subsf+Sp67/2BdN/9H31AB/wi+r/APQ9+IP+/Gn/APyLR/wi+r/9D34g/wC/Gn//ACLTfEHi2XR9QlgtdPS7isrZbvUJGuPLMMJYgFBtO9vlY7SV4HXJxW3qFzdQ6a82l2YvrggeVCZhErE92cg4UdSQCcdATxQBjf8ACL6v/wBD34g/78af/wDItH/CL6v/AND34g/78af/APItVx4xu10qczaVEuqQ6gunfZ1uy1u0zAFT53lg7MMMnZkHjBoHi++m0WCS10q3bVJdQbTvssl6Vh8xN29hMIySoCE52Z7ECgCx/wAIvq//AEPfiD/vxp//AMi0f8Ivq/8A0PfiD/vxp/8A8i0mo+ItWsEsbRdItJ9YuY5Z3tkv2EMcceNxEpiyT8ygAoMk8kAZrb0zUIdW0q11C1z5N1CsqZ64YZGfzoAxf+EX1f8A6HvxB/340/8A+RaP+EX1f/oe/EH/AH40/wD+Ra6SigDm/wDhF9X/AOh78Qf9+NP/APkWj/hF9X/6HvxB/wB+NP8A/kWukooA5v8A4RfV/wDoe/EH/fjT/wD5Fo/4RfV/+h78Qf8AfjT/AP5FrpKKAOb/AOEX1f8A6HvxB/340/8A+RaP+EX1f/oe/EH/AH40/wD+Ra6SigDm/wDhF9X/AOh78Qf9+NP/APkWuf8AGnhzVIdBtmk8aa5ODq2mqEkhsQATfQAN8tsDlSQw7ZAyCMg+iVzfjz/kXbX/ALDWlf8Apwt6AD/hF9X/AOh78Qf9+NP/APkWj/hF9X/6HvxB/wB+NP8A/kWtDxBrD6NpqS29sLq6nmS3toGk8tZJHOAC2DtHUk4PAPBpdA1d9Y095bi3W1uoJnt7mBJfMWORDggPgbh0IOAcHoOlAGd/wi+r/wDQ9+IP+/Gn/wDyLR/wi+r/APQ9+IP+/Gn/APyLToPEeop4hi0/V9Hjs4rqOWS1eO786QiPGfNQKAmQRjazjsSDVfw/4xm1i9hju9NS1t7yzN9ZyxXJmZogQP3q7F8tvmHALjrzxQBN/wAIvq//AEPfiD/vxp//AMi0f8Ivq/8A0PfiD/vxp/8A8i1DbeOYrvSvEF+mm3MMejkhUuQYnuP3QcHaRlAd2BkZ747Vs6NcaxcW7vrun2VjJkeWlpevcgjHctFHg+wB+tAGZ/wi+r/9D34g/wC/Gn//ACLR/wAIvq//AEPfiD/vxp//AMi10lFAHN/8Ivq//Q9+IP8Avxp//wAi0f8ACL6v/wBD34g/78af/wDItdJRQBzf/CL6v/0PfiD/AL8af/8AItH/AAi+r/8AQ9+IP+/Gn/8AyLXSUUAc3/wi+r/9D34g/wC/Gn//ACLR/wAIvq//AEPfiD/vxp//AMi10lFAHIfDj/kmnhn/ALA1n/6ISij4cf8AJNPDP/YGs/8A0QlFMRJo/wDyVHxB/wBgjTv/AEde1y/jvwp4o1fWr/VNAtIxeRTWUVhJLKmAi+Z5smNwI2+aeMgnbxmtYa9aaJ8Uda+2w6hL52kaft+xabcXeMTXmd3ko23rxnGecdDWz/wnmkf8+fiD/wAJzUP/AIxSGcX/AMIbr+i+G9Rs9I0tLhJtTgQIVt5ZvskSIoljWY+V5m5S3z9CScZxVe18F+JIdNXUL+wur+4fxN/ad7YyzWxmuoUTZEcqUh3DCPjKjK9z17z/AITzSP8Anz8Qf+E5qH/xij/hPNI/58/EH/hOah/8YoA52+8Iz+K9d8Pza54XttP06GW6vr61EsUqvMyhIxKFwHZlLFsbl4xuPfNbwPrBhv8Aw/DpKwxXmupqJ1kPF5SwIysiqgbzBIoQIBt2jrmu0/4TzSP+fPxB/wCE5qH/AMYo/wCE80j/AJ8/EH/hOah/8YoA5vxX8O767sr6Gw1fWtUTWtQtjd21/eq8FrbrLvkESEAKCPlxycYrsbDw3ovh2C5fw3oWn6fNLH8wsrWOEykA7QSoGeT39apf8J5pH/Pn4g/8JzUP/jFH/CeaR/z5+IP/AAnNQ/8AjFACfD3R7zQvAWmWWqQiC/EZkuow4bbK7F2GRkHluopbH/kqeu/9gXTf/R99R/wnmkf8+fiD/wAJzUP/AIxXP2fjTS1+JOs3Btdc2SaTYIANAvi4KzXhOU8ncB8wwSMHkAnacAGp4q0/V/7SuZ9H06S/GpaadPYpLGgtn3HbI+8jKYds7dzccKc8amo6XeXvhyTRbGf7G6wRxC7mhEsci9GXYrq3IGDyv3uDVf8A4TzSP+fPxB/4Tmof/GKP+E80j/nz8Qf+E5qH/wAYoA5608N+KLKPU7q9W0vpY9Ziv7aCygFv9oRY0Rgu+VwuRkBWI5Xk4IxZn8PteaB5+v8AhP8Atoz6nJfvpTzwl4dwKrlWYQyEDGQXwMkgsQM7H/CeaR/z5+IP/Cc1D/4xR/wnmkf8+fiD/wAJzUP/AIxQBzaeGdQt9H04Xfh5tQ0uOe4d/DiywsIEdg0Iw7rE3l4Py7sKW+XO0V2fhm0v7Hw9bwatIXugWYgybzGpYlULH7xVSFz3xVD/AITzSP8Anz8Qf+E5qH/xij/hPNI/58/EH/hOah/8YoA6Siub/wCE80j/AJ8/EH/hOah/8Yo/4TzSP+fPxB/4Tmof/GKAOkorm/8AhPNI/wCfPxB/4Tmof/GKP+E80j/nz8Qf+E5qH/xigAvv+Sp6F/2BdS/9H2NP8SQ6hb6npusaXp82pvaCaKS0gkjSRlkUYYGRlXhkXILDgnGcYPOXnjTS2+JOjXAtdc2R6TfoQdAvg5LTWZGE8ncR8pyQMDgEjcM9B/wnmkf8+fiD/wAJzUP/AIxQBJpWmajYeD7XRkcwXps2Vr1VV44JT7blLcscYGPl5I4rmLfwX4kWTxBaXd3pz211pMNpayW1m0AZ08zH3ppCMbuSRzu46HPR/wDCeaR/z5+IP/Cc1D/4xR/wnmkf8+fiD/wnNQ/+MUAZE+j3muW2rX2u+GJJ47lLaL+x57qIPMsLFidyMUOSxwrMA2Pm2gnFGPwxfJo9ybLw61lpUmoJM3hlZYF82ARlHTar+SN7EOU37TjkgsRXS/8ACeaR/wA+fiD/AMJzUP8A4xR/wnmkf8+fiD/wnNQ/+MUATeEbK9stNuBeW7WMMtwz2lgzqxs4cACPKkqOQTtUlRnAOBW9XN/8J5pH/Pn4g/8ACc1D/wCMUf8ACeaR/wA+fiD/AMJzUP8A4xQB0lFc3/wnmkf8+fiD/wAJzUP/AIxR/wAJ5pH/AD5+IP8AwnNQ/wDjFAHSUVzf/CeaR/z5+IP/AAnNQ/8AjFH/AAnmkf8APn4g/wDCc1D/AOMUAdJRXN/8J5pH/Pn4g/8ACc1D/wCMUf8ACeaR/wA+fiD/AMJzUP8A4xQB0lFc3/wnmkf8+fiD/wAJzUP/AIxR/wAJ5pH/AD5+IP8AwnNQ/wDjFAHSVzd9/wAlT0L/ALAupf8Ao+xo/wCE80j/AJ8/EH/hOah/8Yrn7zxppbfEnRrgWuubI9Jv0IOgXwclprMjCeTuI+U5IGBwCRuGQDo/EkOoW+p6brGl6fNqb2gmiktIJI0kZZFGGBkZV4ZFyCw4JxnGCuk6XqFh4Qt9GWQ2979iYG9VVkjhlPtuBbBYkcAcdRUf/CeaR/z5+IP/AAnNQ/8AjFH/AAnmkf8APn4g/wDCc1D/AOMUAczF4M8Txy63DPc6bNBJp1rFaG2tGtxJJE7MF+aaQj3JHO4Hsc6UukXWtadrV7rnhmSdL+WAjRri6iEjxw46sjGMktkhS+0jAYjJxqf8J5pH/Pn4g/8ACc1D/wCMUf8ACeaR/wA+fiD/AMJzUP8A4xQBzUfhi+TR7k2Xh1rLSpNQSZvDKywL5sAjKOm1X8kb2Icpv2nHJBYiur8I2V7ZabcC8t2sYZbhntLBnVjZw4AEeVJUcgnapKjOAcCof+E80j/nz8Qf+E5qH/xij/hPNI/58/EH/hOah/8AGKAOkorm/wDhPNI/58/EH/hOah/8Yo/4TzSP+fPxB/4Tmof/ABigDpKK5v8A4TzSP+fPxB/4Tmof/GKP+E80j/nz8Qf+E5qH/wAYoA6Sub+I/wDySzxX/wBgW8/9EPR/wnmkf8+fiD/wnNQ/+MVz/j7xppd18NvEtvFa64rzaTdIpl0C+jQEwsBudoQqj1JIA6k0Aang+xOp/BHQbAPsN14et4Q393dbqM/rTvD8OsnUJtU1XR57R7fT4rKO286F2uGUlndSrbQpJAG4qeuQtZPgHxppdr8NvDVvLa64zw6Taoxi0C+kQkQqDtdYSrD0IJB6g10H/CeaR/z5+IP/AAnNQ/8AjFAFPxhZahrEqWNv4dMs6urWOtLNEBYsSNzncwkVgAeEDBuASASBQfQdY/4SaR10xzetqCzR+IDNHhLTcrG3xu8wcAr5YXYSd2c1t/8ACeaR/wA+fiD/AMJzUP8A4xR/wnmkf8+fiD/wnNQ/+MUAYcHhZY/GEE+neERpFxHfSXN3raXET/ao23ZQNu819xYZV1VV2nB+Vc2/DmkavBqmmW1/YSW1rocE8KXTSxst4XICFApLABRzuC8kAbutaP8Awnmkf8+fiD/wnNQ/+MUf8J5pH/Pn4g/8JzUP/jFAHSUVzf8Awnmkf8+fiD/wnNQ/+MUf8J5pH/Pn4g/8JzUP/jFAHSUVzf8Awnmkf8+fiD/wnNQ/+MUf8J5pH/Pn4g/8JzUP/jFAHSVzdj/yVPXf+wLpv/o++o/4TzSP+fPxB/4Tmof/ABiufs/Gmlr8SdZuDa65sk0mwQAaBfFwVmvCcp5O4D5hgkYPIBO04ANDxTpOrTajqS6ZYvdxa1p6WLSrLGq2jKz/ADuGIJXbIfuhjlcY5zXR3k93aafMtlpcl89uiBYjKifaB/EEJONwHZtoJwMgcjM/4TzSP+fPxB/4Tmof/GKP+E80j/nz8Qf+E5qH/wAYoA5tPDWo/wBkXTW3h9rTS5dRSY+GhLCPNgEZWRMK5hG9zvKb9rY5OWNWH8ONPoKf234Q/tezS/a4tNEaaFmsoymxV2M4hfB3Hbv2qG+XOAK3P+E80j/nz8Qf+E5qH/xij/hPNI/58/EH/hOah/8AGKAMGx0PWtAtNOvbLSJLgxx3cC6XDcRA2kcrq8ShnYLtTYFIUnGflDAAV2Ph7TX0fw3p2nTOJJLW2SJ2HQsFAOPxrM/4TzSP+fPxB/4Tmof/ABij/hPNI/58/EH/AITmof8AxigDpKK5v/hPNI/58/EH/hOah/8AGKP+E80j/nz8Qf8AhOah/wDGKAOkorm/+E80j/nz8Qf+E5qH/wAYo/4TzSP+fPxB/wCE5qH/AMYoA6Siub/4TzSP+fPxB/4Tmof/ABij/hPNI/58/EH/AITmof8AxigDpKK5v/hPNI/58/EH/hOah/8AGKP+E80j/nz8Qf8AhOah/wDGKAOkrm/Hn/Iu2v8A2GtK/wDThb0f8J5pH/Pn4g/8JzUP/jFc/wCNPGml3Og2yR2uuAjVtNcmTQL5Bhb6Bjy0IGcA4HUnAAJIFAHU+KbO7uNPtbjTrdrq4sbyO6FujqrTBSQygsQoJUnGSBnuOtR+G4L6zs5Zr+xlin1K+luHg3xsbVW+6HIbBOFUHaW5Pcc1F/wnmkf8+fiD/wAJzUP/AIxR/wAJ5pH/AD5+IP8AwnNQ/wDjFAGdLp2qap4thvYdCOh3MCSpc6oJYnF4mwrGilDvdQxDfvFXbt461D4Q0bVLPVLR5dHk0gQWzx6lO9xHJ/ak/wAoWX5GZn+6x3yBXwwGOTjX/wCE80j/AJ8/EH/hOah/8Yo/4TzSP+fPxB/4Tmof/GKAKs3h+a4XxZHf6Ut/a6lcRtHbPcCMXMYhjVhkdOVIwcZxzgHNO8GaM2m3eo3Ftof/AAjmnXHlrDpY8kbXUHfLthZkUtlRwTnbk81Y/wCE80j/AJ8/EH/hOah/8Yo/4TzSP+fPxB/4Tmof/GKAOkorm/8AhPNI/wCfPxB/4Tmof/GKP+E80j/nz8Qf+E5qH/xigDpKK5v/AITzSP8Anz8Qf+E5qH/xij/hPNI/58/EH/hOah/8YoA6Siub/wCE80j/AJ8/EH/hOah/8Yo/4TzSP+fPxB/4Tmof/GKAOkorm/8AhPNI/wCfPxB/4Tmof/GKP+E80j/nz8Qf+E5qH/xigCp8OP8Akmnhn/sDWf8A6ISij4cf8k08M/8AYGs//RCUUxEmj/8AJUfEH/YI07/0de11dcpo/wDyVHxB/wBgjTv/AEde1ynilbTXPjJ9lu/CcniiLSNHBa22WzpHJNJkMRPIoziPqMmkM9WoryTQrnxh4YuNO8H6Np+mfaJre51GVLqWRodNjaceXCCp5CqWGFGCQMYHNWNK+KOsahqlvdLpcsujS3E8Uwj0m6U20Uatidrk/unBZMbAONw+Y4NAHqdFcRpHiTxJdeHv+Eo1FNLi0aewkvEtVSRbi3AXdGGfcVkyOuAmD0zXJp4u1vwn4W0KK00yy0e0utOF7NezWN1dWYuZGBMTOkheAEvne+/r04oA9jory7W/Fc2n+NtSvItKs7m+s7ay020lWV/9fcuSyschTGMK2QoY468irOp+Pdc0PTfFNtdrp19q2jpbm2mgheKCZ5+ERkMjMCG64fkEdKAPSK5ux/5Knrv/AGBdN/8AR99VXw14h1y98Z6xomtQ2JSxtredZbRGXy3kDExNuY7yMA7gFznoKtWP/JU9d/7Aum/+j76gDpKK4HxrYWuq61qI1ONZV03RGurPemfImLN++Q9nGxcMORzjrWn4rvLr/hXIlUSGa5W2ilER2uRI6K4ByNpIYjOeM0AdXRXl11bWdrpdx4ai8PWmk3El9ag6bZymSyu1YkhWyqBVYRsH+TPHR+AdXQtAsL/w3qOjXulWdybG+dv7IlYiyhcoGWJflIaIbgQSnBOdikAAA7yivMJbOe4+C+q2ZvLqwfTkvI7iG1kG3KbyIUfGfKGQARtJAAO3la9H0/8A5Blr/wBcU/8AQRQBYooooAKKKKAObvv+Sp6F/wBgXUv/AEfY10lc3ff8lT0L/sC6l/6Psag8Vadaa54i0TSdYt47vTpUuZpLaaPfHK6qoXcDwcb2Iz3APUUAdXRXHWOpXlv8HTfxyu91BpcjxyMCWJVTtbnkngGufhSz8O6FqtqdH/sG4utIaeO8064M0lwOFLyjCDz9zqclmzk/vOtAHqNFefeHfDlil9quh6jpVrZR3VrBM+lWbn7LIoZgXYgLlnIAdSuCABlxmpfDGmSrpviDQ0J0KSG83eRpbq0NtE6KQsLFBgMASfkUgs2AOGIB3lFc58PRj4c6EMscWUfLMSTx3J5NdHQAUUUUAFFFFABRRRQAUUUUAFc3ff8AJU9C/wCwLqX/AKPsa6Subvv+Sp6F/wBgXUv/AEfY0AdJRXKeKtOtNc8RaJpOsW8d3p0qXM0ltNHvjldVULuB4ON7EZ7gHqKhsdSvLf4Om/jld7qDS5HjkYEsSqna3PJPANAHY0V5V5VnoOg6jY/2MNDub7TQ8V1p9wZnugXVN0w+QecWkXJLNkMfnrY8N+H7AS634fv9KtLKKRIJ30eyc/Ywh3AEEBd28od6lADjBDDkgHe0VwfhjTJV03xBoaE6FJDebvI0t1aG2idFIWFigwGAJPyKQWbAHDHZ+Hox8OdCGWOLKPlmJJ47k8mgDo6KKKACiiigArm/iP8A8ks8V/8AYFvP/RD10lc38R/+SWeK/wDsC3n/AKIegA+HH/JLPCn/AGBbP/0QldJXFeGbia0+A2j3FqSs8PhqB4yOoYWykGk8H6ZZaH4hNnpESQ29xpFvczrGm0STbmBlb1dh1PU4GelAHbUV5nrWyTxVrerapoEOp2+jzQot1JcGOazi8tHLW4Ck7tzEthkyABlsYrU1LR9LuPGtkdB0+P8AtmO6S61DUwMyQw4P7t5D8x3jAEecAc4AAoA7iivMfD7KNet9c1Tw/C015qlxarq63JF0riSREjKBf9RtQADeecEoOo3tGspLP4o6wZ765vHm023kzOwxGDLLhUUABVAHpk9SSaAOwooooAKKKKACubsf+Sp67/2BdN/9H31dJXN2P/JU9d/7Aum/+j76gDpKK868aWsN7quvXN4ivNpGjx3OnOyZNtKWlJkQ9myijI5wMdM1ueOLi4Hg+JI4nla8ubW3mjjbYXSSVVZc5GAQSCfQnrQB1NFcBYWfhyHQtU07xD4esdKtdOuUkuNPt5mnspCyDYUTaobdkfJ5Yy/OCcE5kml3kWj6Lo76JE9lqOpXM0Wi3MgjgiiCM8UMuAwVBjcUCtg4GCAaAPUqK801u3S9+D98tiLnQ4tOS4jm0+1mDRl0JBjDkZ8oHkBdnGAQBla9Ii/1Kf7ooAfRRRQAUUUUAFFFFABRRRQAVzfjz/kXbX/sNaV/6cLeukrm/Hn/ACLtr/2GtK/9OFvQB0lFc342hS807T7C5Ae0vdSgguY2XKyRkklGHdSQAQeCDijwZElppuo2NqgjtbLUZ4LWJVwscYIIRR2UEkADgAYFAHSUV5l4QSFLzTNS1HQYobrWzMv9rw3TfaZpCGYrKoAIj2qdnztt2rwpxjR0LQtIk8UXcnhrT0sdGS0ktLy4tswi+mLDkOpDOyAMDLnOWIByDQB3lFeVXVra2Ona7qPg7Tl07RZbeGzBsVEIvZDMA8yAYHCttEmfmPfABrqfBtvaaVe6jpEGgWmhTQCOVoNPnMlu6NuCuPkQB/lIb5QTgct1oA6yiiigAooooAKKKKACiiigDkPhx/yTTwz/ANgaz/8ARCUUfDj/AJJp4Z/7A1n/AOiEopiJNH/5Kj4g/wCwRp3/AKOva3rXSLGz1S91G2g2Xd9s+0Sb2O/YMLwTgYHpiuPEGuTfFHWv7B1HT7LGkaf5v22we53/AL68xt2zR7cc5znOR0xzs/YfG/8A0MPh/wD8EM//AMmUhmvHpFlFrc+rpDi+uIUt5JS7HMaFio25wOWPIGT36Cs608FeH7HVHv7bTwJXMjBGmd4YzJ/rCkTMUQtzkqoJyc9TUP2Hxv8A9DD4f/8ABDP/APJlH2Hxv/0MPh//AMEM/wD8mUAMtvh14XtbO6tYdOk8m6tjaOr3cz+XAesUZZyYk/2U2jp6Cn3HgDw3c3huZLGVSyRpLFFeTRwziPhPMiVwkmBx84PAAo+w+N/+hh8P/wDghn/+TKPsPjf/AKGHw/8A+CGf/wCTKALNz4N0G8i1OO5sA41SVJromVwWdAAjKd2UK7RgpjBGRzzUS+BvDy6U2ntYvJA92l7IZbmWSSWZGDK7yMxdyCq/eJGAB0GKj+w+N/8AoYfD/wD4IZ//AJMo+w+N/wDoYfD/AP4IZ/8A5MoA1rLRrHT9Qv760gKXOoOslzIXZi5VQq9ScAAdBgfnWTY/8lT13/sC6b/6PvqPsPjf/oYfD/8A4IZ//kyufs7Pxj/wsnWVXXdDFwNJsC8h0WYoy+debQF+1ZBBDZOTnI4GCSAdfrPhnStfkgk1W3eVoMhSk8kW5SQSj7GG9CQMo2VOORVu4020u4riK6iM0Vwgjkid2KFRnoucDr1AB6egrF+w+N/+hh8P/wDghn/+TKPsPjf/AKGHw/8A+CGf/wCTKALCeDtFXSZtPNvPJFNIsryzXk0k5dcbW89nMgK4GCGyO2KVvB+itpKaf9nnWJJfPEyXky3Hmd388P5u4jgtuyRweOKrfYfG/wD0MPh//wAEM/8A8mUfYfG//Qw+H/8AwQz/APyZQBpQ+HtLg8PvokVtjT5I3jkjMjFnD53FnJ3FjkksTkk5zmtCONYoljjGERQqj0ArnfsPjf8A6GHw/wD+CGf/AOTKPsPjf/oYfD//AIIZ/wD5MoA6Siub+w+N/wDoYfD/AP4IZ/8A5Mo+w+N/+hh8P/8Aghn/APkygDpKK5v7D43/AOhh8P8A/ghn/wDkyj7D43/6GHw//wCCGf8A+TKAC+/5KnoX/YF1L/0fY1p6zoOn6/apBqccrLG++N4LiSCRDgg7XjZWGQSDg8g4NcZeWfjH/hZOjK2u6Gbg6TflJBoswRV86z3Ar9qySSVwcjGDwcgjoPsPjf8A6GHw/wD+CGf/AOTKANqPTLSGGGGKLZBBCYEgViIwmAMFM7TwAORxzjqaz7PwjoljDdwxWbSx3kflSpczyTjy+f3a+YzbE5PyLhR6VV+w+N/+hh8P/wDghn/+TKPsPjf/AKGHw/8A+CGf/wCTKAJoPBWhQafcWYtp5UuQoklnvJppsLymJncyLtPK4YbTyMGr2k6FYaJaSW+nxSBZnMksk08k0krHjLSSMzscADknAAHQVl/YfG//AEMPh/8A8EM//wAmUfYfG/8A0MPh/wD8EM//AMmUAben6fbaVp0FjYR+VbW6COJNxbao6DJyT+NWa5v7D43/AOhh8P8A/ghn/wDkyj7D43/6GHw//wCCGf8A+TKAOkorm/sPjf8A6GHw/wD+CGf/AOTKPsPjf/oYfD//AIIZ/wD5MoA6Siub+w+N/wDoYfD/AP4IZ/8A5Mo+w+N/+hh8P/8Aghn/APkygDpKK5v7D43/AOhh8P8A/ghn/wDkyj7D43/6GHw//wCCGf8A+TKAOkorm/sPjf8A6GHw/wD+CGf/AOTKPsPjf/oYfD//AIIZ/wD5MoA6Subvv+Sp6F/2BdS/9H2NH2Hxv/0MPh//AMEM/wD8mVz95Z+Mf+Fk6Mra7oZuDpN+UkGizBFXzrPcCv2rJJJXByMYPByCADs9Z0HT9ftUg1OOVljffG8FxJBIhwQdrxsrDIJBweQcGp4tNtIIooYYdkEUH2dIAx8sJxxsztPAxnGccd6xfsPjf/oYfD//AIIZ/wD5Mo+w+N/+hh8P/wDghn/+TKALNt4O0O1tru3SzaWK8j8qVbi4kmxH2jTex2IM8KuAOwFJF4O0WHTLmw+zzSx3JUyyz3k0s7FfunzmcyAr/CQ3y9sVX+w+N/8AoYfD/wD4IZ//AJMo+w+N/wDoYfD/AP4IZ/8A5MoA1NJ0Kw0S0kt9PikCzOZJZJp5JpJWPGWkkZnY4AHJOAAOgqfT9PttK06CxsI/KtrdBHEm4ttUdBk5J/GsT7D43/6GHw//AOCGf/5Mo+w+N/8AoYfD/wD4IZ//AJMoA6Siub+w+N/+hh8P/wDghn/+TKPsPjf/AKGHw/8A+CGf/wCTKAOkorm/sPjf/oYfD/8A4IZ//kyj7D43/wChh8P/APghn/8AkygDpK5v4j/8ks8V/wDYFvP/AEQ9H2Hxv/0MPh//AMEM/wD8mVz/AI+s/GK/DbxK15ruhy240m6MscWizI7L5LZCsbpgpI6Eg49D0oA3/h0of4U+FVcBlbRbQEEZBHkJV3TPCmkaNb3MOmwzwrcgK7G7mZwo4VEdmLIoycKpAGTgDNcn4Bs/GLfDbw01nruhxW50m1MUcuizO6r5K4DMLpQxA6kAZ9B0roPsPjf/AKGHw/8A+CGf/wCTKAL1/wCGNJ1LUo768t5GmTbkLcSJHLtOV8yNWCyYPTeGx2qvB4L0e21aXUrY6lDPNcG5kWPVrpYnkPUmISbD06bcVD9h8b/9DD4f/wDBDP8A/JlH2Hxv/wBDD4f/APBDP/8AJlAF6PwxpMWt/wBqpbuLkMzhftEhiVzwXEW7yw5GcuF3HJ55NXV061TVJNRWLF3LCsDybjyikkDGcdWPOO9Yn2Hxv/0MPh//AMEM/wD8mUfYfG//AEMPh/8A8EM//wAmUAdJRXN/YfG//Qw+H/8AwQz/APyZR9h8b/8AQw+H/wDwQz//ACZQB0lFc39h8b/9DD4f/wDBDP8A/JlH2Hxv/wBDD4f/APBDP/8AJlAHSVzdj/yVPXf+wLpv/o++o+w+N/8AoYfD/wD4IZ//AJMrn7Oz8Y/8LJ1lV13QxcDSbAvIdFmKMvnXm0BftWQQQ2Tk5yOBgkgHX6p4a0rWbyC61G3aSWDhds8kYdchtrqrASLkA7WBGe1WrvS7S+huIryNpo7gASI8jFRjoVGflPfK4OQD1ArG+w+N/wDoYfD/AP4IZ/8A5Mo+w+N/+hh8P/8Aghn/APkygB8vgXQZtNSxkhvDGlyLoSjUrkTmUDAczCTzGIHAyxwAB2FWD4V0ttJGnS/bpoVk81JZtRuJJ436ZSZnMinBI4YcEjuaqfYfG/8A0MPh/wD8EM//AMmUfYfG/wD0MPh//wAEM/8A8mUAaX/CP6Z/YD6L9m/4l8iNG8XmNlw3LEtncSSSSxOSSSTWiAFUAdAMCuc+w+N/+hh8P/8Aghn/APkyj7D43/6GHw//AOCGf/5MoA6Siub+w+N/+hh8P/8Aghn/APkyj7D43/6GHw//AOCGf/5MoA6Siub+w+N/+hh8P/8Aghn/APkyj7D43/6GHw//AOCGf/5MoA6Siub+w+N/+hh8P/8Aghn/APkyj7D43/6GHw//AOCGf/5MoA6Siub+w+N/+hh8P/8Aghn/APkyj7D43/6GHw//AOCGf/5MoA6Sub8ef8i7a/8AYa0r/wBOFvR9h8b/APQw+H//AAQz/wDyZXP+NLPxiug2xutd0ORP7W00BY9FmQhvt0G05N0eA2CRjkAjIzkAHc6nplprGnyWWoRmSCTBIV2RlIOQyspDKwIBBBBB6VHYaLZaZZW9pYpLFDbuXQefISzHOS7FsyEliTuJyeevNZX2Hxv/ANDD4f8A/BDP/wDJlH2Hxv8A9DD4f/8ABDP/APJlAFuLwlo0F9PdxW0gkmVwV+0ymOPf98xx7tsZbuUCk5JPWqth4C0LTbKSztRqX2SS2a1NvLq93LGsZGCqo8pC8cAgAjsaT7D43/6GHw//AOCGf/5Mo+w+N/8AoYfD/wD4IZ//AJMoAn0/wdo+m2s1tCt9PbTQ+Q9ve6lcXUez0CSyMo/ACrmkaFYaHFImnpNmVg0ktzcyXEr4GBmSRmYgDoCcDtWZ9h8b/wDQw+H/APwQz/8AyZR9h8b/APQw+H//AAQz/wDyZQB0lFc39h8b/wDQw+H/APwQz/8AyZR9h8b/APQw+H//AAQz/wDyZQB0lFc39h8b/wDQw+H/APwQz/8AyZR9h8b/APQw+H//AAQz/wDyZQB0lFc39h8b/wDQw+H/APwQz/8AyZR9h8b/APQw+H//AAQz/wDyZQB0lFc39h8b/wDQw+H/APwQz/8AyZR9h8b/APQw+H//AAQz/wDyZQBU+HH/ACTTwz/2BrP/ANEJRR8OP+SaeGf+wNZ/+iEopiJNH/5Kj4g/7BGnf+jr2rWteLl0nxBaaLbaPqOrX91bvcrHZeSAkaMqks0siAcsMAE96q6P/wAlR8Qf9gjTv/R17WBqvh/xLrPxH8QalpGqXuiGz0qK006dbWJ455G3O2fNjYMoOwHaQfekM7Tw94ht/EdlNPb29xay21w9tcW1yFEkMi9VO1mU9Qcgkc1rV4dd6JqcnhvwxLLpFxFp7rcXGs2eo6VPqjPfNj5pIEZGcEhyrfcHy8AYq+NEnsLbw7aeMNK1TXdEt9LlK2X9mmcm6ZxsSSJGkClYztUs21efmB6AHsVc3rfjrSdButTt7xbl30zTxqFx5KBsRliqqORliQcDp715f4/0i+vo5dH03wtcQpZaZDBpst1YXOpSjecMY5VkMcDx8ZYl3OOOAK0tb8P6zqF54hVNPu5Gvr/TNMWZ4W/eW0W15Zc/3eX+bpnNAHr8Eont45QrKJFDBW6jIzg0+gAAADoKKACubsf+Sp67/wBgXTf/AEffV0lc3Y/8lT13/sC6b/6PvqALmv8AinS/Da2w1Kcia7mSGCCMbpJCzBchf7oLDLdB+VXdU1K30fSrjUL0sIbdC7bRlj6ADuSeAPU1keN7Sa78OhLW3eeb7ZanbGhZtouIyTx2ABJ+lP8AF0Ut/wCHb22s4JZ7iDyrjyxEcSBZA+1ScBiQhGAe4zjNAFzRNbTWoJybK6sLm2l8qe0uwnmRNgMMlGZSCpBBDHr65Fadc34Wd77Uda1cW1zbW17PGIFurZ4JGVIwpYo4DD5sgZAzjPQg10lABRRRQAUUUUAFFFFAHN33/JU9C/7Aupf+j7Gr/iLxJpnhbR5dS1ifyoYwdqKN0krAE7UXqzYB4H16CqF9/wAlT0L/ALAupf8Ao+xq14xtpLvwVrMNvC0072MyRoibmZihAAA5JNAGp9rhWw+2SN5cIi81mb+FcZyfwrK8P+J4PEDSotje2EiRpMiXioDLC+dki7Wbg4PBwwxyBxS6hbveeFZdJRXW5utPeNMxttU7NuGbGFOSOCcnnHQ1k+FJJtS11tQOn3dlFb6bDZOLu0eBjKGZmChgNyrwNwypzwTzQB2FFFFABRRRQAUUUUAFFFFABRRRQAUUUUAFc3ff8lT0L/sC6l/6Psa6Subvv+Sp6F/2BdS/9H2NAF/xF4k0zwto8upaxP5UMYO1FG6SVgCdqL1ZsA8D69BV/wC1wrYfbJG8uEReazN/CuM5P4Vl+MbaS78FazDbwtNO9jMkaIm5mYoQAAOSTRf273vhabSY1dbm4050XdG20EptwWxgHJ6E56+lACeH/E8HiBpUWxvbCRI0mRLxUBlhfOyRdrNwcHg4YY5A4rbrj/Ckk2pa62oHT7uyit9NhsnF3aPAxlDMzBQwG5V4G4ZU54J5rsKACiiigAooooAKKKKACub+I/8AySzxX/2Bbz/0Q9dJXN/Ef/klniv/ALAt5/6IegBPh0Qvwq8KliABotmST2/cJV7QfE+meJXvv7Hma4jsphA8wX93IxUNlD/EuGHI4PbNUfhyAfhX4VBGQdFs8g/9cEo0WOTT9c8U3NzbzpA93E8ZWBm8xRbxglAAS3II4zyKAJ9Q8W2mn64unPaXkyq0S3N3EqGG1aU4jD5YN8x/uq2MgnAOa3q4DXre6GsatpiWF1M+tXNpNbzx2rvEqoUEm+QDahURk4YjORjJ4rv6ACiiigAooooAKKKKACubsf8Akqeu/wDYF03/ANH31dJXN2P/ACVPXf8AsC6b/wCj76gC5rXinStAu7G0v5/9Lvpkigt4/mkbcwXdjsoLDLHjkDqQDb1fVLfRdLmvrsO0ceAEjGWkYkKqqDjkkgD61leMrSa602y+y27zSLqdm7eWhYhFnUknHYDJ9qXxekl5osiWlvNPLZXNtdPEsLHzFSVXITjDnCngEnOB3oA0NG1iPWbWSQW1xZzQSmGe1uQvmQuMHB2MynggggkEEc1o1zvhNZJ5tZ1Q281vDqF75sCXEDQyFFiRNzI4DLkqeCAcY4roqACiiigAooooAKKKKACiiigAooooAK5vx5/yLtr/ANhrSv8A04W9dJXN+PP+Rdtf+w1pX/pwt6ANXWtXh0TTTdzRTTkusUUEABkmkY4VF3EDJJ7kAdyBRo+rRazpwuooZrZg7RywXAAkhdThlbBIyCOoJB6gkVn+L45Rp9jeRW8twthfw3MsUMRlkKAkMVReWIDZwATxwCaj8Ks0dlc3VxbXEA1TUZp4I5LZ1dUP3S64ymQufmx1AOCcUASaZ4vtdTvBGtle29rMXFrfTqghu9md2zDlxwCRvVcgZGaZpPjOy1a5EQs7y0SW3a6tZrhU2XcIIBdNrMQOV4cK3I4rlbTR538SWdtoja6lvpctxP8AZ9Tt/LtrUlHRY45Ng80Mz5+/IFVeq5wW+HbGZ1jhttN1hGGlzQaqLi3MRWUhQEtjKAgBIbAi/ddCexoA6uy8YJcaLcave6NqWm6fFbi4Se6MB89CMjascrtkjHDBeoq/oeuJrUU+6xu9Pubdwk1peBPMjyAyn5GZSCCCCGPp1BFcDFpU0uk6hY+GYtek02GwQPDrQuC0k6SKyrELghvuqwO3CZK47113heRtQ1fWdZW1ura2vHhSFbu2e3kcRphmKOAwGSQMgZx6YNAHSUUUUAFFFFABRRRQAUUUUAch8OP+SaeGf+wNZ/8AohKKPhx/yTTwz/2BrP8A9EJRTESaP/yVHxB/2CNO/wDR17XV1wQ8OaH4g+KOtf29o2n6n5Gkaf5X221Sby9015nbuBxnAzj0FbP/AArjwR/0Jvh//wAFcH/xNIZ0lFc3/wAK48Ef9Cb4f/8ABXB/8TR/wrjwR/0Jvh//AMFcH/xNAHSUVzf/AArjwR/0Jvh//wAFcH/xNH/CuPBH/Qm+H/8AwVwf/E0AdJRXN/8ACuPBH/Qm+H//AAVwf/E0f8K48Ef9Cb4f/wDBXB/8TQB0lc3Y/wDJU9d/7Aum/wDo++o/4Vx4I/6E3w//AOCuD/4mufs/APg9viTrNq3hPQzbx6TYSJEdNh2KzTXgZgNuASEUE99o9BQB6JRXN/8ACuPBH/Qm+H//AAVwf/E0f8K48Ef9Cb4f/wDBXB/8TQB0lFc3/wAK48Ef9Cb4f/8ABXB/8TR/wrjwR/0Jvh//AMFcH/xNAHSUVzf/AArjwR/0Jvh//wAFcH/xNH/CuPBH/Qm+H/8AwVwf/E0AdJRXN/8ACuPBH/Qm+H//AAVwf/E0f8K48Ef9Cb4f/wDBXB/8TQB0lFc3/wAK48Ef9Cb4f/8ABXB/8TR/wrjwR/0Jvh//AMFcH/xNABff8lT0L/sC6l/6Psa6SvO7zwD4PX4k6Nar4T0MW8mk38jxDTYdjMs1mFYjbgkB2APbcfU10H/CuPBH/Qm+H/8AwVwf/E0AdJRXN/8ACuPBH/Qm+H//AAVwf/E0f8K48Ef9Cb4f/wDBXB/8TQB0lFc3/wAK48Ef9Cb4f/8ABXB/8TR/wrjwR/0Jvh//AMFcH/xNAHSUVzf/AArjwR/0Jvh//wAFcH/xNH/CuPBH/Qm+H/8AwVwf/E0AdJRXN/8ACuPBH/Qm+H//AAVwf/E0f8K48Ef9Cb4f/wDBXB/8TQB0lFc3/wAK48Ef9Cb4f/8ABXB/8TR/wrjwR/0Jvh//AMFcH/xNAHSUVzf/AArjwR/0Jvh//wAFcH/xNH/CuPBH/Qm+H/8AwVwf/E0AdJRXN/8ACuPBH/Qm+H//AAVwf/E0f8K48Ef9Cb4f/wDBXB/8TQB0lc3ff8lT0L/sC6l/6PsaP+FceCP+hN8P/wDgrg/+Jrn7zwD4PX4k6Nar4T0MW8mk38jxDTYdjMs1mFYjbgkB2APbcfU0AeiUVzf/AArjwR/0Jvh//wAFcH/xNH/CuPBH/Qm+H/8AwVwf/E0AdJRXN/8ACuPBH/Qm+H//AAVwf/E0f8K48Ef9Cb4f/wDBXB/8TQB0lFc3/wAK48Ef9Cb4f/8ABXB/8TR/wrjwR/0Jvh//AMFcH/xNAHSUVzf/AArjwR/0Jvh//wAFcH/xNH/CuPBH/Qm+H/8AwVwf/E0AdJRXN/8ACuPBH/Qm+H//AAVwf/E0f8K48Ef9Cb4f/wDBXB/8TQB0lc38R/8Aklniv/sC3n/oh6P+FceCP+hN8P8A/grg/wDia5/x94B8H2fw28S3Vn4T0OC4h0m6kili02FXjYQsQykLkEEZBFAHQfDj/klnhT/sC2f/AKISukrzvwD4B8H3nw28NXV54T0Oe4m0m1klll02FnkYwqSzErkkk5JNdB/wrjwR/wBCb4f/APBXB/8AE0AdJRXN/wDCuPBH/Qm+H/8AwVwf/E0f8K48Ef8AQm+H/wDwVwf/ABNAHSUVzf8AwrjwR/0Jvh//AMFcH/xNH/CuPBH/AEJvh/8A8FcH/wATQB0lFc3/AMK48Ef9Cb4f/wDBXB/8TR/wrjwR/wBCb4f/APBXB/8AE0AdJRXN/wDCuPBH/Qm+H/8AwVwf/E0f8K48Ef8AQm+H/wDwVwf/ABNAHSVzdj/yVPXf+wLpv/o++o/4Vx4I/wChN8P/APgrg/8Aia5+z8A+D2+JOs2reE9DNvHpNhIkR02HYrNNeBmA24BIRQT32j0FAHolFc3/AMK48Ef9Cb4f/wDBXB/8TR/wrjwR/wBCb4f/APBXB/8AE0AdJRXN/wDCuPBH/Qm+H/8AwVwf/E0f8K48Ef8AQm+H/wDwVwf/ABNAHSUVzf8AwrjwR/0Jvh//AMFcH/xNH/CuPBH/AEJvh/8A8FcH/wATQB0lFc3/AMK48Ef9Cb4f/wDBXB/8TR/wrjwR/wBCb4f/APBXB/8AE0AdJRXN/wDCuPBH/Qm+H/8AwVwf/E0f8K48Ef8AQm+H/wDwVwf/ABNAHSUVzf8AwrjwR/0Jvh//AMFcH/xNH/CuPBH/AEJvh/8A8FcH/wATQB0lFc3/AMK48Ef9Cb4f/wDBXB/8TR/wrjwR/wBCb4f/APBXB/8AE0AdJXN+PP8AkXbX/sNaV/6cLej/AIVx4I/6E3w//wCCuD/4muf8aeAfB9roNtJa+E9DhdtW02MtHpsKkq99ArLkL0KsQR3BI70AeiUVzf8AwrjwR/0Jvh//AMFcH/xNH/CuPBH/AEJvh/8A8FcH/wATQB0lFc3/AMK48Ef9Cb4f/wDBXB/8TR/wrjwR/wBCb4f/APBXB/8AE0AdJRXN/wDCuPBH/Qm+H/8AwVwf/E0f8K48Ef8AQm+H/wDwVwf/ABNAHSUVzf8AwrjwR/0Jvh//AMFcH/xNH/CuPBH/AEJvh/8A8FcH/wATQB0lFc3/AMK48Ef9Cb4f/wDBXB/8TR/wrjwR/wBCb4f/APBXB/8AE0AdJRXN/wDCuPBH/Qm+H/8AwVwf/E0f8K48Ef8AQm+H/wDwVwf/ABNAHSUVzf8AwrjwR/0Jvh//AMFcH/xNH/CuPBH/AEJvh/8A8FcH/wATQBU+HH/JNPDP/YGs/wD0QlFHw4/5Jp4Z/wCwNZ/+iEopiJNH/wCSo+IP+wRp3/o69qr8SPEGr6fp0GkeEZki1/UQ7QSMiuIIo13SSlTweyjg8uKtaP8A8lR8Qf8AYI07/wBHXtMuvh/bar4ovtb1rUL6aWaJbe1Syu7izFtCOShMUo3ksSSTjsMcUhjNP8dwnwh4bvpLa61LUdbtkeC0s0TzJm8sM7fOyoqjqSSB0A5IFWp/HNvFb6esWj6tPqWoRPLHpIhSO6RE4dnEjqoAJAzu5JG3OayLX4cXulWegnRdejh1HRbae0iubqyMyPDKQcFBKp3DamG3HocjnjQvvB+rPqVnqmmeI/J1SGwNjPd3dis3nKWDbwiMiq+RxwV/2TQBch8badLeLbNbX0En9mHU5RcQeUbePONsisQyv14x2PNZg+KOktc6Zaw6bq097qdnHew2kNsskiRu4UFwrELjOSc7QOp6A1tb+HOo6re6zLb+JjbrrGmx2FxJJYh51CBhuR1dVUNuJK7O5wR22NN8FwabrOo6hFdMHurCDT4TGm1raKJWA2tk5JLE9Ow60ANj8eWQ1pbC/wBN1PTElWZ4Lu9hSOOdYuXIXcZFGOQXRcjpVZfiPanRbzV5NA12Kwt7Jr+G4e2TbdQjumHO1iOQsmxiD061gaP8FbWxmaTUL+1uWfTZ7CSe307yJ5zKQWmllMjGSTg5J9TgDJB2LvTdT0HwZqcevanPrdv9g+xW1jpmkNn7hUHapkdnOQCchBjoOTQBu2Hiuw1PxC2j2KTyyx2cd5LMFHlRrJ9xSc53EAnAB4/Cq1j/AMlT13/sC6b/AOj76s34UeEbrwn4KhXWWaTWb4i4v5HOW34AVM+iqAv4VpWP/JU9d/7Aum/+j76gCn4q1DWP7TuYNH1B7BdN01tQfZFG/wBpfcdsbb1OEwjZ27W5GGGK0PEWvyad4KbVbcpDLKkQjeUZWJpWVQzDIyF3Zx3xTPEfhe51m6M+n6lHYG4tWsrzfa+cZYCc4Q7l2OMthjuHzcqeKvaloY1LSpdNeZYrYLF9n2R/PC6EMrEkkNyq8YHQ9c8AHKvrt1B4XuvsfiS8vJVvIYJJ73T1t722VyN22Jo0DsRkoPKOewermmXOr6p4Tnd9dvLcW904+2RWKPeyQqMgNDsISU55UxZxxsUniaTwbf3SyX17q9u2uGeGaK7hsSkEflbgimEyElcO+fnyd3BGBVi38O6vZWNxLY63BHq93dfabm4ex3W8h2hNnk+YGChVGMSZyMkkZBAMaTxJ4hk+E8+raZJay38MVwWubldjRrGWwzRAf63CjMZ2gMTnGNtdxZyNLYwSSHLvGrMcdSRWHH4UYeDdR0ae/wDNutTWc3N4IdoMkoO5gmeFGcBdxOAMk9a3reLyLWKHO7y0C5xjOBigCSiiigAooooA5u+/5KnoX/YF1L/0fY07xJNqNxqmmaPpWoS6Y12JpZbuGON5EWNRhVEisvLMucg8A4x1pt9/yVPQv+wLqX/o+xq1r+i3epSWl3pN9DYahZlxFNPbefGVdcMpQOhPYghhggdRkUAV7TxFMPh1/b93GrTxWLzyovAZ0U5xzwCR61h6Z4gvY9D1a4TxGdSv4bA3Ih1GyWzjjfBIaJysYaDPG4l+n+srpYPDsUPhyLQfMD6cLNrWYMn7yTIxu3A4H8RI2nkjpjnLbwVPqFvdR6/qqXbPZmxtpLa18hoYiQdzZZg75Vcn5V+X7ozQBU8P3ms6rFqlnFr10VWOF4ry8sY0uoixbzAsOxAV+X5HZCCc/fAqbw9rOs3ug6qLKcajdWl20FvLqkf2WXZtU7po1RSpGSQNi7l2njO6rVt4b1pHur+61+BtZlgS3huINP2QxojFgDE0jFtxJ3fOOPu7TzV7Q9DudPN/c6pfR3uoahIGnmhtzDGAq7VVELMQAB3Ykkk+wAE8G6hd6r4K0m/1KVZru4tUkmkVAoZiOSAOn0rbrO8P6T/YXh2x0vzvP+yQrF5uzbvwOuMnH51o0AFFFFABRRRQAUUUUAFFFFABXN33/JU9C/7Aupf+j7Gukrm77/kqehf9gXUv/R9jQA7xJNqNxqmmaPpWoS6Y12JpZbuGON5EWNRhVEisvLMucg8A4x1otPEUw+HX9v3catPFYvPKi8BnRTnHPAJHrVjX9Fu9SktLvSb6Gw1CzLiKae28+Mq64ZSgdCexBDDBA6jIpYPDsUPh1NBaQSad9ja1kVk/ePkYLbgcDvxt6n2xQBy1l4hvovD+rXEXiRtR1CKyE4i1CxW0SNz/ABwsVjDw9gSXyQPn5q94futX1Wx1W0i127KxtGIL69sY47xAR8+YNiAdDsZo+euHGMyyeCLnUIJ11vV0uZltha2UtvaeSYEDq4ZgXYO+5EJPyqdvCjNWrbw5q8f2++m1yH+2rqOONbqCw2QRpGSVXyWdiQSzbvnBOeCtAFLw9rOs3ug6qLKcajdWl20FvLqkf2WXZtU7po1RSpGSQNi7l2njO6tfwbqF3qvgrSb/AFKVZru4tUkmkVAoZiOSAOn0pdD0O50839zql9He6hqEgaeaG3MMYCrtVUQsxAAHdiSST7Cz4f0n+wvDtjpfnef9khWLzdm3fgdcZOPzoA0aKKKACiiigArm/iP/AMks8V/9gW8/9EPXSVzfxH/5JZ4r/wCwLef+iHoAp+D746Z8EdBvwm82vh63mC/3ttupx+lS+F7rV4dWbT9a1GTUWmsIr5ZJIo08pmJV412KMoCBjOW65Y0vgS1ivvg94btLgboZ9BtY3HqrW6g/zqbRPDeo6W89zd6tBe3pto7S2l+xGNYokyV3KJDvYkkkgqDxgCgDI1TxLKfGF1bNr9xpMFhLDAsUenieGV3VWLXEmw+Wp3BV+ePkHk9Be1ebVtK8RabImuy3Jv74QrpIt4hF5OCWYHaZNygZLF9uf4RkCptV8JT395eC21GK30/VCp1K3e18x5doC/u33gJlQAcq/tg80yz8N67aeKrnVf7Z02eK4kA2TaXIZooB0hSQThVHfOzk8kGgDM0LxO+reJg8niCeFZbue3i01rAG1ZY2ZdouNn+v+QsV8w4GRs7jW0nVNan8eapp+qi2itIrOKa1ggJcgNJIpZ3IGWIUcAYHqetEHhGeHUoFOoxto9tdvfQ2f2XEomYs3Mu/BQF2IXYD0+Y4wdSLR/L8U3Os+fnz7SO28nZ93Y7tu3Z778Yx2oA06KKKACiiigArm7H/AJKnrv8A2BdN/wDR99XSVzdj/wAlT13/ALAum/8Ao++oAz/FOr6vDqWpNpl69pDounpfNEscbC7Zmf5HLKSF2xn7pU5brxitTxbrj6R4X+2W8q20lxLDBHM6hhEZXVd2O5G7IHc4HNReIPCcusX0s1rqCWkN7bLaahG1t5jTQhiQEbcNjfMwyQwwemQDWhq2jNq1jJavOkKI8UtqyRZMMkbBlLZOGGQOMDjIz3ABjaNJd63oc0On+Lb12iudst1c6YkF7Cu3JRkeNVVskEMYvunofvVjHxZfDQbGCTWJwLzUbi3h1aC0WW4uIIgzB44lQq8jbcfLGQQCwWtS+8GaxfaXdI+u2i39/cJJey/2c/kTRIu0Q+WJgwUjGf3hJ57HFaEnh/VZ9PsWl1LT49U06Uvaz2+nMluqlCmxoTMSRtPZ15A9MEAyNX1/Wbf4aNqfh7UbfUniikaTUbqEwyIqZ6w7cebkbSCEAOSVGNldxGS0Sk9SATXPSeE/N8F3+hve5n1AStPdiHAMkhJZgmeBk8DPQDk9a6JF2oq9cDFAC0UUUAFFFFABRRRQAUUUUAFc348/5F21/wCw1pX/AKcLeukrm/Hn/Iu2v/Ya0r/04W9AFnxVeXltp9rb6ZOba4vryK1W4VVZoQxyzAMCpIUHGQRnHB6UeF7y7n0+6g1Gdrqewu5bVrhkVWmCkFWIUBQSpGcADPYdKsa/pD6xp6RW9wtrdQTJcW07xeYsciHIJXI3DqCMg4PUdaj0XR7nSbFYnvIbi4muHuL2b7OVEzPknYu75BnbjJbgY5JzQBzfhLxHLrGrRT3Gvzlr0SOmmyaeFt1QHhYp9g3SKAC43vzu+Ve09v4k1qzufFU2uJbBNMtY7m2tbc7gilHbDOQCzHaM9AOg6ZN3TfCM9lqFmJ9Rjn0zTZHksLVbXZJGzAj55N5DgBmAwq9RksRmrsvhuG5vtalupTJBq9tHbyQhcFFVWU855zu9OMUAcvZeIb6Lw/q1xF4kbUdQishOItQsVtEjc/xwsVjDw9gSXyQPn5rZ8F6je3j6jDc6hdahbwOnkTahbrb3XK/MHiVE2rkfKSi5HPIwTDJ4IudQgnXW9XS5mW2FrZS29p5JgQOrhmBdg77kQk/Kp28KM1qaJol5Zahd6nrF/DfajdRxxM9vbG3iWNNxUBC7nOWYklj+FAG3RRRQAUUUUAFFFFABRRRQByHw4/5Jp4Z/7A1n/wCiEoo+HH/JNPDP/YGs/wD0QlFMQktj4js/GWoavodjpd9b3llbWrLeahJbPG0Mk7EgLBICCJx3H3TVz7d43/6F7w//AOD6f/5Drdtfuv8A75/kKnpDOb+3eN/+he8P/wDg+n/+Q6Pt3jf/AKF7w/8A+D6f/wCQ66SigDm/t3jf/oXvD/8A4Pp//kOj7d43/wChe8P/APg+n/8AkOukooA5v7d43/6F7w//AOD6f/5Do+3eN/8AoXvD/wD4Pp//AJDrpKKAOb+3eN/+he8P/wDg+n/+Q6zYLbxvD4qvtZ/sTw+32uytrTyf7bn+TyXnfdu+yc58/GMcbe+eO2ooA5v7d43/AOhe8P8A/g+n/wDkOj7d43/6F7w//wCD6f8A+Q66SigDm/t3jf8A6F7w/wD+D6f/AOQ6Pt3jf/oXvD//AIPp/wD5DrpKKAOb+3eN/wDoXvD/AP4Pp/8A5Do+3eN/+he8P/8Ag+n/APkOukooA5v7d43/AOhe8P8A/g+n/wDkOj7d43/6F7w//wCD6f8A+Q66SigDm/t3jf8A6F7w/wD+D6f/AOQ6Pt3jf/oXvD//AIPp/wD5DrpKKAOJntvG83iqx1n+xPD6/ZLK5tPJ/tuf5/OeB9277JxjyMYxzu7Y50vt3jf/AKF7w/8A+D6f/wCQ66SigDm/t3jf/oXvD/8A4Pp//kOj7d43/wChe8P/APg+n/8AkOukooA5v7d43/6F7w//AOD6f/5Do+3eN/8AoXvD/wD4Pp//AJDrpKKAOb+3eN/+he8P/wDg+n/+Q6Pt3jf/AKF7w/8A+D6f/wCQ66SigDm/t3jf/oXvD/8A4Pp//kOj7d43/wChe8P/APg+n/8AkOukooA5v7d43/6F7w//AOD6f/5Do+3eN/8AoXvD/wD4Pp//AJDrpKKAOb+3eN/+he8P/wDg+n/+Q6Pt3jf/AKF7w/8A+D6f/wCQ66SigDm/t3jf/oXvD/8A4Pp//kOj7d43/wChe8P/APg+n/8AkOukooA5v7d43/6F7w//AOD6f/5DrNntvG83iqx1n+xPD6/ZLK5tPJ/tuf5/OeB9277JxjyMYxzu7Y57aigDm/t3jf8A6F7w/wD+D6f/AOQ6Pt3jf/oXvD//AIPp/wD5DrpKKAOb+3eN/wDoXvD/AP4Pp/8A5Do+3eN/+he8P/8Ag+n/APkOukooA5v7d43/AOhe8P8A/g+n/wDkOj7d43/6F7w//wCD6f8A+Q66SigDm/t3jf8A6F7w/wD+D6f/AOQ6Pt3jf/oXvD//AIPp/wD5DrpKKAOb+3eN/wDoXvD/AP4Pp/8A5Do+3eN/+he8P/8Ag+n/APkOukooA5v7d43/AOhe8P8A/g+n/wDkOs3xHbeN/EHhXVdG/sTw/b/2jZTWnnf23O/l+YhTdt+yDOM5xkV21FAHE+HLbxv4f8K6Vo39ieH7j+zrKG087+2508zy0Cbtv2Q4zjOMmtL7d43/AOhe8P8A/g+n/wDkOukooA5v7d43/wChe8P/APg+n/8AkOj7d43/AOhe8P8A/g+n/wDkOukooA5v7d43/wChe8P/APg+n/8AkOj7d43/AOhe8P8A/g+n/wDkOukooA5v7d43/wChe8P/APg+n/8AkOj7d43/AOhe8P8A/g+n/wDkOukooA5v7d43/wChe8P/APg+n/8AkOj7d43/AOhe8P8A/g+n/wDkOukooA5v7d43/wChe8P/APg+n/8AkOs2C28bw+Kr7Wf7E8Pt9rsra08n+25/k8l533bvsnOfPxjHG3vnjtqKAOb+3eN/+he8P/8Ag+n/APkOj7d43/6F7w//AOD6f/5DrpKKAOb+3eN/+he8P/8Ag+n/APkOj7d43/6F7w//AOD6f/5DrpKKAOb+3eN/+he8P/8Ag+n/APkOj7d43/6F7w//AOD6f/5DrpKKAOb+3eN/+he8P/8Ag+n/APkOj7d43/6F7w//AOD6f/5DrpKKAOb+3eN/+he8P/8Ag+n/APkOj7d43/6F7w//AOD6f/5DrpKKAOb+3eN/+he8P/8Ag+n/APkOj7d43/6F7w//AOD6f/5DrpKKAOb+3eN/+he8P/8Ag+n/APkOj7d43/6F7w//AOD6f/5DrpKKAOb+3eN/+he8P/8Ag+n/APkOs3XrbxvrenRWv9ieH4PLvbW73f23O2fIuI5tuPsg+95e3PbOecYrtqKAOb+3eN/+he8P/wDg+n/+Q6Pt3jf/AKF7w/8A+D6f/wCQ66SigDm/t3jf/oXvD/8A4Pp//kOj7d43/wChe8P/APg+n/8AkOukooA5v7d43/6F7w//AOD6f/5Do+3eN/8AoXvD/wD4Pp//AJDrpKKAOb+3eN/+he8P/wDg+n/+Q6Pt3jf/AKF7w/8A+D6f/wCQ66SigDm/t3jf/oXvD/8A4Pp//kOj7d43/wChe8P/APg+n/8AkOukooA5v7d43/6F7w//AOD6f/5Do+3eN/8AoXvD/wD4Pp//AJDrpKKAOb+3eN/+he8P/wDg+n/+Q6Pt3jf/AKF7w/8A+D6f/wCQ66SigDnvCelT6D4T0nSLxo3uNPsLe1laIkozJEqkqSAcZHGQKK1/+XiX6j+VFMQ+1+6/++f5Cp6KKQwooooAKKKKACiiigAooooAKKKKACiiigAooooAKKKKACiiigAooooAKKKKACiiigAooooAKKKKACiiigAooooAKKKKACiiigAooooAKKKKACiiigAooooAKKKKACiiigAooooAKKKKACiiigAooooAKKKKACiiigAooooAKKKKACiiigAooooAKKKKACiiigAooooAKKKKACiiigAooooAKKKKACiiigAooooAKKKKACiiigCr/wAvEv1H8qKKKYj/2Q==)"
      ],
      "metadata": {
        "id": "l4zYQsiIaA0O"
      }
    },
    {
      "cell_type": "markdown",
      "source": [
        "From the above results, we can see that our technique of adding the <hl> tags to the evidence sentences that support/contradict the claim is useful. for example comapring the accuracy BERT witout having <hl> tags is 64.35% while the same model have the accuracy of 68.31% when the <hl> tags are added to the evidence text while training. This means that our model is learning from the tags and when we pass the test set that doesn't contain the tags, the accuracy of the model is still increased. Hence, our technique is working."
      ],
      "metadata": {
        "id": "92yFy4WsnDMi"
      }
    },
    {
      "cell_type": "markdown",
      "source": [
        "# CODE TO LOAD THE SAVED MODEL "
      ],
      "metadata": {
        "id": "-lITPAbYfD2h"
      }
    },
    {
      "cell_type": "markdown",
      "source": [
        "CODE TO LOAD THE SAVED MODEL FROM THE DRIVE TO RECREATE THE RESULTS."
      ],
      "metadata": {
        "id": "cCUnISkvfulP"
      }
    },
    {
      "cell_type": "code",
      "source": [
        "newModel = AutoModelForSequenceClassification.from_pretrained(\"/content/drive/MyDrive/SciFactDatasetwithHtagsBERTepoch-9-f1-7701\").to(device)\n",
        "tokenizer = AutoTokenizer.from_pretrained(\"/content/drive/MyDrive/SciFactDatasetwithHtagsBERTepoch-9-f1-7701\")"
      ],
      "metadata": {
        "id": "ACUGVNjeiUFg"
      },
      "execution_count": null,
      "outputs": []
    },
    {
      "cell_type": "code",
      "source": [
        "Val_score_new = evaluate(newModel, Val_dataset)\n",
        "test_score_new = evaluate(newModel, test_dataset)\n",
        "print(test_score_new)\n",
        "print(Val_score_new)"
      ],
      "metadata": {
        "id": "YOax7h4eRsNw",
        "colab": {
          "base_uri": "https://localhost:8080/"
        },
        "outputId": "c6c2de3b-5caf-4da4-898e-4a38b3f9ec48"
      },
      "execution_count": null,
      "outputs": [
        {
          "output_type": "stream",
          "name": "stdout",
          "text": [
            "{'macro_f1': 0.40588235294117647, 'f1': 0.8117647058823529, 'precision': 0.6831683168316832, 'recall': 1.0, 'accuracy': 0.6831683168316832}\n",
            "{'macro_f1': 0.3850574712643678, 'f1': 0.7701149425287356, 'precision': 0.6261682242990654, 'recall': 1.0, 'accuracy': 0.6261682242990654}\n"
          ]
        }
      ]
    }
  ]
}